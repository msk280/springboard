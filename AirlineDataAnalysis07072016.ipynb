{
 "cells": [
  {
   "cell_type": "markdown",
   "metadata": {},
   "source": [
    "<h1 id=\"Analysis-of-Airline-Security Delays\"><span style=\"color: #ff0000;\">Analysis of Airline Security Delays</span></h1>"
   ]
  },
  {
   "cell_type": "markdown",
   "metadata": {},
   "source": [
    "Many of us will already know this. July is known within the airline industry as the busiest travel month of the year. According to the Bureau of Travel Statistics, in 2014, 71.8 million people flew during July. That was 37 percent more passengers than got on a plane in February, 2014, the year’s slowest month. It is generally agreed that delay in the national air transportation system will become intolerable if aviation capacity is not increased.In this paper, we analyze securty delay that happens during Air Travel during July for Top 10 Airlines.  \n",
    "\n",
    "Security delay is caused by evacuation of a terminal or concourse, re-boarding of aircraft because of security breach, inoperative screening equipment and/or long lines in excess of 29 minutes at screening areas."
   ]
  },
  {
   "cell_type": "markdown",
   "metadata": {},
   "source": [
    "<h2 style=\"color: #000000;\">Data Collection</h2>\n",
    "The data for analsys will be used from DATA.GOV - Department of Transportation.\n",
    "\n",
    "The Bureau of Transportation Statistics (BTS) was established as a statistical agency in 1992. The Intermodal Surface Transportation Efficiency Act (ISTEA) of 1991 created BTS to administer data collection, analysis, and reporting and to ensure the most cost-effective use of transportation-monitoring resources. BTS brings a greater degree of coordination, comparability, and quality standards to transportation data, and facilitates in the closing of important data gaps.\n",
    "\n",
    "http://www.transtats.bts.gov/DL_SelectFields.asp?Table_ID=236\n",
    "\n",
    "Data downloaded for all available years from 1988 to 2016 (July Month only) \n"
   ]
  },
  {
   "cell_type": "markdown",
   "metadata": {},
   "source": [
    "<h2 id=\"firstHeading\" class=\"firstHeading\" lang=\"en\">List of the busiest airports in the United States (2014)</h2>\n",
    "<p>From Wikipedia, the free encyclopedia</p>\n",
    "<p>&nbsp;</p>\n",
    "<table width=\"618\">\n",
    "<tbody>\n",
    "<tr>\n",
    "<td width=\"91\">Rank_2014</td>\n",
    "<td width=\"309\">Airport_Name</td>\n",
    "<td width=\"74\">CODE</td>\n",
    "<td width=\"144\">City</td>\n",
    "</tr>\n",
    "<tr>\n",
    "<td width=\"91\">1</td>\n",
    "<td>Hartsfield&ndash;Jackson Atlanta International Airport</td>\n",
    "<td width=\"74\">ATL</td>\n",
    "<td>Atlanta</td>\n",
    "</tr>\n",
    "<tr>\n",
    "<td width=\"91\">2</td>\n",
    "<td>Los Angeles International Airport</td>\n",
    "<td width=\"74\">LAX</td>\n",
    "<td>Los Angeles</td>\n",
    "</tr>\n",
    "<tr>\n",
    "<td width=\"91\">3</td>\n",
    "<td>O'Hare International Airport</td>\n",
    "<td width=\"74\">ORD</td>\n",
    "<td>Chicago</td>\n",
    "</tr>\n",
    "<tr>\n",
    "<td width=\"91\">4</td>\n",
    "<td>Dallas/Fort Worth International Airport</td>\n",
    "<td width=\"74\">DFW</td>\n",
    "<td width=\"144\">Dallas/Fort Worth</td>\n",
    "</tr>\n",
    "<tr>\n",
    "<td width=\"91\">5</td>\n",
    "<td>John F. Kennedy International Airport</td>\n",
    "<td width=\"74\">JFK</td>\n",
    "<td>New York</td>\n",
    "</tr>\n",
    "<tr>\n",
    "<td width=\"91\">6</td>\n",
    "<td>Denver International Airport</td>\n",
    "<td width=\"74\">DEN</td>\n",
    "<td>Denver</td>\n",
    "</tr>\n",
    "<tr>\n",
    "<td width=\"91\">7</td>\n",
    "<td>San Francisco International Airport</td>\n",
    "<td width=\"74\">SFO</td>\n",
    "<td>San Francisco</td>\n",
    "</tr>\n",
    "<tr>\n",
    "<td width=\"91\">8</td>\n",
    "<td>Charlotte Douglas International Airport</td>\n",
    "<td width=\"74\">CLT</td>\n",
    "<td>Charlotte</td>\n",
    "</tr>\n",
    "<tr>\n",
    "<td width=\"91\">9</td>\n",
    "<td>McCarran International Airport</td>\n",
    "<td width=\"74\">LAS</td>\n",
    "<td>Las Vegas</td>\n",
    "</tr>\n",
    "<tr>\n",
    "<td width=\"91\">10</td>\n",
    "<td>Phoenix Sky Harbor International Airport</td>\n",
    "<td width=\"74\">PHX</td>\n",
    "<td>Phoenix</td>\n",
    "</tr>\n",
    "</tbody>\n",
    "</table>"
   ]
  },
  {
   "cell_type": "markdown",
   "metadata": {},
   "source": [
    "<h2>Data Dictionary&nbsp;</h2>\n",
    "<table style=\"height: 567px; border-color: blue;\" width=\"587\">\n",
    "<tbody>\n",
    "<tr>\n",
    "<td style=\"width: 2px;\">\n",
    "<h4>Column Name</h4>\n",
    "</td>\n",
    "<td style=\"border-color: blue;\">\n",
    "<h4>Column Definition</h4>\n",
    "</td>\n",
    "</tr>\n",
    "<tr>\n",
    "<td style=\"width: 2px;\">&nbsp;YEAR&nbsp;</td>\n",
    "<td style=\"border-color: blue;\">&nbsp;Year</td>\n",
    "</tr>\n",
    "<tr>\n",
    "<td>&nbsp;QUARTER</td>\n",
    "<td>Quarter (1-4)</td>\n",
    "</tr>\n",
    "<tr>\n",
    "<td>&nbsp;MONTH&nbsp;</td>\n",
    "<td>&nbsp;Month</td>\n",
    "</tr>\n",
    "<tr>\n",
    "<td>&nbsp;DAY_OF_MONTH</td>\n",
    "<td>&nbsp;Day of Month</td>\n",
    "</tr>\n",
    "<tr>\n",
    "<td>&nbsp;DAY_OF_WEEK</td>\n",
    "<td>&nbsp;Day of Week 1-Mon 2-Tue 3-Wed 4-Thu 5-Fri 6-Sat 7-Sun</td>\n",
    "</tr>\n",
    "<tr>\n",
    "<td>&nbsp;FL_DATE</td>\n",
    "<td>&nbsp;Flight Date (yyyymmdd)</td>\n",
    "</tr>\n",
    "<tr>\n",
    "<td>&nbsp;CARRIER</td>\n",
    "<td>&nbsp;Code assigned by IATA and commonly used to identify a carrier. As the same code may have&nbsp;been assigned to different carriers over time, the code is not always unique.&nbsp;</td>\n",
    "</tr>\n",
    "<tr>\n",
    "<td>&nbsp;FL_NUM&nbsp;</td>\n",
    "<td>&nbsp;Flight Number</td>\n",
    "</tr>\n",
    "<tr>\n",
    "<td>&nbsp;ORIGIN</td>\n",
    "<td>&nbsp;Origin Airport</td>\n",
    "</tr>\n",
    "<tr>\n",
    "<td>&nbsp;ORIGIN_CITY_NAME</td>\n",
    "<td>&nbsp;Origin Airport, City Name</td>\n",
    "</tr>\n",
    "<tr>\n",
    "<td>&nbsp;ORIGIN_STATE_ABR</td>\n",
    "<td>&nbsp;Origin Airport, State Code</td>\n",
    "</tr>\n",
    "<tr>\n",
    "<td>&nbsp;DEST &nbsp;</td>\n",
    "<td>&nbsp;Destination Airport</td>\n",
    "</tr>\n",
    "<tr>\n",
    "<td>&nbsp;DEST_CITY_NAME&nbsp;</td>\n",
    "<td>&nbsp;Destination Airport, City Name</td>\n",
    "</tr>\n",
    "<tr>\n",
    "<td>&nbsp;DEST_STATE_ABR&nbsp;</td>\n",
    "<td>&nbsp;Destination Airport, State Code</td>\n",
    "</tr>\n",
    "<tr>\n",
    "<td>&nbsp;DEP_TIME</td>\n",
    "<td>&nbsp;Actual Departure Time (local time: hhmm)</td>\n",
    "</tr>\n",
    "<tr>\n",
    "<td>&nbsp;DEP_DELAY</td>\n",
    "<td>&nbsp;Difference in minutes between scheduled and actual departure time. Early departures show&nbsp;negative numbers.</td>\n",
    "</tr>\n",
    "<tr>\n",
    "<td>ARR_TIME</td>\n",
    "<td>Actual Arrival Time (local time: hhmm)</td>\n",
    "</tr>\n",
    "<tr>\n",
    "<td>ARR_DELAY</td>\n",
    "<td>Difference in minutes between scheduled and actual arrival time.&nbsp;Early arrivals show negative numbers.</td>\n",
    "</tr>\n",
    "<tr>\n",
    "<td>CARRIER_DELAY</td>\n",
    "<td>Carrier Delay, in Minutes</td>\n",
    "</tr>\n",
    "<tr>\n",
    "<td>WEATHER_DELAY</td>\n",
    "<td>Weather Delay, in Minutes</td>\n",
    "</tr>\n",
    "<tr>\n",
    "<td>NAS_DELAY</td>\n",
    "<td>National Air System Delay, in Minutes</td>\n",
    "</tr>\n",
    "<tr>\n",
    "<td>SECURITY_DELAY&nbsp;</td>\n",
    "<td>Security Delay, in Minutes</td>\n",
    "</tr>\n",
    "<tr>\n",
    "<td>LATE_AIRCRAFT_DELAY</td>\n",
    "<td>Late Aircraft Delay, in Minutes</td>\n",
    "</tr>\n",
    "</tbody>\n",
    "</table>\n",
    "<p>&nbsp;</p>"
   ]
  },
  {
   "cell_type": "markdown",
   "metadata": {},
   "source": [
    "<h2 style=\"text-align: left;\">Initialize libraries, get data sets, consolidate and cleanse.</h2>"
   ]
  },
  {
   "cell_type": "code",
   "execution_count": 95,
   "metadata": {
    "collapsed": false
   },
   "outputs": [],
   "source": [
    "# Importing libraries and the data set\n",
    "from pandas import Series, DataFrame\n",
    "import pandas as pd\n",
    "import glob\n",
    "import numpy as np\n",
    "import os\n",
    "import matplotlib.pylab as plt\n",
    "%matplotlib inline \n",
    "plt.rcParams['figure.figsize'] = 14, 7  # that's default image size for this interactive session\n",
    "import scipy\n",
    "from scipy import stats"
   ]
  },
  {
   "cell_type": "code",
   "execution_count": 18,
   "metadata": {
    "collapsed": true
   },
   "outputs": [],
   "source": [
    "#Combine all downloaded CSV datafiles (July 1988 to July 2015)\n",
    "airline_files = glob.glob(\"*.csv\")\n",
    "df_list = []\n",
    "for filename in sorted(airline_files):\n",
    "    df_list.append(pd.read_csv(filename))\n",
    "full_df = pd.concat(df_list)\n",
    "\n",
    "full_df.to_csv('AirlineJul89to15.csv')"
   ]
  },
  {
   "cell_type": "code",
   "execution_count": 22,
   "metadata": {
    "collapsed": false,
    "scrolled": true
   },
   "outputs": [
    {
     "data": {
      "text/html": [
       "<div>\n",
       "<table border=\"1\" class=\"dataframe\">\n",
       "  <thead>\n",
       "    <tr style=\"text-align: right;\">\n",
       "      <th></th>\n",
       "      <th>Unnamed: 0</th>\n",
       "      <th>YEAR</th>\n",
       "      <th>QUARTER</th>\n",
       "      <th>MONTH</th>\n",
       "      <th>DAY_OF_MONTH</th>\n",
       "      <th>DAY_OF_WEEK</th>\n",
       "      <th>FL_DATE</th>\n",
       "      <th>CARRIER</th>\n",
       "      <th>FL_NUM</th>\n",
       "      <th>ORIGIN</th>\n",
       "      <th>...</th>\n",
       "      <th>DEP_TIME</th>\n",
       "      <th>DEP_DELAY</th>\n",
       "      <th>ARR_TIME</th>\n",
       "      <th>ARR_DELAY</th>\n",
       "      <th>CARRIER_DELAY</th>\n",
       "      <th>WEATHER_DELAY</th>\n",
       "      <th>NAS_DELAY</th>\n",
       "      <th>SECURITY_DELAY</th>\n",
       "      <th>LATE_AIRCRAFT_DELAY</th>\n",
       "      <th>Unnamed: 23</th>\n",
       "    </tr>\n",
       "  </thead>\n",
       "  <tbody>\n",
       "    <tr>\n",
       "      <th>11582766</th>\n",
       "      <td>430690</td>\n",
       "      <td>2010</td>\n",
       "      <td>3</td>\n",
       "      <td>7</td>\n",
       "      <td>23</td>\n",
       "      <td>5</td>\n",
       "      <td>2010-07-23</td>\n",
       "      <td>FL</td>\n",
       "      <td>543</td>\n",
       "      <td>PHX</td>\n",
       "      <td>...</td>\n",
       "      <td>2358.0</td>\n",
       "      <td>-1.0</td>\n",
       "      <td>630.0</td>\n",
       "      <td>-9.0</td>\n",
       "      <td>NaN</td>\n",
       "      <td>NaN</td>\n",
       "      <td>NaN</td>\n",
       "      <td>NaN</td>\n",
       "      <td>NaN</td>\n",
       "      <td>NaN</td>\n",
       "    </tr>\n",
       "    <tr>\n",
       "      <th>12258777</th>\n",
       "      <td>535913</td>\n",
       "      <td>2011</td>\n",
       "      <td>3</td>\n",
       "      <td>7</td>\n",
       "      <td>7</td>\n",
       "      <td>4</td>\n",
       "      <td>2011-07-07</td>\n",
       "      <td>YV</td>\n",
       "      <td>2815</td>\n",
       "      <td>LAS</td>\n",
       "      <td>...</td>\n",
       "      <td>1752.0</td>\n",
       "      <td>-8.0</td>\n",
       "      <td>1912.0</td>\n",
       "      <td>-1.0</td>\n",
       "      <td>NaN</td>\n",
       "      <td>NaN</td>\n",
       "      <td>NaN</td>\n",
       "      <td>NaN</td>\n",
       "      <td>NaN</td>\n",
       "      <td>NaN</td>\n",
       "    </tr>\n",
       "    <tr>\n",
       "      <th>7666520</th>\n",
       "      <td>234440</td>\n",
       "      <td>2004</td>\n",
       "      <td>3</td>\n",
       "      <td>7</td>\n",
       "      <td>22</td>\n",
       "      <td>4</td>\n",
       "      <td>2004-07-22</td>\n",
       "      <td>TZ</td>\n",
       "      <td>136</td>\n",
       "      <td>SFO</td>\n",
       "      <td>...</td>\n",
       "      <td>2322.0</td>\n",
       "      <td>-5.0</td>\n",
       "      <td>503.0</td>\n",
       "      <td>-22.0</td>\n",
       "      <td>NaN</td>\n",
       "      <td>NaN</td>\n",
       "      <td>NaN</td>\n",
       "      <td>NaN</td>\n",
       "      <td>NaN</td>\n",
       "      <td>NaN</td>\n",
       "    </tr>\n",
       "    <tr>\n",
       "      <th>9984311</th>\n",
       "      <td>40300</td>\n",
       "      <td>2008</td>\n",
       "      <td>3</td>\n",
       "      <td>7</td>\n",
       "      <td>22</td>\n",
       "      <td>2</td>\n",
       "      <td>2008-07-22</td>\n",
       "      <td>AA</td>\n",
       "      <td>1001</td>\n",
       "      <td>BOS</td>\n",
       "      <td>...</td>\n",
       "      <td>857.0</td>\n",
       "      <td>-3.0</td>\n",
       "      <td>1216.0</td>\n",
       "      <td>16.0</td>\n",
       "      <td>0.0</td>\n",
       "      <td>0.0</td>\n",
       "      <td>16.0</td>\n",
       "      <td>0.0</td>\n",
       "      <td>0.0</td>\n",
       "      <td>NaN</td>\n",
       "    </tr>\n",
       "    <tr>\n",
       "      <th>7606083</th>\n",
       "      <td>174003</td>\n",
       "      <td>2004</td>\n",
       "      <td>3</td>\n",
       "      <td>7</td>\n",
       "      <td>23</td>\n",
       "      <td>5</td>\n",
       "      <td>2004-07-23</td>\n",
       "      <td>DL</td>\n",
       "      <td>1628</td>\n",
       "      <td>ATL</td>\n",
       "      <td>...</td>\n",
       "      <td>1802.0</td>\n",
       "      <td>2.0</td>\n",
       "      <td>1959.0</td>\n",
       "      <td>11.0</td>\n",
       "      <td>NaN</td>\n",
       "      <td>NaN</td>\n",
       "      <td>NaN</td>\n",
       "      <td>NaN</td>\n",
       "      <td>NaN</td>\n",
       "      <td>NaN</td>\n",
       "    </tr>\n",
       "  </tbody>\n",
       "</table>\n",
       "<p>5 rows × 25 columns</p>\n",
       "</div>"
      ],
      "text/plain": [
       "          Unnamed: 0  YEAR  QUARTER  MONTH  DAY_OF_MONTH  DAY_OF_WEEK  \\\n",
       "11582766      430690  2010        3      7            23            5   \n",
       "12258777      535913  2011        3      7             7            4   \n",
       "7666520       234440  2004        3      7            22            4   \n",
       "9984311        40300  2008        3      7            22            2   \n",
       "7606083       174003  2004        3      7            23            5   \n",
       "\n",
       "             FL_DATE CARRIER  FL_NUM ORIGIN     ...      DEP_TIME DEP_DELAY  \\\n",
       "11582766  2010-07-23      FL     543    PHX     ...        2358.0      -1.0   \n",
       "12258777  2011-07-07      YV    2815    LAS     ...        1752.0      -8.0   \n",
       "7666520   2004-07-22      TZ     136    SFO     ...        2322.0      -5.0   \n",
       "9984311   2008-07-22      AA    1001    BOS     ...         857.0      -3.0   \n",
       "7606083   2004-07-23      DL    1628    ATL     ...        1802.0       2.0   \n",
       "\n",
       "         ARR_TIME ARR_DELAY CARRIER_DELAY  WEATHER_DELAY  NAS_DELAY  \\\n",
       "11582766    630.0      -9.0           NaN            NaN        NaN   \n",
       "12258777   1912.0      -1.0           NaN            NaN        NaN   \n",
       "7666520     503.0     -22.0           NaN            NaN        NaN   \n",
       "9984311    1216.0      16.0           0.0            0.0       16.0   \n",
       "7606083    1959.0      11.0           NaN            NaN        NaN   \n",
       "\n",
       "          SECURITY_DELAY  LATE_AIRCRAFT_DELAY  Unnamed: 23  \n",
       "11582766             NaN                  NaN          NaN  \n",
       "12258777             NaN                  NaN          NaN  \n",
       "7666520              NaN                  NaN          NaN  \n",
       "9984311              0.0                  0.0          NaN  \n",
       "7606083              NaN                  NaN          NaN  \n",
       "\n",
       "[5 rows x 25 columns]"
      ]
     },
     "execution_count": 22,
     "metadata": {},
     "output_type": "execute_result"
    }
   ],
   "source": [
    "#Read CSV File and inspect data\n",
    "AirlineData = pd.read_csv(\"AirlineJul89to15.csv\")\n",
    "AirlineData.sample(n=5)"
   ]
  },
  {
   "cell_type": "code",
   "execution_count": 23,
   "metadata": {
    "collapsed": false,
    "scrolled": true
   },
   "outputs": [
    {
     "data": {
      "text/plain": [
       "(0.0, 294.0)"
      ]
     },
     "execution_count": 23,
     "metadata": {},
     "output_type": "execute_result"
    }
   ],
   "source": [
    "#Check the data to find the maximum and minimum values for Security Delays.\n",
    "AirlineData.SECURITY_DELAY.min(), AirlineData.SECURITY_DELAY.max()"
   ]
  },
  {
   "cell_type": "code",
   "execution_count": 24,
   "metadata": {
    "collapsed": false,
    "scrolled": false
   },
   "outputs": [
    {
     "data": {
      "text/plain": [
       "Unnamed: 0               int64\n",
       "YEAR                     int64\n",
       "QUARTER                  int64\n",
       "MONTH                    int64\n",
       "DAY_OF_MONTH             int64\n",
       "DAY_OF_WEEK              int64\n",
       "FL_DATE                 object\n",
       "CARRIER                 object\n",
       "FL_NUM                   int64\n",
       "ORIGIN                  object\n",
       "ORIGIN_CITY_NAME        object\n",
       "ORIGIN_STATE_ABR        object\n",
       "DEST                    object\n",
       "DEST_CITY_NAME          object\n",
       "DEST_STATE_ABR          object\n",
       "DEP_TIME               float64\n",
       "DEP_DELAY              float64\n",
       "ARR_TIME               float64\n",
       "ARR_DELAY              float64\n",
       "CARRIER_DELAY          float64\n",
       "WEATHER_DELAY          float64\n",
       "NAS_DELAY              float64\n",
       "SECURITY_DELAY         float64\n",
       "LATE_AIRCRAFT_DELAY    float64\n",
       "Unnamed: 23            float64\n",
       "dtype: object"
      ]
     },
     "execution_count": 24,
     "metadata": {},
     "output_type": "execute_result"
    }
   ],
   "source": [
    "# Check the data structure\n",
    "AirlineData.dtypes"
   ]
  },
  {
   "cell_type": "code",
   "execution_count": 25,
   "metadata": {
    "collapsed": false
   },
   "outputs": [
    {
     "data": {
      "text/plain": [
       "(14428435, 25)"
      ]
     },
     "execution_count": 25,
     "metadata": {},
     "output_type": "execute_result"
    }
   ],
   "source": [
    "# Data set volume\n",
    "AirlineData.shape"
   ]
  },
  {
   "cell_type": "code",
   "execution_count": 26,
   "metadata": {
    "collapsed": true
   },
   "outputs": [],
   "source": [
    "# Delete unwanted columns\n",
    "AirlineData.drop(['Unnamed: 23','Unnamed: 0' ], axis=1, inplace=True)"
   ]
  },
  {
   "cell_type": "code",
   "execution_count": 27,
   "metadata": {
    "collapsed": false
   },
   "outputs": [
    {
     "data": {
      "text/plain": [
       "YEAR                          0\n",
       "QUARTER                       0\n",
       "MONTH                         0\n",
       "DAY_OF_MONTH                  0\n",
       "DAY_OF_WEEK                   0\n",
       "FL_DATE                       0\n",
       "CARRIER                       0\n",
       "FL_NUM                        0\n",
       "ORIGIN                        0\n",
       "ORIGIN_CITY_NAME              0\n",
       "ORIGIN_STATE_ABR           4694\n",
       "DEST                          0\n",
       "DEST_CITY_NAME                0\n",
       "DEST_STATE_ABR             4623\n",
       "DEP_TIME                 218167\n",
       "DEP_DELAY                218167\n",
       "ARR_TIME                 251215\n",
       "ARR_DELAY                261774\n",
       "CARRIER_DELAY          12706410\n",
       "WEATHER_DELAY          12706410\n",
       "NAS_DELAY              12706410\n",
       "SECURITY_DELAY         12706410\n",
       "LATE_AIRCRAFT_DELAY    12706410\n",
       "dtype: int64"
      ]
     },
     "execution_count": 27,
     "metadata": {},
     "output_type": "execute_result"
    }
   ],
   "source": [
    "#Check and remove data with null values\n",
    "AirlineData.isnull().sum()"
   ]
  },
  {
   "cell_type": "code",
   "execution_count": 30,
   "metadata": {
    "collapsed": false
   },
   "outputs": [
    {
     "data": {
      "text/plain": [
       "YEAR                   0\n",
       "QUARTER                0\n",
       "MONTH                  0\n",
       "DAY_OF_MONTH           0\n",
       "DAY_OF_WEEK            0\n",
       "FL_DATE                0\n",
       "CARRIER                0\n",
       "FL_NUM                 0\n",
       "ORIGIN                 0\n",
       "ORIGIN_CITY_NAME       0\n",
       "ORIGIN_STATE_ABR       0\n",
       "DEST                   0\n",
       "DEST_CITY_NAME         0\n",
       "DEST_STATE_ABR         0\n",
       "DEP_TIME               0\n",
       "DEP_DELAY              0\n",
       "ARR_TIME               0\n",
       "ARR_DELAY              0\n",
       "CARRIER_DELAY          0\n",
       "WEATHER_DELAY          0\n",
       "NAS_DELAY              0\n",
       "SECURITY_DELAY         0\n",
       "LATE_AIRCRAFT_DELAY    0\n",
       "dtype: int64"
      ]
     },
     "execution_count": 30,
     "metadata": {},
     "output_type": "execute_result"
    }
   ],
   "source": [
    "NewAirlineData = AirlineData.dropna()\n",
    "NewAirlineData.isnull().sum()"
   ]
  },
  {
   "cell_type": "code",
   "execution_count": 31,
   "metadata": {
    "collapsed": false
   },
   "outputs": [
    {
     "data": {
      "text/plain": [
       "(1722025, 23)"
      ]
     },
     "execution_count": 31,
     "metadata": {},
     "output_type": "execute_result"
    }
   ],
   "source": [
    "NewAirlineData.shape"
   ]
  },
  {
   "cell_type": "code",
   "execution_count": 32,
   "metadata": {
    "collapsed": false,
    "scrolled": true
   },
   "outputs": [
    {
     "data": {
      "text/html": [
       "<div>\n",
       "<table border=\"1\" class=\"dataframe\">\n",
       "  <thead>\n",
       "    <tr style=\"text-align: right;\">\n",
       "      <th></th>\n",
       "      <th>YEAR</th>\n",
       "      <th>QUARTER</th>\n",
       "      <th>MONTH</th>\n",
       "      <th>DAY_OF_MONTH</th>\n",
       "      <th>DAY_OF_WEEK</th>\n",
       "      <th>FL_NUM</th>\n",
       "      <th>DEP_TIME</th>\n",
       "      <th>DEP_DELAY</th>\n",
       "      <th>ARR_TIME</th>\n",
       "      <th>ARR_DELAY</th>\n",
       "      <th>CARRIER_DELAY</th>\n",
       "      <th>WEATHER_DELAY</th>\n",
       "      <th>NAS_DELAY</th>\n",
       "      <th>SECURITY_DELAY</th>\n",
       "      <th>LATE_AIRCRAFT_DELAY</th>\n",
       "    </tr>\n",
       "  </thead>\n",
       "  <tbody>\n",
       "    <tr>\n",
       "      <th>count</th>\n",
       "      <td>1.722025e+06</td>\n",
       "      <td>1722025.0</td>\n",
       "      <td>1722025.0</td>\n",
       "      <td>1.722025e+06</td>\n",
       "      <td>1.722025e+06</td>\n",
       "      <td>1.722025e+06</td>\n",
       "      <td>1.722025e+06</td>\n",
       "      <td>1.722025e+06</td>\n",
       "      <td>1.722025e+06</td>\n",
       "      <td>1.722025e+06</td>\n",
       "      <td>1.722025e+06</td>\n",
       "      <td>1.722025e+06</td>\n",
       "      <td>1.722025e+06</td>\n",
       "      <td>1.722025e+06</td>\n",
       "      <td>1.722025e+06</td>\n",
       "    </tr>\n",
       "    <tr>\n",
       "      <th>mean</th>\n",
       "      <td>2.008757e+03</td>\n",
       "      <td>3.0</td>\n",
       "      <td>7.0</td>\n",
       "      <td>1.649223e+01</td>\n",
       "      <td>3.885301e+00</td>\n",
       "      <td>2.206152e+03</td>\n",
       "      <td>1.560444e+03</td>\n",
       "      <td>5.263935e+01</td>\n",
       "      <td>1.611985e+03</td>\n",
       "      <td>5.934637e+01</td>\n",
       "      <td>1.675663e+01</td>\n",
       "      <td>3.269391e+00</td>\n",
       "      <td>1.574019e+01</td>\n",
       "      <td>7.725149e-02</td>\n",
       "      <td>2.350291e+01</td>\n",
       "    </tr>\n",
       "    <tr>\n",
       "      <th>std</th>\n",
       "      <td>3.630060e+00</td>\n",
       "      <td>0.0</td>\n",
       "      <td>0.0</td>\n",
       "      <td>8.747958e+00</td>\n",
       "      <td>1.954545e+00</td>\n",
       "      <td>1.921703e+03</td>\n",
       "      <td>4.755038e+02</td>\n",
       "      <td>6.126180e+01</td>\n",
       "      <td>6.043500e+02</td>\n",
       "      <td>5.905389e+01</td>\n",
       "      <td>4.153910e+01</td>\n",
       "      <td>1.893303e+01</td>\n",
       "      <td>3.180511e+01</td>\n",
       "      <td>1.881368e+00</td>\n",
       "      <td>4.213807e+01</td>\n",
       "    </tr>\n",
       "    <tr>\n",
       "      <th>min</th>\n",
       "      <td>2.003000e+03</td>\n",
       "      <td>3.0</td>\n",
       "      <td>7.0</td>\n",
       "      <td>1.000000e+00</td>\n",
       "      <td>1.000000e+00</td>\n",
       "      <td>1.000000e+00</td>\n",
       "      <td>1.000000e+00</td>\n",
       "      <td>-1.200000e+03</td>\n",
       "      <td>1.000000e+00</td>\n",
       "      <td>1.500000e+01</td>\n",
       "      <td>0.000000e+00</td>\n",
       "      <td>0.000000e+00</td>\n",
       "      <td>-2.400000e+01</td>\n",
       "      <td>0.000000e+00</td>\n",
       "      <td>0.000000e+00</td>\n",
       "    </tr>\n",
       "    <tr>\n",
       "      <th>25%</th>\n",
       "      <td>2.006000e+03</td>\n",
       "      <td>3.0</td>\n",
       "      <td>7.0</td>\n",
       "      <td>9.000000e+00</td>\n",
       "      <td>2.000000e+00</td>\n",
       "      <td>6.410000e+02</td>\n",
       "      <td>1.231000e+03</td>\n",
       "      <td>1.600000e+01</td>\n",
       "      <td>1.316000e+03</td>\n",
       "      <td>2.300000e+01</td>\n",
       "      <td>0.000000e+00</td>\n",
       "      <td>0.000000e+00</td>\n",
       "      <td>0.000000e+00</td>\n",
       "      <td>0.000000e+00</td>\n",
       "      <td>0.000000e+00</td>\n",
       "    </tr>\n",
       "    <tr>\n",
       "      <th>50%</th>\n",
       "      <td>2.008000e+03</td>\n",
       "      <td>3.0</td>\n",
       "      <td>7.0</td>\n",
       "      <td>1.700000e+01</td>\n",
       "      <td>4.000000e+00</td>\n",
       "      <td>1.573000e+03</td>\n",
       "      <td>1.630000e+03</td>\n",
       "      <td>3.600000e+01</td>\n",
       "      <td>1.749000e+03</td>\n",
       "      <td>3.900000e+01</td>\n",
       "      <td>0.000000e+00</td>\n",
       "      <td>0.000000e+00</td>\n",
       "      <td>3.000000e+00</td>\n",
       "      <td>0.000000e+00</td>\n",
       "      <td>1.000000e+00</td>\n",
       "    </tr>\n",
       "    <tr>\n",
       "      <th>75%</th>\n",
       "      <td>2.012000e+03</td>\n",
       "      <td>3.0</td>\n",
       "      <td>7.0</td>\n",
       "      <td>2.400000e+01</td>\n",
       "      <td>5.000000e+00</td>\n",
       "      <td>3.544000e+03</td>\n",
       "      <td>1.933000e+03</td>\n",
       "      <td>6.900000e+01</td>\n",
       "      <td>2.055000e+03</td>\n",
       "      <td>7.300000e+01</td>\n",
       "      <td>1.700000e+01</td>\n",
       "      <td>0.000000e+00</td>\n",
       "      <td>1.900000e+01</td>\n",
       "      <td>0.000000e+00</td>\n",
       "      <td>3.000000e+01</td>\n",
       "    </tr>\n",
       "    <tr>\n",
       "      <th>max</th>\n",
       "      <td>2.015000e+03</td>\n",
       "      <td>3.0</td>\n",
       "      <td>7.0</td>\n",
       "      <td>3.100000e+01</td>\n",
       "      <td>7.000000e+00</td>\n",
       "      <td>9.602000e+03</td>\n",
       "      <td>2.400000e+03</td>\n",
       "      <td>2.445000e+03</td>\n",
       "      <td>2.400000e+03</td>\n",
       "      <td>2.449000e+03</td>\n",
       "      <td>2.439000e+03</td>\n",
       "      <td>1.163000e+03</td>\n",
       "      <td>1.386000e+03</td>\n",
       "      <td>2.940000e+02</td>\n",
       "      <td>1.358000e+03</td>\n",
       "    </tr>\n",
       "  </tbody>\n",
       "</table>\n",
       "</div>"
      ],
      "text/plain": [
       "               YEAR    QUARTER      MONTH  DAY_OF_MONTH   DAY_OF_WEEK  \\\n",
       "count  1.722025e+06  1722025.0  1722025.0  1.722025e+06  1.722025e+06   \n",
       "mean   2.008757e+03        3.0        7.0  1.649223e+01  3.885301e+00   \n",
       "std    3.630060e+00        0.0        0.0  8.747958e+00  1.954545e+00   \n",
       "min    2.003000e+03        3.0        7.0  1.000000e+00  1.000000e+00   \n",
       "25%    2.006000e+03        3.0        7.0  9.000000e+00  2.000000e+00   \n",
       "50%    2.008000e+03        3.0        7.0  1.700000e+01  4.000000e+00   \n",
       "75%    2.012000e+03        3.0        7.0  2.400000e+01  5.000000e+00   \n",
       "max    2.015000e+03        3.0        7.0  3.100000e+01  7.000000e+00   \n",
       "\n",
       "             FL_NUM      DEP_TIME     DEP_DELAY      ARR_TIME     ARR_DELAY  \\\n",
       "count  1.722025e+06  1.722025e+06  1.722025e+06  1.722025e+06  1.722025e+06   \n",
       "mean   2.206152e+03  1.560444e+03  5.263935e+01  1.611985e+03  5.934637e+01   \n",
       "std    1.921703e+03  4.755038e+02  6.126180e+01  6.043500e+02  5.905389e+01   \n",
       "min    1.000000e+00  1.000000e+00 -1.200000e+03  1.000000e+00  1.500000e+01   \n",
       "25%    6.410000e+02  1.231000e+03  1.600000e+01  1.316000e+03  2.300000e+01   \n",
       "50%    1.573000e+03  1.630000e+03  3.600000e+01  1.749000e+03  3.900000e+01   \n",
       "75%    3.544000e+03  1.933000e+03  6.900000e+01  2.055000e+03  7.300000e+01   \n",
       "max    9.602000e+03  2.400000e+03  2.445000e+03  2.400000e+03  2.449000e+03   \n",
       "\n",
       "       CARRIER_DELAY  WEATHER_DELAY     NAS_DELAY  SECURITY_DELAY  \\\n",
       "count   1.722025e+06   1.722025e+06  1.722025e+06    1.722025e+06   \n",
       "mean    1.675663e+01   3.269391e+00  1.574019e+01    7.725149e-02   \n",
       "std     4.153910e+01   1.893303e+01  3.180511e+01    1.881368e+00   \n",
       "min     0.000000e+00   0.000000e+00 -2.400000e+01    0.000000e+00   \n",
       "25%     0.000000e+00   0.000000e+00  0.000000e+00    0.000000e+00   \n",
       "50%     0.000000e+00   0.000000e+00  3.000000e+00    0.000000e+00   \n",
       "75%     1.700000e+01   0.000000e+00  1.900000e+01    0.000000e+00   \n",
       "max     2.439000e+03   1.163000e+03  1.386000e+03    2.940000e+02   \n",
       "\n",
       "       LATE_AIRCRAFT_DELAY  \n",
       "count         1.722025e+06  \n",
       "mean          2.350291e+01  \n",
       "std           4.213807e+01  \n",
       "min           0.000000e+00  \n",
       "25%           0.000000e+00  \n",
       "50%           1.000000e+00  \n",
       "75%           3.000000e+01  \n",
       "max           1.358000e+03  "
      ]
     },
     "execution_count": 32,
     "metadata": {},
     "output_type": "execute_result"
    }
   ],
   "source": [
    "NewAirlineData.describe()"
   ]
  },
  {
   "cell_type": "code",
   "execution_count": 33,
   "metadata": {
    "collapsed": true
   },
   "outputs": [],
   "source": [
    "NewAirlineData.to_csv('Airline.csv')"
   ]
  },
  {
   "cell_type": "code",
   "execution_count": 50,
   "metadata": {
    "collapsed": true
   },
   "outputs": [],
   "source": [
    "AirlineData = pd.read_csv(\"Airline.csv\")"
   ]
  },
  {
   "cell_type": "code",
   "execution_count": 51,
   "metadata": {
    "collapsed": false
   },
   "outputs": [
    {
     "data": {
      "text/plain": [
       "(1722025, 24)"
      ]
     },
     "execution_count": 51,
     "metadata": {},
     "output_type": "execute_result"
    }
   ],
   "source": [
    "AirlineData.shape"
   ]
  },
  {
   "cell_type": "code",
   "execution_count": 52,
   "metadata": {
    "collapsed": true
   },
   "outputs": [],
   "source": [
    "#Add two columns to get Departure Hour and Arrival Hour\n",
    "AirlineData['DEP_HOUR'] = AirlineData['DEP_TIME']//100\n",
    "AirlineData['ARR_HOUR'] = AirlineData['ARR_TIME']//100\n",
    "# Add a column to set a flag 0 or 1 to indicate Security Delay\n",
    "AirlineData['SECURITY_DELAY_FLAG'] = np.where(AirlineData.SECURITY_DELAY == 0, 0 , 1)"
   ]
  },
  {
   "cell_type": "code",
   "execution_count": 53,
   "metadata": {
    "collapsed": true
   },
   "outputs": [],
   "source": [
    "# Filter data for top 10 Airports\n",
    "AirlineData1 = AirlineData[AirlineData['ORIGIN'].isin(['ATL', 'LAX', 'ORD', 'DFW', 'JFK', 'DEN', 'SFO','CLT','LAS','PHX'])]"
   ]
  },
  {
   "cell_type": "code",
   "execution_count": 54,
   "metadata": {
    "collapsed": false
   },
   "outputs": [
    {
     "data": {
      "text/plain": [
       "(643845, 27)"
      ]
     },
     "execution_count": 54,
     "metadata": {},
     "output_type": "execute_result"
    }
   ],
   "source": [
    "AirlineData1.shape"
   ]
  },
  {
   "cell_type": "code",
   "execution_count": 55,
   "metadata": {
    "collapsed": true
   },
   "outputs": [],
   "source": [
    "# Save the cleansed data for analysis\n",
    "AirlineData1.to_csv('AirlineAnalysis.csv')"
   ]
  },
  {
   "cell_type": "markdown",
   "metadata": {},
   "source": [
    "<h2>Exploratory Data Analysis</h2>\n",
    "<p>In statistics, exploratory data analysis (EDA) is an approach to analyzing data sets to summarize their main characteristics, often with vizual methods. A statistical model can be used or not, but primarily EDA is for seeing what the data can tell us beyond the formal modeling or hypothesis testing task.</p>\n",
    "<p>&nbsp;The pupose of this exercise is to visually analyze to answer the following questions:</p>\n",
    "<p>1. Distribution of security delays</p>\n",
    "<p>2. How security delay is distributed across with Top 10 Airports, showing the outliers.</p>\n",
    "<p>3. Which of the aiports have the most number of security delays?</p>\n",
    "<p>4. How much and what frequency&nbsp;security delay is distributed&nbsp;the years (1989-2015)?</p>\n",
    "<p>5. Which year has the most number of security delays?</p>\n",
    "<p>6. Which airport has more probabilty for security delay?</p>\n",
    "<p>7. Analyze security delay across hour of departure .</p>\n"
   ]
  },
  {
   "cell_type": "code",
   "execution_count": 85,
   "metadata": {
    "collapsed": false,
    "scrolled": false
   },
   "outputs": [
    {
     "data": {
      "text/plain": [
       "<matplotlib.text.Text at 0x7b58f358>"
      ]
     },
     "execution_count": 85,
     "metadata": {},
     "output_type": "execute_result"
    },
    {
     "data": {
      "image/png": "[encoded data removed]",
      "text/plain": [
       "<matplotlib.figure.Figure at 0x9a197e80>"
      ]
     },
     "metadata": {},
     "output_type": "display_data"
    }
   ],
   "source": [
    "AirlineData = pd.read_csv(\"AirlineAnalysis.csv\")\n",
    "AirlineData1 = AirlineData[AirlineData.SECURITY_DELAY > 0]\n",
    "plt.hist(AirlineData1.SECURITY_DELAY,bins = 30, normed=1, alpha=0.75 )\n",
    "plt.xlim(-10,400)\n",
    "plt.xlabel('Minutes')\n",
    "plt.ylabel('Probability')\n",
    "plt.title('Security Delay Distribution')"
   ]
  },
  {
   "cell_type": "markdown",
   "metadata": {},
   "source": [
    "Analyzing the distribution of Security Delay reveals that most of the flights were delayed by less than 50 minutes. This implies there is a higher probability of shorter security delays.\n",
    "\n",
    "Next we analyze the distribution of security delays across the top 10 airports. "
   ]
  },
  {
   "cell_type": "markdown",
   "metadata": {},
   "source": [
    "# 07/08 Review. Add LogNormal Security Delay Distribution"
   ]
  },
  {
   "cell_type": "code",
   "execution_count": 104,
   "metadata": {
    "collapsed": false
   },
   "outputs": [
    {
     "data": {
      "text/plain": [
       "[<matplotlib.lines.Line2D at 0x2f0536a0>]"
      ]
     },
     "execution_count": 104,
     "metadata": {},
     "output_type": "execute_result"
    },
    {
     "data": {
      "image/png": "[encoded data removed]",
      "text/plain": [
       "<matplotlib.figure.Figure at 0x2f053470>"
      ]
     },
     "metadata": {},
     "output_type": "display_data"
    }
   ],
   "source": [
    "scipy.stats.lognorm\n",
    "plt.hist(AirlineData1.SECURITY_DELAY, bins=30, normed=True, color='c', alpha=0.75)\n",
    "xmin = AirlineData1.SECURITY_DELAY.min()\n",
    "xmax = AirlineData1.SECURITY_DELAY.max()\n",
    "s = np.std(AirlineData1.SECURITY_DELAY)\n",
    "x = np.linspace(xmin, xmax, 100)\n",
    "pdf = stats.lognorm.pdf(x, s, scale=1)\n",
    "plt.plot(x, pdf, 'k')"
   ]
  },
  {
   "cell_type": "code",
   "execution_count": 75,
   "metadata": {
    "collapsed": false,
    "scrolled": false
   },
   "outputs": [
    {
     "data": {
      "text/plain": [
       "<matplotlib.text.Text at 0x4c17f198>"
      ]
     },
     "execution_count": 75,
     "metadata": {},
     "output_type": "execute_result"
    },
    {
     "data": {
      "image/png": "[encoded data removed]",
      "text/plain": [
       "<matplotlib.figure.Figure at 0x4c1692b0>"
      ]
     },
     "metadata": {},
     "output_type": "display_data"
    }
   ],
   "source": [
    "# Boxplot to check the distribution based on Top Ten Airports\n",
    "AirlineData1.boxplot(column='SECURITY_DELAY', by ='ORIGIN')\n",
    "plt.xlabel('Top 10 Airports')\n",
    "plt.ylabel('Minutes')\n",
    "plt.title('Security Delay Distribution - Top 10 Airports')"
   ]
  },
  {
   "cell_type": "markdown",
   "metadata": {},
   "source": [
    "There are some outliers in all Airports, but they are more frequest in JFK (New York) Airport. We also need to check the count of Security delays in these Airports."
   ]
  },
  {
   "cell_type": "code",
   "execution_count": 84,
   "metadata": {
    "collapsed": false,
    "scrolled": false
   },
   "outputs": [
    {
     "data": {
      "text/plain": [
       "<matplotlib.text.Text at 0xacceab70>"
      ]
     },
     "execution_count": 84,
     "metadata": {},
     "output_type": "execute_result"
    },
    {
     "data": {
      "image/png": "[encoded data removed]",
      "text/plain": [
       "<matplotlib.figure.Figure at 0x18b4dfd0>"
      ]
     },
     "metadata": {},
     "output_type": "display_data"
    }
   ],
   "source": [
    "temp1 = AirlineData[AirlineData.SECURITY_DELAY_FLAG > 0]\n",
    "temp2 = temp1.groupby('ORIGIN').SECURITY_DELAY_FLAG.count()\n",
    "#temp2\n",
    "temp2.plot(kind='bar', color='#DEB887')\n",
    "plt.xlabel('Top 10 Airports')\n",
    "plt.ylabel('Number of Flights')\n",
    "plt.title(' Number of Security Delays - Top 10 Airports')"
   ]
  },
  {
   "cell_type": "markdown",
   "metadata": {},
   "source": [
    "# 07/08 Review. Add Security Delay Distribution \n",
    "##                                      Delay againt Number of Flights."
   ]
  },
  {
   "cell_type": "code",
   "execution_count": 114,
   "metadata": {
    "collapsed": false
   },
   "outputs": [
    {
     "data": {
      "text/plain": [
       "<matplotlib.text.Text at 0x49954c18>"
      ]
     },
     "execution_count": 114,
     "metadata": {},
     "output_type": "execute_result"
    },
    {
     "data": {
      "image/png": "[encoded data removed]",
      "text/plain": [
       "<matplotlib.figure.Figure at 0x41d0c860>"
      ]
     },
     "metadata": {},
     "output_type": "display_data"
    }
   ],
   "source": [
    "#temp1 = AirlineData[AirlineData.SECURITY_DELAY_FLAG > 0]\n",
    "#temp2 = temp1.groupby('ORIGIN').SECURITY_DELAY_FLAG.count()\n",
    "temp2 = (AirlineData.groupby('ORIGIN').SECURITY_DELAY_FLAG.sum()* 100)/AirlineData.groupby('ORIGIN').SECURITY_DELAY_FLAG.count()\n",
    "temp2.plot(kind='bar', color='#DEB887')\n",
    "plt.xlabel('Top 10 Airports')\n",
    "plt.ylabel('Percentage')\n",
    "plt.title(' Number of Security Delays - Top 10 Airports')"
   ]
  },
  {
   "cell_type": "markdown",
   "metadata": {},
   "source": [
    "Though Newyork has the longest security delay in minutes, but highest number of security delays had occurred in Phoenix.\n",
    "\n",
    "Next we switch to analyze the security delays though the years 1988 to 2016 (July Month only)."
   ]
  },
  {
   "cell_type": "code",
   "execution_count": 77,
   "metadata": {
    "collapsed": false,
    "scrolled": false
   },
   "outputs": [
    {
     "data": {
      "text/plain": [
       "<matplotlib.text.Text at 0x9d105c50>"
      ]
     },
     "execution_count": 77,
     "metadata": {},
     "output_type": "execute_result"
    },
    {
     "data": {
      "image/png": "[encoded data removed]",
      "text/plain": [
       "<matplotlib.figure.Figure at 0xc3b65be0>"
      ]
     },
     "metadata": {},
     "output_type": "display_data"
    }
   ],
   "source": [
    "# Boxplot to check the distribution based on Year\n",
    "AirlineData1.boxplot(column='SECURITY_DELAY', by ='YEAR')\n",
    "plt.xlabel('Year')\n",
    "plt.ylabel('Minutes')\n",
    "plt.title('Security Delay Distribution across Years')"
   ]
  },
  {
   "cell_type": "markdown",
   "metadata": {},
   "source": [
    "There are some outliers in Years, but 2008 seems to have more than other years for which data is available. We would also like to see the number of Security Delays across years."
   ]
  },
  {
   "cell_type": "code",
   "execution_count": 78,
   "metadata": {
    "collapsed": false,
    "scrolled": false
   },
   "outputs": [
    {
     "data": {
      "text/plain": [
       "<matplotlib.text.Text at 0x9025a4e0>"
      ]
     },
     "execution_count": 78,
     "metadata": {},
     "output_type": "execute_result"
    },
    {
     "data": {
      "image/png": "[encoded data removed]",
      "text/plain": [
       "<matplotlib.figure.Figure at 0xc3b655c0>"
      ]
     },
     "metadata": {},
     "output_type": "display_data"
    }
   ],
   "source": [
    "temp1 = AirlineData[AirlineData.SECURITY_DELAY_FLAG > 0]\n",
    "temp2 = temp1.groupby('YEAR').SECURITY_DELAY_FLAG.count()\n",
    "temp2.plot(kind='bar', color = ('c'))\n",
    "plt.xlabel('Year')\n",
    "plt.ylabel('Number of Flights')\n",
    "plt.title(' Number of Security Delays across Years')"
   ]
  },
  {
   "cell_type": "markdown",
   "metadata": {},
   "source": [
    "# 07/08 Review. Add Security Delay Distribution \n",
    "##                                    Delay againt Years"
   ]
  },
  {
   "cell_type": "code",
   "execution_count": 115,
   "metadata": {
    "collapsed": false
   },
   "outputs": [
    {
     "data": {
      "text/plain": [
       "<matplotlib.text.Text at 0x5c603b00>"
      ]
     },
     "execution_count": 115,
     "metadata": {},
     "output_type": "execute_result"
    },
    {
     "data": {
      "image/png": "[encoded data removed]",
      "text/plain": [
       "<matplotlib.figure.Figure at 0x8f1e3b70>"
      ]
     },
     "metadata": {},
     "output_type": "display_data"
    }
   ],
   "source": [
    "#temp1 = AirlineData[AirlineData.SECURITY_DELAY_FLAG > 0]\n",
    "#temp2 = temp1.groupby('YEAR').SECURITY_DELAY_FLAG.sum()/temp1.groupby('YEAR').SECURITY_DELAY_FLAG.count()\n",
    "temp2 = (AirlineData.groupby('YEAR').SECURITY_DELAY_FLAG.sum()*100)/AirlineData.groupby('YEAR').SECURITY_DELAY_FLAG.count()\n",
    "temp2.plot(kind='bar', color = ('c'))\n",
    "plt.xlabel('Year')\n",
    "plt.ylabel('Percentage')\n",
    "plt.title(' Number of Security Delays across Years')"
   ]
  },
  {
   "cell_type": "markdown",
   "metadata": {},
   "source": [
    "2007 seem to have the most security delays while it is the least in 2011."
   ]
  },
  {
   "cell_type": "code",
   "execution_count": 80,
   "metadata": {
    "collapsed": false
   },
   "outputs": [
    {
     "data": {
      "text/plain": [
       "<matplotlib.text.Text at 0x2869ff60>"
      ]
     },
     "execution_count": 80,
     "metadata": {},
     "output_type": "execute_result"
    },
    {
     "data": {
      "image/png": "[encoded data removed]",
      "text/plain": [
       "<matplotlib.figure.Figure at 0x97d806d8>"
      ]
     },
     "metadata": {},
     "output_type": "display_data"
    }
   ],
   "source": [
    "## Based on the data available for Security Delays, here is an attempt to plot the distribution \n",
    "##by Top Ten Airports and probabilty of Security Delay\n",
    "\n",
    "temp1 = AirlineData.groupby('ORIGIN').SECURITY_DELAY_FLAG.count()\n",
    "temp2 = AirlineData.groupby('ORIGIN').SECURITY_DELAY_FLAG.sum()/AirlineData.groupby('ORIGIN').SECURITY_DELAY_FLAG.count()\n",
    "fig = plt.figure(figsize=(16,4))\n",
    "ax1 = fig.add_subplot(121)\n",
    "ax1.set_xlabel('Origin')\n",
    "ax1.set_ylabel('Number of Flights')\n",
    "ax1.set_title(\"Total Number of Flights from Top 10 Airports\")\n",
    "temp1.plot(kind='bar')\n",
    "\n",
    "ax2 = fig.add_subplot(122)\n",
    "temp2.plot(kind = 'bar')\n",
    "ax2.set_xlabel('Origin')\n",
    "ax2.set_ylabel('Probability of Security Delay')\n",
    "ax2.set_title(\"Probability of Security Delay in Top 10 Airports\")"
   ]
  },
  {
   "cell_type": "markdown",
   "metadata": {},
   "source": [
    "It is interesting to note that Atlanta had the most number of flights with the least probability of security delays. However, Phoenix which the last in the Top 10 Airports, has a less number of flights with the most probability for security delays. \n",
    "\n",
    "The next analysis will look at the probability of security delays based on the hour of departure."
   ]
  },
  {
   "cell_type": "code",
   "execution_count": 81,
   "metadata": {
    "collapsed": false
   },
   "outputs": [
    {
     "data": {
      "text/plain": [
       "<matplotlib.text.Text at 0xb0ccdb70>"
      ]
     },
     "execution_count": 81,
     "metadata": {},
     "output_type": "execute_result"
    },
    {
     "data": {
      "image/png": "[encoded data removed]",
      "text/plain": [
       "<matplotlib.figure.Figure at 0xb0f39780>"
      ]
     },
     "metadata": {},
     "output_type": "display_data"
    }
   ],
   "source": [
    "## Based on the data available for Security Delays, here is an attempt to plot the distribution \n",
    "##by hour of departure and probabilty of Security Delay\n",
    "\n",
    "temp1 = AirlineData.groupby('DEP_HOUR').SECURITY_DELAY_FLAG.count()\n",
    "temp2 = AirlineData.groupby('DEP_HOUR').SECURITY_DELAY_FLAG.sum()/AirlineData.groupby('DEP_HOUR').SECURITY_DELAY_FLAG.count()\n",
    "fig = plt.figure(figsize=(16,4))\n",
    "ax1 = fig.add_subplot(121)\n",
    "ax1.set_xlabel('Departure Hour')\n",
    "ax1.set_ylabel('Number of Flights')\n",
    "ax1.set_title(\"Total Number of Flights - Departure Hours\")\n",
    "temp1.plot(kind='bar')\n",
    "\n",
    "ax2 = fig.add_subplot(122)\n",
    "temp2.plot(kind = 'bar')\n",
    "ax2.set_xlabel('Departure Hour')\n",
    "ax2.set_ylabel('Probability of Security Delay')\n",
    "ax2.set_title(\"Probability of Security Delay - Departure Hours\")"
   ]
  },
  {
   "cell_type": "markdown",
   "metadata": {
    "collapsed": true
   },
   "source": [
    "We notice while number of departing flights is progressive throughout the day, however the probability of security delay seemd to be more in the early morning hours."
   ]
  },
  {
   "cell_type": "code",
   "execution_count": null,
   "metadata": {
    "collapsed": true
   },
   "outputs": [],
   "source": []
  },
  {
   "cell_type": "code",
   "execution_count": null,
   "metadata": {
    "collapsed": true
   },
   "outputs": [],
   "source": []
  }
 ],
 "metadata": {
  "kernelspec": {
   "display_name": "Python 2",
   "language": "python",
   "name": "python2"
  },
  "language_info": {
   "codemirror_mode": {
    "name": "ipython",
    "version": 2
   },
   "file_extension": ".py",
   "mimetype": "text/x-python",
   "name": "python",
   "nbconvert_exporter": "python",
   "pygments_lexer": "ipython2",
   "version": "2.7.11"
  }
 },
 "nbformat": 4,
 "nbformat_minor": 0
}
