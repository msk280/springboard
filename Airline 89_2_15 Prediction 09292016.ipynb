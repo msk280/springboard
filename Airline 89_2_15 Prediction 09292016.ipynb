{
 "cells": [
  {
   "cell_type": "markdown",
   "metadata": {},
   "source": [
    "<h1 id=\"Airline Delays Prediction\"><span style=\"color: #ff0000;\">Chicago Airport - Airline Departure Delays Prediction 1989-2015 July Data</span></h1>"
   ]
  },
  {
   "cell_type": "markdown",
   "metadata": {},
   "source": [
    "<h2 style=\"text-align: left;\">Initialize libraries, get data sets, consolidate and cleanse.</h2>"
   ]
  },
  {
   "cell_type": "code",
   "execution_count": 1,
   "metadata": {
    "collapsed": false
   },
   "outputs": [],
   "source": [
    "# Importing libraries and the data set\n",
    "from pandas import Series, DataFrame\n",
    "import pandas as pd\n",
    "import glob\n",
    "import numpy as np\n",
    "import os\n",
    "import matplotlib.pylab as plt\n",
    "%matplotlib inline \n",
    "plt.rcParams['figure.figsize'] = 12, 4  # that's default image size for this interactive session\n",
    "import scipy\n",
    "from scipy import stats\n",
    "from sklearn.cross_validation import train_test_split\n",
    "from sklearn import linear_model\n",
    "from sklearn.metrics import confusion_matrix,  precision_recall_fscore_support, accuracy_score\n",
    "from sklearn.preprocessing import Binarizer\n",
    "from sklearn.ensemble import RandomForestClassifier\n",
    "from sklearn.preprocessing import StandardScaler\n",
    "from sklearn import preprocessing\n",
    "import statsmodels.api as sm\n",
    "from sklearn.preprocessing import StandardScaler, OneHotEncoder\n",
    "scaler = StandardScaler()\n",
    "from ggplot import *\n",
    "from sklearn import metrics"
   ]
  },
  {
   "cell_type": "markdown",
   "metadata": {},
   "source": [
    "We will be taking 1989 to 2015 Chicago dataset."
   ]
  },
  {
   "cell_type": "code",
   "execution_count": 3,
   "metadata": {
    "collapsed": false,
    "scrolled": true
   },
   "outputs": [
    {
     "data": {
      "text/plain": [
       "Unnamed: 0        int64\n",
       "YEAR              int64\n",
       "QUARTER           int64\n",
       "MONTH             int64\n",
       "DAY_OF_MONTH      int64\n",
       "DAY_OF_WEEK       int64\n",
       "FL_DATE          object\n",
       "CARRIER          object\n",
       "FL_NUM            int64\n",
       "ORIGIN           object\n",
       "DEST             object\n",
       "DEP_TIME        float64\n",
       "DEP_DELAY       float64\n",
       "ARR_TIME        float64\n",
       "ARR_DELAY       float64\n",
       "DEP_HOUR        float64\n",
       "ARR_HOUR        float64\n",
       "dtype: object"
      ]
     },
     "execution_count": 3,
     "metadata": {},
     "output_type": "execute_result"
    }
   ],
   "source": [
    "ORDData = pd.read_csv(\"ORDJuly1989to2015.csv\")\n",
    "ORDData.dtypes"
   ]
  },
  {
   "cell_type": "code",
   "execution_count": 4,
   "metadata": {
    "collapsed": false
   },
   "outputs": [
    {
     "data": {
      "text/plain": [
       "(756195, 17)"
      ]
     },
     "execution_count": 4,
     "metadata": {},
     "output_type": "execute_result"
    }
   ],
   "source": [
    "ORDData.shape"
   ]
  },
  {
   "cell_type": "code",
   "execution_count": 23,
   "metadata": {
    "collapsed": false
   },
   "outputs": [
    {
     "data": {
      "text/plain": [
       "24.0"
      ]
     },
     "execution_count": 23,
     "metadata": {},
     "output_type": "execute_result"
    }
   ],
   "source": [
    "ORDData.DEP_HOUR.max()"
   ]
  },
  {
   "cell_type": "markdown",
   "metadata": {},
   "source": [
    "<h2 style=\"color: #000000;\">Building a Prediction Model</h2>"
   ]
  },
  {
   "cell_type": "markdown",
   "metadata": {},
   "source": [
    "'MONTH','DAY_OF_MONTH','DAY_OF_WEEK','DEP_HOUR','PRCP', 'SNOW', 'TMAX', 'TMIN', 'AWND'"
   ]
  },
  {
   "cell_type": "markdown",
   "metadata": {},
   "source": [
    "#### Logistic Regression using YEAR with L1 Regularization"
   ]
  },
  {
   "cell_type": "code",
   "execution_count": 16,
   "metadata": {
    "collapsed": false
   },
   "outputs": [
    {
     "name": "stdout",
     "output_type": "stream",
     "text": [
      "Confusion matrix\n",
      "       0      1\n",
      "0  90558  83949\n",
      "1  22276  30076\n",
      "\n",
      "precision = 0.26, recall = 0.57, F1 = 0.36, accuracy = 0.53\n",
      "\n"
     ]
    }
   ],
   "source": [
    "Ycol = 'DEP_DELAY'\n",
    "Xcols = ['YEAR']\n",
    "ORDData = pd.read_csv(\"ORDJuly1989to2015.csv\")\n",
    "sampled_X = ORDData[Xcols]\n",
    "sampled_Y = ORDData[Ycol] >= 15\n",
    "# create train and test sets\n",
    "train_x, test_x, train_y, test_y  =   train_test_split(sampled_X, sampled_Y, test_size=.3)\n",
    "\n",
    "\n",
    "# Create logistic regression model with L2 regularization\n",
    "clf_lr = linear_model.LogisticRegression(penalty='l2', class_weight='balanced')\n",
    "clf_lr.fit(train_x, train_y)\n",
    "\n",
    "# Predict output labels on test set\n",
    "pr = clf_lr.predict(test_x)\n",
    "\n",
    "# display evaluation metrics\n",
    "cm = confusion_matrix(test_y, pr)\n",
    "print(\"Confusion matrix\")\n",
    "print(pd.DataFrame(cm))\n",
    "report_lr = precision_recall_fscore_support(list(test_y), list(pr), average='binary')\n",
    "print \"\\nprecision = %0.2f, recall = %0.2f, F1 = %0.2f, accuracy = %0.2f\\n\" % \\\n",
    "        (report_lr[0], report_lr[1], report_lr[2], accuracy_score(list(test_y), list(pr)))"
   ]
  },
  {
   "cell_type": "markdown",
   "metadata": {
    "collapsed": true
   },
   "source": [
    "#### Logistic Regression using DAY_OF_MONTH with L1 Regularization"
   ]
  },
  {
   "cell_type": "code",
   "execution_count": 18,
   "metadata": {
    "collapsed": false
   },
   "outputs": [
    {
     "name": "stdout",
     "output_type": "stream",
     "text": [
      "Confusion matrix\n",
      "       0      1\n",
      "0  91071  83353\n",
      "1  24767  27668\n",
      "\n",
      "precision = 0.25, recall = 0.53, F1 = 0.34, accuracy = 0.52\n",
      "\n"
     ]
    }
   ],
   "source": [
    "Ycol = 'DEP_DELAY'\n",
    "Xcols = ['DAY_OF_MONTH']\n",
    "ORDData = pd.read_csv(\"ORDJuly1989to2015.csv\")\n",
    "sampled_X = ORDData[Xcols]\n",
    "sampled_Y = ORDData[Ycol] >= 15\n",
    "# create train and test sets\n",
    "train_x, test_x, train_y, test_y  =   train_test_split(sampled_X, sampled_Y, test_size=.3)\n",
    "\n",
    "\n",
    "# Create logistic regression model with L2 regularization\n",
    "clf_lr = linear_model.LogisticRegression(penalty='l2', class_weight='balanced')\n",
    "clf_lr.fit(train_x, train_y)\n",
    "\n",
    "# Predict output labels on test set\n",
    "pr = clf_lr.predict(test_x)\n",
    "\n",
    "# display evaluation metrics\n",
    "cm = confusion_matrix(test_y, pr)\n",
    "print(\"Confusion matrix\")\n",
    "print(pd.DataFrame(cm))\n",
    "report_lr = precision_recall_fscore_support(list(test_y), list(pr), average='binary')\n",
    "print \"\\nprecision = %0.2f, recall = %0.2f, F1 = %0.2f, accuracy = %0.2f\\n\" % \\\n",
    "        (report_lr[0], report_lr[1], report_lr[2], accuracy_score(list(test_y), list(pr)))"
   ]
  },
  {
   "cell_type": "markdown",
   "metadata": {},
   "source": [
    "#### Logistic Regression using DAY_OF_WEEK with L1 Regularization"
   ]
  },
  {
   "cell_type": "code",
   "execution_count": 20,
   "metadata": {
    "collapsed": false
   },
   "outputs": [
    {
     "name": "stdout",
     "output_type": "stream",
     "text": [
      "Confusion matrix\n",
      "       0      1\n",
      "0  76358  97517\n",
      "1  23068  29916\n",
      "\n",
      "precision = 0.23, recall = 0.56, F1 = 0.33, accuracy = 0.47\n",
      "\n"
     ]
    }
   ],
   "source": [
    "Ycol = 'DEP_DELAY'\n",
    "Xcols = ['DAY_OF_WEEK']\n",
    "ORDData = pd.read_csv(\"ORDJuly1989to2015.csv\")\n",
    "sampled_X = ORDData[Xcols]\n",
    "sampled_Y = ORDData[Ycol] >= 15\n",
    "sampled_X\n",
    "\n",
    "\n",
    "b = df[(df['a'] > 1) & (df['a'] < 5)]\n",
    "\n",
    "\n",
    "# create train and test sets\n",
    "train_x, test_x, train_y, test_y  =   train_test_split(sampled_X, sampled_Y, test_size=.3)\n",
    "\n",
    "\n",
    "# Create logistic regression model with L2 regularization\n",
    "clf_lr = linear_model.LogisticRegression(penalty='l2', class_weight='balanced')\n",
    "clf_lr.fit(train_x, train_y)\n",
    "\n",
    "# Predict output labels on test set\n",
    "pr = clf_lr.predict(test_x)\n",
    "\n",
    "# display evaluation metrics\n",
    "cm = confusion_matrix(test_y, pr)\n",
    "print(\"Confusion matrix\")\n",
    "print(pd.DataFrame(cm))\n",
    "report_lr = precision_recall_fscore_support(list(test_y), list(pr), average='binary')\n",
    "print \"\\nprecision = %0.2f, recall = %0.2f, F1 = %0.2f, accuracy = %0.2f\\n\" % \\\n",
    "        (report_lr[0], report_lr[1], report_lr[2], accuracy_score(list(test_y), list(pr)))"
   ]
  },
  {
   "cell_type": "markdown",
   "metadata": {},
   "source": [
    "#### Logistic Regression using DEP_HOUR with L1 Regularization"
   ]
  },
  {
   "cell_type": "code",
   "execution_count": 29,
   "metadata": {
    "collapsed": false
   },
   "outputs": [
    {
     "name": "stdout",
     "output_type": "stream",
     "text": [
      "Confusion matrix\n",
      "        0      1\n",
      "0  104918  63803\n",
      "1   18402  33636\n",
      "\n",
      "precision = 0.35, recall = 0.65, F1 = 0.45, accuracy = 0.63\n",
      "\n"
     ]
    }
   ],
   "source": [
    "Ycol = 'DEP_DELAY'\n",
    "Xcols = ['DEP_HOUR']\n",
    "ORDData = pd.read_csv(\"ORDJuly1989to2015.csv\")\n",
    "ORDData1 = ORDData[(ORDData['DEP_HOUR'] > 0)]\n",
    "\n",
    "# sampled_X = ORDData[Xcols]\n",
    "sampled_X = ORDData1[Xcols]\n",
    "sampled_Y = ORDData1[Ycol] >= 15\n",
    "# create train and test sets\n",
    "train_x, test_x, train_y, test_y  =   train_test_split(sampled_X, sampled_Y, test_size=.3)\n",
    "\n",
    "\n",
    "# Create logistic regression model with L2 regularization\n",
    "clf_lr = linear_model.LogisticRegression(penalty='l2', class_weight='balanced')\n",
    "clf_lr.fit(train_x, train_y)\n",
    "\n",
    "# Predict output labels on test set\n",
    "pr = clf_lr.predict(test_x)\n",
    "\n",
    "# display evaluation metrics\n",
    "cm = confusion_matrix(test_y, pr)\n",
    "print(\"Confusion matrix\")\n",
    "print(pd.DataFrame(cm))\n",
    "report_lr = precision_recall_fscore_support(list(test_y), list(pr), average='binary')\n",
    "print \"\\nprecision = %0.2f, recall = %0.2f, F1 = %0.2f, accuracy = %0.2f\\n\" % \\\n",
    "        (report_lr[0], report_lr[1], report_lr[2], accuracy_score(list(test_y), list(pr)))"
   ]
  },
  {
   "cell_type": "markdown",
   "metadata": {},
   "source": [
    "#### Logistic Regression using ARR_HOUR with L1 Regularization"
   ]
  },
  {
   "cell_type": "code",
   "execution_count": 43,
   "metadata": {
    "collapsed": false
   },
   "outputs": [
    {
     "name": "stdout",
     "output_type": "stream",
     "text": [
      "Confusion matrix\n",
      "       0      1\n",
      "0  89417  77203\n",
      "1  16560  31378\n",
      "\n",
      "precision = 0.29, recall = 0.65, F1 = 0.40, accuracy = 0.56\n",
      "\n"
     ]
    }
   ],
   "source": [
    "Ycol = 'DEP_DELAY'\n",
    "Xcols = ['ARR_HOUR']\n",
    "ORDData = pd.read_csv(\"ORDJuly1989to2015.csv\")\n",
    "ORDData1 = ORDData[(ORDData['ARR_HOUR'] > 0)]\n",
    "\n",
    "# sampled_X = ORDData[Xcols]\n",
    "sampled_X = ORDData1[Xcols]\n",
    "sampled_Y = ORDData1[Ycol] >= 15\n",
    "# create train and test sets\n",
    "train_x, test_x, train_y, test_y  =   train_test_split(sampled_X, sampled_Y, test_size=.3)\n",
    "\n",
    "\n",
    "# Create logistic regression model with L2 regularization\n",
    "clf_lr = linear_model.LogisticRegression(penalty='l2', class_weight='balanced')\n",
    "clf_lr.fit(train_x, train_y)\n",
    "\n",
    "# Predict output labels on test set\n",
    "pr = clf_lr.predict(test_x)\n",
    "\n",
    "# display evaluation metrics\n",
    "cm = confusion_matrix(test_y, pr)\n",
    "print(\"Confusion matrix\")\n",
    "print(pd.DataFrame(cm))\n",
    "report_lr = precision_recall_fscore_support(list(test_y), list(pr), average='binary')\n",
    "print \"\\nprecision = %0.2f, recall = %0.2f, F1 = %0.2f, accuracy = %0.2f\\n\" % \\\n",
    "        (report_lr[0], report_lr[1], report_lr[2], accuracy_score(list(test_y), list(pr)))"
   ]
  },
  {
   "cell_type": "markdown",
   "metadata": {},
   "source": [
    "#### Logistic Regression using FL_NUM with L1 Regularization"
   ]
  },
  {
   "cell_type": "code",
   "execution_count": 30,
   "metadata": {
    "collapsed": false
   },
   "outputs": [
    {
     "name": "stdout",
     "output_type": "stream",
     "text": [
      "Confusion matrix\n",
      "        0      1\n",
      "0  123996  50537\n",
      "1   35247  17079\n",
      "\n",
      "precision = 0.25, recall = 0.33, F1 = 0.28, accuracy = 0.62\n",
      "\n"
     ]
    }
   ],
   "source": [
    "Ycol = 'DEP_DELAY'\n",
    "Xcols = ['FL_NUM']\n",
    "ORDData = pd.read_csv(\"ORDJuly1989to2015.csv\")\n",
    "sampled_X = ORDData[Xcols]\n",
    "sampled_Y = ORDData[Ycol] >= 15\n",
    "# create train and test sets\n",
    "train_x, test_x, train_y, test_y  =   train_test_split(sampled_X, sampled_Y, test_size=.3)\n",
    "\n",
    "\n",
    "# Create logistic regression model with L2 regularization\n",
    "clf_lr = linear_model.LogisticRegression(penalty='l2', class_weight='balanced')\n",
    "clf_lr.fit(train_x, train_y)\n",
    "\n",
    "# Predict output labels on test set\n",
    "pr = clf_lr.predict(test_x)\n",
    "\n",
    "# display evaluation metrics\n",
    "cm = confusion_matrix(test_y, pr)\n",
    "print(\"Confusion matrix\")\n",
    "print(pd.DataFrame(cm))\n",
    "report_lr = precision_recall_fscore_support(list(test_y), list(pr), average='binary')\n",
    "print \"\\nprecision = %0.2f, recall = %0.2f, F1 = %0.2f, accuracy = %0.2f\\n\" % \\\n",
    "        (report_lr[0], report_lr[1], report_lr[2], accuracy_score(list(test_y), list(pr)))"
   ]
  },
  {
   "cell_type": "markdown",
   "metadata": {},
   "source": [
    "#### Logistic Regression using ARR_DELAY with L1 Regularization"
   ]
  },
  {
   "cell_type": "code",
   "execution_count": 45,
   "metadata": {
    "collapsed": false
   },
   "outputs": [
    {
     "name": "stdout",
     "output_type": "stream",
     "text": [
      "Confusion matrix\n",
      "       0      1\n",
      "0  59145   7441\n",
      "1  15001  36216\n",
      "\n",
      "precision = 0.83, recall = 0.71, F1 = 0.76, accuracy = 0.81\n",
      "\n"
     ]
    }
   ],
   "source": [
    "Ycol = 'DEP_DELAY'\n",
    "Xcols = ['ARR_DELAY']\n",
    "ORDData = pd.read_csv(\"ORDJuly1989to2015.csv\")\n",
    "ORDData1 = ORDData[(ORDData['ARR_DELAY'] >= 0)]\n",
    "\n",
    "# sampled_X = ORDData[Xcols]\n",
    "sampled_X = ORDData1[Xcols]\n",
    "sampled_Y = ORDData1[Ycol] >= 15\n",
    "# create train and test sets\n",
    "train_x, test_x, train_y, test_y  =   train_test_split(sampled_X, sampled_Y, test_size=.3)\n",
    "\n",
    "\n",
    "# Create logistic regression model with L2 regularization\n",
    "clf_lr = linear_model.LogisticRegression(penalty='l2', class_weight='balanced')\n",
    "clf_lr.fit(train_x, train_y)\n",
    "\n",
    "# Predict output labels on test set\n",
    "pr = clf_lr.predict(test_x)\n",
    "\n",
    "# display evaluation metrics\n",
    "cm = confusion_matrix(test_y, pr)\n",
    "print(\"Confusion matrix\")\n",
    "print(pd.DataFrame(cm))\n",
    "report_lr = precision_recall_fscore_support(list(test_y), list(pr), average='binary')\n",
    "print \"\\nprecision = %0.2f, recall = %0.2f, F1 = %0.2f, accuracy = %0.2f\\n\" % \\\n",
    "        (report_lr[0], report_lr[1], report_lr[2], accuracy_score(list(test_y), list(pr)))"
   ]
  },
  {
   "cell_type": "code",
   "execution_count": null,
   "metadata": {
    "collapsed": true
   },
   "outputs": [],
   "source": []
  },
  {
   "cell_type": "markdown",
   "metadata": {},
   "source": [
    "#### Logistic Regression using DEST with L1 Regularization"
   ]
  },
  {
   "cell_type": "code",
   "execution_count": 36,
   "metadata": {
    "collapsed": false
   },
   "outputs": [
    {
     "name": "stderr",
     "output_type": "stream",
     "text": [
      "d:\\Anaconda2\\lib\\site-packages\\ipykernel\\__main__.py:11: SettingWithCopyWarning: \n",
      "A value is trying to be set on a copy of a slice from a DataFrame.\n",
      "Try using .loc[row_indexer,col_indexer] = value instead\n",
      "\n",
      "See the caveats in the documentation: http://pandas.pydata.org/pandas-docs/stable/indexing.html#indexing-view-versus-copy\n",
      "d:\\Anaconda2\\lib\\site-packages\\ipykernel\\__main__.py:14: SettingWithCopyWarning: \n",
      "A value is trying to be set on a copy of a slice from a DataFrame.\n",
      "Try using .loc[row_indexer,col_indexer] = value instead\n",
      "\n",
      "See the caveats in the documentation: http://pandas.pydata.org/pandas-docs/stable/indexing.html#indexing-view-versus-copy\n"
     ]
    }
   ],
   "source": [
    "Ycol = 'DEP_DELAY'\n",
    "Xcols = ['DEST']\n",
    "ORDData = pd.read_csv(\"ORDJuly1989to2015.csv\")\n",
    "\n",
    "sampled_X = ORDData[Xcols]\n",
    "sampled_Y = ORDData[Ycol] >= 15\n",
    "\n",
    "# create train and test sets\n",
    "train_x1, test_x1, train_y, test_y  =   train_test_split(sampled_X, sampled_Y, test_size=.5)\n",
    "\n",
    "train_x1['DEST'] = pd.factorize(train_x1['DEST'])[0]\n",
    "trainX_scl = scaler.fit_transform(train_x1)\n",
    "\n",
    "test_x1['DEST'] = pd.factorize(test_x1['DEST'])[0]\n",
    "testX_scl = scaler.fit_transform(test_x1)"
   ]
  },
  {
   "cell_type": "code",
   "execution_count": 37,
   "metadata": {
    "collapsed": false
   },
   "outputs": [
    {
     "name": "stdout",
     "output_type": "stream",
     "text": [
      "Confusion matrix\n",
      "        0       1\n",
      "0  172443  118412\n",
      "1   49636   37607\n",
      "\n",
      "precision = 0.24, recall = 0.43, F1 = 0.31, accuracy = 0.56\n",
      "\n"
     ]
    }
   ],
   "source": [
    "# Create logistic regression model with L2 regularization\n",
    "clf_lr = linear_model.LogisticRegression(penalty='l2', class_weight='balanced')\n",
    "clf_lr.fit(trainX_scl, train_y)\n",
    "\n",
    "# Predict output labels on test set\n",
    "pr = clf_lr.predict(testX_scl)\n",
    "\n",
    "# display evaluation metrics\n",
    "cm = confusion_matrix(test_y, pr)\n",
    "print(\"Confusion matrix\")\n",
    "print(pd.DataFrame(cm))\n",
    "report_lr = precision_recall_fscore_support(list(test_y), list(pr), average='binary')\n",
    "print \"\\nprecision = %0.2f, recall = %0.2f, F1 = %0.2f, accuracy = %0.2f\\n\" % \\\n",
    "        (report_lr[0], report_lr[1], report_lr[2], accuracy_score(list(test_y), list(pr)))"
   ]
  },
  {
   "cell_type": "markdown",
   "metadata": {
    "collapsed": true
   },
   "source": [
    "#### Logistic Regression using CARRIER with L1 Regularization"
   ]
  },
  {
   "cell_type": "code",
   "execution_count": 39,
   "metadata": {
    "collapsed": false
   },
   "outputs": [
    {
     "name": "stderr",
     "output_type": "stream",
     "text": [
      "d:\\Anaconda2\\lib\\site-packages\\ipykernel\\__main__.py:11: SettingWithCopyWarning: \n",
      "A value is trying to be set on a copy of a slice from a DataFrame.\n",
      "Try using .loc[row_indexer,col_indexer] = value instead\n",
      "\n",
      "See the caveats in the documentation: http://pandas.pydata.org/pandas-docs/stable/indexing.html#indexing-view-versus-copy\n",
      "d:\\Anaconda2\\lib\\site-packages\\ipykernel\\__main__.py:14: SettingWithCopyWarning: \n",
      "A value is trying to be set on a copy of a slice from a DataFrame.\n",
      "Try using .loc[row_indexer,col_indexer] = value instead\n",
      "\n",
      "See the caveats in the documentation: http://pandas.pydata.org/pandas-docs/stable/indexing.html#indexing-view-versus-copy\n"
     ]
    },
    {
     "name": "stdout",
     "output_type": "stream",
     "text": [
      "Confusion matrix\n",
      "        0       1\n",
      "0  162696  128263\n",
      "1   50552   36587\n",
      "\n",
      "precision = 0.22, recall = 0.42, F1 = 0.29, accuracy = 0.53\n",
      "\n"
     ]
    }
   ],
   "source": [
    "Ycol = 'DEP_DELAY'\n",
    "Xcols = ['CARRIER']\n",
    "ORDData = pd.read_csv(\"ORDJuly1989to2015.csv\")\n",
    "\n",
    "sampled_X = ORDData[Xcols]\n",
    "sampled_Y = ORDData[Ycol] >= 15\n",
    "\n",
    "# create train and test sets\n",
    "train_x1, test_x1, train_y, test_y  =   train_test_split(sampled_X, sampled_Y, test_size=.5)\n",
    "\n",
    "train_x1['CARRIER'] = pd.factorize(train_x1['CARRIER'])[0]\n",
    "trainX_scl = scaler.fit_transform(train_x1)\n",
    "\n",
    "test_x1['CARRIER'] = pd.factorize(test_x1['CARRIER'])[0]\n",
    "testX_scl = scaler.fit_transform(test_x1)\n",
    "\n",
    "# Create logistic regression model with L2 regularization\n",
    "clf_lr = linear_model.LogisticRegression(penalty='l2', class_weight='balanced')\n",
    "clf_lr.fit(trainX_scl, train_y)\n",
    "\n",
    "# Predict output labels on test set\n",
    "pr = clf_lr.predict(testX_scl)\n",
    "\n",
    "# display evaluation metrics\n",
    "cm = confusion_matrix(test_y, pr)\n",
    "print(\"Confusion matrix\")\n",
    "print(pd.DataFrame(cm))\n",
    "report_lr = precision_recall_fscore_support(list(test_y), list(pr), average='binary')\n",
    "print \"\\nprecision = %0.2f, recall = %0.2f, F1 = %0.2f, accuracy = %0.2f\\n\" % \\\n",
    "        (report_lr[0], report_lr[1], report_lr[2], accuracy_score(list(test_y), list(pr)))"
   ]
  },
  {
   "cell_type": "code",
   "execution_count": null,
   "metadata": {
    "collapsed": true
   },
   "outputs": [],
   "source": []
  },
  {
   "cell_type": "code",
   "execution_count": null,
   "metadata": {
    "collapsed": true
   },
   "outputs": [],
   "source": []
  }
 ],
 "metadata": {
  "kernelspec": {
   "display_name": "Python 2",
   "language": "python",
   "name": "python2"
  },
  "language_info": {
   "codemirror_mode": {
    "name": "ipython",
    "version": 2
   },
   "file_extension": ".py",
   "mimetype": "text/x-python",
   "name": "python",
   "nbconvert_exporter": "python",
   "pygments_lexer": "ipython2",
   "version": "2.7.11"
  }
 },
 "nbformat": 4,
 "nbformat_minor": 0
}
