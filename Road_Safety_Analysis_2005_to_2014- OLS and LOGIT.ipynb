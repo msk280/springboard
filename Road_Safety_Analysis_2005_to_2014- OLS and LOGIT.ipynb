{
 "cells": [
  {
   "cell_type": "markdown",
   "metadata": {},
   "source": [
    "<h1 id=\"Road Safety Data Analysis\"><span style=\"color: #ff0000;\"> Accident Data Analysis (Dept. for Transport - United Kingdom) 2005-2014</span></h1>"
   ]
  },
  {
   "cell_type": "markdown",
   "metadata": {},
   "source": [
    "<h2 style=\"text-align: left;\">Initialize libraries, get data sets, consolidate and cleanse.</h2>"
   ]
  },
  {
   "cell_type": "code",
   "execution_count": 1,
   "metadata": {
    "collapsed": false
   },
   "outputs": [],
   "source": [
    "# Importing libraries and the data set\n",
    "from pandas import Series, DataFrame\n",
    "import pandas as pd\n",
    "import glob\n",
    "import numpy as np\n",
    "import os\n",
    "import matplotlib.pylab as plt\n",
    "%matplotlib inline \n",
    "plt.rcParams['figure.figsize'] = 12, 4  # that's default image size for this interactive session\n",
    "import scipy\n",
    "from scipy import stats\n",
    "from sklearn.cross_validation import train_test_split\n",
    "from sklearn import linear_model\n",
    "from sklearn.metrics import confusion_matrix,  precision_recall_fscore_support, accuracy_score\n",
    "from sklearn.preprocessing import Binarizer\n",
    "from sklearn.ensemble import RandomForestClassifier\n",
    "from sklearn.preprocessing import StandardScaler\n",
    "from sklearn import preprocessing\n",
    "import statsmodels.api as sm\n",
    "from sklearn.preprocessing import StandardScaler, OneHotEncoder\n",
    "scaler = StandardScaler()\n",
    "from sklearn.metrics import roc_curve, auc"
   ]
  },
  {
   "cell_type": "markdown",
   "metadata": {
    "collapsed": true
   },
   "source": [
    "## Perform Logistic Regression using StatsModels"
   ]
  },
  {
   "cell_type": "code",
   "execution_count": 3,
   "metadata": {
    "collapsed": false,
    "scrolled": true
   },
   "outputs": [
    {
     "name": "stdout",
     "output_type": "stream",
     "text": [
      "Optimization terminated successfully.\n",
      "         Current function value: 0.064556\n",
      "         Iterations 9\n",
      "                           Logit Regression Results                           \n",
      "==============================================================================\n",
      "Dep. Variable:              ACC_FATAL   No. Observations:              1640597\n",
      "Model:                          Logit   Df Residuals:                  1640584\n",
      "Method:                           MLE   Df Model:                           12\n",
      "Date:                Sun, 11 Dec 2016   Pseudo R-squ.:                 0.07134\n",
      "Time:                        18:02:56   Log-Likelihood:            -1.0591e+05\n",
      "converged:                       True   LL-Null:                   -1.1405e+05\n",
      "                                        LLR p-value:                     0.000\n",
      "========================================================================================\n",
      "                           coef    std err          z      P>|z|      [95.0% Conf. Int.]\n",
      "----------------------------------------------------------------------------------------\n",
      "intercept               -3.1182      0.612     -5.094      0.000        -4.318    -1.918\n",
      "Number_of_Vehicles      -0.2187      0.010    -22.111      0.000        -0.238    -0.199\n",
      "Number_of_Casualties     0.3193      0.005     60.426      0.000         0.309     0.330\n",
      "Day_of_Week             -0.0013      0.004     -0.380      0.704        -0.008     0.006\n",
      "Light_Conditions         0.1458      0.003     42.727      0.000         0.139     0.152\n",
      "Weather_Conditions      -0.0808      0.005    -16.329      0.000        -0.090    -0.071\n",
      "Urban_or_Rural_Area      0.3778      0.021     17.655      0.000         0.336     0.420\n",
      "Speed_limit_20          -2.6164      0.619     -4.228      0.000        -3.829    -1.404\n",
      "Speed_limit_30          -2.5370      0.611     -4.150      0.000        -3.735    -1.339\n",
      "Speed_limit_40          -1.9265      0.612     -3.150      0.002        -3.125    -0.728\n",
      "Speed_limit_50          -1.6528      0.612     -2.701      0.007        -2.852    -0.453\n",
      "Speed_limit_60          -1.4479      0.611     -2.368      0.018        -2.646    -0.250\n",
      "Speed_limit_70          -1.6748      0.612     -2.738      0.006        -2.874    -0.476\n",
      "========================================================================================\n",
      "Area under the ROC curve : 0.740256\n"
     ]
    }
   ],
   "source": [
    "#Reading the data from 2005 - 2014 Accident Data\n",
    "df = pd.read_csv(\"Accidents2005to2014.csv\")\n",
    "df['ACC_FATAL'] = np.where(df.Accident_Severity == 1, 1 , 0)\n",
    "\n",
    "#df.head()\n",
    "\n",
    "#drop unnecesary columns\n",
    "df.drop(['Unnamed: 0', 'Location_Easting_OSGR', 'Location_Northing_OSGR', 'Longitude', 'Latitude'], axis=1, inplace=True)\n",
    "df.drop(['Date', 'Time', 'LSOA_of_Accident_Location'], axis=1, inplace=True)\n",
    "\n",
    "df.columns = ['﻿Accident_Index','Accident_Severity','Number_of_Vehicles','Number_of_Casualties','Day_of_Week',\n",
    "              'Speed_limit','Light_Conditions','Weather_Conditions','Urban_or_Rural_Area','ACC_FATAL']\n",
    "\n",
    "# making speed limit a dummy column\n",
    "dummy_ranks = pd.get_dummies(df['Speed_limit'], prefix='Speed_limit')\n",
    "\n",
    "# create a clean data frame for the regression\n",
    "cols_to_keep = ['Day_of_Week', 'Speed_limit', 'Light_Conditions', \n",
    "                'Weather_Conditions', 'Urban_or_Rural_Area','Number_of_Vehicles', 'Number_of_Casualties','ACC_FATAL']\n",
    "data = df[cols_to_keep].join(dummy_ranks.ix[:, 'Speed_limit_2':])\n",
    "\n",
    "# manually add the intercept to gaurantee that the residuals have a mean of zero\n",
    "data['intercept'] = 1\n",
    "\n",
    "train_cols = data[['intercept','Number_of_Vehicles','Number_of_Casualties','Day_of_Week','Light_Conditions',\n",
    "                   'Weather_Conditions', 'Urban_or_Rural_Area',\n",
    "                   'Speed_limit_20' ,'Speed_limit_30','Speed_limit_40', 'Speed_limit_50', \n",
    "                   'Speed_limit_60', 'Speed_limit_70' ]]\n",
    "#train_cols.head()\n",
    "\n",
    "test_cols = data['ACC_FATAL']\n",
    "#test_cols.head()\n",
    "\n",
    "\n",
    "result = sm.Logit(test_cols, train_cols).fit()\n",
    "print result.summary()\n",
    "\n",
    "# Add prediction to dataframe\n",
    "data['pred'] = result.predict(train_cols)\n",
    "\n",
    "fpr, tpr, thresholds =roc_curve(data['ACC_FATAL'], data['pred'])\n",
    "roc_auc = auc(fpr, tpr)\n",
    "print(\"Area under the ROC curve : %f\" % roc_auc)\n",
    "\n"
   ]
  },
  {
   "cell_type": "markdown",
   "metadata": {},
   "source": [
    "## Perform OLS without Categorical Variables"
   ]
  },
  {
   "cell_type": "code",
   "execution_count": 8,
   "metadata": {
    "collapsed": false
   },
   "outputs": [],
   "source": [
    "mod = smf.ols(formula='ACC_FATAL ~ Number_of_Vehicles + Number_of_Casualties + Day_of_Week + Light_Conditions + Weather_Conditions + Urban_or_Rural_Area + Speed_limit', data=df)\n",
    "res = mod.fit()"
   ]
  },
  {
   "cell_type": "code",
   "execution_count": 9,
   "metadata": {
    "collapsed": false,
    "scrolled": true
   },
   "outputs": [
    {
     "name": "stdout",
     "output_type": "stream",
     "text": [
      "                            OLS Regression Results                            \n",
      "==============================================================================\n",
      "Dep. Variable:              ACC_FATAL   R-squared:                       0.013\n",
      "Model:                            OLS   Adj. R-squared:                  0.013\n",
      "Method:                 Least Squares   F-statistic:                     3134.\n",
      "Date:                Sun, 11 Dec 2016   Prob (F-statistic):               0.00\n",
      "Time:                        17:46:47   Log-Likelihood:             1.2541e+06\n",
      "No. Observations:             1640597   AIC:                        -2.508e+06\n",
      "Df Residuals:                 1640589   BIC:                        -2.508e+06\n",
      "Df Model:                           7                                         \n",
      "Covariance Type:            nonrobust                                         \n",
      "========================================================================================\n",
      "                           coef    std err          t      P>|t|      [95.0% Conf. Int.]\n",
      "----------------------------------------------------------------------------------------\n",
      "Intercept               -0.0197      0.000    -46.796      0.000        -0.021    -0.019\n",
      "Number_of_Vehicles      -0.0042      0.000    -33.308      0.000        -0.004    -0.004\n",
      "Number_of_Casualties     0.0096      0.000     87.077      0.000         0.009     0.010\n",
      "Day_of_Week          -2.389e-05   4.57e-05     -0.523      0.601        -0.000  6.57e-05\n",
      "Light_Conditions         0.0027   5.43e-05     48.953      0.000         0.003     0.003\n",
      "Weather_Conditions      -0.0009   5.36e-05    -17.091      0.000        -0.001    -0.001\n",
      "Urban_or_Rural_Area      0.0059      0.000     23.372      0.000         0.005     0.006\n",
      "Speed_limit              0.0004   8.58e-06     47.377      0.000         0.000     0.000\n",
      "==============================================================================\n",
      "Omnibus:                  2262619.482   Durbin-Watson:                   1.867\n",
      "Prob(Omnibus):                  0.000   Jarque-Bera (JB):        354059426.665\n",
      "Skew:                           8.421   Prob(JB):                         0.00\n",
      "Kurtosis:                      72.970   Cond. No.                         207.\n",
      "==============================================================================\n",
      "\n",
      "Warnings:\n",
      "[1] Standard Errors assume that the covariance matrix of the errors is correctly specified.\n"
     ]
    }
   ],
   "source": [
    "print res.summary()"
   ]
  },
  {
   "cell_type": "markdown",
   "metadata": {},
   "source": [
    "## Perform OLS Categorical Variables"
   ]
  },
  {
   "cell_type": "code",
   "execution_count": 13,
   "metadata": {
    "collapsed": false
   },
   "outputs": [],
   "source": [
    "mod = smf.ols(formula='ACC_FATAL ~ Number_of_Vehicles + Number_of_Casualties + Day_of_Week + C(Light_Conditions) + C(Weather_Conditions) + C(Urban_or_Rural_Area) + Speed_limit', data=df)\n",
    "res = mod.fit()"
   ]
  },
  {
   "cell_type": "code",
   "execution_count": 12,
   "metadata": {
    "collapsed": false
   },
   "outputs": [
    {
     "name": "stdout",
     "output_type": "stream",
     "text": [
      "                            OLS Regression Results                            \n",
      "==============================================================================\n",
      "Dep. Variable:              ACC_FATAL   R-squared:                       0.014\n",
      "Model:                            OLS   Adj. R-squared:                  0.014\n",
      "Method:                 Least Squares   F-statistic:                     957.2\n",
      "Date:                Sun, 11 Dec 2016   Prob (F-statistic):               0.00\n",
      "Time:                        17:49:31   Log-Likelihood:             1.2550e+06\n",
      "No. Observations:             1640597   AIC:                        -2.510e+06\n",
      "Df Residuals:                 1640571   BIC:                        -2.510e+06\n",
      "Df Model:                          25                                         \n",
      "Covariance Type:            nonrobust                                         \n",
      "===============================================================================================\n",
      "                                  coef    std err          t      P>|t|      [95.0% Conf. Int.]\n",
      "-----------------------------------------------------------------------------------------------\n",
      "Intercept                       0.1680      0.029      5.849      0.000         0.112     0.224\n",
      "C(Light_Conditions)[T.4]        0.0066      0.000     28.912      0.000         0.006     0.007\n",
      "C(Light_Conditions)[T.5]        0.0095      0.001      7.238      0.000         0.007     0.012\n",
      "C(Light_Conditions)[T.6]        0.0203      0.000     49.248      0.000         0.020     0.021\n",
      "C(Light_Conditions)[T.7]        0.0028      0.001      3.224      0.001         0.001     0.005\n",
      "C(Weather_Conditions)[T.1]     -0.0020      0.009     -0.221      0.825        -0.019     0.015\n",
      "C(Weather_Conditions)[T.2]     -0.0077      0.009     -0.870      0.384        -0.025     0.010\n",
      "C(Weather_Conditions)[T.3]     -0.0130      0.009     -1.453      0.146        -0.030     0.005\n",
      "C(Weather_Conditions)[T.4]     -0.0006      0.009     -0.063      0.950        -0.018     0.017\n",
      "C(Weather_Conditions)[T.5]     -0.0080      0.009     -0.903      0.367        -0.025     0.009\n",
      "C(Weather_Conditions)[T.6]     -0.0198      0.009     -2.155      0.031        -0.038    -0.002\n",
      "C(Weather_Conditions)[T.7]     -0.0051      0.009     -0.569      0.569        -0.023     0.012\n",
      "C(Weather_Conditions)[T.8]     -0.0103      0.009     -1.160      0.246        -0.028     0.007\n",
      "C(Weather_Conditions)[T.9]     -0.0043      0.009     -0.485      0.627        -0.022     0.013\n",
      "C(Urban_or_Rural_Area)[T.2]     0.0038      0.000     14.653      0.000         0.003     0.004\n",
      "C(Urban_or_Rural_Area)[T.3]    -0.0144      0.009     -1.526      0.127        -0.033     0.004\n",
      "C(Speed_limit)[T.15]           -0.1738      0.039     -4.431      0.000        -0.251    -0.097\n",
      "C(Speed_limit)[T.20]           -0.1661      0.027     -6.079      0.000        -0.220    -0.113\n",
      "C(Speed_limit)[T.30]           -0.1658      0.027     -6.071      0.000        -0.219    -0.112\n",
      "C(Speed_limit)[T.40]           -0.1604      0.027     -5.873      0.000        -0.214    -0.107\n",
      "C(Speed_limit)[T.50]           -0.1553      0.027     -5.686      0.000        -0.209    -0.102\n",
      "C(Speed_limit)[T.60]           -0.1491      0.027     -5.458      0.000        -0.203    -0.096\n",
      "C(Speed_limit)[T.70]           -0.1553      0.027     -5.687      0.000        -0.209    -0.102\n",
      "Number_of_Vehicles             -0.0038      0.000    -29.683      0.000        -0.004    -0.004\n",
      "Number_of_Casualties            0.0096      0.000     86.391      0.000         0.009     0.010\n",
      "Day_of_Week                 -2.545e-05   4.57e-05     -0.557      0.578        -0.000  6.41e-05\n",
      "==============================================================================\n",
      "Omnibus:                  2260411.555   Durbin-Watson:                   1.867\n",
      "Prob(Omnibus):                  0.000   Jarque-Bera (JB):        352565893.912\n",
      "Skew:                           8.406   Prob(JB):                         0.00\n",
      "Kurtosis:                      72.821   Cond. No.                     4.63e+03\n",
      "==============================================================================\n",
      "\n",
      "Warnings:\n",
      "[1] Standard Errors assume that the covariance matrix of the errors is correctly specified.\n",
      "[2] The condition number is large, 4.63e+03. This might indicate that there are\n",
      "strong multicollinearity or other numerical problems.\n"
     ]
    }
   ],
   "source": [
    "print res.summary()"
   ]
  },
  {
   "cell_type": "code",
   "execution_count": null,
   "metadata": {
    "collapsed": true
   },
   "outputs": [],
   "source": []
  },
  {
   "cell_type": "code",
   "execution_count": null,
   "metadata": {
    "collapsed": true
   },
   "outputs": [],
   "source": []
  },
  {
   "cell_type": "code",
   "execution_count": null,
   "metadata": {
    "collapsed": true
   },
   "outputs": [],
   "source": []
  },
  {
   "cell_type": "code",
   "execution_count": null,
   "metadata": {
    "collapsed": true
   },
   "outputs": [],
   "source": []
  },
  {
   "cell_type": "code",
   "execution_count": null,
   "metadata": {
    "collapsed": true
   },
   "outputs": [],
   "source": []
  }
 ],
 "metadata": {
  "kernelspec": {
   "display_name": "Python 2",
   "language": "python",
   "name": "python2"
  },
  "language_info": {
   "codemirror_mode": {
    "name": "ipython",
    "version": 2
   },
   "file_extension": ".py",
   "mimetype": "text/x-python",
   "name": "python",
   "nbconvert_exporter": "python",
   "pygments_lexer": "ipython2",
   "version": "2.7.11"
  }
 },
 "nbformat": 4,
 "nbformat_minor": 0
}
