{
 "cells": [
  {
   "cell_type": "markdown",
   "metadata": {},
   "source": [
    "<h1 id=\"Airline Delays Prediction\"><span style=\"color: #ff0000;\">Atlanta Airport - Airline Departure Delays Prediction</span></h1>"
   ]
  },
  {
   "cell_type": "markdown",
   "metadata": {},
   "source": [
    "<p>A flight delay is when an airline fflight takes off and/or lands later then it's scheduled time. According to US Congress Joint Economic Committee, domestic flight delays in the United States during 2007 was estimated at $25.7 billion. Flight delays for regional airlines were highest. Delays are worst in summer (June, July and August) and winter December, January and February), with passenger delays 56 percent higher than other 6 months.</p>\n",
    "<p>A flight departure is counted as \"delayed\" if it operated more than 15 minutes later the scheduled time shown in the carriers' Computerized Reservations Systems (CRS). &nbsp;Departure performance is based on departure from the gate.</p>\n",
    "<p>In this project, we analyze departure&nbsp;delay that happened in 2014 for Atlanta Airport and also use that to predict/compare delays in 2015. ( Atlanta was number One among Top 10 busiest Airport in 2014).&nbsp;</p>\n",
    "<p>Data Input and Data Exploration<br />1.Input historical flight data for analysis<br />2.Data exploration and data visualization</p>\n",
    "<p>Flight Delay Modeling<br />1. Use linear regression&nbsp;to predict flight departure delay and evaluate its predicting capabilities. <br />2. Also supplment the predictions with Random Forest to check if accuracy can be improved.</p>\n",
    "\n",
    "<p>Weather Data<br />Use daily temperatures (min/max), wind speed, snow conditions and precipitation to improve prediction accuracy.</p> "
   ]
  },
  {
   "cell_type": "markdown",
   "metadata": {},
   "source": [
    "<h2 style=\"color: #000000;\">Data Collection</h2>\n",
    "The data for analsys will be used from DATA.GOV - Department of Transportation.\n",
    "\n",
    "The Bureau of Transportation Statistics (BTS) was established as a statistical agency in 1992. The Intermodal Surface Transportation Efficiency Act (ISTEA) of 1991 created BTS to administer data collection, analysis, and reporting and to ensure the most cost-effective use of transportation-monitoring resources. BTS brings a greater degree of coordination, comparability, and quality standards to transportation data, and facilitates in the closing of important data gaps.\n",
    "\n",
    "http://www.transtats.bts.gov/DL_SelectFields.asp?Table_ID=236\n",
    "\n",
    "Data was downloaded and consolidated for 2014 and 2015. Each row in the data set has 23 variables. \n",
    "\n",
    "Weather data was downloaded (daily temperatures (min/max), wind speed, snow conditions and precipitation) for Atlanta in 2014/2015, from publicly available dataset here: http://www.ncdc.noaa.gov/cdo-web/datasets/"
   ]
  },
  {
   "cell_type": "markdown",
   "metadata": {},
   "source": [
    "<h2 id=\"firstHeading\" class=\"firstHeading\" lang=\"en\">List of the busiest airports in the United States (2014)</h2>\n",
    "<p>From Wikipedia, the free encyclopedia</p>\n",
    "<p>&nbsp;</p>\n",
    "<table width=\"618\">\n",
    "<tbody>\n",
    "<tr>\n",
    "<td width=\"91\">Rank_2014</td>\n",
    "<td width=\"309\">Airport_Name</td>\n",
    "<td width=\"74\">CODE</td>\n",
    "<td width=\"144\">City</td>\n",
    "</tr>\n",
    "<tr>\n",
    "<td width=\"91\">1</td>\n",
    "<td>Hartsfield&ndash;Jackson Atlanta International Airport</td>\n",
    "<td width=\"74\">ATL</td>\n",
    "<td>Atlanta</td>\n",
    "</tr>\n",
    "<tr>\n",
    "<td width=\"91\">2</td>\n",
    "<td>Los Angeles International Airport</td>\n",
    "<td width=\"74\">LAX</td>\n",
    "<td>Los Angeles</td>\n",
    "</tr>\n",
    "<tr>\n",
    "<td width=\"91\">3</td>\n",
    "<td>O'Hare International Airport</td>\n",
    "<td width=\"74\">ORD</td>\n",
    "<td>Chicago</td>\n",
    "</tr>\n",
    "<tr>\n",
    "<td width=\"91\">4</td>\n",
    "<td>Dallas/Fort Worth International Airport</td>\n",
    "<td width=\"74\">DFW</td>\n",
    "<td width=\"144\">Dallas/Fort Worth</td>\n",
    "</tr>\n",
    "<tr>\n",
    "<td width=\"91\">5</td>\n",
    "<td>John F. Kennedy International Airport</td>\n",
    "<td width=\"74\">JFK</td>\n",
    "<td>New York</td>\n",
    "</tr>\n",
    "<tr>\n",
    "<td width=\"91\">6</td>\n",
    "<td>Denver International Airport</td>\n",
    "<td width=\"74\">DEN</td>\n",
    "<td>Denver</td>\n",
    "</tr>\n",
    "<tr>\n",
    "<td width=\"91\">7</td>\n",
    "<td>San Francisco International Airport</td>\n",
    "<td width=\"74\">SFO</td>\n",
    "<td>San Francisco</td>\n",
    "</tr>\n",
    "<tr>\n",
    "<td width=\"91\">8</td>\n",
    "<td>Charlotte Douglas International Airport</td>\n",
    "<td width=\"74\">CLT</td>\n",
    "<td>Charlotte</td>\n",
    "</tr>\n",
    "<tr>\n",
    "<td width=\"91\">9</td>\n",
    "<td>McCarran International Airport</td>\n",
    "<td width=\"74\">LAS</td>\n",
    "<td>Las Vegas</td>\n",
    "</tr>\n",
    "<tr>\n",
    "<td width=\"91\">10</td>\n",
    "<td>Phoenix Sky Harbor International Airport</td>\n",
    "<td width=\"74\">PHX</td>\n",
    "<td>Phoenix</td>\n",
    "</tr>\n",
    "</tbody>\n",
    "</table>"
   ]
  },
  {
   "cell_type": "markdown",
   "metadata": {},
   "source": [
    "<h2>Data Dictionary&nbsp;</h2>\n",
    "<p>Flight Delay Data</p>\n",
    "<table style=\"height: 567px; border-color: blue;\" width=\"587\">\n",
    "<tbody>\n",
    "<tr>\n",
    "<td style=\"width: 2px;\">\n",
    "<h4>Column Name</h4>\n",
    "</td>\n",
    "<td style=\"border-color: blue;\">\n",
    "<h4>Column Definition</h4>\n",
    "</td>\n",
    "</tr>\n",
    "<tr>\n",
    "<td style=\"width: 2px;\">&nbsp;YEAR&nbsp;</td>\n",
    "<td style=\"border-color: blue;\">&nbsp;Year</td>\n",
    "</tr>\n",
    "<tr>\n",
    "<td>&nbsp;QUARTER</td>\n",
    "<td>Quarter (1-4)</td>\n",
    "</tr>\n",
    "<tr>\n",
    "<td>&nbsp;MONTH&nbsp;</td>\n",
    "<td>&nbsp;Month</td>\n",
    "</tr>\n",
    "<tr>\n",
    "<td>&nbsp;DAY_OF_MONTH</td>\n",
    "<td>&nbsp;Day of Month</td>\n",
    "</tr>\n",
    "<tr>\n",
    "<td>&nbsp;DAY_OF_WEEK</td>\n",
    "<td>&nbsp;Day of Week 1-Mon 2-Tue 3-Wed 4-Thu 5-Fri 6-Sat 7-Sun</td>\n",
    "</tr>\n",
    "<tr>\n",
    "<td>&nbsp;FL_DATE</td>\n",
    "<td>&nbsp;Flight Date (yyyymmdd)</td>\n",
    "</tr>\n",
    "<tr>\n",
    "<td>&nbsp;CARRIER</td>\n",
    "<td>&nbsp;Code assigned by IATA and commonly used to identify a carrier. As the same code may have&nbsp;been assigned to different carriers over time, the code is not always unique.&nbsp;</td>\n",
    "</tr>\n",
    "<tr>\n",
    "<td>&nbsp;FL_NUM&nbsp;</td>\n",
    "<td>&nbsp;Flight Number</td>\n",
    "</tr>\n",
    "<tr>\n",
    "<td>&nbsp;ORIGIN</td>\n",
    "<td>&nbsp;Origin Airport</td>\n",
    "</tr>\n",
    "<tr>\n",
    "<td>&nbsp;ORIGIN_CITY_NAME</td>\n",
    "<td>&nbsp;Origin Airport, City Name</td>\n",
    "</tr>\n",
    "<tr>\n",
    "<td>&nbsp;ORIGIN_STATE_ABR</td>\n",
    "<td>&nbsp;Origin Airport, State Code</td>\n",
    "</tr>\n",
    "<tr>\n",
    "<td>&nbsp;DEST &nbsp;</td>\n",
    "<td>&nbsp;Destination Airport</td>\n",
    "</tr>\n",
    "<tr>\n",
    "<td>&nbsp;DEST_CITY_NAME&nbsp;</td>\n",
    "<td>&nbsp;Destination Airport, City Name</td>\n",
    "</tr>\n",
    "<tr>\n",
    "<td>&nbsp;DEST_STATE_ABR&nbsp;</td>\n",
    "<td>&nbsp;Destination Airport, State Code</td>\n",
    "</tr>\n",
    "<tr>\n",
    "<td>&nbsp;DEP_TIME</td>\n",
    "<td>&nbsp;Actual Departure Time (local time: hhmm)</td>\n",
    "</tr>\n",
    "<tr>\n",
    "<td>&nbsp;DEP_DELAY</td>\n",
    "<td>&nbsp;Difference in minutes between scheduled and actual departure time. Early departures show&nbsp;negative numbers.</td>\n",
    "</tr>\n",
    "<tr>\n",
    "<td>ARR_TIME</td>\n",
    "<td>Actual Arrival Time (local time: hhmm)</td>\n",
    "</tr>\n",
    "<tr>\n",
    "<td>ARR_DELAY</td>\n",
    "<td>Difference in minutes between scheduled and actual arrival time.&nbsp;Early arrivals show negative numbers.</td>\n",
    "</tr>\n",
    "<tr>\n",
    "<td>CARRIER_DELAY</td>\n",
    "<td>Carrier Delay, in Minutes</td>\n",
    "</tr>\n",
    "<tr>\n",
    "<td>WEATHER_DELAY</td>\n",
    "<td>Weather Delay, in Minutes</td>\n",
    "</tr>\n",
    "<tr>\n",
    "<td>NAS_DELAY</td>\n",
    "<td>National Air System Delay, in Minutes</td>\n",
    "</tr>\n",
    "<tr>\n",
    "<td>SECURITY_DELAY&nbsp;</td>\n",
    "<td>Security Delay, in Minutes</td>\n",
    "</tr>\n",
    "<tr>\n",
    "<td>LATE_AIRCRAFT_DELAY</td>\n",
    "<td>Late Aircraft Delay, in Minutes</td>\n",
    "</tr>\n",
    "</tbody>\n",
    "</table>\n",
    "<p>&nbsp;</p>\n",
    "<p>&nbsp;</p>\n",
    "<p>Weather Data</p>\n",
    "<table style=\"height: 350px; border-color: blue;\" width=\"587\">\n",
    "<tbody>\n",
    "<tr>\n",
    "<td style=\"width: 2px;\">\n",
    "<h4>Column Name</h4>\n",
    "</td>\n",
    "<td style=\"border-color: blue;\">\n",
    "<h4>Column Definition</h4>\n",
    "</td>\n",
    "</tr>\n",
    "<tr>\n",
    "<td style=\"width: 2px;\">&nbsp;STATION</td>\n",
    "<td style=\"border-color: blue;\">&nbsp;Station Code</td>\n",
    "</tr>\n",
    "<tr>\n",
    "<td>&nbsp;DATE</td>\n",
    "<td>Date</td>\n",
    "</tr>\n",
    "<tr>\n",
    "<td>PRCP</td>\n",
    "<td>&nbsp;Percipitation</td>\n",
    "</tr>\n",
    "<tr>\n",
    "<td>TMAX</td>\n",
    "<td>&nbsp;Temperature - Maximim</td>\n",
    "</tr>\n",
    "<tr>\n",
    "<td>TMIN</td>\n",
    "<td>&nbsp;Temperature - Minimum</td>\n",
    "</tr>\n",
    "<tr>\n",
    "<td>&nbsp;AWND</td>\n",
    "<td>&nbsp;Wind</td>\n",
    "</tr>\n",
    "<tr>\n",
    "<td>&nbsp;FL_DATE</td>\n",
    "<td>&nbsp;Computed Column - Date format to match Flight Delay Data</td>\n",
    "</tr>\n",
    "</tbody>\n",
    "</table>\n",
    "<p>&nbsp;</p>\n"
   ]
  },
  {
   "cell_type": "markdown",
   "metadata": {},
   "source": [
    "<h2 style=\"text-align: left;\">Initialize libraries, get data sets, consolidate and cleanse.</h2>"
   ]
  },
  {
   "cell_type": "code",
   "execution_count": 29,
   "metadata": {
    "collapsed": false
   },
   "outputs": [],
   "source": [
    "# Importing libraries and the data set\n",
    "from pandas import Series, DataFrame\n",
    "import pandas as pd\n",
    "import glob\n",
    "import numpy as np\n",
    "import os\n",
    "import matplotlib.pylab as plt\n",
    "%matplotlib inline \n",
    "plt.rcParams['figure.figsize'] = 12, 4  # that's default image size for this interactive session\n",
    "import scipy\n",
    "from scipy import stats\n",
    "from sklearn.cross_validation import train_test_split\n",
    "from sklearn import linear_model\n",
    "from sklearn.metrics import confusion_matrix,  precision_recall_fscore_support, accuracy_score\n",
    "from sklearn.preprocessing import Binarizer\n",
    "from sklearn.ensemble import RandomForestClassifier\n",
    "from sklearn.preprocessing import StandardScaler\n",
    "from sklearn import preprocessing\n",
    "import statsmodels.api as sm\n",
    "from sklearn.preprocessing import StandardScaler, OneHotEncoder\n",
    "scaler = StandardScaler()"
   ]
  },
  {
   "cell_type": "markdown",
   "metadata": {},
   "source": [
    "We will start exploring 2014 dataset."
   ]
  },
  {
   "cell_type": "code",
   "execution_count": 5,
   "metadata": {
    "collapsed": false
   },
   "outputs": [
    {
     "data": {
      "text/plain": [
       "(5819811, 25)"
      ]
     },
     "execution_count": 5,
     "metadata": {},
     "output_type": "execute_result"
    }
   ],
   "source": [
    "AirlineData2014 = pd.read_csv(\"AirlineDelay2014.csv\")\n",
    "AirlineData2014.shape"
   ]
  },
  {
   "cell_type": "markdown",
   "metadata": {},
   "source": [
    "We observe about 5+M Flights and 25 variables in the dataset. We will now check the data for extreme outliers."
   ]
  },
  {
   "cell_type": "code",
   "execution_count": 41,
   "metadata": {
    "collapsed": false
   },
   "outputs": [
    {
     "data": {
      "text/plain": [
       "DELAY_RANGE\n",
       "(1, 100]        1994952\n",
       "(100, 150]        92156\n",
       "(150, 200]        39209\n",
       "(200, 250]        17653\n",
       "(250, 300]         8208\n",
       "(300, 400]         6267\n",
       "(400, 500]         1895\n",
       "(500, 600]          681\n",
       "(600, 700]          318\n",
       "(700, 800]          233\n",
       "(800, 900]          215\n",
       "(900, 1200]         247\n",
       "(1200, 1500]         80\n",
       "(1500, 2000]         31\n",
       "(2000, 2500]          2\n",
       "Name: DEP_DELAY, dtype: int64"
      ]
     },
     "execution_count": 41,
     "metadata": {},
     "output_type": "execute_result"
    }
   ],
   "source": [
    "AirlineData2014 = pd.read_csv(\"AirlineDelay2014.csv\")\n",
    "AirlineData2 = AirlineData2014\n",
    "AirlineData2['DELAY_RANGE'] = pd.cut(AirlineData2.DEP_DELAY, [1,100,150,200,250, 300, 400, 500,\n",
    "                                                              600, 700, 800, 900,1200,1500,2000,2500])\n",
    "AirlineData3 = AirlineData2.groupby('DELAY_RANGE')\n",
    "AirlineData3['DEP_DELAY'].count()"
   ]
  },
  {
   "cell_type": "code",
   "execution_count": 2,
   "metadata": {
    "collapsed": false
   },
   "outputs": [
    {
     "data": {
      "text/plain": [
       "DELAY_RANGE\n",
       "(1, 100]        1805872\n",
       "(100, 150]        85827\n",
       "(150, 200]        37168\n",
       "(200, 250]        17175\n",
       "(250, 300]         8225\n",
       "(300, 400]         6733\n",
       "(400, 500]         2269\n",
       "(500, 600]          887\n",
       "(600, 700]          429\n",
       "(700, 800]          297\n",
       "(800, 900]          244\n",
       "(900, 1200]         317\n",
       "(1200, 1500]         78\n",
       "(1500, 2000]         21\n",
       "(2000, 2500]          0\n",
       "Name: DEP_DELAY, dtype: int64"
      ]
     },
     "execution_count": 2,
     "metadata": {},
     "output_type": "execute_result"
    }
   ],
   "source": [
    "AirlineData2015 = pd.read_csv(\"AirlineDelay2015.csv\")\n",
    "AirlineData2 = AirlineData2015\n",
    "AirlineData2['DELAY_RANGE'] = pd.cut(AirlineData2.DEP_DELAY, [1,100,150,200,250, 300, 400, 500,\n",
    "                                                              600, 700, 800, 900,1200,1500,2000,2500])\n",
    "AirlineData3 = AirlineData2.groupby('DELAY_RANGE')\n",
    "AirlineData3['DEP_DELAY'].count()"
   ]
  },
  {
   "cell_type": "markdown",
   "metadata": {},
   "source": [
    "<p>Based on the above, we would like to remove all outliers above 100 minutes in 2014 & 2015 datasets for the purpose of our analysis. In additon, we need to eliminate delays less than 15 minutes (refer definition of Departure Delay in the beginning). We will do this before building Prediction Models. &nbsp;</p>"
   ]
  },
  {
   "cell_type": "markdown",
   "metadata": {},
   "source": [
    "<h2>Exploratory Data Analysis</h2>\n",
    "<p>In statistics, exploratory data analysis (EDA) is an approach to analyzing data sets to summarize their main characteristics, often with vizual methods. A statistical model can be used or not, but primarily EDA is for seeing what the data can tell us beyond the formal modeling or hypothesis testing task.</p>\n",
    "<p>&nbsp;The pupose of this exercise is to visually analyze to answer the following questions:</p>\n",
    "<p>1. Distribution of departure delays across Months.</p>\n",
    "<p>2. Analyze departure delay across Hour of departure.</p>\n",
    "<p>3. Analyze departure delay across Day of Month.</p>\n",
    "<p>4. Analyze departure delay by Carrier.</p>\n",
    "<p>We will designate \"DEP_DELAY\" (scheduled departure delay in minutes). \n",
    "For analysis, we may have to create new variable \"DEP_DELAY_FLAG\" to indicate Delay or No Delay. \n",
    "\n",
    "For our analysis, we filter data for  Atlanta (ATL), which was the most busiest Airport in 2014. </p>"
   ]
  },
  {
   "cell_type": "code",
   "execution_count": 7,
   "metadata": {
    "collapsed": false
   },
   "outputs": [
    {
     "name": "stdout",
     "output_type": "stream",
     "text": [
      "Total Flights: (363968, 27)\n",
      "Flights Delayed: 72156\n"
     ]
    }
   ],
   "source": [
    "ATLData2014 = AirlineData2014[AirlineData2014['ORIGIN']=='ATL'].dropna(subset=['DEP_DELAY'])\n",
    "ATLData2014['DEP_DELAY_FLAG'] = ATLData2014['DEP_DELAY'].apply(lambda x:x>=15)\n",
    "ATLData2014['DEP_HOUR'] = ATLData2014['DEP_TIME']//100\n",
    "print \"Total Flights: \" + str(ATLData2014.shape)\n",
    "print \"Flights Delayed: \" + str(ATLData2014.DEP_DELAY_FLAG.sum())"
   ]
  },
  {
   "cell_type": "markdown",
   "metadata": {},
   "source": [
    "Our analysis show that out of 363K+ flights that departed from Atlanta in 2014, about 72K+ (19%) of the flights experienced some degree of departure delay."
   ]
  },
  {
   "cell_type": "code",
   "execution_count": 8,
   "metadata": {
    "collapsed": false,
    "scrolled": true
   },
   "outputs": [
    {
     "data": {
      "text/plain": [
       "<matplotlib.text.Text at 0x55d85f98>"
      ]
     },
     "execution_count": 8,
     "metadata": {},
     "output_type": "execute_result"
    },
    {
     "data": {
      "image/png": "[encoded data removed]",
      "text/plain": [
       "<matplotlib.figure.Figure at 0xb14fba8>"
      ]
     },
     "metadata": {},
     "output_type": "display_data"
    }
   ],
   "source": [
    "ATLData2014Grouped = ATLData2014[['DEP_DELAY_FLAG', 'MONTH']].groupby('MONTH').mean()\n",
    "ATLData2014Grouped.plot(kind='bar')\n",
    "plt.xlabel('Month')\n",
    "plt.title(' Departure Delay across Months in 2014 (Atlanta)')"
   ]
  },
  {
   "cell_type": "markdown",
   "metadata": {},
   "source": [
    "January and June seem to have the most delays (probably post Christmas/Winter in January. Long weekend travel as well as rain could be a factor in June.)"
   ]
  },
  {
   "cell_type": "code",
   "execution_count": 11,
   "metadata": {
    "collapsed": false
   },
   "outputs": [
    {
     "data": {
      "text/plain": [
       "<matplotlib.text.Text at 0x34541080>"
      ]
     },
     "execution_count": 11,
     "metadata": {},
     "output_type": "execute_result"
    },
    {
     "data": {
      "image/png": "[encoded data removed]",
      "text/plain": [
       "<matplotlib.figure.Figure at 0x4c82a518>"
      ]
     },
     "metadata": {},
     "output_type": "display_data"
    }
   ],
   "source": [
    "ATLData2014Grouped = ATLData2014[['DEP_DELAY_FLAG', 'DAY_OF_MONTH']].groupby('DAY_OF_MONTH').mean()\n",
    "ATLData2014Grouped.plot(kind='bar')\n",
    "plt.xlabel('Day of Month')\n",
    "plt.title(' Departure Delay across Day of Month in 2014 (Atlanta)')"
   ]
  },
  {
   "cell_type": "markdown",
   "metadata": {},
   "source": [
    "Begining days (probably first week) of Month seem to have more delays."
   ]
  },
  {
   "cell_type": "code",
   "execution_count": 10,
   "metadata": {
    "collapsed": false
   },
   "outputs": [
    {
     "data": {
      "text/plain": [
       "<matplotlib.text.Text at 0x48d92ef0>"
      ]
     },
     "execution_count": 10,
     "metadata": {},
     "output_type": "execute_result"
    },
    {
     "data": {
      "image/png": "[encoded data removed]",
      "text/plain": [
       "<matplotlib.figure.Figure at 0x24b362b0>"
      ]
     },
     "metadata": {},
     "output_type": "display_data"
    }
   ],
   "source": [
    "ATLData2014Grouped = ATLData2014[['DEP_DELAY_FLAG', 'DAY_OF_WEEK']].groupby('DAY_OF_WEEK').mean()\n",
    "ATLData2014Grouped.plot(kind='bar')\n",
    "plt.xlabel('Day of Week')\n",
    "plt.title(' Departure Delay across Day of Week in 2014 (Atlanta)')"
   ]
  },
  {
   "cell_type": "markdown",
   "metadata": {},
   "source": [
    "Monday, Wednesday and Thursday have more delays than other week days."
   ]
  },
  {
   "cell_type": "code",
   "execution_count": 28,
   "metadata": {
    "collapsed": false
   },
   "outputs": [
    {
     "data": {
      "text/plain": [
       "<matplotlib.text.Text at 0x65958ef0>"
      ]
     },
     "execution_count": 28,
     "metadata": {},
     "output_type": "execute_result"
    },
    {
     "data": {
      "image/png": "[encoded data removed]",
      "text/plain": [
       "<matplotlib.figure.Figure at 0x2d9fc898>"
      ]
     },
     "metadata": {},
     "output_type": "display_data"
    }
   ],
   "source": [
    "ATLData2014Grouped1 = ATLData2014[['DEP_DELAY_FLAG', 'DEP_HOUR']].groupby('DEP_HOUR').mean()\n",
    "ATLData2014Grouped1.plot(kind='bar')\n",
    "plt.xlabel('Hour')\n",
    "plt.title(' Departure Delay across Daily Hours in 2014 (Atlanta)')"
   ]
  },
  {
   "cell_type": "markdown",
   "metadata": {},
   "source": [
    "We observe a pattern here. Eary morning starts with little delays and progressively increases through the day and extends into midnight."
   ]
  },
  {
   "cell_type": "code",
   "execution_count": 29,
   "metadata": {
    "collapsed": false
   },
   "outputs": [
    {
     "name": "stderr",
     "output_type": "stream",
     "text": [
      "d:\\Anaconda2\\lib\\site-packages\\ipykernel\\__main__.py:2: FutureWarning: sort(columns=....) is deprecated, use sort_values(by=.....)\n",
      "  from ipykernel import kernelapp as app\n"
     ]
    },
    {
     "data": {
      "text/plain": [
       "<matplotlib.text.Text at 0x390d9320>"
      ]
     },
     "execution_count": 29,
     "metadata": {},
     "output_type": "execute_result"
    },
    {
     "data": {
      "image/png": "[encoded data removed]",
      "text/plain": [
       "<matplotlib.figure.Figure at 0x2e696358>"
      ]
     },
     "metadata": {},
     "output_type": "display_data"
    }
   ],
   "source": [
    "ATLData2014Grouped2 = ATLData2014[['DEP_DELAY_FLAG', 'CARRIER']].groupby('CARRIER').mean()\n",
    "ATLData2014Grouped3 = ATLData2014Grouped2.sort(['DEP_DELAY_FLAG'], ascending=False)\n",
    "ATLData2014Grouped3.plot(kind='bar')\n",
    "plt.xlabel('Carrier')\n",
    "plt.title(' Departure Delay grouped by Carrier (Atlanta)')"
   ]
  },
  {
   "cell_type": "markdown",
   "metadata": {
    "collapsed": true
   },
   "source": [
    "We observe that Southwest Airlines had the most departure delays while US Airlines had the least."
   ]
  },
  {
   "cell_type": "markdown",
   "metadata": {},
   "source": [
    "<h2 style=\"color: #000000;\">Building a Prediction Model</h2>\n",
    "<p>It's time to go beyond the exploratory analysis and build a model for prediction.</p>\n",
    "<p>The Departure Delay focuses on Atlanta Airport. We need to look at all the available attributes in the data set and pick the variables that are potential candidates for the model.</p>\n",
    "<p>After carefully checking the attributes, we pick the following:-</p>\n",
    "<p>1. Month  - Some months may have more delay, probably winter or even extreme summer or rain</p>\n",
    "<p>2. Day of month - not sure if it is really predictive, but will keep it</p>\n",
    "<p>3. Day of week - the differentiation is between weekday and weekend</p>\n",
    "<p>4. Departure Hour - we have already observed that later hours of day have more delays</p>\n",
    "<p>5. Carrier - We analysed and found that some carriers experience more delays compared to others</p>"
   ]
  },
  {
   "cell_type": "markdown",
   "metadata": {},
   "source": [
    "#### Preparing data - The data will be trimmed to contain only the required information for our analysis. Also Weather Data for 2014 and 2015 will be merged with respective Airline Delay Data."
   ]
  },
  {
   "cell_type": "code",
   "execution_count": 5,
   "metadata": {
    "collapsed": false
   },
   "outputs": [
    {
     "data": {
      "text/plain": [
       "FL_DATE         0\n",
       "MONTH           0\n",
       "DAY_OF_MONTH    0\n",
       "DAY_OF_WEEK     0\n",
       "CARRIER         0\n",
       "DEST            0\n",
       "DEP_HOUR        0\n",
       "DEP_DELAY       0\n",
       "dtype: int64"
      ]
     },
     "execution_count": 5,
     "metadata": {},
     "output_type": "execute_result"
    }
   ],
   "source": [
    "# Trimming the data set needed for this analysis\n",
    "Temp1 = pd.read_csv(\"AirlineDelay2014.csv\")\n",
    "Temp1['DEP_HOUR'] = Temp1['DEP_TIME']//100\n",
    "Temp2 = Temp1[Temp1['ORIGIN'].isin(['ATL'])]\n",
    "Temp3 = Temp2[(Temp2.DEP_DELAY >=0) & (Temp2.DEP_DELAY < 101 )]\n",
    "Temp4 = Temp3.loc[:,('FL_DATE', 'MONTH','DAY_OF_MONTH','DAY_OF_WEEK','CARRIER','DEST','DEP_HOUR','DEP_DELAY' )]\n",
    "Temp4.isnull().sum()"
   ]
  },
  {
   "cell_type": "code",
   "execution_count": 6,
   "metadata": {
    "collapsed": false
   },
   "outputs": [
    {
     "data": {
      "text/html": [
       "<div>\n",
       "<table border=\"1\" class=\"dataframe\">\n",
       "  <thead>\n",
       "    <tr style=\"text-align: right;\">\n",
       "      <th></th>\n",
       "      <th>STATION</th>\n",
       "      <th>DATE</th>\n",
       "      <th>PRCP</th>\n",
       "      <th>SNOW</th>\n",
       "      <th>TMAX</th>\n",
       "      <th>TMIN</th>\n",
       "      <th>AWND</th>\n",
       "      <th>FL_DATE</th>\n",
       "    </tr>\n",
       "  </thead>\n",
       "  <tbody>\n",
       "    <tr>\n",
       "      <th>0</th>\n",
       "      <td>GHCND:USW00013874</td>\n",
       "      <td>20140101</td>\n",
       "      <td>0.00</td>\n",
       "      <td>0.0</td>\n",
       "      <td>47</td>\n",
       "      <td>35</td>\n",
       "      <td>3.6</td>\n",
       "      <td>2014-01-01</td>\n",
       "    </tr>\n",
       "    <tr>\n",
       "      <th>1</th>\n",
       "      <td>GHCND:USW00013874</td>\n",
       "      <td>20140102</td>\n",
       "      <td>0.26</td>\n",
       "      <td>0.0</td>\n",
       "      <td>52</td>\n",
       "      <td>26</td>\n",
       "      <td>13.4</td>\n",
       "      <td>2014-01-02</td>\n",
       "    </tr>\n",
       "    <tr>\n",
       "      <th>2</th>\n",
       "      <td>GHCND:USW00013874</td>\n",
       "      <td>20140103</td>\n",
       "      <td>0.00</td>\n",
       "      <td>0.0</td>\n",
       "      <td>36</td>\n",
       "      <td>21</td>\n",
       "      <td>11.0</td>\n",
       "      <td>2014-01-03</td>\n",
       "    </tr>\n",
       "    <tr>\n",
       "      <th>3</th>\n",
       "      <td>GHCND:USW00013874</td>\n",
       "      <td>20140104</td>\n",
       "      <td>0.00</td>\n",
       "      <td>0.0</td>\n",
       "      <td>36</td>\n",
       "      <td>24</td>\n",
       "      <td>8.7</td>\n",
       "      <td>2014-01-04</td>\n",
       "    </tr>\n",
       "    <tr>\n",
       "      <th>4</th>\n",
       "      <td>GHCND:USW00013874</td>\n",
       "      <td>20140105</td>\n",
       "      <td>0.05</td>\n",
       "      <td>0.0</td>\n",
       "      <td>52</td>\n",
       "      <td>34</td>\n",
       "      <td>6.5</td>\n",
       "      <td>2014-01-05</td>\n",
       "    </tr>\n",
       "  </tbody>\n",
       "</table>\n",
       "</div>"
      ],
      "text/plain": [
       "             STATION      DATE  PRCP  SNOW  TMAX  TMIN  AWND     FL_DATE\n",
       "0  GHCND:USW00013874  20140101  0.00   0.0    47    35   3.6  2014-01-01\n",
       "1  GHCND:USW00013874  20140102  0.26   0.0    52    26  13.4  2014-01-02\n",
       "2  GHCND:USW00013874  20140103  0.00   0.0    36    21  11.0  2014-01-03\n",
       "3  GHCND:USW00013874  20140104  0.00   0.0    36    24   8.7  2014-01-04\n",
       "4  GHCND:USW00013874  20140105  0.05   0.0    52    34   6.5  2014-01-05"
      ]
     },
     "execution_count": 6,
     "metadata": {},
     "output_type": "execute_result"
    }
   ],
   "source": [
    "W2014 = pd.read_csv(\"AtlantaWeather2014.csv\")\n",
    "W2014.head()"
   ]
  },
  {
   "cell_type": "code",
   "execution_count": 7,
   "metadata": {
    "collapsed": true
   },
   "outputs": [],
   "source": [
    "W2014.drop(['STATION', 'DATE'], axis=1, inplace=True)\n",
    "Temp5 = pd.merge(Temp4,W2014, on='FL_DATE', how='inner')\n",
    "Temp5.to_csv('ATLData2014.csv') "
   ]
  },
  {
   "cell_type": "code",
   "execution_count": 13,
   "metadata": {
    "collapsed": false
   },
   "outputs": [
    {
     "data": {
      "text/plain": [
       "FL_DATE         0\n",
       "MONTH           0\n",
       "DAY_OF_MONTH    0\n",
       "DAY_OF_WEEK     0\n",
       "CARRIER         0\n",
       "DEST            0\n",
       "DEP_HOUR        0\n",
       "DEP_DELAY       0\n",
       "dtype: int64"
      ]
     },
     "execution_count": 13,
     "metadata": {},
     "output_type": "execute_result"
    }
   ],
   "source": [
    "# Trimming the data set needed for this analysis\n",
    "Temp1 = pd.read_csv(\"AirlineDelay2015.csv\")\n",
    "Temp1['DEP_HOUR'] = Temp1['DEP_TIME']//100\n",
    "Temp2 = Temp1[Temp1['ORIGIN'].isin(['ATL'])]\n",
    "Temp3 = Temp2[(Temp2.DEP_DELAY >=0) & (Temp2.DEP_DELAY < 101 )]\n",
    "Temp4 = Temp3.loc[:,('FL_DATE','MONTH','DAY_OF_MONTH','DAY_OF_WEEK','CARRIER','DEST','DEP_HOUR','DEP_DELAY')]\n",
    "Temp4.isnull().sum()"
   ]
  },
  {
   "cell_type": "code",
   "execution_count": 14,
   "metadata": {
    "collapsed": false
   },
   "outputs": [
    {
     "data": {
      "text/html": [
       "<div>\n",
       "<table border=\"1\" class=\"dataframe\">\n",
       "  <thead>\n",
       "    <tr style=\"text-align: right;\">\n",
       "      <th></th>\n",
       "      <th>STATION</th>\n",
       "      <th>DATE</th>\n",
       "      <th>PRCP</th>\n",
       "      <th>SNOW</th>\n",
       "      <th>TMAX</th>\n",
       "      <th>TMIN</th>\n",
       "      <th>AWND</th>\n",
       "      <th>FL_DATE</th>\n",
       "    </tr>\n",
       "  </thead>\n",
       "  <tbody>\n",
       "    <tr>\n",
       "      <th>0</th>\n",
       "      <td>GHCND:USW00013874</td>\n",
       "      <td>20150101</td>\n",
       "      <td>0.07</td>\n",
       "      <td>0</td>\n",
       "      <td>58</td>\n",
       "      <td>32</td>\n",
       "      <td>4.5</td>\n",
       "      <td>2015-01-01</td>\n",
       "    </tr>\n",
       "    <tr>\n",
       "      <th>1</th>\n",
       "      <td>GHCND:USW00013874</td>\n",
       "      <td>20150102</td>\n",
       "      <td>0.95</td>\n",
       "      <td>0</td>\n",
       "      <td>49</td>\n",
       "      <td>43</td>\n",
       "      <td>3.8</td>\n",
       "      <td>2015-01-02</td>\n",
       "    </tr>\n",
       "    <tr>\n",
       "      <th>2</th>\n",
       "      <td>GHCND:USW00013874</td>\n",
       "      <td>20150103</td>\n",
       "      <td>0.16</td>\n",
       "      <td>0</td>\n",
       "      <td>62</td>\n",
       "      <td>48</td>\n",
       "      <td>8.5</td>\n",
       "      <td>2015-01-03</td>\n",
       "    </tr>\n",
       "    <tr>\n",
       "      <th>3</th>\n",
       "      <td>GHCND:USW00013874</td>\n",
       "      <td>20150104</td>\n",
       "      <td>1.64</td>\n",
       "      <td>0</td>\n",
       "      <td>66</td>\n",
       "      <td>44</td>\n",
       "      <td>11.4</td>\n",
       "      <td>2015-01-04</td>\n",
       "    </tr>\n",
       "    <tr>\n",
       "      <th>4</th>\n",
       "      <td>GHCND:USW00013874</td>\n",
       "      <td>20150105</td>\n",
       "      <td>0.00</td>\n",
       "      <td>0</td>\n",
       "      <td>48</td>\n",
       "      <td>34</td>\n",
       "      <td>12.1</td>\n",
       "      <td>2015-01-05</td>\n",
       "    </tr>\n",
       "  </tbody>\n",
       "</table>\n",
       "</div>"
      ],
      "text/plain": [
       "             STATION      DATE  PRCP  SNOW  TMAX  TMIN  AWND     FL_DATE\n",
       "0  GHCND:USW00013874  20150101  0.07     0    58    32   4.5  2015-01-01\n",
       "1  GHCND:USW00013874  20150102  0.95     0    49    43   3.8  2015-01-02\n",
       "2  GHCND:USW00013874  20150103  0.16     0    62    48   8.5  2015-01-03\n",
       "3  GHCND:USW00013874  20150104  1.64     0    66    44  11.4  2015-01-04\n",
       "4  GHCND:USW00013874  20150105  0.00     0    48    34  12.1  2015-01-05"
      ]
     },
     "execution_count": 14,
     "metadata": {},
     "output_type": "execute_result"
    }
   ],
   "source": [
    "W2015 = pd.read_csv(\"AtlantaWeather2015.csv\")\n",
    "W2015.head()"
   ]
  },
  {
   "cell_type": "code",
   "execution_count": 15,
   "metadata": {
    "collapsed": false
   },
   "outputs": [],
   "source": [
    "W2015.drop(['STATION', 'DATE'], axis=1, inplace=True)\n",
    "Temp5 = pd.merge(Temp4,W2015, on='FL_DATE', how='inner')\n",
    "Temp5.to_csv('ATLData2015.csv') "
   ]
  },
  {
   "cell_type": "markdown",
   "metadata": {},
   "source": [
    "After the above preprocessing, we have two files generated and saved:-\n",
    "    1. ATLData2014.csv\n",
    "    2. ATLData2015.csv   "
   ]
  },
  {
   "cell_type": "markdown",
   "metadata": {},
   "source": [
    "## First Iteration: Build Logistic Regression and Random Forest Models\n",
    "#### Using 'MONTH','DAY_OF_MONTH','DAY_OF_WEEK' and 'DEP_HOUR'\n",
    "\n",
    "##### We use Scikit-Learn machine learning package to build and use two predictive models (Logistic Regression and Random Forest) and compare performance. Using Confusion Matrix to display True Positives, True Negatives, False Postives and False Negatives, we will also compute precision, recall and accuracy.\n",
    "\n",
    "##### For our analysis, we use 2014 dataset to train and predict using 2015 dataset."
   ]
  },
  {
   "cell_type": "code",
   "execution_count": 30,
   "metadata": {
    "collapsed": false
   },
   "outputs": [
    {
     "name": "stdout",
     "output_type": "stream",
     "text": [
      "(171870, 4)\n"
     ]
    }
   ],
   "source": [
    "# opening and reading files\n",
    "ATL2014 = pd.read_csv(\"ATLData2014.csv\")\n",
    "ATL2015 = pd.read_csv(\"ATLData2015.csv\")\n",
    "ATL2014.fillna(0)\n",
    "ATL2015.fillna(0)\n",
    "\n",
    "# create train and test sets\n",
    "Train_Y = ATL2014['DEP_DELAY'] >= 15\n",
    "Train_X = ATL2014 [['MONTH','DAY_OF_MONTH','DAY_OF_WEEK','DEP_HOUR']]\n",
    "        \n",
    "Test_Y = ATL2015['DEP_DELAY'] >= 15\n",
    "Test_X = ATL2015[['MONTH','DAY_OF_MONTH','DAY_OF_WEEK','DEP_HOUR']]\n",
    "        \n",
    "print Train_X.shape"
   ]
  },
  {
   "cell_type": "markdown",
   "metadata": {},
   "source": [
    "#### Logistic Regression Model creation"
   ]
  },
  {
   "cell_type": "code",
   "execution_count": 33,
   "metadata": {
    "collapsed": false,
    "scrolled": true
   },
   "outputs": [
    {
     "name": "stdout",
     "output_type": "stream",
     "text": [
      "Confusion Matrix Results\n",
      "       0     1\n",
      "0  97309  9784\n",
      "1  47539  9290\n",
      "precison, recall, fbeta_score, support\n",
      "(0.48705043514732094, 0.16347287476464481, 0.2447861085859584, None)\n",
      "Accuracy Score: \n",
      "0.650303192982\n"
     ]
    }
   ],
   "source": [
    "# logistic regression model creation\n",
    "Create_LR = linear_model.LogisticRegression(class_weight=None)\n",
    "Create_LR.fit(Train_X, Train_Y)\n",
    "\n",
    "# prediction on test set\n",
    "Predict = Create_LR.predict(Test_X)\n",
    "\n",
    "ConfusionMatrix_LR = confusion_matrix(Test_Y, Predict)\n",
    "print(\"Confusion Matrix Results\")\n",
    "print(pd.DataFrame(ConfusionMatrix_LR ))\n",
    "Report_LR = precision_recall_fscore_support(list(Test_Y), list(Predict), average='binary')\n",
    "print \"precison, recall, fbeta_score, support\" \n",
    "print Report_LR\n",
    "print 'Accuracy Score: ' \n",
    "print accuracy_score(list(Test_Y), list(Predict))\n"
   ]
  },
  {
   "cell_type": "markdown",
   "metadata": {},
   "source": [
    "The Logistic Regression model got an over all accuracy of 65%.  We try the same analysis with Random Forest next."
   ]
  },
  {
   "cell_type": "markdown",
   "metadata": {},
   "source": [
    "####  Random Forest model creation"
   ]
  },
  {
   "cell_type": "code",
   "execution_count": 34,
   "metadata": {
    "collapsed": false
   },
   "outputs": [
    {
     "name": "stdout",
     "output_type": "stream",
     "text": [
      "Confusion Matrix\n",
      "       0      1\n",
      "0  92581  14512\n",
      "1  43838  12991\n",
      "precison, recall, fbeta_score, support\n",
      "(0.47234847107588263, 0.228598074926534, 0.30809182753877534, None)\n",
      "Accuracy Score: \n",
      "0.644038018082\n"
     ]
    }
   ],
   "source": [
    "# Create Random Forest classifier with 50 trees\n",
    "Create_RF = RandomForestClassifier(n_estimators=50, n_jobs= -1)\n",
    "Create_RF.fit(Train_X, Train_Y)\n",
    "\n",
    "Predict_RF = Create_RF.predict(Test_X)\n",
    "\n",
    "ConfusionMatrix_RF = confusion_matrix(Test_Y, Predict_RF)\n",
    "print(\"Confusion Matrix\")\n",
    "print(pd.DataFrame(ConfusionMatrix_RF))\n",
    "Report_RF = precision_recall_fscore_support(list(Test_Y), list(Predict_RF), average='binary')\n",
    "print \"precison, recall, fbeta_score, support\" \n",
    "print Report_RF\n",
    "print 'Accuracy Score: ' \n",
    "print accuracy_score(list(Test_Y), list(Predict_RF))\n"
   ]
  },
  {
   "cell_type": "markdown",
   "metadata": {
    "collapsed": true
   },
   "source": [
    "Random Forest results has given a little less Accuracy score that Logistic Regression. Also the True Positives are lesser by around 5K."
   ]
  },
  {
   "cell_type": "markdown",
   "metadata": {},
   "source": [
    "## Second Iteration: Build Logistic Regression and Random Forest Models \n",
    "#### Using 'MONTH','DAY_OF_MONTH','DAY_OF_WEEK' and 'DEP_HOUR' \n",
    "#### We will also add CARRIER as a Dummy Variable use \"One Hot Encoding\" . Ths purpose of this to convert existing variables of categorical in nature into dummy variables. Each dumy variable is binary (1,0) that indicate whether a category value is ON or OFF.\n",
    "\n"
   ]
  },
  {
   "cell_type": "code",
   "execution_count": 31,
   "metadata": {
    "collapsed": false
   },
   "outputs": [
    {
     "name": "stdout",
     "output_type": "stream",
     "text": [
      "(171870, 82)\n",
      "(163922, 82)\n"
     ]
    }
   ],
   "source": [
    "from sklearn.preprocessing import OneHotEncoder\n",
    "# opening and reading files\n",
    "cols = ['MONTH','DAY_OF_MONTH','DAY_OF_WEEK','CARRIER','DEP_HOUR']\n",
    "ATL2014 = pd.read_csv(\"ATLData2014.csv\")\n",
    "ATL2015 = pd.read_csv(\"ATLData2015.csv\")\n",
    "ATL2014.fillna(0)\n",
    "ATL2015.fillna(0)\n",
    "\n",
    "# create train and test sets\n",
    "Train_Y = ATL2014['DEP_DELAY'] >= 15\n",
    "categ = [cols.index(x) for x in 'MONTH','DAY_OF_MONTH','DAY_OF_WEEK','CARRIER','DEP_HOUR']\n",
    "enc = OneHotEncoder(categorical_features = categ)\n",
    "Temp1 = ATL2014.loc[:,('MONTH','DAY_OF_MONTH','DAY_OF_WEEK','CARRIER','DEP_HOUR')]\n",
    "Temp1['CARRIER'] = pd.factorize(Temp1['CARRIER'])[0]\n",
    "Train_X = enc.fit_transform(Temp1)\n",
    "        \n",
    "Test_Y = ATL2015['DEP_DELAY'] >= 15\n",
    "Temp2 = ATL2015.loc[:,('MONTH','DAY_OF_MONTH','DAY_OF_WEEK','CARRIER','DEP_HOUR')]\n",
    "Temp2['CARRIER'] = pd.factorize(Temp2['CARRIER'])[0]\n",
    "Test_X = enc.fit_transform(Temp2)\n",
    "       \n",
    "print Train_X.shape\n",
    "print Test_X.shape"
   ]
  },
  {
   "cell_type": "markdown",
   "metadata": {},
   "source": [
    "#### Logistic Regression model creation"
   ]
  },
  {
   "cell_type": "code",
   "execution_count": 11,
   "metadata": {
    "collapsed": false
   },
   "outputs": [
    {
     "name": "stdout",
     "output_type": "stream",
     "text": [
      "Confusion Matrix Results\n",
      "       0      1\n",
      "0  92153  14940\n",
      "1  40104  16725\n",
      "precison, recall, fbeta_score, support\n",
      "(0.52818569398389392, 0.29430396452515439, 0.37799172825276289, None)\n",
      "Accuracy Score: \n",
      "0.664206146826\n"
     ]
    }
   ],
   "source": [
    "# logistic regression model creatopn\n",
    "Create_LR = linear_model.LogisticRegression(class_weight=None)\n",
    "Create_LR.fit(Train_X, Train_Y)\n",
    "\n",
    "# prediction on test set\n",
    "Predict_LR = Create_LR.predict(Test_X)\n",
    "\n",
    "ConfusionMatrix_LR = confusion_matrix(Test_Y, Predict_LR)\n",
    "print(\"Confusion Matrix Results\")\n",
    "print(pd.DataFrame(ConfusionMatrix_LR ))\n",
    "Report_LR = precision_recall_fscore_support(list(Test_Y), list(Predict_LR), average='binary')\n",
    "print \"precison, recall, fbeta_score, support\" \n",
    "print Report_LR\n",
    "print 'Accuracy Score: ' \n",
    "print accuracy_score(list(Test_Y), list(Predict_LR))"
   ]
  },
  {
   "cell_type": "markdown",
   "metadata": {},
   "source": [
    "####  Random Forest model creation"
   ]
  },
  {
   "cell_type": "code",
   "execution_count": 12,
   "metadata": {
    "collapsed": false
   },
   "outputs": [
    {
     "name": "stdout",
     "output_type": "stream",
     "text": [
      "Confusion Matrix\n",
      "       0      1\n",
      "0  89324  17769\n",
      "1  38270  18559\n",
      "precison, recall, fbeta_score, support\n",
      "(0.51087315569257874, 0.32657621988773339, 0.3984456347885828, None)\n",
      "Accuracy Score: \n",
      "0.658136186723\n"
     ]
    }
   ],
   "source": [
    "# Create Random Forest classifier with 50 trees\n",
    "Create_RF = RandomForestClassifier(n_estimators=50, n_jobs= -1)\n",
    "Create_RF.fit(Train_X, Train_Y)\n",
    "\n",
    "Predict_RF = Create_RF.predict(Test_X)\n",
    "\n",
    "ConfusionMatrix_RF = confusion_matrix(Test_Y, Predict_RF)\n",
    "print(\"Confusion Matrix\")\n",
    "print(pd.DataFrame(ConfusionMatrix_RF))\n",
    "Report_RF = precision_recall_fscore_support(list(Test_Y), list(Predict_RF), average='binary')\n",
    "print \"precison, recall, fbeta_score, support\" \n",
    "print Report_RF\n",
    "print 'Accuracy Score: ' \n",
    "print accuracy_score(list(Test_Y), list(Predict_RF))"
   ]
  },
  {
   "cell_type": "markdown",
   "metadata": {},
   "source": [
    "## Third Iteration: Build Logistic Regression and Random Forest Models \n",
    "#### In this iteration, weather data is also added (daily temperatures (min/max), wind speed, snow conditions and precipitation) for Atlanta in 2014/2015. The data was downloaded from publicly available dataset here: http://www.ncdc.noaa.gov/cdo-web/datasets/"
   ]
  },
  {
   "cell_type": "code",
   "execution_count": 18,
   "metadata": {
    "collapsed": false
   },
   "outputs": [
    {
     "name": "stdout",
     "output_type": "stream",
     "text": [
      "(171870, 87)\n",
      "(163922, 87)\n"
     ]
    }
   ],
   "source": [
    "from sklearn.preprocessing import OneHotEncoder\n",
    "# opening and reading files\n",
    "cols = ['MONTH','DAY_OF_MONTH','DAY_OF_WEEK','CARRIER','DEP_HOUR','PRCP', 'SNOW', 'TMAX', 'TMIN', 'AWND']\n",
    "ATL2014 = pd.read_csv(\"ATLData2014.csv\")\n",
    "ATL2015 = pd.read_csv(\"ATLData2015.csv\")\n",
    "ATL2014.fillna(0)\n",
    "ATL2015.fillna(0)\n",
    "\n",
    "# create train and test sets\n",
    "Train_Y = ATL2014['DEP_DELAY'] >= 15\n",
    "categ = [cols.index(x) for x in 'MONTH','DAY_OF_MONTH','DAY_OF_WEEK','CARRIER','DEP_HOUR']\n",
    "enc = OneHotEncoder(categorical_features = categ)\n",
    "Temp1 = ATL2014.loc[:,('MONTH','DAY_OF_MONTH','DAY_OF_WEEK','CARRIER','DEP_HOUR','PRCP', 'SNOW', 'TMAX', 'TMIN', 'AWND')]\n",
    "Temp1['CARRIER'] = pd.factorize(Temp1['CARRIER'])[0]\n",
    "Train_X = enc.fit_transform(Temp1)\n",
    "        \n",
    "Test_Y = ATL2015['DEP_DELAY'] >= 15\n",
    "Temp2 = ATL2015.loc[:,('MONTH','DAY_OF_MONTH','DAY_OF_WEEK','CARRIER','DEP_HOUR','PRCP', 'SNOW', 'TMAX', 'TMIN', 'AWND')]\n",
    "Temp2['CARRIER'] = pd.factorize(Temp2['CARRIER'])[0]\n",
    "Test_X = enc.fit_transform(Temp2)\n",
    "       \n",
    "print Train_X.shape\n",
    "print Test_X.shape"
   ]
  },
  {
   "cell_type": "markdown",
   "metadata": {},
   "source": [
    "#### Logistic Regression model creation"
   ]
  },
  {
   "cell_type": "code",
   "execution_count": 19,
   "metadata": {
    "collapsed": false
   },
   "outputs": [
    {
     "name": "stdout",
     "output_type": "stream",
     "text": [
      "Confusion Matrix Results\n",
      "       0      1\n",
      "0  90315  16778\n",
      "1  37131  19698\n",
      "precison, recall, fbeta_score, support\n",
      "(0.54002631867529338, 0.34661880377976034, 0.4222281764106961, None)\n",
      "Accuracy Score: \n",
      "0.671130171667\n"
     ]
    }
   ],
   "source": [
    "# logistic regression model creatopn\n",
    "Create_LR = linear_model.LogisticRegression(class_weight=None)\n",
    "Create_LR.fit(Train_X, Train_Y)\n",
    "\n",
    "# prediction on test set\n",
    "Predict_LR = Create_LR.predict(Test_X)\n",
    "\n",
    "ConfusionMatrix_LR = confusion_matrix(Test_Y, Predict_LR)\n",
    "print(\"Confusion Matrix Results\")\n",
    "print(pd.DataFrame(ConfusionMatrix_LR ))\n",
    "Report_LR = precision_recall_fscore_support(list(Test_Y), list(Predict_LR), average='binary')\n",
    "print \"precison, recall, fbeta_score, support\" \n",
    "print Report_LR\n",
    "print 'Accuracy Score: ' \n",
    "print accuracy_score(list(Test_Y), list(Predict_LR))"
   ]
  },
  {
   "cell_type": "markdown",
   "metadata": {},
   "source": [
    "####  Random Forest model creation"
   ]
  },
  {
   "cell_type": "code",
   "execution_count": 20,
   "metadata": {
    "collapsed": false
   },
   "outputs": [
    {
     "name": "stdout",
     "output_type": "stream",
     "text": [
      "Confusion Matrix\n",
      "       0      1\n",
      "0  89978  17115\n",
      "1  36446  20383\n",
      "precison, recall, fbeta_score, support\n",
      "(0.54357565736839297, 0.35867250875433315, 0.43217742533951042, None)\n",
      "Accuracy Score: \n",
      "0.673253132587\n"
     ]
    }
   ],
   "source": [
    "# Create Random Forest classifier with 50 trees\n",
    "Create_RF = RandomForestClassifier(n_estimators=50, n_jobs= -1)\n",
    "Create_RF.fit(Train_X, Train_Y)\n",
    "\n",
    "Predict_RF = Create_RF.predict(Test_X)\n",
    "\n",
    "ConfusionMatrix_RF = confusion_matrix(Test_Y, Predict_RF)\n",
    "print(\"Confusion Matrix\")\n",
    "print(pd.DataFrame(ConfusionMatrix_RF))\n",
    "Report_RF = precision_recall_fscore_support(list(Test_Y), list(Predict_RF), average='binary')\n",
    "print \"precison, recall, fbeta_score, support\" \n",
    "print Report_RF\n",
    "print 'Accuracy Score: ' \n",
    "print accuracy_score(list(Test_Y), list(Predict_RF))"
   ]
  },
  {
   "cell_type": "markdown",
   "metadata": {
    "collapsed": true
   },
   "source": [
    "This sort of helped. Both Logistic Regression as well as Random Forest came with an accuracy of 67%. In this project, we use both flight data and weather data to predict flight departure delay. In the analysis, we use 2014 Atlanta departure traffic as an example for our flight departure delay analysis."
   ]
  }
 ],
 "metadata": {
  "kernelspec": {
   "display_name": "Python 2",
   "language": "python",
   "name": "python2"
  },
  "language_info": {
   "codemirror_mode": {
    "name": "ipython",
    "version": 2
   },
   "file_extension": ".py",
   "mimetype": "text/x-python",
   "name": "python",
   "nbconvert_exporter": "python",
   "pygments_lexer": "ipython2",
   "version": "2.7.11"
  }
 },
 "nbformat": 4,
 "nbformat_minor": 0
}
