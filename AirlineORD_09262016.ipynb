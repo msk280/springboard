{
 "cells": [
  {
   "cell_type": "markdown",
   "metadata": {},
   "source": [
    "Airline data sets for 2007 and 2008 was downloaded from  http://stat-computing.org/dataexpo/2009/the-data.html \n",
    "\n",
    "These datasets have 29 variables:\n",
    "Year, Month, DayofMonth, DayOfWeek, DepTime, CRSDepTime, ArrTime, CRSArrTime, UniqueCarrier, FlightNum, TailNum, \n",
    "ActualElapsedTime, CRSElapsedTime, AirTime, ArrDelay, DepDelay, Origin, Dest, Distance, TaxiIn, TaxiOut,\n",
    "Cancelled, CancellationCode, Diverted, CarrierDelay, WeatherDelay, NASDelay, SecurityDelay, LateAircraftDelay\n",
    "\n"
   ]
  },
  {
   "cell_type": "code",
   "execution_count": 1,
   "metadata": {
    "collapsed": false
   },
   "outputs": [],
   "source": [
    "# Importing libraries and the data set\n",
    "from pandas import Series, DataFrame\n",
    "import pandas as pd\n",
    "import glob\n",
    "import numpy as np\n",
    "import os\n",
    "import matplotlib.pylab as plt\n",
    "%matplotlib inline \n",
    "plt.rcParams['figure.figsize'] = 12, 4  # that's default image size for this interactive session\n",
    "import scipy\n",
    "from scipy import stats\n",
    "from sklearn.cross_validation import train_test_split\n",
    "from sklearn import linear_model\n",
    "from sklearn.metrics import confusion_matrix,  precision_recall_fscore_support, accuracy_score\n",
    "from sklearn.preprocessing import Binarizer\n",
    "from sklearn.ensemble import RandomForestClassifier\n",
    "from sklearn.preprocessing import StandardScaler\n",
    "from sklearn import preprocessing\n",
    "import statsmodels.api as sm\n",
    "from sklearn.preprocessing import StandardScaler, OneHotEncoder\n",
    "scaler = StandardScaler()\n",
    "from ggplot import *\n",
    "from sklearn import metrics"
   ]
  },
  {
   "cell_type": "markdown",
   "metadata": {
    "collapsed": true
   },
   "source": [
    "### Check data volumes"
   ]
  },
  {
   "cell_type": "code",
   "execution_count": 2,
   "metadata": {
    "collapsed": false
   },
   "outputs": [
    {
     "data": {
      "text/plain": [
       "(7453215, 29)"
      ]
     },
     "execution_count": 2,
     "metadata": {},
     "output_type": "execute_result"
    }
   ],
   "source": [
    "flt_2007 = pd.read_csv(\"2007.csv\")\n",
    "flt_2007.shape"
   ]
  },
  {
   "cell_type": "code",
   "execution_count": 3,
   "metadata": {
    "collapsed": false
   },
   "outputs": [
    {
     "data": {
      "text/plain": [
       "(7009728, 29)"
      ]
     },
     "execution_count": 3,
     "metadata": {},
     "output_type": "execute_result"
    }
   ],
   "source": [
    "flt_2008 = pd.read_csv(\"2008.csv\")\n",
    "flt_2008.shape"
   ]
  },
  {
   "cell_type": "code",
   "execution_count": 3,
   "metadata": {
    "collapsed": false
   },
   "outputs": [
    {
     "data": {
      "text/plain": [
       "(359169, 31)"
      ]
     },
     "execution_count": 3,
     "metadata": {},
     "output_type": "execute_result"
    }
   ],
   "source": [
    "ORD2007 = pd.read_csv(\"ORD2007.csv\")\n",
    "ORD2007.shape"
   ]
  },
  {
   "cell_type": "code",
   "execution_count": 4,
   "metadata": {
    "collapsed": false,
    "scrolled": true
   },
   "outputs": [
    {
     "name": "stderr",
     "output_type": "stream",
     "text": [
      "d:\\Anaconda2\\lib\\site-packages\\IPython\\core\\interactiveshell.py:2723: DtypeWarning: Columns (23) have mixed types. Specify dtype option on import or set low_memory=False.\n",
      "  interactivity=interactivity, compiler=compiler, result=result)\n"
     ]
    },
    {
     "data": {
      "text/plain": [
       "(335440, 31)"
      ]
     },
     "execution_count": 4,
     "metadata": {},
     "output_type": "execute_result"
    }
   ],
   "source": [
    "ORD2008 = pd.read_csv(\"ORD2008.csv\")\n",
    "ORD2008.shape"
   ]
  },
  {
   "cell_type": "markdown",
   "metadata": {},
   "source": [
    "### Prediction Model Using Month"
   ]
  },
  {
   "cell_type": "code",
   "execution_count": 15,
   "metadata": {
    "collapsed": false
   },
   "outputs": [
    {
     "name": "stdout",
     "output_type": "stream",
     "text": [
      "(359169, 1)\n"
     ]
    }
   ],
   "source": [
    "data_2007 = pd.read_csv(\"ORD2007.csv\")\n",
    "data_2008 = pd.read_csv(\"ORD2008.csv\")\n",
    "\n",
    "# Create training set and test set\n",
    "cols = ['Month']\n",
    "train_y = data_2007['DepDelay']  >= 15\n",
    "train_x = data_2007[cols]\n",
    "\n",
    "test_y = data_2008['DepDelay']  >= 15\n",
    "test_x = data_2008[cols]\n",
    "\n",
    "print train_x.shape"
   ]
  },
  {
   "cell_type": "code",
   "execution_count": 10,
   "metadata": {
    "collapsed": false
   },
   "outputs": [
    {
     "name": "stdout",
     "output_type": "stream",
     "text": [
      "Confusion matrix\n",
      "        0       1\n",
      "0  127960  111968\n",
      "1   38797   56715\n",
      "\n",
      "precision = 0.34, recall = 0.59, F1 = 0.43, accuracy = 0.55\n",
      "\n"
     ]
    }
   ],
   "source": [
    "# Create logistic regression model with L2 regularization\n",
    "clf_lr = linear_model.LogisticRegression(penalty='l1', class_weight='balanced')\n",
    "clf_lr.fit(train_x, train_y)\n",
    "\n",
    "# Predict output labels on test set\n",
    "pr = clf_lr.predict(test_x)\n",
    "\n",
    "# display evaluation metrics\n",
    "cm = confusion_matrix(test_y, pr)\n",
    "print(\"Confusion matrix\")\n",
    "print(pd.DataFrame(cm))\n",
    "report_lr = precision_recall_fscore_support(list(test_y), list(pr), average='binary')\n",
    "print \"\\nprecision = %0.2f, recall = %0.2f, F1 = %0.2f, accuracy = %0.2f\\n\" % \\\n",
    "        (report_lr[0], report_lr[1], report_lr[2], accuracy_score(list(test_y), list(pr)))"
   ]
  },
  {
   "cell_type": "markdown",
   "metadata": {},
   "source": [
    "### Prediction Model Using Month, Day of Month"
   ]
  },
  {
   "cell_type": "code",
   "execution_count": 2,
   "metadata": {
    "collapsed": false
   },
   "outputs": [
    {
     "name": "stdout",
     "output_type": "stream",
     "text": [
      "(359169, 2)\n"
     ]
    },
    {
     "name": "stderr",
     "output_type": "stream",
     "text": [
      "d:\\Anaconda2\\lib\\site-packages\\IPython\\core\\interactiveshell.py:2723: DtypeWarning: Columns (23) have mixed types. Specify dtype option on import or set low_memory=False.\n",
      "  interactivity=interactivity, compiler=compiler, result=result)\n"
     ]
    }
   ],
   "source": [
    "#cols = ['DepDelay', 'Month', 'DayofMonth', 'DayOfWeek', 'Distance', 'UniqueCarrier', 'Dest']\n",
    "data_2007 = pd.read_csv(\"ORD2007.csv\")\n",
    "data_2008 = pd.read_csv(\"ORD2008.csv\")\n",
    "\n",
    "# Create training set and test set\n",
    "cols = ['Month', 'DayofMonth']\n",
    "train_y = data_2007['DepDelay']  >= 15\n",
    "train_x = data_2007[cols]\n",
    "\n",
    "test_y = data_2008['DepDelay']  >= 15\n",
    "test_x = data_2008[cols]\n",
    "\n",
    "print train_x.shape"
   ]
  },
  {
   "cell_type": "code",
   "execution_count": 3,
   "metadata": {
    "collapsed": false
   },
   "outputs": [
    {
     "name": "stdout",
     "output_type": "stream",
     "text": [
      "Confusion matrix\n",
      "        0       1\n",
      "0  129131  110797\n",
      "1   39482   56030\n",
      "\n",
      "precision = 0.34, recall = 0.59, F1 = 0.43, accuracy = 0.55\n",
      "\n"
     ]
    }
   ],
   "source": [
    "# Create logistic regression model with L2 regularization\n",
    "clf_lr = linear_model.LogisticRegression(penalty='l1', class_weight='balanced')\n",
    "clf_lr.fit(train_x, train_y)\n",
    "\n",
    "# Predict output labels on test set\n",
    "pr = clf_lr.predict(test_x)\n",
    "\n",
    "# display evaluation metrics\n",
    "cm = confusion_matrix(test_y, pr)\n",
    "print(\"Confusion matrix\")\n",
    "print(pd.DataFrame(cm))\n",
    "report_lr = precision_recall_fscore_support(list(test_y), list(pr), average='binary')\n",
    "print \"\\nprecision = %0.2f, recall = %0.2f, F1 = %0.2f, accuracy = %0.2f\\n\" % \\\n",
    "        (report_lr[0], report_lr[1], report_lr[2], accuracy_score(list(test_y), list(pr)))"
   ]
  },
  {
   "cell_type": "markdown",
   "metadata": {},
   "source": [
    "### Prediction Model Using Month, Day of Month, Day of Week"
   ]
  },
  {
   "cell_type": "code",
   "execution_count": 4,
   "metadata": {
    "collapsed": false
   },
   "outputs": [
    {
     "name": "stdout",
     "output_type": "stream",
     "text": [
      "(359169, 3)\n"
     ]
    }
   ],
   "source": [
    "#cols = ['DepDelay', 'Month', 'DayofMonth', 'DayOfWeek', 'Distance', 'UniqueCarrier', 'Dest']\n",
    "data_2007 = pd.read_csv(\"ORD2007.csv\")\n",
    "data_2008 = pd.read_csv(\"ORD2008.csv\")\n",
    "\n",
    "# Create training set and test set\n",
    "cols = ['Month', 'DayofMonth','DayOfWeek']\n",
    "train_y = data_2007['DepDelay']  >= 15\n",
    "train_x = data_2007[cols]\n",
    "\n",
    "test_y = data_2008['DepDelay']  >= 15\n",
    "test_x = data_2008[cols]\n",
    "\n",
    "print train_x.shape"
   ]
  },
  {
   "cell_type": "code",
   "execution_count": 5,
   "metadata": {
    "collapsed": false
   },
   "outputs": [
    {
     "name": "stdout",
     "output_type": "stream",
     "text": [
      "Confusion matrix\n",
      "        0       1\n",
      "0  127526  112402\n",
      "1   41586   53926\n",
      "\n",
      "precision = 0.32, recall = 0.56, F1 = 0.41, accuracy = 0.54\n",
      "\n"
     ]
    }
   ],
   "source": [
    "# Create logistic regression model with L2 regularization\n",
    "clf_lr = linear_model.LogisticRegression(penalty='l1', class_weight='balanced')\n",
    "clf_lr.fit(train_x, train_y)\n",
    "\n",
    "# Predict output labels on test set\n",
    "pr = clf_lr.predict(test_x)\n",
    "\n",
    "# display evaluation metrics\n",
    "cm = confusion_matrix(test_y, pr)\n",
    "print(\"Confusion matrix\")\n",
    "print(pd.DataFrame(cm))\n",
    "report_lr = precision_recall_fscore_support(list(test_y), list(pr), average='binary')\n",
    "print \"\\nprecision = %0.2f, recall = %0.2f, F1 = %0.2f, accuracy = %0.2f\\n\" % \\\n",
    "        (report_lr[0], report_lr[1], report_lr[2], accuracy_score(list(test_y), list(pr)))"
   ]
  },
  {
   "cell_type": "markdown",
   "metadata": {},
   "source": [
    "### Prediction Model Using Month, Day of Month, Day of Week, Departure Hour"
   ]
  },
  {
   "cell_type": "code",
   "execution_count": 6,
   "metadata": {
    "collapsed": false
   },
   "outputs": [
    {
     "name": "stdout",
     "output_type": "stream",
     "text": [
      "(359169, 4)\n"
     ]
    }
   ],
   "source": [
    "#cols = ['DepDelay', 'Month', 'DayofMonth', 'DayOfWeek', 'Distance', 'UniqueCarrier', 'Dest']\n",
    "data_2007 = pd.read_csv(\"ORD2007.csv\")\n",
    "data_2008 = pd.read_csv(\"ORD2008.csv\")\n",
    "\n",
    "# Create training set and test set\n",
    "cols = ['Month', 'DayofMonth','DayOfWeek','Dep_Hour']\n",
    "train_y = data_2007['DepDelay']  >= 15\n",
    "train_x = data_2007[cols]\n",
    "\n",
    "test_y = data_2008['DepDelay']  >= 15\n",
    "test_x = data_2008[cols]\n",
    "\n",
    "print train_x.shape"
   ]
  },
  {
   "cell_type": "code",
   "execution_count": 7,
   "metadata": {
    "collapsed": false
   },
   "outputs": [
    {
     "name": "stdout",
     "output_type": "stream",
     "text": [
      "Confusion matrix\n",
      "        0      1\n",
      "0  149204  90724\n",
      "1   34452  61060\n",
      "\n",
      "precision = 0.40, recall = 0.64, F1 = 0.49, accuracy = 0.63\n",
      "\n"
     ]
    }
   ],
   "source": [
    "# Create logistic regression model with L2 regularization\n",
    "clf_lr = linear_model.LogisticRegression(penalty='l1', class_weight='balanced')\n",
    "clf_lr.fit(train_x, train_y)\n",
    "\n",
    "# Predict output labels on test set\n",
    "pr = clf_lr.predict(test_x)\n",
    "\n",
    "# display evaluation metrics\n",
    "cm = confusion_matrix(test_y, pr)\n",
    "print(\"Confusion matrix\")\n",
    "print(pd.DataFrame(cm))\n",
    "report_lr = precision_recall_fscore_support(list(test_y), list(pr), average='binary')\n",
    "print \"\\nprecision = %0.2f, recall = %0.2f, F1 = %0.2f, accuracy = %0.2f\\n\" % \\\n",
    "        (report_lr[0], report_lr[1], report_lr[2], accuracy_score(list(test_y), list(pr)))"
   ]
  },
  {
   "cell_type": "markdown",
   "metadata": {},
   "source": [
    "### Prediction Model Using Month, Day of Month, Day of Week, Departure Hour, Distance"
   ]
  },
  {
   "cell_type": "code",
   "execution_count": 8,
   "metadata": {
    "collapsed": false
   },
   "outputs": [
    {
     "name": "stdout",
     "output_type": "stream",
     "text": [
      "(359169, 5)\n"
     ]
    }
   ],
   "source": [
    "#cols = ['DepDelay', 'Month', 'DayofMonth', 'DayOfWeek', 'Distance', 'UniqueCarrier', 'Dest']\n",
    "data_2007 = pd.read_csv(\"ORD2007.csv\")\n",
    "data_2008 = pd.read_csv(\"ORD2008.csv\")\n",
    "\n",
    "# Create training set and test set\n",
    "cols = ['Month', 'DayofMonth','DayOfWeek','Dep_Hour', 'Distance']\n",
    "train_y = data_2007['DepDelay']  >= 15\n",
    "train_x = data_2007[cols]\n",
    "\n",
    "test_y = data_2008['DepDelay']  >= 15\n",
    "test_x = data_2008[cols]\n",
    "\n",
    "print train_x.shape"
   ]
  },
  {
   "cell_type": "code",
   "execution_count": 9,
   "metadata": {
    "collapsed": false
   },
   "outputs": [
    {
     "name": "stdout",
     "output_type": "stream",
     "text": [
      "Confusion matrix\n",
      "        0      1\n",
      "0  149976  89952\n",
      "1   34662  60850\n",
      "\n",
      "precision = 0.40, recall = 0.64, F1 = 0.49, accuracy = 0.63\n",
      "\n"
     ]
    }
   ],
   "source": [
    "# Create logistic regression model with L2 regularization\n",
    "clf_lr = linear_model.LogisticRegression(penalty='l1', class_weight='balanced')\n",
    "clf_lr.fit(train_x, train_y)\n",
    "\n",
    "# Predict output labels on test set\n",
    "pr = clf_lr.predict(test_x)\n",
    "\n",
    "# display evaluation metrics\n",
    "cm = confusion_matrix(test_y, pr)\n",
    "print(\"Confusion matrix\")\n",
    "print(pd.DataFrame(cm))\n",
    "report_lr = precision_recall_fscore_support(list(test_y), list(pr), average='binary')\n",
    "print \"\\nprecision = %0.2f, recall = %0.2f, F1 = %0.2f, accuracy = %0.2f\\n\" % \\\n",
    "        (report_lr[0], report_lr[1], report_lr[2], accuracy_score(list(test_y), list(pr)))"
   ]
  },
  {
   "cell_type": "markdown",
   "metadata": {},
   "source": [
    "### Prediction Model Using Month, Day of Month, Day of Week, Departure Hour, Distance, Carrier"
   ]
  },
  {
   "cell_type": "code",
   "execution_count": 17,
   "metadata": {
    "collapsed": false
   },
   "outputs": [
    {
     "name": "stderr",
     "output_type": "stream",
     "text": [
      "d:\\Anaconda2\\lib\\site-packages\\ipykernel\\__main__.py:9: SettingWithCopyWarning: \n",
      "A value is trying to be set on a copy of a slice from a DataFrame.\n",
      "Try using .loc[row_indexer,col_indexer] = value instead\n",
      "\n",
      "See the caveats in the documentation: http://pandas.pydata.org/pandas-docs/stable/indexing.html#indexing-view-versus-copy\n",
      "d:\\Anaconda2\\lib\\site-packages\\ipykernel\\__main__.py:14: SettingWithCopyWarning: \n",
      "A value is trying to be set on a copy of a slice from a DataFrame.\n",
      "Try using .loc[row_indexer,col_indexer] = value instead\n",
      "\n",
      "See the caveats in the documentation: http://pandas.pydata.org/pandas-docs/stable/indexing.html#indexing-view-versus-copy\n"
     ]
    }
   ],
   "source": [
    "#cols = ['DepDelay', 'Month', 'DayofMonth', 'DayOfWeek', 'Distance', 'UniqueCarrier', 'Dest']\n",
    "data_2007 = pd.read_csv(\"ORD2007.csv\")\n",
    "data_2008 = pd.read_csv(\"ORD2008.csv\")\n",
    "\n",
    "# Create training set and test set\n",
    "cols = ['Month', 'DayofMonth','DayOfWeek','Dep_Hour', 'Distance','UniqueCarrier']\n",
    "train_y = data_2007['DepDelay']  >= 15\n",
    "train_x = data_2007[cols]\n",
    "train_x['UniqueCarrier'] = pd.factorize(train_x['UniqueCarrier'])[0]\n",
    "trainX_scl = scaler.fit_transform(train_x)\n",
    "\n",
    "test_y = data_2008['DepDelay']  >= 15\n",
    "test_x = data_2008[cols]\n",
    "test_x['UniqueCarrier'] = pd.factorize(test_x['UniqueCarrier'])[0]\n",
    "testX_scl = scaler.fit_transform(test_x)\n",
    "\n"
   ]
  },
  {
   "cell_type": "code",
   "execution_count": 18,
   "metadata": {
    "collapsed": false
   },
   "outputs": [
    {
     "name": "stdout",
     "output_type": "stream",
     "text": [
      "Confusion matrix\n",
      "        0      1\n",
      "0  149354  90574\n",
      "1   34465  61047\n",
      "\n",
      "precision = 0.40, recall = 0.64, F1 = 0.49, accuracy = 0.63\n",
      "\n"
     ]
    }
   ],
   "source": [
    "# Create logistic regression model with L2 regularization\n",
    "clf_lr = linear_model.LogisticRegression(penalty='l1', class_weight='balanced')\n",
    "clf_lr.fit(trainX_scl, train_y)\n",
    "\n",
    "# Predict output labels on test set\n",
    "pr = clf_lr.predict(testX_scl)\n",
    "\n",
    "# display evaluation metrics\n",
    "cm = confusion_matrix(test_y, pr)\n",
    "print(\"Confusion matrix\")\n",
    "print(pd.DataFrame(cm))\n",
    "report_lr = precision_recall_fscore_support(list(test_y), list(pr), average='binary')\n",
    "print \"\\nprecision = %0.2f, recall = %0.2f, F1 = %0.2f, accuracy = %0.2f\\n\" % \\\n",
    "        (report_lr[0], report_lr[1], report_lr[2], accuracy_score(list(test_y), list(pr)))"
   ]
  },
  {
   "cell_type": "markdown",
   "metadata": {},
   "source": [
    "### Prediction Model Using Month, Day of Month, Day of Week, Departure Hour, Distance, Carrier and Destination"
   ]
  },
  {
   "cell_type": "code",
   "execution_count": 25,
   "metadata": {
    "collapsed": false
   },
   "outputs": [
    {
     "name": "stderr",
     "output_type": "stream",
     "text": [
      "d:\\Anaconda2\\lib\\site-packages\\ipykernel\\__main__.py:9: SettingWithCopyWarning: \n",
      "A value is trying to be set on a copy of a slice from a DataFrame.\n",
      "Try using .loc[row_indexer,col_indexer] = value instead\n",
      "\n",
      "See the caveats in the documentation: http://pandas.pydata.org/pandas-docs/stable/indexing.html#indexing-view-versus-copy\n",
      "d:\\Anaconda2\\lib\\site-packages\\ipykernel\\__main__.py:10: SettingWithCopyWarning: \n",
      "A value is trying to be set on a copy of a slice from a DataFrame.\n",
      "Try using .loc[row_indexer,col_indexer] = value instead\n",
      "\n",
      "See the caveats in the documentation: http://pandas.pydata.org/pandas-docs/stable/indexing.html#indexing-view-versus-copy\n",
      "d:\\Anaconda2\\lib\\site-packages\\ipykernel\\__main__.py:15: SettingWithCopyWarning: \n",
      "A value is trying to be set on a copy of a slice from a DataFrame.\n",
      "Try using .loc[row_indexer,col_indexer] = value instead\n",
      "\n",
      "See the caveats in the documentation: http://pandas.pydata.org/pandas-docs/stable/indexing.html#indexing-view-versus-copy\n",
      "d:\\Anaconda2\\lib\\site-packages\\ipykernel\\__main__.py:16: SettingWithCopyWarning: \n",
      "A value is trying to be set on a copy of a slice from a DataFrame.\n",
      "Try using .loc[row_indexer,col_indexer] = value instead\n",
      "\n",
      "See the caveats in the documentation: http://pandas.pydata.org/pandas-docs/stable/indexing.html#indexing-view-versus-copy\n"
     ]
    }
   ],
   "source": [
    "#cols = ['DepDelay', 'Month', 'DayofMonth', 'DayOfWeek', 'Distance', 'UniqueCarrier', 'Dest']\n",
    "data_2007 = pd.read_csv(\"ORD2007.csv\")\n",
    "data_2008 = pd.read_csv(\"ORD2008.csv\")\n",
    "\n",
    "# Create training set and test set\n",
    "cols = ['Month', 'DayofMonth','DayOfWeek','Dep_Hour', 'Distance','UniqueCarrier', 'Dest']\n",
    "train_y = data_2007['DepDelay']  >= 15\n",
    "train_x = data_2007[cols]\n",
    "train_x['UniqueCarrier'] = pd.factorize(train_x['UniqueCarrier'])[0]\n",
    "train_x['Dest'] = pd.factorize(train_x['Dest'])[0]\n",
    "trainX_scl = scaler.fit_transform(train_x)\n",
    "\n",
    "test_y = data_2008['DepDelay']  >= 15\n",
    "test_x = data_2008[cols]\n",
    "test_x['UniqueCarrier'] = pd.factorize(test_x['UniqueCarrier'])[0]\n",
    "test_x['Dest'] = pd.factorize(test_x['Dest'])[0]\n",
    "testX_scl = scaler.fit_transform(test_x)"
   ]
  },
  {
   "cell_type": "code",
   "execution_count": 26,
   "metadata": {
    "collapsed": false
   },
   "outputs": [
    {
     "name": "stdout",
     "output_type": "stream",
     "text": [
      "Confusion matrix\n",
      "        0      1\n",
      "0  149256  90672\n",
      "1   34377  61135\n",
      "\n",
      "precision = 0.40, recall = 0.64, F1 = 0.49, accuracy = 0.63\n",
      "\n"
     ]
    }
   ],
   "source": [
    "# Create logistic regression model with L2 regularization\n",
    "clf_lr = linear_model.LogisticRegression(penalty='l1', class_weight='balanced')\n",
    "clf_lr.fit(trainX_scl, train_y)\n",
    "\n",
    "# Predict output labels on test set\n",
    "pr = clf_lr.predict(testX_scl)\n",
    "\n",
    "# display evaluation metrics\n",
    "cm = confusion_matrix(test_y, pr)\n",
    "print(\"Confusion matrix\")\n",
    "print(pd.DataFrame(cm))\n",
    "report_lr = precision_recall_fscore_support(list(test_y), list(pr), average='binary')\n",
    "print \"\\nprecision = %0.2f, recall = %0.2f, F1 = %0.2f, accuracy = %0.2f\\n\" % \\\n",
    "        (report_lr[0], report_lr[1], report_lr[2], accuracy_score(list(test_y), list(pr)))"
   ]
  },
  {
   "cell_type": "code",
   "execution_count": null,
   "metadata": {
    "collapsed": true
   },
   "outputs": [],
   "source": []
  }
 ],
 "metadata": {
  "kernelspec": {
   "display_name": "Python 2",
   "language": "python",
   "name": "python2"
  },
  "language_info": {
   "codemirror_mode": {
    "name": "ipython",
    "version": 2
   },
   "file_extension": ".py",
   "mimetype": "text/x-python",
   "name": "python",
   "nbconvert_exporter": "python",
   "pygments_lexer": "ipython2",
   "version": "2.7.11"
  }
 },
 "nbformat": 4,
 "nbformat_minor": 0
}
