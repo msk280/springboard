{
 "cells": [
  {
   "cell_type": "markdown",
   "metadata": {},
   "source": [
    "<h1 id=\"Analysis-of-Airline-Security Delays\"><span style=\"color: #ff0000;\">Analysis of Airline Security Delays</span></h1>"
   ]
  },
  {
   "cell_type": "markdown",
   "metadata": {},
   "source": [
    "Many of us will already know this. July is known within the airline industry as the busiest travel month of the year. According to the Bureau of Travel Statistics, in 2014, 71.8 million people flew during July. That was 37 percent more passengers than got on a plane in February, 2014, the year’s slowest month. It is generally agreed that delay in the national air transportation system will become intolerable if aviation capacity is not increased.In this paper, we analyze securty delay that happens during Air Travel during July for Top 10 Airlines.  \n",
    "\n",
    "Security delay is caused by evacuation of a terminal or concourse, re-boarding of aircraft because of security breach, inoperative screening equipment and/or long lines in excess of 29 minutes at screening areas."
   ]
  },
  {
   "cell_type": "markdown",
   "metadata": {},
   "source": [
    "<h2 style=\"color: #000000;\">Data Collection</h2>\n",
    "The data for analsys will be used from DATA.GOV - Department of Transportation.\n",
    "\n",
    "The Bureau of Transportation Statistics (BTS) was established as a statistical agency in 1992. The Intermodal Surface Transportation Efficiency Act (ISTEA) of 1991 created BTS to administer data collection, analysis, and reporting and to ensure the most cost-effective use of transportation-monitoring resources. BTS brings a greater degree of coordination, comparability, and quality standards to transportation data, and facilitates in the closing of important data gaps.\n",
    "\n",
    "http://www.transtats.bts.gov/DL_SelectFields.asp?Table_ID=236\n",
    "\n",
    "Data downloaded for 2014 and 2015. \n"
   ]
  },
  {
   "cell_type": "markdown",
   "metadata": {},
   "source": [
    "<h2 id=\"firstHeading\" class=\"firstHeading\" lang=\"en\">List of the busiest airports in the United States (2014)</h2>\n",
    "<p>From Wikipedia, the free encyclopedia</p>\n",
    "<p>&nbsp;</p>\n",
    "<table width=\"618\">\n",
    "<tbody>\n",
    "<tr>\n",
    "<td width=\"91\">Rank_2014</td>\n",
    "<td width=\"309\">Airport_Name</td>\n",
    "<td width=\"74\">CODE</td>\n",
    "<td width=\"144\">City</td>\n",
    "</tr>\n",
    "<tr>\n",
    "<td width=\"91\">1</td>\n",
    "<td>Hartsfield&ndash;Jackson Atlanta International Airport</td>\n",
    "<td width=\"74\">ATL</td>\n",
    "<td>Atlanta</td>\n",
    "</tr>\n",
    "<tr>\n",
    "<td width=\"91\">2</td>\n",
    "<td>Los Angeles International Airport</td>\n",
    "<td width=\"74\">LAX</td>\n",
    "<td>Los Angeles</td>\n",
    "</tr>\n",
    "<tr>\n",
    "<td width=\"91\">3</td>\n",
    "<td>O'Hare International Airport</td>\n",
    "<td width=\"74\">ORD</td>\n",
    "<td>Chicago</td>\n",
    "</tr>\n",
    "<tr>\n",
    "<td width=\"91\">4</td>\n",
    "<td>Dallas/Fort Worth International Airport</td>\n",
    "<td width=\"74\">DFW</td>\n",
    "<td width=\"144\">Dallas/Fort Worth</td>\n",
    "</tr>\n",
    "<tr>\n",
    "<td width=\"91\">5</td>\n",
    "<td>John F. Kennedy International Airport</td>\n",
    "<td width=\"74\">JFK</td>\n",
    "<td>New York</td>\n",
    "</tr>\n",
    "<tr>\n",
    "<td width=\"91\">6</td>\n",
    "<td>Denver International Airport</td>\n",
    "<td width=\"74\">DEN</td>\n",
    "<td>Denver</td>\n",
    "</tr>\n",
    "<tr>\n",
    "<td width=\"91\">7</td>\n",
    "<td>San Francisco International Airport</td>\n",
    "<td width=\"74\">SFO</td>\n",
    "<td>San Francisco</td>\n",
    "</tr>\n",
    "<tr>\n",
    "<td width=\"91\">8</td>\n",
    "<td>Charlotte Douglas International Airport</td>\n",
    "<td width=\"74\">CLT</td>\n",
    "<td>Charlotte</td>\n",
    "</tr>\n",
    "<tr>\n",
    "<td width=\"91\">9</td>\n",
    "<td>McCarran International Airport</td>\n",
    "<td width=\"74\">LAS</td>\n",
    "<td>Las Vegas</td>\n",
    "</tr>\n",
    "<tr>\n",
    "<td width=\"91\">10</td>\n",
    "<td>Phoenix Sky Harbor International Airport</td>\n",
    "<td width=\"74\">PHX</td>\n",
    "<td>Phoenix</td>\n",
    "</tr>\n",
    "</tbody>\n",
    "</table>"
   ]
  },
  {
   "cell_type": "markdown",
   "metadata": {},
   "source": [
    "<h2>Data Dictionary&nbsp;</h2>\n",
    "<table style=\"height: 567px; border-color: blue;\" width=\"587\">\n",
    "<tbody>\n",
    "<tr>\n",
    "<td style=\"width: 2px;\">\n",
    "<h4>Column Name</h4>\n",
    "</td>\n",
    "<td style=\"border-color: blue;\">\n",
    "<h4>Column Definition</h4>\n",
    "</td>\n",
    "</tr>\n",
    "<tr>\n",
    "<td style=\"width: 2px;\">&nbsp;YEAR&nbsp;</td>\n",
    "<td style=\"border-color: blue;\">&nbsp;Year</td>\n",
    "</tr>\n",
    "<tr>\n",
    "<td>&nbsp;QUARTER</td>\n",
    "<td>Quarter (1-4)</td>\n",
    "</tr>\n",
    "<tr>\n",
    "<td>&nbsp;MONTH&nbsp;</td>\n",
    "<td>&nbsp;Month</td>\n",
    "</tr>\n",
    "<tr>\n",
    "<td>&nbsp;DAY_OF_MONTH</td>\n",
    "<td>&nbsp;Day of Month</td>\n",
    "</tr>\n",
    "<tr>\n",
    "<td>&nbsp;DAY_OF_WEEK</td>\n",
    "<td>&nbsp;Day of Week 1-Mon 2-Tue 3-Wed 4-Thu 5-Fri 6-Sat 7-Sun</td>\n",
    "</tr>\n",
    "<tr>\n",
    "<td>&nbsp;FL_DATE</td>\n",
    "<td>&nbsp;Flight Date (yyyymmdd)</td>\n",
    "</tr>\n",
    "<tr>\n",
    "<td>&nbsp;CARRIER</td>\n",
    "<td>&nbsp;Code assigned by IATA and commonly used to identify a carrier. As the same code may have&nbsp;been assigned to different carriers over time, the code is not always unique.&nbsp;</td>\n",
    "</tr>\n",
    "<tr>\n",
    "<td>&nbsp;FL_NUM&nbsp;</td>\n",
    "<td>&nbsp;Flight Number</td>\n",
    "</tr>\n",
    "<tr>\n",
    "<td>&nbsp;ORIGIN</td>\n",
    "<td>&nbsp;Origin Airport</td>\n",
    "</tr>\n",
    "<tr>\n",
    "<td>&nbsp;ORIGIN_CITY_NAME</td>\n",
    "<td>&nbsp;Origin Airport, City Name</td>\n",
    "</tr>\n",
    "<tr>\n",
    "<td>&nbsp;ORIGIN_STATE_ABR</td>\n",
    "<td>&nbsp;Origin Airport, State Code</td>\n",
    "</tr>\n",
    "<tr>\n",
    "<td>&nbsp;DEST &nbsp;</td>\n",
    "<td>&nbsp;Destination Airport</td>\n",
    "</tr>\n",
    "<tr>\n",
    "<td>&nbsp;DEST_CITY_NAME&nbsp;</td>\n",
    "<td>&nbsp;Destination Airport, City Name</td>\n",
    "</tr>\n",
    "<tr>\n",
    "<td>&nbsp;DEST_STATE_ABR&nbsp;</td>\n",
    "<td>&nbsp;Destination Airport, State Code</td>\n",
    "</tr>\n",
    "<tr>\n",
    "<td>&nbsp;DEP_TIME</td>\n",
    "<td>&nbsp;Actual Departure Time (local time: hhmm)</td>\n",
    "</tr>\n",
    "<tr>\n",
    "<td>&nbsp;DEP_DELAY</td>\n",
    "<td>&nbsp;Difference in minutes between scheduled and actual departure time. Early departures show&nbsp;negative numbers.</td>\n",
    "</tr>\n",
    "<tr>\n",
    "<td>ARR_TIME</td>\n",
    "<td>Actual Arrival Time (local time: hhmm)</td>\n",
    "</tr>\n",
    "<tr>\n",
    "<td>ARR_DELAY</td>\n",
    "<td>Difference in minutes between scheduled and actual arrival time.&nbsp;Early arrivals show negative numbers.</td>\n",
    "</tr>\n",
    "<tr>\n",
    "<td>CARRIER_DELAY</td>\n",
    "<td>Carrier Delay, in Minutes</td>\n",
    "</tr>\n",
    "<tr>\n",
    "<td>WEATHER_DELAY</td>\n",
    "<td>Weather Delay, in Minutes</td>\n",
    "</tr>\n",
    "<tr>\n",
    "<td>NAS_DELAY</td>\n",
    "<td>National Air System Delay, in Minutes</td>\n",
    "</tr>\n",
    "<tr>\n",
    "<td>SECURITY_DELAY&nbsp;</td>\n",
    "<td>Security Delay, in Minutes</td>\n",
    "</tr>\n",
    "<tr>\n",
    "<td>LATE_AIRCRAFT_DELAY</td>\n",
    "<td>Late Aircraft Delay, in Minutes</td>\n",
    "</tr>\n",
    "</tbody>\n",
    "</table>\n",
    "<p>&nbsp;</p>"
   ]
  },
  {
   "cell_type": "markdown",
   "metadata": {},
   "source": [
    "<h2 style=\"text-align: left;\">Initialize libraries, get data sets, consolidate and cleanse.</h2>"
   ]
  },
  {
   "cell_type": "code",
   "execution_count": 1,
   "metadata": {
    "collapsed": false
   },
   "outputs": [],
   "source": [
    "# Importing libraries and the data set\n",
    "from pandas import Series, DataFrame\n",
    "import pandas as pd\n",
    "import glob\n",
    "import numpy as np\n",
    "import os\n",
    "import matplotlib.pylab as plt\n",
    "%matplotlib inline \n",
    "plt.rcParams['figure.figsize'] = 14, 7  # that's default image size for this interactive session\n",
    "import scipy\n",
    "from scipy import stats\n",
    "from sklearn.cross_validation import train_test_split\n",
    "from sklearn.linear_model import LinearRegression\n",
    "import sklearn.metrics"
   ]
  },
  {
   "cell_type": "code",
   "execution_count": 18,
   "metadata": {
    "collapsed": true
   },
   "outputs": [],
   "source": [
    "#Combine all downloaded CSV datafiles 2 seperate files created one for 2014 and one for 2015.\n",
    "#airline_files = glob.glob(\"*.csv\")\n",
    "#df_list = []\n",
    "#for filename in sorted(airline_files):\n",
    "#    df_list.append(pd.read_csv(filename))\n",
    "#full_df = pd.concat(df_list)\n",
    "#full_df.to_csv('AirlineDelay2014.csv')\n",
    "\n",
    "# Two files created AirlineDelay2014.csv and AirlineDelay2015\n"
   ]
  },
  {
   "cell_type": "code",
   "execution_count": 2,
   "metadata": {
    "collapsed": false,
    "scrolled": true
   },
   "outputs": [
    {
     "data": {
      "text/html": [
       "<div>\n",
       "<table border=\"1\" class=\"dataframe\">\n",
       "  <thead>\n",
       "    <tr style=\"text-align: right;\">\n",
       "      <th></th>\n",
       "      <th>Unnamed: 0</th>\n",
       "      <th>YEAR</th>\n",
       "      <th>QUARTER</th>\n",
       "      <th>MONTH</th>\n",
       "      <th>DAY_OF_MONTH</th>\n",
       "      <th>DAY_OF_WEEK</th>\n",
       "      <th>FL_DATE</th>\n",
       "      <th>CARRIER</th>\n",
       "      <th>FL_NUM</th>\n",
       "      <th>ORIGIN</th>\n",
       "      <th>...</th>\n",
       "      <th>DEP_TIME</th>\n",
       "      <th>DEP_DELAY</th>\n",
       "      <th>ARR_TIME</th>\n",
       "      <th>ARR_DELAY</th>\n",
       "      <th>CARRIER_DELAY</th>\n",
       "      <th>WEATHER_DELAY</th>\n",
       "      <th>NAS_DELAY</th>\n",
       "      <th>SECURITY_DELAY</th>\n",
       "      <th>LATE_AIRCRAFT_DELAY</th>\n",
       "      <th>Unnamed: 23</th>\n",
       "    </tr>\n",
       "  </thead>\n",
       "  <tbody>\n",
       "    <tr>\n",
       "      <th>4868391</th>\n",
       "      <td>9080</td>\n",
       "      <td>2014</td>\n",
       "      <td>4</td>\n",
       "      <td>10</td>\n",
       "      <td>23</td>\n",
       "      <td>4</td>\n",
       "      <td>2014-10-23</td>\n",
       "      <td>AA</td>\n",
       "      <td>355</td>\n",
       "      <td>LGA</td>\n",
       "      <td>...</td>\n",
       "      <td>1830.0</td>\n",
       "      <td>30.0</td>\n",
       "      <td>1952.0</td>\n",
       "      <td>12.0</td>\n",
       "      <td>NaN</td>\n",
       "      <td>NaN</td>\n",
       "      <td>NaN</td>\n",
       "      <td>NaN</td>\n",
       "      <td>NaN</td>\n",
       "      <td>NaN</td>\n",
       "    </tr>\n",
       "    <tr>\n",
       "      <th>1200407</th>\n",
       "      <td>209417</td>\n",
       "      <td>2014</td>\n",
       "      <td>4</td>\n",
       "      <td>12</td>\n",
       "      <td>5</td>\n",
       "      <td>5</td>\n",
       "      <td>2014-12-05</td>\n",
       "      <td>HA</td>\n",
       "      <td>342</td>\n",
       "      <td>HNL</td>\n",
       "      <td>...</td>\n",
       "      <td>806.0</td>\n",
       "      <td>-8.0</td>\n",
       "      <td>856.0</td>\n",
       "      <td>-8.0</td>\n",
       "      <td>NaN</td>\n",
       "      <td>NaN</td>\n",
       "      <td>NaN</td>\n",
       "      <td>NaN</td>\n",
       "      <td>NaN</td>\n",
       "      <td>NaN</td>\n",
       "    </tr>\n",
       "    <tr>\n",
       "      <th>5278920</th>\n",
       "      <td>419609</td>\n",
       "      <td>2014</td>\n",
       "      <td>4</td>\n",
       "      <td>10</td>\n",
       "      <td>10</td>\n",
       "      <td>5</td>\n",
       "      <td>2014-10-10</td>\n",
       "      <td>WN</td>\n",
       "      <td>2608</td>\n",
       "      <td>BDL</td>\n",
       "      <td>...</td>\n",
       "      <td>1430.0</td>\n",
       "      <td>0.0</td>\n",
       "      <td>1535.0</td>\n",
       "      <td>-10.0</td>\n",
       "      <td>NaN</td>\n",
       "      <td>NaN</td>\n",
       "      <td>NaN</td>\n",
       "      <td>NaN</td>\n",
       "      <td>NaN</td>\n",
       "      <td>NaN</td>\n",
       "    </tr>\n",
       "    <tr>\n",
       "      <th>2900240</th>\n",
       "      <td>8636</td>\n",
       "      <td>2014</td>\n",
       "      <td>2</td>\n",
       "      <td>6</td>\n",
       "      <td>1</td>\n",
       "      <td>7</td>\n",
       "      <td>2014-06-01</td>\n",
       "      <td>AA</td>\n",
       "      <td>88</td>\n",
       "      <td>HOU</td>\n",
       "      <td>...</td>\n",
       "      <td>1141.0</td>\n",
       "      <td>26.0</td>\n",
       "      <td>1244.0</td>\n",
       "      <td>19.0</td>\n",
       "      <td>1.0</td>\n",
       "      <td>0.0</td>\n",
       "      <td>0.0</td>\n",
       "      <td>0.0</td>\n",
       "      <td>18.0</td>\n",
       "      <td>NaN</td>\n",
       "    </tr>\n",
       "    <tr>\n",
       "      <th>1026587</th>\n",
       "      <td>35597</td>\n",
       "      <td>2014</td>\n",
       "      <td>4</td>\n",
       "      <td>12</td>\n",
       "      <td>13</td>\n",
       "      <td>6</td>\n",
       "      <td>2014-12-13</td>\n",
       "      <td>AA</td>\n",
       "      <td>2286</td>\n",
       "      <td>SAT</td>\n",
       "      <td>...</td>\n",
       "      <td>952.0</td>\n",
       "      <td>-3.0</td>\n",
       "      <td>1052.0</td>\n",
       "      <td>-13.0</td>\n",
       "      <td>NaN</td>\n",
       "      <td>NaN</td>\n",
       "      <td>NaN</td>\n",
       "      <td>NaN</td>\n",
       "      <td>NaN</td>\n",
       "      <td>NaN</td>\n",
       "    </tr>\n",
       "  </tbody>\n",
       "</table>\n",
       "<p>5 rows × 25 columns</p>\n",
       "</div>"
      ],
      "text/plain": [
       "         Unnamed: 0  YEAR  QUARTER  MONTH  DAY_OF_MONTH  DAY_OF_WEEK  \\\n",
       "4868391        9080  2014        4     10            23            4   \n",
       "1200407      209417  2014        4     12             5            5   \n",
       "5278920      419609  2014        4     10            10            5   \n",
       "2900240        8636  2014        2      6             1            7   \n",
       "1026587       35597  2014        4     12            13            6   \n",
       "\n",
       "            FL_DATE CARRIER  FL_NUM ORIGIN     ...      DEP_TIME DEP_DELAY  \\\n",
       "4868391  2014-10-23      AA     355    LGA     ...        1830.0      30.0   \n",
       "1200407  2014-12-05      HA     342    HNL     ...         806.0      -8.0   \n",
       "5278920  2014-10-10      WN    2608    BDL     ...        1430.0       0.0   \n",
       "2900240  2014-06-01      AA      88    HOU     ...        1141.0      26.0   \n",
       "1026587  2014-12-13      AA    2286    SAT     ...         952.0      -3.0   \n",
       "\n",
       "        ARR_TIME ARR_DELAY CARRIER_DELAY  WEATHER_DELAY  NAS_DELAY  \\\n",
       "4868391   1952.0      12.0           NaN            NaN        NaN   \n",
       "1200407    856.0      -8.0           NaN            NaN        NaN   \n",
       "5278920   1535.0     -10.0           NaN            NaN        NaN   \n",
       "2900240   1244.0      19.0           1.0            0.0        0.0   \n",
       "1026587   1052.0     -13.0           NaN            NaN        NaN   \n",
       "\n",
       "         SECURITY_DELAY  LATE_AIRCRAFT_DELAY  Unnamed: 23  \n",
       "4868391             NaN                  NaN          NaN  \n",
       "1200407             NaN                  NaN          NaN  \n",
       "5278920             NaN                  NaN          NaN  \n",
       "2900240             0.0                 18.0          NaN  \n",
       "1026587             NaN                  NaN          NaN  \n",
       "\n",
       "[5 rows x 25 columns]"
      ]
     },
     "execution_count": 2,
     "metadata": {},
     "output_type": "execute_result"
    }
   ],
   "source": [
    "#Read CSV File and inspect data\n",
    "AirlineData = pd.read_csv(\"AirlineDelay2014.csv\")\n",
    "AirlineData.sample(n=5)"
   ]
  },
  {
   "cell_type": "code",
   "execution_count": 3,
   "metadata": {
    "collapsed": false,
    "scrolled": true
   },
   "outputs": [
    {
     "data": {
      "text/plain": [
       "(0.0, 373.0)"
      ]
     },
     "execution_count": 3,
     "metadata": {},
     "output_type": "execute_result"
    }
   ],
   "source": [
    "#Check the data to find the maximum and minimum values for Security Delays.\n",
    "AirlineData.SECURITY_DELAY.min(), AirlineData.SECURITY_DELAY.max()"
   ]
  },
  {
   "cell_type": "code",
   "execution_count": 4,
   "metadata": {
    "collapsed": false,
    "scrolled": false
   },
   "outputs": [
    {
     "data": {
      "text/plain": [
       "Unnamed: 0               int64\n",
       "YEAR                     int64\n",
       "QUARTER                  int64\n",
       "MONTH                    int64\n",
       "DAY_OF_MONTH             int64\n",
       "DAY_OF_WEEK              int64\n",
       "FL_DATE                 object\n",
       "CARRIER                 object\n",
       "FL_NUM                   int64\n",
       "ORIGIN                  object\n",
       "ORIGIN_CITY_NAME        object\n",
       "ORIGIN_STATE_ABR        object\n",
       "DEST                    object\n",
       "DEST_CITY_NAME          object\n",
       "DEST_STATE_ABR          object\n",
       "DEP_TIME               float64\n",
       "DEP_DELAY              float64\n",
       "ARR_TIME               float64\n",
       "ARR_DELAY              float64\n",
       "CARRIER_DELAY          float64\n",
       "WEATHER_DELAY          float64\n",
       "NAS_DELAY              float64\n",
       "SECURITY_DELAY         float64\n",
       "LATE_AIRCRAFT_DELAY    float64\n",
       "Unnamed: 23            float64\n",
       "dtype: object"
      ]
     },
     "execution_count": 4,
     "metadata": {},
     "output_type": "execute_result"
    }
   ],
   "source": [
    "# Check the data structure\n",
    "AirlineData.dtypes"
   ]
  },
  {
   "cell_type": "code",
   "execution_count": 5,
   "metadata": {
    "collapsed": false
   },
   "outputs": [
    {
     "data": {
      "text/plain": [
       "(5819811, 25)"
      ]
     },
     "execution_count": 5,
     "metadata": {},
     "output_type": "execute_result"
    }
   ],
   "source": [
    "# Data set volume\n",
    "AirlineData.shape"
   ]
  },
  {
   "cell_type": "code",
   "execution_count": 6,
   "metadata": {
    "collapsed": true
   },
   "outputs": [],
   "source": [
    "# Delete unwanted columns\n",
    "AirlineData.drop(['Unnamed: 23','Unnamed: 0' ], axis=1, inplace=True)"
   ]
  },
  {
   "cell_type": "code",
   "execution_count": 7,
   "metadata": {
    "collapsed": false
   },
   "outputs": [
    {
     "data": {
      "text/plain": [
       "YEAR                         0\n",
       "QUARTER                      0\n",
       "MONTH                        0\n",
       "DAY_OF_MONTH                 0\n",
       "DAY_OF_WEEK                  0\n",
       "FL_DATE                      0\n",
       "CARRIER                      0\n",
       "FL_NUM                       0\n",
       "ORIGIN                       0\n",
       "ORIGIN_CITY_NAME             0\n",
       "ORIGIN_STATE_ABR             0\n",
       "DEST                         0\n",
       "DEST_CITY_NAME               0\n",
       "DEST_STATE_ABR               0\n",
       "DEP_TIME                122742\n",
       "DEP_DELAY               122742\n",
       "ARR_TIME                129628\n",
       "ARR_DELAY               141433\n",
       "CARRIER_DELAY          4579283\n",
       "WEATHER_DELAY          4579283\n",
       "NAS_DELAY              4579283\n",
       "SECURITY_DELAY         4579283\n",
       "LATE_AIRCRAFT_DELAY    4579283\n",
       "dtype: int64"
      ]
     },
     "execution_count": 7,
     "metadata": {},
     "output_type": "execute_result"
    }
   ],
   "source": [
    "#Check and remove data with null values\n",
    "AirlineData.isnull().sum()"
   ]
  },
  {
   "cell_type": "code",
   "execution_count": 8,
   "metadata": {
    "collapsed": false
   },
   "outputs": [
    {
     "data": {
      "text/plain": [
       "YEAR                   0\n",
       "QUARTER                0\n",
       "MONTH                  0\n",
       "DAY_OF_MONTH           0\n",
       "DAY_OF_WEEK            0\n",
       "FL_DATE                0\n",
       "CARRIER                0\n",
       "FL_NUM                 0\n",
       "ORIGIN                 0\n",
       "ORIGIN_CITY_NAME       0\n",
       "ORIGIN_STATE_ABR       0\n",
       "DEST                   0\n",
       "DEST_CITY_NAME         0\n",
       "DEST_STATE_ABR         0\n",
       "DEP_TIME               0\n",
       "DEP_DELAY              0\n",
       "ARR_TIME               0\n",
       "ARR_DELAY              0\n",
       "CARRIER_DELAY          0\n",
       "WEATHER_DELAY          0\n",
       "NAS_DELAY              0\n",
       "SECURITY_DELAY         0\n",
       "LATE_AIRCRAFT_DELAY    0\n",
       "dtype: int64"
      ]
     },
     "execution_count": 8,
     "metadata": {},
     "output_type": "execute_result"
    }
   ],
   "source": [
    "NewAirlineData = AirlineData.dropna()\n",
    "NewAirlineData.isnull().sum()"
   ]
  },
  {
   "cell_type": "code",
   "execution_count": 9,
   "metadata": {
    "collapsed": false
   },
   "outputs": [
    {
     "data": {
      "text/plain": [
       "(1240528, 23)"
      ]
     },
     "execution_count": 9,
     "metadata": {},
     "output_type": "execute_result"
    }
   ],
   "source": [
    "NewAirlineData.shape"
   ]
  },
  {
   "cell_type": "code",
   "execution_count": 10,
   "metadata": {
    "collapsed": false,
    "scrolled": true
   },
   "outputs": [
    {
     "data": {
      "text/html": [
       "<div>\n",
       "<table border=\"1\" class=\"dataframe\">\n",
       "  <thead>\n",
       "    <tr style=\"text-align: right;\">\n",
       "      <th></th>\n",
       "      <th>YEAR</th>\n",
       "      <th>QUARTER</th>\n",
       "      <th>MONTH</th>\n",
       "      <th>DAY_OF_MONTH</th>\n",
       "      <th>DAY_OF_WEEK</th>\n",
       "      <th>FL_NUM</th>\n",
       "      <th>DEP_TIME</th>\n",
       "      <th>DEP_DELAY</th>\n",
       "      <th>ARR_TIME</th>\n",
       "      <th>ARR_DELAY</th>\n",
       "      <th>CARRIER_DELAY</th>\n",
       "      <th>WEATHER_DELAY</th>\n",
       "      <th>NAS_DELAY</th>\n",
       "      <th>SECURITY_DELAY</th>\n",
       "      <th>LATE_AIRCRAFT_DELAY</th>\n",
       "    </tr>\n",
       "  </thead>\n",
       "  <tbody>\n",
       "    <tr>\n",
       "      <th>count</th>\n",
       "      <td>1240528.0</td>\n",
       "      <td>1.240528e+06</td>\n",
       "      <td>1.240528e+06</td>\n",
       "      <td>1.240528e+06</td>\n",
       "      <td>1.240528e+06</td>\n",
       "      <td>1.240528e+06</td>\n",
       "      <td>1.240528e+06</td>\n",
       "      <td>1.240528e+06</td>\n",
       "      <td>1.240528e+06</td>\n",
       "      <td>1.240528e+06</td>\n",
       "      <td>1.240528e+06</td>\n",
       "      <td>1.240528e+06</td>\n",
       "      <td>1.240528e+06</td>\n",
       "      <td>1.240528e+06</td>\n",
       "      <td>1.240528e+06</td>\n",
       "    </tr>\n",
       "    <tr>\n",
       "      <th>mean</th>\n",
       "      <td>2014.0</td>\n",
       "      <td>2.446998e+00</td>\n",
       "      <td>6.342694e+00</td>\n",
       "      <td>1.539092e+01</td>\n",
       "      <td>3.866393e+00</td>\n",
       "      <td>2.395710e+03</td>\n",
       "      <td>1.531705e+03</td>\n",
       "      <td>5.185282e+01</td>\n",
       "      <td>1.614907e+03</td>\n",
       "      <td>5.668309e+01</td>\n",
       "      <td>1.713739e+01</td>\n",
       "      <td>2.409191e+00</td>\n",
       "      <td>1.331655e+01</td>\n",
       "      <td>5.267918e-02</td>\n",
       "      <td>2.376729e+01</td>\n",
       "    </tr>\n",
       "    <tr>\n",
       "      <th>std</th>\n",
       "      <td>0.0</td>\n",
       "      <td>1.109951e+00</td>\n",
       "      <td>3.442199e+00</td>\n",
       "      <td>8.814568e+00</td>\n",
       "      <td>1.957543e+00</td>\n",
       "      <td>1.874477e+03</td>\n",
       "      <td>4.608741e+02</td>\n",
       "      <td>6.199925e+01</td>\n",
       "      <td>5.692588e+02</td>\n",
       "      <td>5.962230e+01</td>\n",
       "      <td>4.346679e+01</td>\n",
       "      <td>1.832461e+01</td>\n",
       "      <td>2.694502e+01</td>\n",
       "      <td>1.611986e+00</td>\n",
       "      <td>4.109494e+01</td>\n",
       "    </tr>\n",
       "    <tr>\n",
       "      <th>min</th>\n",
       "      <td>2014.0</td>\n",
       "      <td>1.000000e+00</td>\n",
       "      <td>1.000000e+00</td>\n",
       "      <td>1.000000e+00</td>\n",
       "      <td>1.000000e+00</td>\n",
       "      <td>1.000000e+00</td>\n",
       "      <td>1.000000e+00</td>\n",
       "      <td>-5.100000e+01</td>\n",
       "      <td>1.000000e+00</td>\n",
       "      <td>1.500000e+01</td>\n",
       "      <td>0.000000e+00</td>\n",
       "      <td>0.000000e+00</td>\n",
       "      <td>0.000000e+00</td>\n",
       "      <td>0.000000e+00</td>\n",
       "      <td>0.000000e+00</td>\n",
       "    </tr>\n",
       "    <tr>\n",
       "      <th>25%</th>\n",
       "      <td>2014.0</td>\n",
       "      <td>1.000000e+00</td>\n",
       "      <td>3.000000e+00</td>\n",
       "      <td>8.000000e+00</td>\n",
       "      <td>2.000000e+00</td>\n",
       "      <td>7.590000e+02</td>\n",
       "      <td>1.210000e+03</td>\n",
       "      <td>1.700000e+01</td>\n",
       "      <td>1.318000e+03</td>\n",
       "      <td>2.300000e+01</td>\n",
       "      <td>0.000000e+00</td>\n",
       "      <td>0.000000e+00</td>\n",
       "      <td>0.000000e+00</td>\n",
       "      <td>0.000000e+00</td>\n",
       "      <td>0.000000e+00</td>\n",
       "    </tr>\n",
       "    <tr>\n",
       "      <th>50%</th>\n",
       "      <td>2014.0</td>\n",
       "      <td>2.000000e+00</td>\n",
       "      <td>6.000000e+00</td>\n",
       "      <td>1.500000e+01</td>\n",
       "      <td>4.000000e+00</td>\n",
       "      <td>1.862000e+03</td>\n",
       "      <td>1.603000e+03</td>\n",
       "      <td>3.500000e+01</td>\n",
       "      <td>1.731000e+03</td>\n",
       "      <td>3.700000e+01</td>\n",
       "      <td>2.000000e+00</td>\n",
       "      <td>0.000000e+00</td>\n",
       "      <td>3.000000e+00</td>\n",
       "      <td>0.000000e+00</td>\n",
       "      <td>7.000000e+00</td>\n",
       "    </tr>\n",
       "    <tr>\n",
       "      <th>75%</th>\n",
       "      <td>2014.0</td>\n",
       "      <td>3.000000e+00</td>\n",
       "      <td>9.000000e+00</td>\n",
       "      <td>2.300000e+01</td>\n",
       "      <td>5.000000e+00</td>\n",
       "      <td>3.842000e+03</td>\n",
       "      <td>1.912000e+03</td>\n",
       "      <td>6.600000e+01</td>\n",
       "      <td>2.042000e+03</td>\n",
       "      <td>6.800000e+01</td>\n",
       "      <td>1.700000e+01</td>\n",
       "      <td>0.000000e+00</td>\n",
       "      <td>1.700000e+01</td>\n",
       "      <td>0.000000e+00</td>\n",
       "      <td>3.000000e+01</td>\n",
       "    </tr>\n",
       "    <tr>\n",
       "      <th>max</th>\n",
       "      <td>2014.0</td>\n",
       "      <td>4.000000e+00</td>\n",
       "      <td>1.200000e+01</td>\n",
       "      <td>3.100000e+01</td>\n",
       "      <td>7.000000e+00</td>\n",
       "      <td>9.320000e+03</td>\n",
       "      <td>2.400000e+03</td>\n",
       "      <td>2.402000e+03</td>\n",
       "      <td>2.400000e+03</td>\n",
       "      <td>2.444000e+03</td>\n",
       "      <td>2.402000e+03</td>\n",
       "      <td>1.288000e+03</td>\n",
       "      <td>1.439000e+03</td>\n",
       "      <td>3.730000e+02</td>\n",
       "      <td>1.437000e+03</td>\n",
       "    </tr>\n",
       "  </tbody>\n",
       "</table>\n",
       "</div>"
      ],
      "text/plain": [
       "            YEAR       QUARTER         MONTH  DAY_OF_MONTH   DAY_OF_WEEK  \\\n",
       "count  1240528.0  1.240528e+06  1.240528e+06  1.240528e+06  1.240528e+06   \n",
       "mean      2014.0  2.446998e+00  6.342694e+00  1.539092e+01  3.866393e+00   \n",
       "std          0.0  1.109951e+00  3.442199e+00  8.814568e+00  1.957543e+00   \n",
       "min       2014.0  1.000000e+00  1.000000e+00  1.000000e+00  1.000000e+00   \n",
       "25%       2014.0  1.000000e+00  3.000000e+00  8.000000e+00  2.000000e+00   \n",
       "50%       2014.0  2.000000e+00  6.000000e+00  1.500000e+01  4.000000e+00   \n",
       "75%       2014.0  3.000000e+00  9.000000e+00  2.300000e+01  5.000000e+00   \n",
       "max       2014.0  4.000000e+00  1.200000e+01  3.100000e+01  7.000000e+00   \n",
       "\n",
       "             FL_NUM      DEP_TIME     DEP_DELAY      ARR_TIME     ARR_DELAY  \\\n",
       "count  1.240528e+06  1.240528e+06  1.240528e+06  1.240528e+06  1.240528e+06   \n",
       "mean   2.395710e+03  1.531705e+03  5.185282e+01  1.614907e+03  5.668309e+01   \n",
       "std    1.874477e+03  4.608741e+02  6.199925e+01  5.692588e+02  5.962230e+01   \n",
       "min    1.000000e+00  1.000000e+00 -5.100000e+01  1.000000e+00  1.500000e+01   \n",
       "25%    7.590000e+02  1.210000e+03  1.700000e+01  1.318000e+03  2.300000e+01   \n",
       "50%    1.862000e+03  1.603000e+03  3.500000e+01  1.731000e+03  3.700000e+01   \n",
       "75%    3.842000e+03  1.912000e+03  6.600000e+01  2.042000e+03  6.800000e+01   \n",
       "max    9.320000e+03  2.400000e+03  2.402000e+03  2.400000e+03  2.444000e+03   \n",
       "\n",
       "       CARRIER_DELAY  WEATHER_DELAY     NAS_DELAY  SECURITY_DELAY  \\\n",
       "count   1.240528e+06   1.240528e+06  1.240528e+06    1.240528e+06   \n",
       "mean    1.713739e+01   2.409191e+00  1.331655e+01    5.267918e-02   \n",
       "std     4.346679e+01   1.832461e+01  2.694502e+01    1.611986e+00   \n",
       "min     0.000000e+00   0.000000e+00  0.000000e+00    0.000000e+00   \n",
       "25%     0.000000e+00   0.000000e+00  0.000000e+00    0.000000e+00   \n",
       "50%     2.000000e+00   0.000000e+00  3.000000e+00    0.000000e+00   \n",
       "75%     1.700000e+01   0.000000e+00  1.700000e+01    0.000000e+00   \n",
       "max     2.402000e+03   1.288000e+03  1.439000e+03    3.730000e+02   \n",
       "\n",
       "       LATE_AIRCRAFT_DELAY  \n",
       "count         1.240528e+06  \n",
       "mean          2.376729e+01  \n",
       "std           4.109494e+01  \n",
       "min           0.000000e+00  \n",
       "25%           0.000000e+00  \n",
       "50%           7.000000e+00  \n",
       "75%           3.000000e+01  \n",
       "max           1.437000e+03  "
      ]
     },
     "execution_count": 10,
     "metadata": {},
     "output_type": "execute_result"
    }
   ],
   "source": [
    "NewAirlineData.describe()"
   ]
  },
  {
   "cell_type": "code",
   "execution_count": 11,
   "metadata": {
    "collapsed": true
   },
   "outputs": [],
   "source": [
    "NewAirlineData.to_csv('Airline.csv')"
   ]
  },
  {
   "cell_type": "code",
   "execution_count": 12,
   "metadata": {
    "collapsed": true
   },
   "outputs": [],
   "source": [
    "AirlineData = pd.read_csv(\"Airline.csv\")"
   ]
  },
  {
   "cell_type": "code",
   "execution_count": 13,
   "metadata": {
    "collapsed": false
   },
   "outputs": [
    {
     "data": {
      "text/plain": [
       "(1240528, 24)"
      ]
     },
     "execution_count": 13,
     "metadata": {},
     "output_type": "execute_result"
    }
   ],
   "source": [
    "AirlineData.shape"
   ]
  },
  {
   "cell_type": "code",
   "execution_count": 14,
   "metadata": {
    "collapsed": true
   },
   "outputs": [],
   "source": [
    "#Add two columns to get Departure Hour and Arrival Hour\n",
    "AirlineData['DEP_HOUR'] = AirlineData['DEP_TIME']//100\n",
    "AirlineData['ARR_HOUR'] = AirlineData['ARR_TIME']//100\n",
    "# Add a column to set a flag 0 or 1 to indicate Security Delay\n",
    "AirlineData['SECURITY_DELAY_FLAG'] = np.where(AirlineData.SECURITY_DELAY == 0, 0 , 1)"
   ]
  },
  {
   "cell_type": "code",
   "execution_count": 15,
   "metadata": {
    "collapsed": true
   },
   "outputs": [],
   "source": [
    "# Filter data for top 10 Airports\n",
    "AirlineData1 = AirlineData[AirlineData['ORIGIN'].isin(['ATL', 'LAX', 'ORD', 'DFW', 'JFK', 'DEN', 'SFO','CLT','LAS','PHX'])]"
   ]
  },
  {
   "cell_type": "code",
   "execution_count": 16,
   "metadata": {
    "collapsed": false
   },
   "outputs": [
    {
     "data": {
      "text/plain": [
       "(476069, 27)"
      ]
     },
     "execution_count": 16,
     "metadata": {},
     "output_type": "execute_result"
    }
   ],
   "source": [
    "AirlineData1.shape"
   ]
  },
  {
   "cell_type": "code",
   "execution_count": 17,
   "metadata": {
    "collapsed": true
   },
   "outputs": [],
   "source": [
    "# Save the cleansed data for analysis\n",
    "AirlineData1.to_csv('Analysis2014.csv')"
   ]
  },
  {
   "cell_type": "markdown",
   "metadata": {},
   "source": [
    "<h2>Exploratory Data Analysis</h2>\n",
    "<p>In statistics, exploratory data analysis (EDA) is an approach to analyzing data sets to summarize their main characteristics, often with vizual methods. A statistical model can be used or not, but primarily EDA is for seeing what the data can tell us beyond the formal modeling or hypothesis testing task.</p>\n",
    "<p>&nbsp;The pupose of this exercise is to visually analyze to answer the following questions:</p>\n",
    "<p>1. Distribution of security delays</p>\n",
    "<p>2. How security delay is distributed across with Top 10 Airports, showing the outliers.</p>\n",
    "<p>3. Which of the aiports have the most number of security delays?</p>\n",
    "<p>4. How much and what frequency&nbsp;security delay is distributed&nbsp;the years (1989-2015)?</p>\n",
    "<p>5. Which year has the most number of security delays?</p>\n",
    "<p>6. Which airport has more probabilty for security delay?</p>\n",
    "<p>7. Analyze security delay across hour of departure .</p>\n"
   ]
  },
  {
   "cell_type": "code",
   "execution_count": 20,
   "metadata": {
    "collapsed": false,
    "scrolled": false
   },
   "outputs": [
    {
     "data": {
      "image/png": "[encoded data removed]",
      "text/plain": [
       "<matplotlib.figure.Figure at 0xe081710>"
      ]
     },
     "metadata": {},
     "output_type": "display_data"
    }
   ],
   "source": [
    "AirlineData = pd.read_csv(\"Analysis2014.csv\")\n",
    "AirlineData1 = AirlineData[AirlineData.SECURITY_DELAY > 0]\n",
    "plt.hist(AirlineData1.SECURITY_DELAY,bins = 30, normed=1, alpha=0.75 )\n",
    "plt.xlim(-10,400)\n",
    "plt.xlabel('Minutes')\n",
    "plt.ylabel('Probability')\n",
    "plt.title('Security Delay Distribution')\n",
    "plt.grid(b=True, which='both', color='0.65',linestyle='-')"
   ]
  },
  {
   "cell_type": "markdown",
   "metadata": {},
   "source": [
    "Analyzing the distribution of Security Delay reveals that most of the flights were delayed by less than 50 minutes. This implies there is a higher probability of shorter security delays.\n",
    "\n",
    "Next we analyze the log-normal distribution of security delays."
   ]
  },
  {
   "cell_type": "code",
   "execution_count": 21,
   "metadata": {
    "collapsed": false
   },
   "outputs": [
    {
     "data": {
      "image/png": "[encoded data removed]",
      "text/plain": [
       "<matplotlib.figure.Figure at 0x16005128>"
      ]
     },
     "metadata": {},
     "output_type": "display_data"
    }
   ],
   "source": [
    "scipy.stats.lognorm\n",
    "plt.hist(AirlineData1.SECURITY_DELAY, bins=30, normed=True, color='c', alpha=0.75)\n",
    "xmin = AirlineData1.SECURITY_DELAY.min()\n",
    "xmax = AirlineData1.SECURITY_DELAY.max()\n",
    "s = np.std(AirlineData1.SECURITY_DELAY)\n",
    "x = np.linspace(xmin, xmax, 100)\n",
    "pdf = stats.lognorm.pdf(x, s, scale=1)\n",
    "plt.plot(x, pdf, 'k')\n",
    "plt.grid(b=True, which='both', color='0.65',linestyle='-')"
   ]
  },
  {
   "cell_type": "code",
   "execution_count": 4,
   "metadata": {
    "collapsed": false,
    "scrolled": false
   },
   "outputs": [
    {
     "data": {
      "text/plain": [
       "<matplotlib.text.Text at 0x1407c7b8>"
      ]
     },
     "execution_count": 4,
     "metadata": {},
     "output_type": "execute_result"
    },
    {
     "data": {
      "image/png": "[encoded data removed]",
      "text/plain": [
       "<matplotlib.figure.Figure at 0xa17dd68>"
      ]
     },
     "metadata": {},
     "output_type": "display_data"
    }
   ],
   "source": [
    "# Boxplot to check the distribution based on Top Ten Airports\n",
    "AirlineData1.boxplot(column='SECURITY_DELAY', by ='ORIGIN')\n",
    "plt.xlabel('2014 Top 10 Airports')\n",
    "plt.ylabel('Minutes')\n",
    "plt.title('Security Delay Distribution - 2014 Top 10 Airports')"
   ]
  },
  {
   "cell_type": "markdown",
   "metadata": {},
   "source": [
    "There are some outliers in all Airports, but they are more frequest in PHX (Phoenix) Airport, but extreme outliers are observed in ATL (Atlanta). We also need to check the count of Security delays in these Airports."
   ]
  },
  {
   "cell_type": "code",
   "execution_count": 6,
   "metadata": {
    "collapsed": false,
    "scrolled": false
   },
   "outputs": [
    {
     "data": {
      "image/png": "[encoded data removed]",
      "text/plain": [
       "<matplotlib.figure.Figure at 0x113c6128>"
      ]
     },
     "metadata": {},
     "output_type": "display_data"
    }
   ],
   "source": [
    "temp1 = AirlineData[AirlineData.SECURITY_DELAY_FLAG > 0]\n",
    "temp2 = temp1.groupby('ORIGIN').SECURITY_DELAY_FLAG.count()\n",
    "#temp2\n",
    "temp2.plot(kind='bar', color='#DEB887')\n",
    "plt.xlabel('2014 Top 10 Airports')\n",
    "plt.ylabel('Number of Flights')\n",
    "plt.title(' Number of Security Delays - 2014 Top 10 Airports')\n",
    "plt.grid(b=True, which='both', color='0.65',linestyle='-')"
   ]
  },
  {
   "cell_type": "code",
   "execution_count": null,
   "metadata": {
    "collapsed": true
   },
   "outputs": [],
   "source": [
    "Just by loooking of the security delays PHX (Phoenix) and CLT (Charlotte) seem to be on the higher side, \n",
    "but it would be more interesting to see how they measure up against the total number of flights. Next graph provides\n",
    "that insight."
   ]
  },
  {
   "cell_type": "code",
   "execution_count": 8,
   "metadata": {
    "collapsed": false
   },
   "outputs": [
    {
     "data": {
      "image/png": "[encoded data removed]",
      "text/plain": [
       "<matplotlib.figure.Figure at 0x14154128>"
      ]
     },
     "metadata": {},
     "output_type": "display_data"
    }
   ],
   "source": [
    "#temp1 = AirlineData[AirlineData.SECURITY_DELAY_FLAG > 0]\n",
    "#temp2 = temp1.groupby('ORIGIN').SECURITY_DELAY_FLAG.count()\n",
    "temp2 = (AirlineData.groupby('ORIGIN').SECURITY_DELAY_FLAG.sum()* 100)/AirlineData.groupby('ORIGIN').SECURITY_DELAY_FLAG.count()\n",
    "temp2.plot(kind='bar', color='#DEB887')\n",
    "plt.xlabel('2014 Top 10 Airports')\n",
    "plt.ylabel('Percentage')\n",
    "plt.title(' Percentage of Security Delays - 2014 Top 10 Airports')\n",
    "plt.grid(b=True, which='both', color='0.65',linestyle='-')"
   ]
  },
  {
   "cell_type": "markdown",
   "metadata": {},
   "source": [
    "We notice that CLT (Charlotte), PHX (Phoenix) and JFK (New York) have the highest percentage of Security delays while DEN (Denver) has the lowest percentage.\n",
    "\n",
    "Next we switch to analyze the security delays for the months of 2014."
   ]
  },
  {
   "cell_type": "code",
   "execution_count": 9,
   "metadata": {
    "collapsed": false,
    "scrolled": false
   },
   "outputs": [
    {
     "data": {
      "image/png": "[encoded data removed]",
      "text/plain": [
       "<matplotlib.figure.Figure at 0xf010a90>"
      ]
     },
     "metadata": {},
     "output_type": "display_data"
    }
   ],
   "source": [
    "# Boxplot to check the distribution based on Year\n",
    "AirlineData1.boxplot(column='SECURITY_DELAY', by ='MONTH')\n",
    "plt.xlabel('Month')\n",
    "plt.ylabel('Minutes')\n",
    "plt.title('Security Delay Distribution in 2014 - Top 10 Airports')\n",
    "plt.grid(b=True, which='both', color='0.65',linestyle='-')"
   ]
  },
  {
   "cell_type": "markdown",
   "metadata": {},
   "source": [
    "The most outliers (major delays) havs occurred in September 2014 while March 2014 seemd to be the least. We will check this against number of flights against probabilty of Security Delays in all months in 2014."
   ]
  },
  {
   "cell_type": "code",
   "execution_count": 24,
   "metadata": {
    "collapsed": false
   },
   "outputs": [
    {
     "data": {
      "image/png": "[encoded data removed]",
      "text/plain": [
       "<matplotlib.figure.Figure at 0xe4c8c18>"
      ]
     },
     "metadata": {},
     "output_type": "display_data"
    }
   ],
   "source": [
    "temp1 = AirlineData.groupby('MONTH').SECURITY_DELAY_FLAG.count()\n",
    "temp2 = AirlineData.groupby('MONTH').SECURITY_DELAY_FLAG.sum()/AirlineData.groupby('MONTH').SECURITY_DELAY_FLAG.count()\n",
    "fig = plt.figure(figsize=(16,4))\n",
    "ax1 = fig.add_subplot(121)\n",
    "temp1.plot(kind='bar')\n",
    "ax1.set_xlabel('Month')\n",
    "ax1.set_ylabel('Number of Flights')\n",
    "ax1.set_title(\"Total Number of Flights from 2014 Top 10 Airports\")\n",
    "temp1.plot(kind='bar')\n",
    "plt.grid(b=True, which='both', color='0.65',linestyle='-')\n",
    "\n",
    "ax2 = fig.add_subplot(122)\n",
    "temp2.plot(kind = 'bar')\n",
    "ax2.set_xlabel('Month')\n",
    "ax2.set_ylabel('Probability of Security Delay')\n",
    "ax2.set_title(\"Probability of Security Delay in 2014 Top 10 Airports\")\n",
    "plt.grid(b=True, which='both', color='0.65',linestyle='-')"
   ]
  },
  {
   "cell_type": "markdown",
   "metadata": {},
   "source": [
    "September 2014 has comparably low number of slights but the highest probability for security delays."
   ]
  },
  {
   "cell_type": "markdown",
   "metadata": {},
   "source": [
    "2007 seem to have the most security delays while it is the least in 2011."
   ]
  },
  {
   "cell_type": "code",
   "execution_count": 17,
   "metadata": {
    "collapsed": false
   },
   "outputs": [
    {
     "data": {
      "image/png": "[encoded data removed]",
      "text/plain": [
       "<matplotlib.figure.Figure at 0xe9cc9b0>"
      ]
     },
     "metadata": {},
     "output_type": "display_data"
    }
   ],
   "source": [
    "## Based on the data available for Security Delays, here is an attempt to plot the distribution \n",
    "##by Top Ten Airports and probabilty of Security Delay\n",
    "\n",
    "temp1 = AirlineData.groupby('ORIGIN').SECURITY_DELAY_FLAG.count()\n",
    "temp2 = AirlineData.groupby('ORIGIN').SECURITY_DELAY_FLAG.sum()/AirlineData.groupby('ORIGIN').SECURITY_DELAY_FLAG.count()\n",
    "fig = plt.figure(figsize=(16,4))\n",
    "ax1 = fig.add_subplot(121)\n",
    "ax1.set_xlabel('Origin')\n",
    "ax1.set_ylabel('Number of Flights')\n",
    "ax1.set_title(\"Total Number of Flights from Top 10 Airports\")\n",
    "temp1.plot(kind='bar')\n",
    "plt.grid(b=True, which='both', color='0.65',linestyle='-')\n",
    "\n",
    "ax2 = fig.add_subplot(122)\n",
    "temp2.plot(kind = 'bar')\n",
    "ax2.set_xlabel('Origin')\n",
    "ax2.set_ylabel('Probability of Security Delay')\n",
    "ax2.set_title(\"Probability of Security Delay in Top 10 Airports\")\n",
    "plt.grid(b=True, which='both', color='0.65',linestyle='-')"
   ]
  },
  {
   "cell_type": "markdown",
   "metadata": {},
   "source": [
    "It is interesting to note that CLT (Charlotte) and PHX (Phoenix) have more Security Delays compated to the flights handles in those airports.\n",
    "\n",
    "The next analysis will look at the probability of security delays based on the hour of departure."
   ]
  },
  {
   "cell_type": "code",
   "execution_count": 18,
   "metadata": {
    "collapsed": false
   },
   "outputs": [
    {
     "data": {
      "image/png": "[encoded data removed]",
      "text/plain": [
       "<matplotlib.figure.Figure at 0xeac3b00>"
      ]
     },
     "metadata": {},
     "output_type": "display_data"
    }
   ],
   "source": [
    "## Based on the data available for Security Delays, here is an attempt to plot the distribution \n",
    "##by hour of departure and probabilty of Security Delay\n",
    "\n",
    "temp1 = AirlineData.groupby('DEP_HOUR').SECURITY_DELAY_FLAG.count()\n",
    "temp2 = AirlineData.groupby('DEP_HOUR').SECURITY_DELAY_FLAG.sum()/AirlineData.groupby('DEP_HOUR').SECURITY_DELAY_FLAG.count()\n",
    "fig = plt.figure(figsize=(16,4))\n",
    "ax1 = fig.add_subplot(121)\n",
    "ax1.set_xlabel('Departure Hour')\n",
    "ax1.set_ylabel('Number of Flights')\n",
    "ax1.set_title(\"Total Number of Flights - Departure Hours\")\n",
    "temp1.plot(kind='bar')\n",
    "plt.grid(b=True, which='both', color='0.65',linestyle='-')\n",
    "\n",
    "ax2 = fig.add_subplot(122)\n",
    "temp2.plot(kind = 'bar')\n",
    "ax2.set_xlabel('Departure Hour')\n",
    "ax2.set_ylabel('Probability of Security Delay')\n",
    "ax2.set_title(\"Probability of Security Delay - Departure Hours\")\n",
    "plt.grid(b=True, which='both', color='0.65',linestyle='-')"
   ]
  },
  {
   "cell_type": "markdown",
   "metadata": {
    "collapsed": true
   },
   "source": [
    "We notice while number of departing flights is progressive throughout the day (peaks at 8PM), however the probability of security delay seemed to be more at 6PM and 8PM as well as in the early morning hours. "
   ]
  },
  {
   "cell_type": "code",
   "execution_count": 22,
   "metadata": {
    "collapsed": false
   },
   "outputs": [
    {
     "data": {
      "image/png": "[encoded data removed]",
      "text/plain": [
       "<matplotlib.figure.Figure at 0x106a7080>"
      ]
     },
     "metadata": {},
     "output_type": "display_data"
    }
   ],
   "source": [
    "## Based on the data available for Security Delays, here is an attempt to plot the distribution \n",
    "##by hDay of Month and probabilty of Security Delay\n",
    "\n",
    "temp1 = AirlineData.groupby('DAY_OF_MONTH').SECURITY_DELAY_FLAG.count()\n",
    "temp2 = AirlineData.groupby('DAY_OF_MONTH').SECURITY_DELAY_FLAG.sum()/AirlineData.groupby('DAY_OF_MONTH').SECURITY_DELAY_FLAG.count()\n",
    "fig = plt.figure(figsize=(16,4))\n",
    "ax1 = fig.add_subplot(121)\n",
    "ax1.set_xlabel('Day of Month')\n",
    "ax1.set_ylabel('Number of Flights')\n",
    "ax1.set_title(\"Total Number of Flights - Day od Month\")\n",
    "temp1.plot(kind='bar')\n",
    "plt.grid(b=True, which='both', color='0.65',linestyle='-')\n",
    "\n",
    "ax2 = fig.add_subplot(122)\n",
    "temp2.plot(kind = 'bar')\n",
    "ax2.set_xlabel('Day of  Month')\n",
    "ax2.set_ylabel('Probability of Security Delay')\n",
    "ax2.set_title(\"Probability of Security Delay - Day of Month\")\n",
    "plt.grid(b=True, which='both', color='0.65',linestyle='-')"
   ]
  },
  {
   "cell_type": "markdown",
   "metadata": {
    "collapsed": true
   },
   "source": [
    "31st day of month has less number of flights, because it accounts only for 6 months. It is also interesting to see  that the first half of month has less probability of Security Delays than 2nd half of the month."
   ]
  },
  {
   "cell_type": "markdown",
   "metadata": {},
   "source": [
    "<h2 style=\"color: #000000;\">Building a Prediction Model</h2>\n",
    "<p>It's time to go beyond the exploratory analysis and build a model for prediction.</p>\n",
    "<p>The Security Delay focuses on 2014 Top 10 Airports. We need to look at all the available attributes in the data set and pick the variables that are potential candidates for the model.</p>\n",
    "<p>After carefully checking the attributes, we pick the following:-</p>\n",
    "<p>1. Month</p>\n",
    "<p>2. Day of month</p>\n",
    "<p>3. Day of week</p>\n",
    "<p>4. Departure Hour</p>\n",
    "<p>In addition, we will also bring in Daily Weather data for further analysis.</p>\n",
    "<p>&nbsp;</p>"
   ]
  },
  {
   "cell_type": "markdown",
   "metadata": {},
   "source": [
    "## Building a Model using only Month"
   ]
  },
  {
   "cell_type": "code",
   "execution_count": 39,
   "metadata": {
    "collapsed": false
   },
   "outputs": [],
   "source": [
    "# Trimming the data set needed for this analysis\n",
    "Temp1 = pd.read_csv(\"Analysis2014.csv\")\n",
    "Temp2 = Temp1[Temp1.SECURITY_DELAY > 0]\n",
    "Temp3 = Temp2.loc[:,('MONTH','SECURITY_DELAY','SECURITY_DELAY_FLAG' )]\n",
    "Temp4 = Temp3.groupby('MONTH').SECURITY_DELAY.sum()\n",
    "Temp5 = pd.DataFrame({'SECURITY_DELAY' : Temp4})\n",
    "#name the index\n",
    "Temp5.index.names = ['MONTH']\n",
    "Temp5.to_csv('Temp5.csv') \n"
   ]
  },
  {
   "cell_type": "code",
   "execution_count": 50,
   "metadata": {
    "collapsed": false
   },
   "outputs": [],
   "source": [
    "# Trimming the data set needed for this analysis\n",
    "Temp1 = pd.read_csv(\"Analysis2014.csv\")\n",
    "Temp2 = Temp1[Temp1.SECURITY_DELAY > 0]\n",
    "Temp3 = Temp2.loc[:,('MONTH','DAY_OF_MONTH','DAY_OF_WEEK','DEP_HOUR','SECURITY_DELAY','SECURITY_DELAY_FLAG' )]\n",
    "Temp4 = Temp3.groupby(['MONTH','DAY_OF_MONTH','DAY_OF_WEEK','DEP_HOUR']).SECURITY_DELAY.sum()\n",
    "Temp5 = pd.DataFrame({'SECURITY_DELAY' : Temp4})\n",
    "Temp5.index.names = ['MONTH','DAY_OF_MONTH','DAY_OF_WEEK','DEP_HOUR']\n",
    "Temp5.to_csv('Temp5.csv') "
   ]
  },
  {
   "cell_type": "markdown",
   "metadata": {
    "collapsed": true
   },
   "source": [
    "Modeling and Prediction\n",
    "We will try to build a model based on Month "
   ]
  },
  {
   "cell_type": "code",
   "execution_count": 51,
   "metadata": {
    "collapsed": false
   },
   "outputs": [
    {
     "data": {
      "text/html": [
       "<div>\n",
       "<table border=\"1\" class=\"dataframe\">\n",
       "  <thead>\n",
       "    <tr style=\"text-align: right;\">\n",
       "      <th></th>\n",
       "      <th>MONTH</th>\n",
       "      <th>DAY_OF_MONTH</th>\n",
       "      <th>DAY_OF_WEEK</th>\n",
       "      <th>DEP_HOUR</th>\n",
       "      <th>SECURITY_DELAY</th>\n",
       "    </tr>\n",
       "  </thead>\n",
       "  <tbody>\n",
       "    <tr>\n",
       "      <th>0</th>\n",
       "      <td>1</td>\n",
       "      <td>1</td>\n",
       "      <td>3</td>\n",
       "      <td>13.0</td>\n",
       "      <td>7.0</td>\n",
       "    </tr>\n",
       "    <tr>\n",
       "      <th>1</th>\n",
       "      <td>1</td>\n",
       "      <td>1</td>\n",
       "      <td>3</td>\n",
       "      <td>16.0</td>\n",
       "      <td>16.0</td>\n",
       "    </tr>\n",
       "    <tr>\n",
       "      <th>2</th>\n",
       "      <td>1</td>\n",
       "      <td>2</td>\n",
       "      <td>4</td>\n",
       "      <td>1.0</td>\n",
       "      <td>8.0</td>\n",
       "    </tr>\n",
       "    <tr>\n",
       "      <th>3</th>\n",
       "      <td>1</td>\n",
       "      <td>2</td>\n",
       "      <td>4</td>\n",
       "      <td>21.0</td>\n",
       "      <td>33.0</td>\n",
       "    </tr>\n",
       "    <tr>\n",
       "      <th>4</th>\n",
       "      <td>1</td>\n",
       "      <td>3</td>\n",
       "      <td>5</td>\n",
       "      <td>6.0</td>\n",
       "      <td>17.0</td>\n",
       "    </tr>\n",
       "    <tr>\n",
       "      <th>5</th>\n",
       "      <td>1</td>\n",
       "      <td>3</td>\n",
       "      <td>5</td>\n",
       "      <td>9.0</td>\n",
       "      <td>37.0</td>\n",
       "    </tr>\n",
       "    <tr>\n",
       "      <th>6</th>\n",
       "      <td>1</td>\n",
       "      <td>3</td>\n",
       "      <td>5</td>\n",
       "      <td>10.0</td>\n",
       "      <td>35.0</td>\n",
       "    </tr>\n",
       "    <tr>\n",
       "      <th>7</th>\n",
       "      <td>1</td>\n",
       "      <td>3</td>\n",
       "      <td>5</td>\n",
       "      <td>11.0</td>\n",
       "      <td>24.0</td>\n",
       "    </tr>\n",
       "    <tr>\n",
       "      <th>8</th>\n",
       "      <td>1</td>\n",
       "      <td>3</td>\n",
       "      <td>5</td>\n",
       "      <td>12.0</td>\n",
       "      <td>6.0</td>\n",
       "    </tr>\n",
       "    <tr>\n",
       "      <th>9</th>\n",
       "      <td>1</td>\n",
       "      <td>3</td>\n",
       "      <td>5</td>\n",
       "      <td>21.0</td>\n",
       "      <td>23.0</td>\n",
       "    </tr>\n",
       "    <tr>\n",
       "      <th>10</th>\n",
       "      <td>1</td>\n",
       "      <td>4</td>\n",
       "      <td>6</td>\n",
       "      <td>8.0</td>\n",
       "      <td>9.0</td>\n",
       "    </tr>\n",
       "    <tr>\n",
       "      <th>11</th>\n",
       "      <td>1</td>\n",
       "      <td>4</td>\n",
       "      <td>6</td>\n",
       "      <td>12.0</td>\n",
       "      <td>3.0</td>\n",
       "    </tr>\n",
       "    <tr>\n",
       "      <th>12</th>\n",
       "      <td>1</td>\n",
       "      <td>4</td>\n",
       "      <td>6</td>\n",
       "      <td>16.0</td>\n",
       "      <td>15.0</td>\n",
       "    </tr>\n",
       "    <tr>\n",
       "      <th>13</th>\n",
       "      <td>1</td>\n",
       "      <td>4</td>\n",
       "      <td>6</td>\n",
       "      <td>17.0</td>\n",
       "      <td>9.0</td>\n",
       "    </tr>\n",
       "    <tr>\n",
       "      <th>14</th>\n",
       "      <td>1</td>\n",
       "      <td>4</td>\n",
       "      <td>6</td>\n",
       "      <td>18.0</td>\n",
       "      <td>22.0</td>\n",
       "    </tr>\n",
       "  </tbody>\n",
       "</table>\n",
       "</div>"
      ],
      "text/plain": [
       "    MONTH  DAY_OF_MONTH  DAY_OF_WEEK  DEP_HOUR  SECURITY_DELAY\n",
       "0       1             1            3      13.0             7.0\n",
       "1       1             1            3      16.0            16.0\n",
       "2       1             2            4       1.0             8.0\n",
       "3       1             2            4      21.0            33.0\n",
       "4       1             3            5       6.0            17.0\n",
       "5       1             3            5       9.0            37.0\n",
       "6       1             3            5      10.0            35.0\n",
       "7       1             3            5      11.0            24.0\n",
       "8       1             3            5      12.0             6.0\n",
       "9       1             3            5      21.0            23.0\n",
       "10      1             4            6       8.0             9.0\n",
       "11      1             4            6      12.0             3.0\n",
       "12      1             4            6      16.0            15.0\n",
       "13      1             4            6      17.0             9.0\n",
       "14      1             4            6      18.0            22.0"
      ]
     },
     "execution_count": 51,
     "metadata": {},
     "output_type": "execute_result"
    }
   ],
   "source": [
    "Temp5 = pd.read_csv(\"Temp5.csv\")\n",
    "Temp5.head(15)"
   ]
  },
  {
   "cell_type": "code",
   "execution_count": 60,
   "metadata": {
    "collapsed": false
   },
   "outputs": [],
   "source": [
    "predictors = Temp5[['MONTH','DAY_OF_MONTH','DAY_OF_WEEK','DEP_HOUR']]\n",
    "targets = Temp5.SECURITY_DELAY\n",
    "\n",
    "pred_train, pred_test, tar_train, tar_test  =   train_test_split(predictors, targets, test_size=.3)"
   ]
  },
  {
   "cell_type": "code",
   "execution_count": 61,
   "metadata": {
    "collapsed": false
   },
   "outputs": [
    {
     "data": {
      "text/plain": [
       "(786, 4)"
      ]
     },
     "execution_count": 61,
     "metadata": {},
     "output_type": "execute_result"
    }
   ],
   "source": [
    "pred_train.shape"
   ]
  },
  {
   "cell_type": "code",
   "execution_count": 62,
   "metadata": {
    "collapsed": false
   },
   "outputs": [
    {
     "data": {
      "text/plain": [
       "(337, 4)"
      ]
     },
     "execution_count": 62,
     "metadata": {},
     "output_type": "execute_result"
    }
   ],
   "source": [
    "pred_test.shape"
   ]
  },
  {
   "cell_type": "code",
   "execution_count": 63,
   "metadata": {
    "collapsed": false
   },
   "outputs": [
    {
     "data": {
      "text/plain": [
       "(786L,)"
      ]
     },
     "execution_count": 63,
     "metadata": {},
     "output_type": "execute_result"
    }
   ],
   "source": [
    "tar_train.shape"
   ]
  },
  {
   "cell_type": "code",
   "execution_count": 64,
   "metadata": {
    "collapsed": false
   },
   "outputs": [
    {
     "data": {
      "text/plain": [
       "(337L,)"
      ]
     },
     "execution_count": 64,
     "metadata": {},
     "output_type": "execute_result"
    }
   ],
   "source": [
    "tar_test.shape"
   ]
  },
  {
   "cell_type": "code",
   "execution_count": 65,
   "metadata": {
    "collapsed": false
   },
   "outputs": [
    {
     "data": {
      "text/plain": [
       "LinearRegression(copy_X=True, fit_intercept=True, n_jobs=1, normalize=False)"
      ]
     },
     "execution_count": 65,
     "metadata": {},
     "output_type": "execute_result"
    }
   ],
   "source": [
    "#Build model on training data\n",
    "model = LinearRegression()\n",
    "model.fit(pred_train,tar_train)"
   ]
  },
  {
   "cell_type": "code",
   "execution_count": 66,
   "metadata": {
    "collapsed": false
   },
   "outputs": [
    {
     "data": {
      "text/plain": [
       "\"ccopy_reg\\n_reconstructor\\np0\\n(csklearn.linear_model.base\\nLinearRegression\\np1\\nc__builtin__\\nobject\\np2\\nNtp3\\nRp4\\n(dp5\\nS'normalize'\\np6\\nI00\\nsS'n_jobs'\\np7\\nI1\\nsS'rank_'\\np8\\nI4\\nsS'fit_intercept'\\np9\\nI01\\nsS'_residues'\\np10\\ncnumpy.core.multiarray\\nscalar\\np11\\n(cnumpy\\ndtype\\np12\\n(S'f8'\\np13\\nI0\\nI1\\ntp14\\nRp15\\n(I3\\nS'<'\\np16\\nNNNI-1\\nI-1\\nI0\\ntp17\\nbS'\\\\xa0\\\\xa8\\\\xa4\\\\xa1?10A'\\np18\\ntp19\\nRp20\\nsS'coef_'\\np21\\ncnumpy.core.multiarray\\n_reconstruct\\np22\\n(cnumpy\\nndarray\\np23\\n(I0\\ntp24\\nS'b'\\np25\\ntp26\\nRp27\\n(I1\\n(L4L\\ntp28\\ng15\\nI00\\nS'\\\\x8a\\\\x95e\\\\n\\\\xe9\\\\xc7\\\\xf4?\\\\xd8\\\\xc2\\\\x1c&\\\\xf3\\\\xca\\\\xc8\\\\xbf\\\\r\\\\xd2\\\\xeb\\\\xdf\\\\xfb\\\\xb0\\\\xe8?8\\\\xae\\\\xa6\\\\xda6\\\\x0c\\\\xed?'\\np29\\ntp30\\nbsS'copy_X'\\np31\\nI01\\nsS'intercept_'\\np32\\ng11\\n(g15\\nS'\\\\xa8\\\\xdf\\\\xdf\\\\xf5\\\\xf4\\\\xb6\\\\x01@'\\np33\\ntp34\\nRp35\\nsS'singular_'\\np36\\ng22\\n(g23\\n(I0\\ntp37\\ng25\\ntp38\\nRp39\\n(I1\\n(L4L\\ntp40\\ng15\\nI00\\nS'T\\\\x16\\\\xcf\\\\xd1\\\\x1eco@ \\\\xfe\\\\xaa\\\\xa6\\\\xfd\\\\xf4_@A\\\\x89\\\\xfc\\\\x86\\\\x17\\\\xc4W@\\\\x0b\\\\xd3\\\\xa16\\\\xb4\\\\x86L@'\\np41\\ntp42\\nbsb.\""
      ]
     },
     "execution_count": 66,
     "metadata": {},
     "output_type": "execute_result"
    }
   ],
   "source": [
    "import pickle\n",
    "lm_string=pickle.dumps(model)\n",
    "lm_string"
   ]
  },
  {
   "cell_type": "code",
   "execution_count": 67,
   "metadata": {
    "collapsed": true
   },
   "outputs": [],
   "source": [
    "model=pickle.loads(lm_string)"
   ]
  },
  {
   "cell_type": "code",
   "execution_count": 68,
   "metadata": {
    "collapsed": false
   },
   "outputs": [
    {
     "data": {
      "text/plain": [
       "array([ 27.76297249,  15.07191336,  35.73793098,  18.95580158,\n",
       "        13.81544303,  17.1924953 ,  24.05555221,  19.92154915,\n",
       "        29.29045185,  27.89806257,  27.16197564,  26.56770787,\n",
       "        24.6988555 ,  26.73123569,  24.56119351,  26.34800579,\n",
       "        20.36966291,  23.74306649,  24.89102357,  32.90177611,\n",
       "        29.40057983,  26.0292102 ,  35.13164123,  27.2129024 ,\n",
       "        27.05526437,  24.03053118,  16.55017953,  28.83130362,\n",
       "        28.7240544 ,  23.38485762,  30.38423916,  25.3974204 ,\n",
       "        15.95659791,  34.26914435,  32.73824829,  24.10892258,\n",
       "        32.86804548,  23.08289788,  24.74486956,  22.43475126,\n",
       "        29.56691154,  25.82349469,  12.07587936,  15.64243852,\n",
       "        20.82513297,  23.04056198,  19.36282839,  11.83515479,\n",
       "        28.93560076,  22.76458131,  27.373522  ,  19.126261  ,\n",
       "        25.95329187,  18.10023631,  32.96082912,  10.49280757,\n",
       "        32.38291818,  30.6861989 ,  33.98736231,  32.45366235,\n",
       "        22.46265104,  20.50681641,  30.6039707 ,  22.72807626,\n",
       "        19.36253748,  28.66500138,  21.21987636,  29.97801175,\n",
       "        33.80951711,  26.44894515,  29.566941  ,  30.77949103,\n",
       "        27.74039507,  33.27379387,  23.20118158,  29.68567426,\n",
       "        19.08972648,  37.28849625,  22.15019478,  22.54567864,\n",
       "        19.54570504,  19.92310408,  33.8210306 ,  18.18934179,\n",
       "        29.9251204 ,  25.97533134,  31.37135907,  27.85867876,\n",
       "        26.16435921,  21.60926792,  25.50419061,  16.61458436,\n",
       "        18.75624773,  22.31081438,  20.58273473,  11.41621925,\n",
       "        12.12975822,  35.10664967,  25.48780432,  34.43496757,\n",
       "        27.92647084,  20.03983285,  19.32213669,  31.7007101 ,\n",
       "        23.85599836,  20.94912878,  22.53387423,  18.88604492,\n",
       "        30.15585695,  26.08308906,  30.62080655,  25.21185312,\n",
       "        34.1594954 ,  25.43930675,  24.51470043,  28.21640861,\n",
       "        19.81094215,  26.38403182,   7.11991248,  24.12459325,\n",
       "        16.49214349,  20.28208289,   8.16896416,  20.78327609,\n",
       "         8.13978595,  33.60897575,  23.15884568,  29.83233676,\n",
       "        30.42128217,  25.48783378,  26.00133989,  25.85264343,\n",
       "        25.15797426,  39.66986721,  18.09658762,  16.29746244,\n",
       "        31.37088005,  19.36205846,   9.95526795,  22.17515688,\n",
       "        30.75060374,  23.18722448,  27.0836137 ,  27.51438312,\n",
       "        21.13277536,  26.93647218,  38.34822211,  25.04504238,\n",
       "        38.00152674,  30.93427978,  27.86923421,  17.61146032,\n",
       "        21.98098432,  19.00797731,  29.57794601,  23.44926246,\n",
       "        31.13431265,  16.77523343,  28.02738074,  33.39207756,\n",
       "        21.05637801,  14.95975143,  17.09923264,  25.36957955,\n",
       "        25.98244062,  29.43711435,  28.10912991,  34.48932545,\n",
       "        23.08705506,  20.33468332,  30.47465254,  27.35668615,\n",
       "        22.48002484,  38.31401246,  12.23652842,  18.73941188,\n",
       "        31.4362724 ,  30.75643458,  10.40338171,  22.78195512,\n",
       "        22.77564525,  21.89184937,  27.18503209,  25.35800713,\n",
       "        21.69053807,  14.71905632,  24.29259862,  31.19871749,\n",
       "        23.35935757,  31.46366369,  15.58440249,  23.54835597,\n",
       "        17.97043912,  23.34249226,  31.65834474,  19.25773186,\n",
       "        29.96114643,  25.94749049,  23.59643345,  22.13332947,\n",
       "        25.17534806,  30.98765015,  19.48079171,  15.20783231,\n",
       "        29.77848737,  28.41108965,  29.84869358,  30.46313905,\n",
       "        32.01706209,  34.48884643,  31.26410984,  15.30109498,\n",
       "        15.29696726,  27.19035444,  22.48863011,  18.60910621,\n",
       "        34.61864362,  16.75756871,  14.8429932 ,  20.1885293 ,\n",
       "        18.60958523,  19.72839357,  28.87654775,  17.44640703,\n",
       "        21.99246835,  22.83484646,  31.28046667,  23.20169007,\n",
       "        19.87553509,  29.41212279,  28.79479857,  10.85149546,\n",
       "        35.46150076,  34.70039279,  23.88972899,  33.09645716,\n",
       "        24.01952618,  31.34537999,  26.39509576,  21.29579469,\n",
       "        24.51520892,  24.91572422,  32.05359661,  20.44558124,\n",
       "        17.28160079,  34.44698955,  19.46192191,  18.96731507,\n",
       "        11.15662487,  34.78214197,  26.57874234,  11.67751675,\n",
       "        32.94931563,  28.26442715,  31.59346088,  21.1971802 ,\n",
       "        33.2517544 ,  29.44865731,  16.39152451,  20.38757466,\n",
       "        23.63581726,  20.29479102,  30.92228727,  22.29759776,\n",
       "        29.25442582,  36.8403825 ,  18.12397891,  32.17188031,\n",
       "        32.67333497,  29.33569597,  16.63931448,  22.29394907,\n",
       "        33.12195721,  23.16464706,  24.00215237,  27.65049018,\n",
       "        34.09410305,   7.47964681,  25.65996687,  21.73120031,\n",
       "        19.2807883 ,  21.82030579,  26.05471025,  24.0670657 ,\n",
       "        20.4361017 ,  28.30384043,  24.38541173,  28.67651487,\n",
       "        32.01367485,  13.74105017,  33.13248319,  21.27740391,\n",
       "        17.97830392,  15.51999765,  25.40452967,  27.99948095,\n",
       "        15.73157348,  23.12231116,  26.41241063,  32.43628855,\n",
       "        24.12094456,  19.18701715,  35.33167411,  27.86968377,\n",
       "        16.81461723,  28.25342215,  13.17952552,  29.95062045,\n",
       "        32.02470932,  28.78896772,  25.29315273,  18.16150094,\n",
       "        28.5947657 ,  19.63560993,  26.79611955,  30.20922732,\n",
       "        18.30026918,  21.21404551,  27.88705757,  21.52701026,\n",
       "        26.76774074,  38.69772137,  31.43579337,  16.28642797,\n",
       "        26.68887032,  26.84368854,  28.29280596,  25.22871843,\n",
       "        31.93480443,  32.71274824,  30.59293623,  22.18514491,\n",
       "        10.26039736,  24.24287694,  26.79566999,  33.2094185 ,  24.53252379])"
      ]
     },
     "execution_count": 68,
     "metadata": {},
     "output_type": "execute_result"
    }
   ],
   "source": [
    "predictions = model.predict(pred_test)\n",
    "predictions"
   ]
  },
  {
   "cell_type": "code",
   "execution_count": 69,
   "metadata": {
    "collapsed": false
   },
   "outputs": [
    {
     "name": "stdout",
     "output_type": "stream",
     "text": [
      "('R-Squared : ', 0.018798138375210383)\n"
     ]
    }
   ],
   "source": [
    "print ( 'R-Squared : ', model.score(pred_test, tar_test))"
   ]
  },
  {
   "cell_type": "code",
   "execution_count": 70,
   "metadata": {
    "collapsed": false
   },
   "outputs": [
    {
     "data": {
      "text/plain": [
       "0.018798138375210383"
      ]
     },
     "execution_count": 70,
     "metadata": {},
     "output_type": "execute_result"
    }
   ],
   "source": [
    "sklearn.metrics.r2_score(tar_test, predictions)"
   ]
  },
  {
   "cell_type": "code",
   "execution_count": 71,
   "metadata": {
    "collapsed": false
   },
   "outputs": [
    {
     "data": {
      "text/plain": [
       "<matplotlib.collections.PathCollection at 0xdb46630>"
      ]
     },
     "execution_count": 71,
     "metadata": {},
     "output_type": "execute_result"
    },
    {
     "data": {
      "image/png": "[encoded data removed]",
      "text/plain": [
       "<matplotlib.figure.Figure at 0x1305f748>"
      ]
     },
     "metadata": {},
     "output_type": "display_data"
    }
   ],
   "source": [
    "#Viewing accuracy\n",
    "plt.cla()\n",
    "plt.plot(tar_test, tar_test, c='r')\n",
    "plt.scatter(tar_test, predictions)\n"
   ]
  },
  {
   "cell_type": "code",
   "execution_count": null,
   "metadata": {
    "collapsed": true
   },
   "outputs": [],
   "source": []
  },
  {
   "cell_type": "code",
   "execution_count": null,
   "metadata": {
    "collapsed": true
   },
   "outputs": [],
   "source": []
  }
 ],
 "metadata": {
  "kernelspec": {
   "display_name": "Python 2",
   "language": "python",
   "name": "python2"
  },
  "language_info": {
   "codemirror_mode": {
    "name": "ipython",
    "version": 2
   },
   "file_extension": ".py",
   "mimetype": "text/x-python",
   "name": "python",
   "nbconvert_exporter": "python",
   "pygments_lexer": "ipython2",
   "version": "2.7.11"
  }
 },
 "nbformat": 4,
 "nbformat_minor": 0
}
