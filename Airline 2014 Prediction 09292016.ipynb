{
 "cells": [
  {
   "cell_type": "markdown",
   "metadata": {},
   "source": [
    "<h1 id=\"Airline Delays Prediction\"><span style=\"color: #ff0000;\">Chicago Airport - 2014 Airline Departure Delays Prediction</span></h1>"
   ]
  },
  {
   "cell_type": "markdown",
   "metadata": {},
   "source": [
    "<h2 style=\"text-align: left;\">Initialize libraries, get data sets, consolidate and cleanse.</h2>"
   ]
  },
  {
   "cell_type": "code",
   "execution_count": 1,
   "metadata": {
    "collapsed": false
   },
   "outputs": [],
   "source": [
    "# Importing libraries and the data set\n",
    "from pandas import Series, DataFrame\n",
    "import pandas as pd\n",
    "import glob\n",
    "import numpy as np\n",
    "import os\n",
    "import matplotlib.pylab as plt\n",
    "%matplotlib inline \n",
    "plt.rcParams['figure.figsize'] = 12, 4  # that's default image size for this interactive session\n",
    "import scipy\n",
    "from scipy import stats\n",
    "from sklearn.cross_validation import train_test_split\n",
    "from sklearn import linear_model\n",
    "from sklearn.metrics import confusion_matrix,  precision_recall_fscore_support, accuracy_score\n",
    "from sklearn.preprocessing import Binarizer\n",
    "from sklearn.ensemble import RandomForestClassifier\n",
    "from sklearn.preprocessing import StandardScaler\n",
    "from sklearn import preprocessing\n",
    "import statsmodels.api as sm\n",
    "from sklearn.preprocessing import StandardScaler, OneHotEncoder\n",
    "scaler = StandardScaler()\n",
    "from ggplot import *\n",
    "from sklearn import metrics"
   ]
  },
  {
   "cell_type": "markdown",
   "metadata": {},
   "source": [
    "We will be taking 2014 Chicago dataset."
   ]
  },
  {
   "cell_type": "code",
   "execution_count": 2,
   "metadata": {
    "collapsed": false,
    "scrolled": true
   },
   "outputs": [
    {
     "data": {
      "text/plain": [
       "Unnamed: 0        int64\n",
       "YEAR              int64\n",
       "QUARTER           int64\n",
       "MONTH             int64\n",
       "DAY_OF_MONTH      int64\n",
       "DAY_OF_WEEK       int64\n",
       "FL_DATE          object\n",
       "CARRIER          object\n",
       "FL_NUM            int64\n",
       "ORIGIN           object\n",
       "DEST             object\n",
       "DEP_TIME        float64\n",
       "DEP_DELAY       float64\n",
       "ARR_TIME        float64\n",
       "ARR_DELAY       float64\n",
       "DEP_HOUR        float64\n",
       "ARR_HOUR        float64\n",
       "dtype: object"
      ]
     },
     "execution_count": 2,
     "metadata": {},
     "output_type": "execute_result"
    }
   ],
   "source": [
    "ORDData = pd.read_csv(\"ORD2014.csv\")\n",
    "ORDData.dtypes"
   ]
  },
  {
   "cell_type": "code",
   "execution_count": 3,
   "metadata": {
    "collapsed": false
   },
   "outputs": [
    {
     "data": {
      "text/plain": [
       "(272843, 17)"
      ]
     },
     "execution_count": 3,
     "metadata": {},
     "output_type": "execute_result"
    }
   ],
   "source": [
    "ORDData.shape"
   ]
  },
  {
   "cell_type": "code",
   "execution_count": 4,
   "metadata": {
    "collapsed": false
   },
   "outputs": [
    {
     "data": {
      "text/plain": [
       "24.0"
      ]
     },
     "execution_count": 4,
     "metadata": {},
     "output_type": "execute_result"
    }
   ],
   "source": [
    "ORDData.DEP_HOUR.max()"
   ]
  },
  {
   "cell_type": "markdown",
   "metadata": {},
   "source": [
    "<h2 style=\"color: #000000;\">Building a Prediction Model</h2>"
   ]
  },
  {
   "cell_type": "markdown",
   "metadata": {},
   "source": [
    "'MONTH','DAY_OF_MONTH','DAY_OF_WEEK','DEP_HOUR','PRCP', 'SNOW', 'TMAX', 'TMIN', 'AWND'"
   ]
  },
  {
   "cell_type": "markdown",
   "metadata": {},
   "source": [
    "#### Logistic Regression using MONTH with L1 Regularization"
   ]
  },
  {
   "cell_type": "code",
   "execution_count": 6,
   "metadata": {
    "collapsed": false
   },
   "outputs": [
    {
     "name": "stdout",
     "output_type": "stream",
     "text": [
      "Confusion matrix\n",
      "       0      1\n",
      "0  31681  26259\n",
      "1  11835  12078\n",
      "\n",
      "precision = 0.32, recall = 0.51, F1 = 0.39, accuracy = 0.53\n",
      "\n"
     ]
    }
   ],
   "source": [
    "Ycol = 'DEP_DELAY'\n",
    "Xcols = ['MONTH']\n",
    "ORDData = pd.read_csv(\"ORD2014.csv\")\n",
    "sampled_X = ORDData[Xcols]\n",
    "sampled_Y = ORDData[Ycol] >= 15\n",
    "# create train and test sets\n",
    "train_x, test_x, train_y, test_y  =   train_test_split(sampled_X, sampled_Y, test_size=.3)\n",
    "\n",
    "\n",
    "# Create logistic regression model with L2 regularization\n",
    "clf_lr = linear_model.LogisticRegression(penalty='l2', class_weight='balanced')\n",
    "clf_lr.fit(train_x, train_y)\n",
    "\n",
    "# Predict output labels on test set\n",
    "pr = clf_lr.predict(test_x)\n",
    "\n",
    "# display evaluation metrics\n",
    "cm = confusion_matrix(test_y, pr)\n",
    "print(\"Confusion matrix\")\n",
    "print(pd.DataFrame(cm))\n",
    "report_lr = precision_recall_fscore_support(list(test_y), list(pr), average='binary')\n",
    "print \"\\nprecision = %0.2f, recall = %0.2f, F1 = %0.2f, accuracy = %0.2f\\n\" % \\\n",
    "        (report_lr[0], report_lr[1], report_lr[2], accuracy_score(list(test_y), list(pr)))"
   ]
  },
  {
   "cell_type": "markdown",
   "metadata": {
    "collapsed": true
   },
   "source": [
    "#### Logistic Regression using DAY_OF_MONTH with L1 Regularization"
   ]
  },
  {
   "cell_type": "code",
   "execution_count": 7,
   "metadata": {
    "collapsed": false
   },
   "outputs": [
    {
     "name": "stdout",
     "output_type": "stream",
     "text": [
      "Confusion matrix\n",
      "       0      1\n",
      "0  29964  27936\n",
      "1  11606  12347\n",
      "\n",
      "precision = 0.31, recall = 0.52, F1 = 0.38, accuracy = 0.52\n",
      "\n"
     ]
    }
   ],
   "source": [
    "Ycol = 'DEP_DELAY'\n",
    "Xcols = ['DAY_OF_MONTH']\n",
    "ORDData = pd.read_csv(\"ORD2014.csv\")\n",
    "sampled_X = ORDData[Xcols]\n",
    "sampled_Y = ORDData[Ycol] >= 15\n",
    "# create train and test sets\n",
    "train_x, test_x, train_y, test_y  =   train_test_split(sampled_X, sampled_Y, test_size=.3)\n",
    "\n",
    "\n",
    "# Create logistic regression model with L2 regularization\n",
    "clf_lr = linear_model.LogisticRegression(penalty='l2', class_weight='balanced')\n",
    "clf_lr.fit(train_x, train_y)\n",
    "\n",
    "# Predict output labels on test set\n",
    "pr = clf_lr.predict(test_x)\n",
    "\n",
    "# display evaluation metrics\n",
    "cm = confusion_matrix(test_y, pr)\n",
    "print(\"Confusion matrix\")\n",
    "print(pd.DataFrame(cm))\n",
    "report_lr = precision_recall_fscore_support(list(test_y), list(pr), average='binary')\n",
    "print \"\\nprecision = %0.2f, recall = %0.2f, F1 = %0.2f, accuracy = %0.2f\\n\" % \\\n",
    "        (report_lr[0], report_lr[1], report_lr[2], accuracy_score(list(test_y), list(pr)))"
   ]
  },
  {
   "cell_type": "markdown",
   "metadata": {},
   "source": [
    "#### Logistic Regression using DAY_OF_WEEK with L1 Regularization"
   ]
  },
  {
   "cell_type": "code",
   "execution_count": 9,
   "metadata": {
    "collapsed": false
   },
   "outputs": [
    {
     "name": "stdout",
     "output_type": "stream",
     "text": [
      "Confusion matrix\n",
      "       0      1\n",
      "0  32036  25778\n",
      "1  13274  10765\n",
      "\n",
      "precision = 0.29, recall = 0.45, F1 = 0.36, accuracy = 0.52\n",
      "\n"
     ]
    }
   ],
   "source": [
    "Ycol = 'DEP_DELAY'\n",
    "Xcols = ['DAY_OF_WEEK']\n",
    "ORDData = pd.read_csv(\"ORD2014.csv\")\n",
    "sampled_X = ORDData[Xcols]\n",
    "sampled_Y = ORDData[Ycol] >= 15\n",
    "sampled_X\n",
    "\n",
    "\n",
    "# create train and test sets\n",
    "train_x, test_x, train_y, test_y  =   train_test_split(sampled_X, sampled_Y, test_size=.3)\n",
    "\n",
    "\n",
    "# Create logistic regression model with L2 regularization\n",
    "clf_lr = linear_model.LogisticRegression(penalty='l2', class_weight='balanced')\n",
    "clf_lr.fit(train_x, train_y)\n",
    "\n",
    "# Predict output labels on test set\n",
    "pr = clf_lr.predict(test_x)\n",
    "\n",
    "# display evaluation metrics\n",
    "cm = confusion_matrix(test_y, pr)\n",
    "print(\"Confusion matrix\")\n",
    "print(pd.DataFrame(cm))\n",
    "report_lr = precision_recall_fscore_support(list(test_y), list(pr), average='binary')\n",
    "print \"\\nprecision = %0.2f, recall = %0.2f, F1 = %0.2f, accuracy = %0.2f\\n\" % \\\n",
    "        (report_lr[0], report_lr[1], report_lr[2], accuracy_score(list(test_y), list(pr)))"
   ]
  },
  {
   "cell_type": "markdown",
   "metadata": {},
   "source": [
    "#### Logistic Regression using DEP_HOUR with L1 Regularization"
   ]
  },
  {
   "cell_type": "code",
   "execution_count": 10,
   "metadata": {
    "collapsed": false
   },
   "outputs": [
    {
     "name": "stdout",
     "output_type": "stream",
     "text": [
      "Confusion matrix\n",
      "       0      1\n",
      "0  35830  21899\n",
      "1   9399  14633\n",
      "\n",
      "precision = 0.40, recall = 0.61, F1 = 0.48, accuracy = 0.62\n",
      "\n"
     ]
    }
   ],
   "source": [
    "Ycol = 'DEP_DELAY'\n",
    "Xcols = ['DEP_HOUR']\n",
    "ORDData = pd.read_csv(\"ORD2014.csv\")\n",
    "ORDData1 = ORDData[(ORDData['DEP_HOUR'] > 0)]\n",
    "\n",
    "# sampled_X = ORDData[Xcols]\n",
    "sampled_X = ORDData1[Xcols]\n",
    "sampled_Y = ORDData1[Ycol] >= 15\n",
    "# create train and test sets\n",
    "train_x, test_x, train_y, test_y  =   train_test_split(sampled_X, sampled_Y, test_size=.3)\n",
    "\n",
    "\n",
    "# Create logistic regression model with L2 regularization\n",
    "clf_lr = linear_model.LogisticRegression(penalty='l2', class_weight='balanced')\n",
    "clf_lr.fit(train_x, train_y)\n",
    "\n",
    "# Predict output labels on test set\n",
    "pr = clf_lr.predict(test_x)\n",
    "\n",
    "# display evaluation metrics\n",
    "cm = confusion_matrix(test_y, pr)\n",
    "print(\"Confusion matrix\")\n",
    "print(pd.DataFrame(cm))\n",
    "report_lr = precision_recall_fscore_support(list(test_y), list(pr), average='binary')\n",
    "print \"\\nprecision = %0.2f, recall = %0.2f, F1 = %0.2f, accuracy = %0.2f\\n\" % \\\n",
    "        (report_lr[0], report_lr[1], report_lr[2], accuracy_score(list(test_y), list(pr)))"
   ]
  },
  {
   "cell_type": "markdown",
   "metadata": {},
   "source": [
    "#### Logistic Regression using ARR_HOUR with L1 Regularization"
   ]
  },
  {
   "cell_type": "code",
   "execution_count": 11,
   "metadata": {
    "collapsed": false
   },
   "outputs": [
    {
     "name": "stdout",
     "output_type": "stream",
     "text": [
      "Confusion matrix\n",
      "       0      1\n",
      "0  31507  25884\n",
      "1   8033  14433\n",
      "\n",
      "precision = 0.36, recall = 0.64, F1 = 0.46, accuracy = 0.58\n",
      "\n"
     ]
    }
   ],
   "source": [
    "Ycol = 'DEP_DELAY'\n",
    "Xcols = ['ARR_HOUR']\n",
    "ORDData = pd.read_csv(\"ORD2014.csv\")\n",
    "ORDData1 = ORDData[(ORDData['ARR_HOUR'] > 0)]\n",
    "\n",
    "# sampled_X = ORDData[Xcols]\n",
    "sampled_X = ORDData1[Xcols]\n",
    "sampled_Y = ORDData1[Ycol] >= 15\n",
    "# create train and test sets\n",
    "train_x, test_x, train_y, test_y  =   train_test_split(sampled_X, sampled_Y, test_size=.3)\n",
    "\n",
    "\n",
    "# Create logistic regression model with L2 regularization\n",
    "clf_lr = linear_model.LogisticRegression(penalty='l2', class_weight='balanced')\n",
    "clf_lr.fit(train_x, train_y)\n",
    "\n",
    "# Predict output labels on test set\n",
    "pr = clf_lr.predict(test_x)\n",
    "\n",
    "# display evaluation metrics\n",
    "cm = confusion_matrix(test_y, pr)\n",
    "print(\"Confusion matrix\")\n",
    "print(pd.DataFrame(cm))\n",
    "report_lr = precision_recall_fscore_support(list(test_y), list(pr), average='binary')\n",
    "print \"\\nprecision = %0.2f, recall = %0.2f, F1 = %0.2f, accuracy = %0.2f\\n\" % \\\n",
    "        (report_lr[0], report_lr[1], report_lr[2], accuracy_score(list(test_y), list(pr)))"
   ]
  },
  {
   "cell_type": "markdown",
   "metadata": {},
   "source": [
    "#### Logistic Regression using FL_NUM with L1 Regularization"
   ]
  },
  {
   "cell_type": "code",
   "execution_count": 12,
   "metadata": {
    "collapsed": false
   },
   "outputs": [
    {
     "name": "stdout",
     "output_type": "stream",
     "text": [
      "Confusion matrix\n",
      "       0      1\n",
      "0  30844  26869\n",
      "1  12084  12056\n",
      "\n",
      "precision = 0.31, recall = 0.50, F1 = 0.38, accuracy = 0.52\n",
      "\n"
     ]
    }
   ],
   "source": [
    "Ycol = 'DEP_DELAY'\n",
    "Xcols = ['FL_NUM']\n",
    "ORDData = pd.read_csv(\"ORD2014.csv\")\n",
    "sampled_X = ORDData[Xcols]\n",
    "sampled_Y = ORDData[Ycol] >= 15\n",
    "# create train and test sets\n",
    "train_x, test_x, train_y, test_y  =   train_test_split(sampled_X, sampled_Y, test_size=.3)\n",
    "\n",
    "\n",
    "# Create logistic regression model with L2 regularization\n",
    "clf_lr = linear_model.LogisticRegression(penalty='l2', class_weight='balanced')\n",
    "clf_lr.fit(train_x, train_y)\n",
    "\n",
    "# Predict output labels on test set\n",
    "pr = clf_lr.predict(test_x)\n",
    "\n",
    "# display evaluation metrics\n",
    "cm = confusion_matrix(test_y, pr)\n",
    "print(\"Confusion matrix\")\n",
    "print(pd.DataFrame(cm))\n",
    "report_lr = precision_recall_fscore_support(list(test_y), list(pr), average='binary')\n",
    "print \"\\nprecision = %0.2f, recall = %0.2f, F1 = %0.2f, accuracy = %0.2f\\n\" % \\\n",
    "        (report_lr[0], report_lr[1], report_lr[2], accuracy_score(list(test_y), list(pr)))"
   ]
  },
  {
   "cell_type": "markdown",
   "metadata": {},
   "source": [
    "#### Logistic Regression using ARR_DELAY with L1 Regularization"
   ]
  },
  {
   "cell_type": "code",
   "execution_count": 13,
   "metadata": {
    "collapsed": false
   },
   "outputs": [
    {
     "name": "stdout",
     "output_type": "stream",
     "text": [
      "Confusion matrix\n",
      "       0      1\n",
      "0  18644   2324\n",
      "1   5669  17805\n",
      "\n",
      "precision = 0.88, recall = 0.76, F1 = 0.82, accuracy = 0.82\n",
      "\n"
     ]
    }
   ],
   "source": [
    "Ycol = 'DEP_DELAY'\n",
    "Xcols = ['ARR_DELAY']\n",
    "ORDData = pd.read_csv(\"ORD2014.csv\")\n",
    "ORDData1 = ORDData[(ORDData['ARR_DELAY'] >= 0)]\n",
    "\n",
    "# sampled_X = ORDData[Xcols]\n",
    "sampled_X = ORDData1[Xcols]\n",
    "sampled_Y = ORDData1[Ycol] >= 15\n",
    "# create train and test sets\n",
    "train_x, test_x, train_y, test_y  =   train_test_split(sampled_X, sampled_Y, test_size=.3)\n",
    "\n",
    "\n",
    "# Create logistic regression model with L2 regularization\n",
    "clf_lr = linear_model.LogisticRegression(penalty='l2', class_weight='balanced')\n",
    "clf_lr.fit(train_x, train_y)\n",
    "\n",
    "# Predict output labels on test set\n",
    "pr = clf_lr.predict(test_x)\n",
    "\n",
    "# display evaluation metrics\n",
    "cm = confusion_matrix(test_y, pr)\n",
    "print(\"Confusion matrix\")\n",
    "print(pd.DataFrame(cm))\n",
    "report_lr = precision_recall_fscore_support(list(test_y), list(pr), average='binary')\n",
    "print \"\\nprecision = %0.2f, recall = %0.2f, F1 = %0.2f, accuracy = %0.2f\\n\" % \\\n",
    "        (report_lr[0], report_lr[1], report_lr[2], accuracy_score(list(test_y), list(pr)))"
   ]
  },
  {
   "cell_type": "code",
   "execution_count": null,
   "metadata": {
    "collapsed": true
   },
   "outputs": [],
   "source": []
  },
  {
   "cell_type": "markdown",
   "metadata": {},
   "source": [
    "#### Logistic Regression using DEST with L1 Regularization"
   ]
  },
  {
   "cell_type": "code",
   "execution_count": 14,
   "metadata": {
    "collapsed": false
   },
   "outputs": [
    {
     "name": "stderr",
     "output_type": "stream",
     "text": [
      "d:\\Anaconda2\\lib\\site-packages\\ipykernel\\__main__.py:11: SettingWithCopyWarning: \n",
      "A value is trying to be set on a copy of a slice from a DataFrame.\n",
      "Try using .loc[row_indexer,col_indexer] = value instead\n",
      "\n",
      "See the caveats in the documentation: http://pandas.pydata.org/pandas-docs/stable/indexing.html#indexing-view-versus-copy\n",
      "d:\\Anaconda2\\lib\\site-packages\\ipykernel\\__main__.py:14: SettingWithCopyWarning: \n",
      "A value is trying to be set on a copy of a slice from a DataFrame.\n",
      "Try using .loc[row_indexer,col_indexer] = value instead\n",
      "\n",
      "See the caveats in the documentation: http://pandas.pydata.org/pandas-docs/stable/indexing.html#indexing-view-versus-copy\n"
     ]
    }
   ],
   "source": [
    "Ycol = 'DEP_DELAY'\n",
    "Xcols = ['DEST']\n",
    "ORDData = pd.read_csv(\"ORD2014.csv\")\n",
    "\n",
    "sampled_X = ORDData[Xcols]\n",
    "sampled_Y = ORDData[Ycol] >= 15\n",
    "\n",
    "# create train and test sets\n",
    "train_x1, test_x1, train_y, test_y  =   train_test_split(sampled_X, sampled_Y, test_size=.5)\n",
    "\n",
    "train_x1['DEST'] = pd.factorize(train_x1['DEST'])[0]\n",
    "trainX_scl = scaler.fit_transform(train_x1)\n",
    "\n",
    "test_x1['DEST'] = pd.factorize(test_x1['DEST'])[0]\n",
    "testX_scl = scaler.fit_transform(test_x1)"
   ]
  },
  {
   "cell_type": "code",
   "execution_count": 15,
   "metadata": {
    "collapsed": false
   },
   "outputs": [
    {
     "name": "stdout",
     "output_type": "stream",
     "text": [
      "Confusion matrix\n",
      "       0      1\n",
      "0  57386  39103\n",
      "1  23701  16232\n",
      "\n",
      "precision = 0.29, recall = 0.41, F1 = 0.34, accuracy = 0.54\n",
      "\n"
     ]
    }
   ],
   "source": [
    "# Create logistic regression model with L2 regularization\n",
    "clf_lr = linear_model.LogisticRegression(penalty='l2', class_weight='balanced')\n",
    "clf_lr.fit(trainX_scl, train_y)\n",
    "\n",
    "# Predict output labels on test set\n",
    "pr = clf_lr.predict(testX_scl)\n",
    "\n",
    "# display evaluation metrics\n",
    "cm = confusion_matrix(test_y, pr)\n",
    "print(\"Confusion matrix\")\n",
    "print(pd.DataFrame(cm))\n",
    "report_lr = precision_recall_fscore_support(list(test_y), list(pr), average='binary')\n",
    "print \"\\nprecision = %0.2f, recall = %0.2f, F1 = %0.2f, accuracy = %0.2f\\n\" % \\\n",
    "        (report_lr[0], report_lr[1], report_lr[2], accuracy_score(list(test_y), list(pr)))"
   ]
  },
  {
   "cell_type": "markdown",
   "metadata": {
    "collapsed": true
   },
   "source": [
    "#### Logistic Regression using CARRIER with L1 Regularization"
   ]
  },
  {
   "cell_type": "code",
   "execution_count": 16,
   "metadata": {
    "collapsed": false
   },
   "outputs": [
    {
     "name": "stderr",
     "output_type": "stream",
     "text": [
      "d:\\Anaconda2\\lib\\site-packages\\ipykernel\\__main__.py:11: SettingWithCopyWarning: \n",
      "A value is trying to be set on a copy of a slice from a DataFrame.\n",
      "Try using .loc[row_indexer,col_indexer] = value instead\n",
      "\n",
      "See the caveats in the documentation: http://pandas.pydata.org/pandas-docs/stable/indexing.html#indexing-view-versus-copy\n",
      "d:\\Anaconda2\\lib\\site-packages\\ipykernel\\__main__.py:14: SettingWithCopyWarning: \n",
      "A value is trying to be set on a copy of a slice from a DataFrame.\n",
      "Try using .loc[row_indexer,col_indexer] = value instead\n",
      "\n",
      "See the caveats in the documentation: http://pandas.pydata.org/pandas-docs/stable/indexing.html#indexing-view-versus-copy\n"
     ]
    },
    {
     "name": "stdout",
     "output_type": "stream",
     "text": [
      "Confusion matrix\n",
      "       0      1\n",
      "0  61085  35368\n",
      "1  22333  17636\n",
      "\n",
      "precision = 0.33, recall = 0.44, F1 = 0.38, accuracy = 0.58\n",
      "\n"
     ]
    }
   ],
   "source": [
    "Ycol = 'DEP_DELAY'\n",
    "Xcols = ['CARRIER']\n",
    "ORDData = pd.read_csv(\"ORD2014.csv\")\n",
    "\n",
    "sampled_X = ORDData[Xcols]\n",
    "sampled_Y = ORDData[Ycol] >= 15\n",
    "\n",
    "# create train and test sets\n",
    "train_x1, test_x1, train_y, test_y  =   train_test_split(sampled_X, sampled_Y, test_size=.5)\n",
    "\n",
    "train_x1['CARRIER'] = pd.factorize(train_x1['CARRIER'])[0]\n",
    "trainX_scl = scaler.fit_transform(train_x1)\n",
    "\n",
    "test_x1['CARRIER'] = pd.factorize(test_x1['CARRIER'])[0]\n",
    "testX_scl = scaler.fit_transform(test_x1)\n",
    "\n",
    "# Create logistic regression model with L2 regularization\n",
    "clf_lr = linear_model.LogisticRegression(penalty='l2', class_weight='balanced')\n",
    "clf_lr.fit(trainX_scl, train_y)\n",
    "\n",
    "# Predict output labels on test set\n",
    "pr = clf_lr.predict(testX_scl)\n",
    "\n",
    "# display evaluation metrics\n",
    "cm = confusion_matrix(test_y, pr)\n",
    "print(\"Confusion matrix\")\n",
    "print(pd.DataFrame(cm))\n",
    "report_lr = precision_recall_fscore_support(list(test_y), list(pr), average='binary')\n",
    "print \"\\nprecision = %0.2f, recall = %0.2f, F1 = %0.2f, accuracy = %0.2f\\n\" % \\\n",
    "        (report_lr[0], report_lr[1], report_lr[2], accuracy_score(list(test_y), list(pr)))"
   ]
  },
  {
   "cell_type": "code",
   "execution_count": null,
   "metadata": {
    "collapsed": true
   },
   "outputs": [],
   "source": []
  },
  {
   "cell_type": "code",
   "execution_count": null,
   "metadata": {
    "collapsed": true
   },
   "outputs": [],
   "source": []
  }
 ],
 "metadata": {
  "kernelspec": {
   "display_name": "Python 2",
   "language": "python",
   "name": "python2"
  },
  "language_info": {
   "codemirror_mode": {
    "name": "ipython",
    "version": 2
   },
   "file_extension": ".py",
   "mimetype": "text/x-python",
   "name": "python",
   "nbconvert_exporter": "python",
   "pygments_lexer": "ipython2",
   "version": "2.7.11"
  }
 },
 "nbformat": 4,
 "nbformat_minor": 0
}
