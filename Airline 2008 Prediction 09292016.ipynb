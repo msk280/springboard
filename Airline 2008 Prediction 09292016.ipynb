{
 "cells": [
  {
   "cell_type": "markdown",
   "metadata": {},
   "source": [
    "<h1 id=\"Airline Delays Prediction\"><span style=\"color: #ff0000;\">Chicago Airport - 2008 Airline Departure Delays Prediction</span></h1>"
   ]
  },
  {
   "cell_type": "markdown",
   "metadata": {},
   "source": [
    "Airline data sets for 2008 was downloaded from  http://stat-computing.org/dataexpo/2009/the-data.html \n",
    "\n",
    "These datasets have 29 variables:\n",
    "Year, Month, DayofMonth, DayOfWeek, DepTime, CRSDepTime, ArrTime, CRSArrTime, UniqueCarrier, FlightNum, TailNum, \n",
    "ActualElapsedTime, CRSElapsedTime, AirTime, ArrDelay, DepDelay, Origin, Dest, Distance, TaxiIn, TaxiOut,\n",
    "Cancelled, CancellationCode, Diverted, CarrierDelay, WeatherDelay, NASDelay, SecurityDelay, LateAircraftDelay\n",
    "\n"
   ]
  },
  {
   "cell_type": "code",
   "execution_count": 2,
   "metadata": {
    "collapsed": false
   },
   "outputs": [],
   "source": [
    "# Importing libraries and the data set\n",
    "from pandas import Series, DataFrame\n",
    "import pandas as pd\n",
    "import glob\n",
    "import numpy as np\n",
    "import os\n",
    "import matplotlib.pylab as plt\n",
    "%matplotlib inline \n",
    "plt.rcParams['figure.figsize'] = 12, 4  # that's default image size for this interactive session\n",
    "import scipy\n",
    "from scipy import stats\n",
    "from sklearn.cross_validation import train_test_split\n",
    "from sklearn import linear_model\n",
    "from sklearn.metrics import confusion_matrix,  precision_recall_fscore_support, accuracy_score\n",
    "from sklearn.preprocessing import Binarizer\n",
    "from sklearn.ensemble import RandomForestClassifier\n",
    "from sklearn.preprocessing import StandardScaler\n",
    "from sklearn import preprocessing\n",
    "import statsmodels.api as sm\n",
    "from sklearn.preprocessing import StandardScaler, OneHotEncoder\n",
    "scaler = StandardScaler()\n",
    "from ggplot import *\n",
    "from sklearn import metrics"
   ]
  },
  {
   "cell_type": "markdown",
   "metadata": {
    "collapsed": true
   },
   "source": [
    "### Check data volumes"
   ]
  },
  {
   "cell_type": "code",
   "execution_count": 3,
   "metadata": {
    "collapsed": false,
    "scrolled": true
   },
   "outputs": [
    {
     "data": {
      "text/plain": [
       "(334529, 17)"
      ]
     },
     "execution_count": 3,
     "metadata": {},
     "output_type": "execute_result"
    }
   ],
   "source": [
    "ORD2008 = pd.read_csv(\"ORD2008.csv\")\n",
    "ORD2008.shape"
   ]
  },
  {
   "cell_type": "code",
   "execution_count": 4,
   "metadata": {
    "collapsed": false
   },
   "outputs": [
    {
     "data": {
      "text/plain": [
       "Unnamed: 0         int64\n",
       "Month              int64\n",
       "DayofMonth         int64\n",
       "DayOfWeek          int64\n",
       "DepTime          float64\n",
       "ArrTime          float64\n",
       "UniqueCarrier     object\n",
       "FlightNum          int64\n",
       "AirTime          float64\n",
       "ArrDelay         float64\n",
       "DepDelay         float64\n",
       "Origin            object\n",
       "Dest              object\n",
       "Distance           int64\n",
       "Cancelled          int64\n",
       "DepHour          float64\n",
       "ArrHour          float64\n",
       "dtype: object"
      ]
     },
     "execution_count": 4,
     "metadata": {},
     "output_type": "execute_result"
    }
   ],
   "source": [
    "ORD2008.dtypes"
   ]
  },
  {
   "cell_type": "markdown",
   "metadata": {},
   "source": [
    "### Prediction Model Using Month"
   ]
  },
  {
   "cell_type": "code",
   "execution_count": 4,
   "metadata": {
    "collapsed": false
   },
   "outputs": [
    {
     "name": "stdout",
     "output_type": "stream",
     "text": [
      "Confusion matrix\n",
      "       0      1\n",
      "0  38361  33327\n",
      "1  11597  17074\n",
      "\n",
      "precision = 0.34, recall = 0.60, F1 = 0.43, accuracy = 0.55\n",
      "\n"
     ]
    }
   ],
   "source": [
    "ORDData = pd.read_csv(\"ORD2008.csv\")\n",
    "\n",
    "Xcols = ['Month']\n",
    "sampled_Y = ORDData['DepDelay']  >= 15\n",
    "sampled_X = ORDData[Xcols]\n",
    "\n",
    "# create train and test sets\n",
    "train_x, test_x, train_y, test_y  =   train_test_split(sampled_X, sampled_Y, test_size=.3)\n",
    "\n",
    "\n",
    "# Create logistic regression model with L2 regularization\n",
    "clf_lr = linear_model.LogisticRegression(penalty='l2', class_weight='balanced')\n",
    "clf_lr.fit(train_x, train_y)\n",
    "\n",
    "# Predict output labels on test set\n",
    "pr = clf_lr.predict(test_x)\n",
    "\n",
    "# display evaluation metrics\n",
    "cm = confusion_matrix(test_y, pr)\n",
    "print(\"Confusion matrix\")\n",
    "print(pd.DataFrame(cm))\n",
    "report_lr = precision_recall_fscore_support(list(test_y), list(pr), average='binary')\n",
    "print \"\\nprecision = %0.2f, recall = %0.2f, F1 = %0.2f, accuracy = %0.2f\\n\" % \\\n",
    "        (report_lr[0], report_lr[1], report_lr[2], accuracy_score(list(test_y), list(pr)))"
   ]
  },
  {
   "cell_type": "markdown",
   "metadata": {},
   "source": [
    "### Prediction Model Using  Day of Month"
   ]
  },
  {
   "cell_type": "code",
   "execution_count": 5,
   "metadata": {
    "collapsed": false
   },
   "outputs": [
    {
     "name": "stdout",
     "output_type": "stream",
     "text": [
      "Confusion matrix\n",
      "       0      1\n",
      "0  36817  34969\n",
      "1  14156  14417\n",
      "\n",
      "precision = 0.29, recall = 0.50, F1 = 0.37, accuracy = 0.51\n",
      "\n"
     ]
    }
   ],
   "source": [
    "ORDData = pd.read_csv(\"ORD2008.csv\")\n",
    "\n",
    "Xcols = ['DayofMonth']\n",
    "sampled_Y = ORDData['DepDelay']  >= 15\n",
    "sampled_X = ORDData[Xcols]\n",
    "\n",
    "# create train and test sets\n",
    "train_x, test_x, train_y, test_y  =   train_test_split(sampled_X, sampled_Y, test_size=.3)\n",
    "\n",
    "\n",
    "# Create logistic regression model with L2 regularization\n",
    "clf_lr = linear_model.LogisticRegression(penalty='l2', class_weight='balanced')\n",
    "clf_lr.fit(train_x, train_y)\n",
    "\n",
    "# Predict output labels on test set\n",
    "pr = clf_lr.predict(test_x)\n",
    "\n",
    "# display evaluation metrics\n",
    "cm = confusion_matrix(test_y, pr)\n",
    "print(\"Confusion matrix\")\n",
    "print(pd.DataFrame(cm))\n",
    "report_lr = precision_recall_fscore_support(list(test_y), list(pr), average='binary')\n",
    "print \"\\nprecision = %0.2f, recall = %0.2f, F1 = %0.2f, accuracy = %0.2f\\n\" % \\\n",
    "        (report_lr[0], report_lr[1], report_lr[2], accuracy_score(list(test_y), list(pr)))"
   ]
  },
  {
   "cell_type": "markdown",
   "metadata": {},
   "source": [
    "### Prediction Model Using Day of Week"
   ]
  },
  {
   "cell_type": "code",
   "execution_count": 7,
   "metadata": {
    "collapsed": false
   },
   "outputs": [
    {
     "name": "stdout",
     "output_type": "stream",
     "text": [
      "Confusion matrix\n",
      "       0      1\n",
      "0  39892  31893\n",
      "1  15865  12709\n",
      "\n",
      "precision = 0.28, recall = 0.44, F1 = 0.35, accuracy = 0.52\n",
      "\n"
     ]
    }
   ],
   "source": [
    "ORDData = pd.read_csv(\"ORD2008.csv\")\n",
    "\n",
    "Xcols = ['DayOfWeek']\n",
    "sampled_Y = ORDData['DepDelay']  >= 15\n",
    "sampled_X = ORDData[Xcols]\n",
    "\n",
    "# create train and test sets\n",
    "train_x, test_x, train_y, test_y  =   train_test_split(sampled_X, sampled_Y, test_size=.3)\n",
    "\n",
    "\n",
    "# Create logistic regression model with L2 regularization\n",
    "clf_lr = linear_model.LogisticRegression(penalty='l2', class_weight='balanced')\n",
    "clf_lr.fit(train_x, train_y)\n",
    "\n",
    "# Predict output labels on test set\n",
    "pr = clf_lr.predict(test_x)\n",
    "\n",
    "# display evaluation metrics\n",
    "cm = confusion_matrix(test_y, pr)\n",
    "print(\"Confusion matrix\")\n",
    "print(pd.DataFrame(cm))\n",
    "report_lr = precision_recall_fscore_support(list(test_y), list(pr), average='binary')\n",
    "print \"\\nprecision = %0.2f, recall = %0.2f, F1 = %0.2f, accuracy = %0.2f\\n\" % \\\n",
    "        (report_lr[0], report_lr[1], report_lr[2], accuracy_score(list(test_y), list(pr)))"
   ]
  },
  {
   "cell_type": "markdown",
   "metadata": {},
   "source": [
    "### Prediction Model Using Departure Hour\n"
   ]
  },
  {
   "cell_type": "code",
   "execution_count": 8,
   "metadata": {
    "collapsed": false
   },
   "outputs": [
    {
     "name": "stdout",
     "output_type": "stream",
     "text": [
      "Confusion matrix\n",
      "       0      1\n",
      "0  46146  25693\n",
      "1  10983  17537\n",
      "\n",
      "precision = 0.41, recall = 0.61, F1 = 0.49, accuracy = 0.63\n",
      "\n"
     ]
    }
   ],
   "source": [
    "ORDData = pd.read_csv(\"ORD2008.csv\")\n",
    "\n",
    "Xcols = ['DepHour']\n",
    "sampled_Y = ORDData['DepDelay']  >= 15\n",
    "sampled_X = ORDData[Xcols]\n",
    "\n",
    "# create train and test sets\n",
    "train_x, test_x, train_y, test_y  =   train_test_split(sampled_X, sampled_Y, test_size=.3)\n",
    "\n",
    "\n",
    "# Create logistic regression model with L2 regularization\n",
    "clf_lr = linear_model.LogisticRegression(penalty='l2', class_weight='balanced')\n",
    "clf_lr.fit(train_x, train_y)\n",
    "\n",
    "# Predict output labels on test set\n",
    "pr = clf_lr.predict(test_x)\n",
    "\n",
    "# display evaluation metrics\n",
    "cm = confusion_matrix(test_y, pr)\n",
    "print(\"Confusion matrix\")\n",
    "print(pd.DataFrame(cm))\n",
    "report_lr = precision_recall_fscore_support(list(test_y), list(pr), average='binary')\n",
    "print \"\\nprecision = %0.2f, recall = %0.2f, F1 = %0.2f, accuracy = %0.2f\\n\" % \\\n",
    "        (report_lr[0], report_lr[1], report_lr[2], accuracy_score(list(test_y), list(pr)))"
   ]
  },
  {
   "cell_type": "markdown",
   "metadata": {},
   "source": [
    "### Prediction Model Using Arrival Hour\n"
   ]
  },
  {
   "cell_type": "code",
   "execution_count": 9,
   "metadata": {
    "collapsed": false
   },
   "outputs": [
    {
     "name": "stdout",
     "output_type": "stream",
     "text": [
      "Confusion matrix\n",
      "       0      1\n",
      "0  40612  31477\n",
      "1  11353  16917\n",
      "\n",
      "precision = 0.35, recall = 0.60, F1 = 0.44, accuracy = 0.57\n",
      "\n"
     ]
    }
   ],
   "source": [
    "ORDData = pd.read_csv(\"ORD2008.csv\")\n",
    "\n",
    "Xcols = ['ArrHour']\n",
    "sampled_Y = ORDData['DepDelay']  >= 15\n",
    "sampled_X = ORDData[Xcols]\n",
    "\n",
    "# create train and test sets\n",
    "train_x, test_x, train_y, test_y  =   train_test_split(sampled_X, sampled_Y, test_size=.3)\n",
    "\n",
    "\n",
    "# Create logistic regression model with L2 regularization\n",
    "clf_lr = linear_model.LogisticRegression(penalty='l2', class_weight='balanced')\n",
    "clf_lr.fit(train_x, train_y)\n",
    "\n",
    "# Predict output labels on test set\n",
    "pr = clf_lr.predict(test_x)\n",
    "\n",
    "# display evaluation metrics\n",
    "cm = confusion_matrix(test_y, pr)\n",
    "print(\"Confusion matrix\")\n",
    "print(pd.DataFrame(cm))\n",
    "report_lr = precision_recall_fscore_support(list(test_y), list(pr), average='binary')\n",
    "print \"\\nprecision = %0.2f, recall = %0.2f, F1 = %0.2f, accuracy = %0.2f\\n\" % \\\n",
    "        (report_lr[0], report_lr[1], report_lr[2], accuracy_score(list(test_y), list(pr)))"
   ]
  },
  {
   "cell_type": "markdown",
   "metadata": {},
   "source": [
    "### Prediction Model Using AirTime\n"
   ]
  },
  {
   "cell_type": "code",
   "execution_count": 10,
   "metadata": {
    "collapsed": false
   },
   "outputs": [
    {
     "name": "stdout",
     "output_type": "stream",
     "text": [
      "Confusion matrix\n",
      "       0      1\n",
      "0  46229  25656\n",
      "1  17791  10683\n",
      "\n",
      "precision = 0.29, recall = 0.38, F1 = 0.33, accuracy = 0.57\n",
      "\n"
     ]
    }
   ],
   "source": [
    "ORDData = pd.read_csv(\"ORD2008.csv\")\n",
    "\n",
    "Xcols = ['AirTime']\n",
    "sampled_Y = ORDData['DepDelay']  >= 15\n",
    "sampled_X = ORDData[Xcols]\n",
    "\n",
    "# create train and test sets\n",
    "train_x, test_x, train_y, test_y  =   train_test_split(sampled_X, sampled_Y, test_size=.3)\n",
    "\n",
    "\n",
    "# Create logistic regression model with L2 regularization\n",
    "clf_lr = linear_model.LogisticRegression(penalty='l2', class_weight='balanced')\n",
    "clf_lr.fit(train_x, train_y)\n",
    "\n",
    "# Predict output labels on test set\n",
    "pr = clf_lr.predict(test_x)\n",
    "\n",
    "# display evaluation metrics\n",
    "cm = confusion_matrix(test_y, pr)\n",
    "print(\"Confusion matrix\")\n",
    "print(pd.DataFrame(cm))\n",
    "report_lr = precision_recall_fscore_support(list(test_y), list(pr), average='binary')\n",
    "print \"\\nprecision = %0.2f, recall = %0.2f, F1 = %0.2f, accuracy = %0.2f\\n\" % \\\n",
    "        (report_lr[0], report_lr[1], report_lr[2], accuracy_score(list(test_y), list(pr)))"
   ]
  },
  {
   "cell_type": "markdown",
   "metadata": {},
   "source": [
    "### Prediction Model Using Arrival Delay\n"
   ]
  },
  {
   "cell_type": "code",
   "execution_count": 11,
   "metadata": {
    "collapsed": false
   },
   "outputs": [
    {
     "name": "stdout",
     "output_type": "stream",
     "text": [
      "Confusion matrix\n",
      "       0      1\n",
      "0  66139   5813\n",
      "1   3915  24492\n",
      "\n",
      "precision = 0.81, recall = 0.86, F1 = 0.83, accuracy = 0.90\n",
      "\n"
     ]
    }
   ],
   "source": [
    "ORDData = pd.read_csv(\"ORD2008.csv\")\n",
    "\n",
    "Xcols = ['ArrDelay']\n",
    "sampled_Y = ORDData['DepDelay']  >= 15\n",
    "sampled_X = ORDData[Xcols]\n",
    "\n",
    "# create train and test sets\n",
    "train_x, test_x, train_y, test_y  =   train_test_split(sampled_X, sampled_Y, test_size=.3)\n",
    "\n",
    "\n",
    "# Create logistic regression model with L2 regularization\n",
    "clf_lr = linear_model.LogisticRegression(penalty='l2', class_weight='balanced')\n",
    "clf_lr.fit(train_x, train_y)\n",
    "\n",
    "# Predict output labels on test set\n",
    "pr = clf_lr.predict(test_x)\n",
    "\n",
    "# display evaluation metrics\n",
    "cm = confusion_matrix(test_y, pr)\n",
    "print(\"Confusion matrix\")\n",
    "print(pd.DataFrame(cm))\n",
    "report_lr = precision_recall_fscore_support(list(test_y), list(pr), average='binary')\n",
    "print \"\\nprecision = %0.2f, recall = %0.2f, F1 = %0.2f, accuracy = %0.2f\\n\" % \\\n",
    "        (report_lr[0], report_lr[1], report_lr[2], accuracy_score(list(test_y), list(pr)))"
   ]
  },
  {
   "cell_type": "markdown",
   "metadata": {},
   "source": [
    "### Prediction Model Using Distance\n"
   ]
  },
  {
   "cell_type": "code",
   "execution_count": 12,
   "metadata": {
    "collapsed": false
   },
   "outputs": [
    {
     "name": "stdout",
     "output_type": "stream",
     "text": [
      "Confusion matrix\n",
      "       0      1\n",
      "0  43893  28223\n",
      "1  16331  11912\n",
      "\n",
      "precision = 0.30, recall = 0.42, F1 = 0.35, accuracy = 0.56\n",
      "\n"
     ]
    }
   ],
   "source": [
    "ORDData = pd.read_csv(\"ORD2008.csv\")\n",
    "\n",
    "Xcols = ['Distance']\n",
    "sampled_Y = ORDData['DepDelay']  >= 15\n",
    "sampled_X = ORDData[Xcols]\n",
    "\n",
    "# create train and test sets\n",
    "train_x, test_x, train_y, test_y  =   train_test_split(sampled_X, sampled_Y, test_size=.3)\n",
    "\n",
    "\n",
    "# Create logistic regression model with L2 regularization\n",
    "clf_lr = linear_model.LogisticRegression(penalty='l2', class_weight='balanced')\n",
    "clf_lr.fit(train_x, train_y)\n",
    "\n",
    "# Predict output labels on test set\n",
    "pr = clf_lr.predict(test_x)\n",
    "\n",
    "# display evaluation metrics\n",
    "cm = confusion_matrix(test_y, pr)\n",
    "print(\"Confusion matrix\")\n",
    "print(pd.DataFrame(cm))\n",
    "report_lr = precision_recall_fscore_support(list(test_y), list(pr), average='binary')\n",
    "print \"\\nprecision = %0.2f, recall = %0.2f, F1 = %0.2f, accuracy = %0.2f\\n\" % \\\n",
    "        (report_lr[0], report_lr[1], report_lr[2], accuracy_score(list(test_y), list(pr)))"
   ]
  },
  {
   "cell_type": "markdown",
   "metadata": {},
   "source": [
    "### Prediction Model Using Carrier\n"
   ]
  },
  {
   "cell_type": "code",
   "execution_count": 13,
   "metadata": {
    "collapsed": false
   },
   "outputs": [
    {
     "name": "stderr",
     "output_type": "stream",
     "text": [
      "d:\\Anaconda2\\lib\\site-packages\\ipykernel\\__main__.py:10: SettingWithCopyWarning: \n",
      "A value is trying to be set on a copy of a slice from a DataFrame.\n",
      "Try using .loc[row_indexer,col_indexer] = value instead\n",
      "\n",
      "See the caveats in the documentation: http://pandas.pydata.org/pandas-docs/stable/indexing.html#indexing-view-versus-copy\n",
      "d:\\Anaconda2\\lib\\site-packages\\ipykernel\\__main__.py:13: SettingWithCopyWarning: \n",
      "A value is trying to be set on a copy of a slice from a DataFrame.\n",
      "Try using .loc[row_indexer,col_indexer] = value instead\n",
      "\n",
      "See the caveats in the documentation: http://pandas.pydata.org/pandas-docs/stable/indexing.html#indexing-view-versus-copy\n"
     ]
    },
    {
     "name": "stdout",
     "output_type": "stream",
     "text": [
      "Confusion matrix\n",
      "       0      1\n",
      "0  21451  50433\n",
      "1   7993  20482\n",
      "\n",
      "precision = 0.29, recall = 0.72, F1 = 0.41, accuracy = 0.42\n",
      "\n"
     ]
    }
   ],
   "source": [
    "ORDData = pd.read_csv(\"ORD2008.csv\")\n",
    "\n",
    "Xcols = ['UniqueCarrier']\n",
    "sampled_Y = ORDData['DepDelay']  >= 15\n",
    "sampled_X = ORDData[Xcols]\n",
    "\n",
    "# create train and test sets\n",
    "train_x1, test_x1, train_y, test_y  =   train_test_split(sampled_X, sampled_Y, test_size=.3)\n",
    "\n",
    "train_x1['UniqueCarrier'] = pd.factorize(train_x1['UniqueCarrier'])[0]\n",
    "trainX_scl = scaler.fit_transform(train_x1)\n",
    "\n",
    "test_x1['UniqueCarrier'] = pd.factorize(test_x1['UniqueCarrier'])[0]\n",
    "testX_scl = scaler.fit_transform(test_x1)\n",
    "\n",
    "# Create logistic regression model with L2 regularization\n",
    "clf_lr = linear_model.LogisticRegression(penalty='l2', class_weight='balanced')\n",
    "clf_lr.fit(trainX_scl, train_y)\n",
    "\n",
    "# Predict output labels on test set\n",
    "pr = clf_lr.predict(testX_scl)\n",
    "\n",
    "# display evaluation metrics\n",
    "cm = confusion_matrix(test_y, pr)\n",
    "print(\"Confusion matrix\")\n",
    "print(pd.DataFrame(cm))\n",
    "report_lr = precision_recall_fscore_support(list(test_y), list(pr), average='binary')\n",
    "print \"\\nprecision = %0.2f, recall = %0.2f, F1 = %0.2f, accuracy = %0.2f\\n\" % \\\n",
    "        (report_lr[0], report_lr[1], report_lr[2], accuracy_score(list(test_y), list(pr)))"
   ]
  },
  {
   "cell_type": "markdown",
   "metadata": {},
   "source": [
    "### Prediction Model Using Destination\n"
   ]
  },
  {
   "cell_type": "code",
   "execution_count": 14,
   "metadata": {
    "collapsed": false
   },
   "outputs": [
    {
     "name": "stderr",
     "output_type": "stream",
     "text": [
      "d:\\Anaconda2\\lib\\site-packages\\ipykernel\\__main__.py:10: SettingWithCopyWarning: \n",
      "A value is trying to be set on a copy of a slice from a DataFrame.\n",
      "Try using .loc[row_indexer,col_indexer] = value instead\n",
      "\n",
      "See the caveats in the documentation: http://pandas.pydata.org/pandas-docs/stable/indexing.html#indexing-view-versus-copy\n",
      "d:\\Anaconda2\\lib\\site-packages\\ipykernel\\__main__.py:13: SettingWithCopyWarning: \n",
      "A value is trying to be set on a copy of a slice from a DataFrame.\n",
      "Try using .loc[row_indexer,col_indexer] = value instead\n",
      "\n",
      "See the caveats in the documentation: http://pandas.pydata.org/pandas-docs/stable/indexing.html#indexing-view-versus-copy\n"
     ]
    },
    {
     "name": "stdout",
     "output_type": "stream",
     "text": [
      "Confusion matrix\n",
      "       0      1\n",
      "0  37264  34271\n",
      "1  15293  13531\n",
      "\n",
      "precision = 0.28, recall = 0.47, F1 = 0.35, accuracy = 0.51\n",
      "\n"
     ]
    }
   ],
   "source": [
    "ORDData = pd.read_csv(\"ORD2008.csv\")\n",
    "\n",
    "Xcols = ['Dest']\n",
    "sampled_Y = ORDData['DepDelay']  >= 15\n",
    "sampled_X = ORDData[Xcols]\n",
    "\n",
    "# create train and test sets\n",
    "train_x1, test_x1, train_y, test_y  =   train_test_split(sampled_X, sampled_Y, test_size=.3)\n",
    "\n",
    "train_x1['Dest'] = pd.factorize(train_x1['Dest'])[0]\n",
    "trainX_scl = scaler.fit_transform(train_x1)\n",
    "\n",
    "test_x1['Dest'] = pd.factorize(test_x1['Dest'])[0]\n",
    "testX_scl = scaler.fit_transform(test_x1)\n",
    "\n",
    "# Create logistic regression model with L2 regularization\n",
    "clf_lr = linear_model.LogisticRegression(penalty='l2', class_weight='balanced')\n",
    "clf_lr.fit(trainX_scl, train_y)\n",
    "\n",
    "# Predict output labels on test set\n",
    "pr = clf_lr.predict(testX_scl)\n",
    "\n",
    "# display evaluation metrics\n",
    "cm = confusion_matrix(test_y, pr)\n",
    "print(\"Confusion matrix\")\n",
    "print(pd.DataFrame(cm))\n",
    "report_lr = precision_recall_fscore_support(list(test_y), list(pr), average='binary')\n",
    "print \"\\nprecision = %0.2f, recall = %0.2f, F1 = %0.2f, accuracy = %0.2f\\n\" % \\\n",
    "        (report_lr[0], report_lr[1], report_lr[2], accuracy_score(list(test_y), list(pr)))"
   ]
  },
  {
   "cell_type": "code",
   "execution_count": null,
   "metadata": {
    "collapsed": true
   },
   "outputs": [],
   "source": []
  }
 ],
 "metadata": {
  "kernelspec": {
   "display_name": "Python 2",
   "language": "python",
   "name": "python2"
  },
  "language_info": {
   "codemirror_mode": {
    "name": "ipython",
    "version": 2
   },
   "file_extension": ".py",
   "mimetype": "text/x-python",
   "name": "python",
   "nbconvert_exporter": "python",
   "pygments_lexer": "ipython2",
   "version": "2.7.11"
  }
 },
 "nbformat": 4,
 "nbformat_minor": 0
}
