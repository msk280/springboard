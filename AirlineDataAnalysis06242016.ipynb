{
 "cells": [
  {
   "cell_type": "markdown",
   "metadata": {},
   "source": [
    "<h1 id=\"Analysis-of-Airline-On-Time-Performance-and-Flight-Delays\"><span style=\"color: #ff0000;\">Analysis of Airline On-Time Performance and Flight Delays</span></h1>"
   ]
  },
  {
   "cell_type": "markdown",
   "metadata": {},
   "source": [
    "Many of us will already know this. July is known within the airline industry as the busiest travel month of the year. According to the Bureau of Travel Statistics, in 2014, 71.8 million people flew during July. That was 37 percent more passengers than got on a plane in February, 2014, the year’s slowest month. It is generally agreed that delay in the national air transportation system will become intolerable if aviation capacity is not increased.In this paper, we analyze all possible causes of delay that happens during Air Travel during July.  "
   ]
  },
  {
   "cell_type": "markdown",
   "metadata": {},
   "source": [
    "<h2 style=\"color: #000000;\">Data Collection</h2>\n",
    "The data for analsys will be used from DATA.GOV - Department of Transportation.\n",
    "\n",
    "The Bureau of Transportation Statistics (BTS) was established as a statistical agency in 1992. The Intermodal Surface Transportation Efficiency Act (ISTEA) of 1991 created BTS to administer data collection, analysis, and reporting and to ensure the most cost-effective use of transportation-monitoring resources. BTS brings a greater degree of coordination, comparability, and quality standards to transportation data, and facilitates in the closing of important data gaps.\n",
    "\n",
    "http://www.transtats.bts.gov/DL_SelectFields.asp?Table_ID=236\n",
    "\n",
    "Data downloaded for all available years from 1988 to 2016 (July Month only) \n"
   ]
  },
  {
   "cell_type": "markdown",
   "metadata": {},
   "source": [
    "<h2>Data Dictionary&nbsp;</h2>\n",
    "<table style=\"height: 567px; border-color: blue;\" width=\"587\">\n",
    "<tbody>\n",
    "<tr>\n",
    "<td style=\"width: 2px;\">\n",
    "<h4>Column Name</h4>\n",
    "</td>\n",
    "<td style=\"border-color: blue;\">\n",
    "<h4>Column Definition</h4>\n",
    "</td>\n",
    "</tr>\n",
    "<tr>\n",
    "<td style=\"width: 2px;\">&nbsp;YEAR&nbsp;</td>\n",
    "<td style=\"border-color: blue;\">&nbsp;Year</td>\n",
    "</tr>\n",
    "<tr>\n",
    "<td>&nbsp;QUARTER</td>\n",
    "<td>Quarter (1-4)</td>\n",
    "</tr>\n",
    "<tr>\n",
    "<td>&nbsp;MONTH&nbsp;</td>\n",
    "<td>&nbsp;Month</td>\n",
    "</tr>\n",
    "<tr>\n",
    "<td>&nbsp;DAY_OF_MONTH</td>\n",
    "<td>&nbsp;Day of Month</td>\n",
    "</tr>\n",
    "<tr>\n",
    "<td>&nbsp;DAY_OF_WEEK</td>\n",
    "<td>&nbsp;Day of Week 1-Mon 2-Tue 3-Wed 4-Thu 5-Fri 6-Sat 7-Sun</td>\n",
    "</tr>\n",
    "<tr>\n",
    "<td>&nbsp;FL_DATE</td>\n",
    "<td>&nbsp;Flight Date (yyyymmdd)</td>\n",
    "</tr>\n",
    "<tr>\n",
    "<td>&nbsp;CARRIER</td>\n",
    "<td>&nbsp;Code assigned by IATA and commonly used to identify a carrier. As the same code may have&nbsp;been assigned to different carriers over time, the code is not always unique.&nbsp;</td>\n",
    "</tr>\n",
    "<tr>\n",
    "<td>&nbsp;FL_NUM&nbsp;</td>\n",
    "<td>&nbsp;Flight Number</td>\n",
    "</tr>\n",
    "<tr>\n",
    "<td>&nbsp;ORIGIN</td>\n",
    "<td>&nbsp;Origin Airport</td>\n",
    "</tr>\n",
    "<tr>\n",
    "<td>&nbsp;ORIGIN_CITY_NAME</td>\n",
    "<td>&nbsp;Origin Airport, City Name</td>\n",
    "</tr>\n",
    "<tr>\n",
    "<td>&nbsp;ORIGIN_STATE_ABR</td>\n",
    "<td>&nbsp;Origin Airport, State Code</td>\n",
    "</tr>\n",
    "<tr>\n",
    "<td>&nbsp;DEST &nbsp;</td>\n",
    "<td>&nbsp;Destination Airport</td>\n",
    "</tr>\n",
    "<tr>\n",
    "<td>&nbsp;DEST_CITY_NAME&nbsp;</td>\n",
    "<td>&nbsp;Destination Airport, City Name</td>\n",
    "</tr>\n",
    "<tr>\n",
    "<td>&nbsp;DEST_STATE_ABR&nbsp;</td>\n",
    "<td>&nbsp;Destination Airport, State Code</td>\n",
    "</tr>\n",
    "<tr>\n",
    "<td>&nbsp;DEP_TIME</td>\n",
    "<td>&nbsp;Actual Departure Time (local time: hhmm)</td>\n",
    "</tr>\n",
    "<tr>\n",
    "<td>&nbsp;DEP_DELAY</td>\n",
    "<td>&nbsp;Difference in minutes between scheduled and actual departure time. Early departures show&nbsp;negative numbers.</td>\n",
    "</tr>\n",
    "<tr>\n",
    "<td>ARR_TIME</td>\n",
    "<td>Actual Arrival Time (local time: hhmm)</td>\n",
    "</tr>\n",
    "<tr>\n",
    "<td>ARR_DELAY</td>\n",
    "<td>Difference in minutes between scheduled and actual arrival time.&nbsp;Early arrivals show negative numbers.</td>\n",
    "</tr>\n",
    "<tr>\n",
    "<td>CARRIER_DELAY</td>\n",
    "<td>Carrier Delay, in Minutes</td>\n",
    "</tr>\n",
    "<tr>\n",
    "<td>WEATHER_DELAY</td>\n",
    "<td>Weather Delay, in Minutes</td>\n",
    "</tr>\n",
    "<tr>\n",
    "<td>NAS_DELAY</td>\n",
    "<td>National Air System Delay, in Minutes</td>\n",
    "</tr>\n",
    "<tr>\n",
    "<td>SECURITY_DELAY&nbsp;</td>\n",
    "<td>Security Delay, in Minutes</td>\n",
    "</tr>\n",
    "<tr>\n",
    "<td>LATE_AIRCRAFT_DELAY</td>\n",
    "<td>Late Aircraft Delay, in Minutes</td>\n",
    "</tr>\n",
    "</tbody>\n",
    "</table>\n",
    "\n",
    "<h3 style=\"text-align: center;\"><span style=\"color: #000000;\">Computed Columns</span></h3>\n",
    "<table style=\"height: 400px; border-color: blue;\" width=\"587\">\n",
    "<tbody>\n",
    "<tr>\n",
    "<td style=\"width: 2px;\">\n",
    "<h4>Column Name</h4>\n",
    "</td>\n",
    "<td style=\"border-color: blue;\">\n",
    "<h4>Column Definition</h4>\n",
    "</td>\n",
    "</tr>\n",
    "<tr style=\"height: 1px;\">\n",
    "<td style=\"width: 2px;\">DEP_HOUR</td>\n",
    "<td style=\"border-color: blue;\">&nbsp;Departure Hour - derived from DEP_TIME</td>\n",
    "</tr>\n",
    "<tr>\n",
    "<td>ARR_HOUR</td>\n",
    "<td>Arrival Hour &nbsp; - derived from ARR_TIME</td>\n",
    "</tr>\n",
    "<tr>\n",
    "<td>&nbsp;DEPR_ONTIME&nbsp;</td>\n",
    "<td>&nbsp;On time Departure (0 - False 1 - True)</td>\n",
    "</tr>\n",
    "<tr>\n",
    "<td>&nbsp;DEPR_EARLY</td>\n",
    "<td>&nbsp;Early Departure (0 - False 1 - True)</td>\n",
    "</tr>\n",
    "<tr>\n",
    "<td>&nbsp;DEPR_DELAY</td>\n",
    "<td>&nbsp;Delayed Departure (0 - False 1 - True)</td>\n",
    "</tr>\n",
    "<tr>\n",
    "<td>ARRL_ONTIME</td>\n",
    "<td>&nbsp;On time Arrival &nbsp;(0 - False 1 - True)</td>\n",
    "</tr>\n",
    "<tr>\n",
    "<td>&nbsp;ARRL_EARLY</td>\n",
    "<td>&nbsp;Early Arrival (0 - False 1 - True)</td>\n",
    "</tr>\n",
    "<tr>\n",
    "<td>&nbsp;ARRL_DELAY</td>\n",
    "<td>&nbsp;Delayed Arrival (0 - False 1 - True)</td>\n",
    "</tr>\n",
    "<tr>\n",
    "<td>LATE_AIRCRAFT_DELAY</td>\n",
    "<td>Late Aircraft Delay, in Minutes</td>\n",
    "</tr>\n",
    "</tbody>\n",
    "</table>\n"
   ]
  },
  {
   "cell_type": "markdown",
   "metadata": {},
   "source": [
    "<h2 style=\"text-align: left;\">Initialize Libraries</h2>"
   ]
  },
  {
   "cell_type": "code",
   "execution_count": 7,
   "metadata": {
    "collapsed": false
   },
   "outputs": [],
   "source": [
    "from pandas import Series, DataFrame\n",
    "import pandas as pd\n",
    "import glob\n",
    "import numpy as np\n",
    "import os\n",
    "import matplotlib.pylab as plt\n",
    "%matplotlib inline \n",
    "plt.rcParams['figure.figsize'] = 12, 9  # that's default image size for this interactive session"
   ]
  },
  {
   "cell_type": "markdown",
   "metadata": {},
   "source": [
    "<h2 style=\"text-align: left;\">Combine all downloaded CSV datafiles (July 1988 to July 2015)</h2>"
   ]
  },
  {
   "cell_type": "code",
   "execution_count": 18,
   "metadata": {
    "collapsed": true
   },
   "outputs": [],
   "source": [
    "airline_files = glob.glob(\"*.csv\")\n",
    "df_list = []\n",
    "for filename in sorted(airline_files):\n",
    "    df_list.append(pd.read_csv(filename))\n",
    "full_df = pd.concat(df_list)\n",
    "\n",
    "full_df.to_csv('AirlineJul89to15.csv')"
   ]
  },
  {
   "cell_type": "markdown",
   "metadata": {},
   "source": [
    "### Read CSV File and inspect data"
   ]
  },
  {
   "cell_type": "code",
   "execution_count": 3,
   "metadata": {
    "collapsed": false,
    "scrolled": true
   },
   "outputs": [
    {
     "data": {
      "text/html": [
       "<div>\n",
       "<table border=\"1\" class=\"dataframe\">\n",
       "  <thead>\n",
       "    <tr style=\"text-align: right;\">\n",
       "      <th></th>\n",
       "      <th>Unnamed: 0</th>\n",
       "      <th>YEAR</th>\n",
       "      <th>QUARTER</th>\n",
       "      <th>MONTH</th>\n",
       "      <th>DAY_OF_MONTH</th>\n",
       "      <th>DAY_OF_WEEK</th>\n",
       "      <th>FL_DATE</th>\n",
       "      <th>CARRIER</th>\n",
       "      <th>FL_NUM</th>\n",
       "      <th>ORIGIN</th>\n",
       "      <th>...</th>\n",
       "      <th>DEP_TIME</th>\n",
       "      <th>DEP_DELAY</th>\n",
       "      <th>ARR_TIME</th>\n",
       "      <th>ARR_DELAY</th>\n",
       "      <th>CARRIER_DELAY</th>\n",
       "      <th>WEATHER_DELAY</th>\n",
       "      <th>NAS_DELAY</th>\n",
       "      <th>SECURITY_DELAY</th>\n",
       "      <th>LATE_AIRCRAFT_DELAY</th>\n",
       "      <th>Unnamed: 23</th>\n",
       "    </tr>\n",
       "  </thead>\n",
       "  <tbody>\n",
       "    <tr>\n",
       "      <th>6887671</th>\n",
       "      <td>14159</td>\n",
       "      <td>2003</td>\n",
       "      <td>3</td>\n",
       "      <td>7</td>\n",
       "      <td>28</td>\n",
       "      <td>1</td>\n",
       "      <td>2003-07-28</td>\n",
       "      <td>EV</td>\n",
       "      <td>4327</td>\n",
       "      <td>ATL</td>\n",
       "      <td>...</td>\n",
       "      <td>1600.0</td>\n",
       "      <td>50.0</td>\n",
       "      <td>1645.0</td>\n",
       "      <td>45.0</td>\n",
       "      <td>45.0</td>\n",
       "      <td>0.0</td>\n",
       "      <td>0.0</td>\n",
       "      <td>0.0</td>\n",
       "      <td>0.0</td>\n",
       "      <td>NaN</td>\n",
       "    </tr>\n",
       "    <tr>\n",
       "      <th>7095763</th>\n",
       "      <td>222251</td>\n",
       "      <td>2003</td>\n",
       "      <td>3</td>\n",
       "      <td>7</td>\n",
       "      <td>15</td>\n",
       "      <td>2</td>\n",
       "      <td>2003-07-15</td>\n",
       "      <td>AA</td>\n",
       "      <td>1494</td>\n",
       "      <td>DFW</td>\n",
       "      <td>...</td>\n",
       "      <td>2045.0</td>\n",
       "      <td>-2.0</td>\n",
       "      <td>2348.0</td>\n",
       "      <td>2.0</td>\n",
       "      <td>NaN</td>\n",
       "      <td>NaN</td>\n",
       "      <td>NaN</td>\n",
       "      <td>NaN</td>\n",
       "      <td>NaN</td>\n",
       "      <td>NaN</td>\n",
       "    </tr>\n",
       "    <tr>\n",
       "      <th>7266109</th>\n",
       "      <td>392597</td>\n",
       "      <td>2003</td>\n",
       "      <td>3</td>\n",
       "      <td>7</td>\n",
       "      <td>17</td>\n",
       "      <td>4</td>\n",
       "      <td>2003-07-17</td>\n",
       "      <td>TZ</td>\n",
       "      <td>618</td>\n",
       "      <td>OGG</td>\n",
       "      <td>...</td>\n",
       "      <td>1151.0</td>\n",
       "      <td>-9.0</td>\n",
       "      <td>1937.0</td>\n",
       "      <td>-8.0</td>\n",
       "      <td>NaN</td>\n",
       "      <td>NaN</td>\n",
       "      <td>NaN</td>\n",
       "      <td>NaN</td>\n",
       "      <td>NaN</td>\n",
       "      <td>NaN</td>\n",
       "    </tr>\n",
       "    <tr>\n",
       "      <th>11704933</th>\n",
       "      <td>552857</td>\n",
       "      <td>2010</td>\n",
       "      <td>3</td>\n",
       "      <td>7</td>\n",
       "      <td>29</td>\n",
       "      <td>4</td>\n",
       "      <td>2010-07-29</td>\n",
       "      <td>UA</td>\n",
       "      <td>187</td>\n",
       "      <td>SFO</td>\n",
       "      <td>...</td>\n",
       "      <td>1040.0</td>\n",
       "      <td>0.0</td>\n",
       "      <td>1210.0</td>\n",
       "      <td>-23.0</td>\n",
       "      <td>NaN</td>\n",
       "      <td>NaN</td>\n",
       "      <td>NaN</td>\n",
       "      <td>NaN</td>\n",
       "      <td>NaN</td>\n",
       "      <td>NaN</td>\n",
       "    </tr>\n",
       "    <tr>\n",
       "      <th>2428593</th>\n",
       "      <td>233920</td>\n",
       "      <td>1993</td>\n",
       "      <td>3</td>\n",
       "      <td>7</td>\n",
       "      <td>14</td>\n",
       "      <td>3</td>\n",
       "      <td>1993-07-14</td>\n",
       "      <td>NW</td>\n",
       "      <td>1067</td>\n",
       "      <td>MDW</td>\n",
       "      <td>...</td>\n",
       "      <td>1700.0</td>\n",
       "      <td>0.0</td>\n",
       "      <td>1823.0</td>\n",
       "      <td>-10.0</td>\n",
       "      <td>NaN</td>\n",
       "      <td>NaN</td>\n",
       "      <td>NaN</td>\n",
       "      <td>NaN</td>\n",
       "      <td>NaN</td>\n",
       "      <td>NaN</td>\n",
       "    </tr>\n",
       "  </tbody>\n",
       "</table>\n",
       "<p>5 rows × 25 columns</p>\n",
       "</div>"
      ],
      "text/plain": [
       "          Unnamed: 0  YEAR  QUARTER  MONTH  DAY_OF_MONTH  DAY_OF_WEEK  \\\n",
       "6887671        14159  2003        3      7            28            1   \n",
       "7095763       222251  2003        3      7            15            2   \n",
       "7266109       392597  2003        3      7            17            4   \n",
       "11704933      552857  2010        3      7            29            4   \n",
       "2428593       233920  1993        3      7            14            3   \n",
       "\n",
       "             FL_DATE CARRIER  FL_NUM ORIGIN     ...      DEP_TIME DEP_DELAY  \\\n",
       "6887671   2003-07-28      EV    4327    ATL     ...        1600.0      50.0   \n",
       "7095763   2003-07-15      AA    1494    DFW     ...        2045.0      -2.0   \n",
       "7266109   2003-07-17      TZ     618    OGG     ...        1151.0      -9.0   \n",
       "11704933  2010-07-29      UA     187    SFO     ...        1040.0       0.0   \n",
       "2428593   1993-07-14      NW    1067    MDW     ...        1700.0       0.0   \n",
       "\n",
       "         ARR_TIME ARR_DELAY CARRIER_DELAY  WEATHER_DELAY  NAS_DELAY  \\\n",
       "6887671    1645.0      45.0          45.0            0.0        0.0   \n",
       "7095763    2348.0       2.0           NaN            NaN        NaN   \n",
       "7266109    1937.0      -8.0           NaN            NaN        NaN   \n",
       "11704933   1210.0     -23.0           NaN            NaN        NaN   \n",
       "2428593    1823.0     -10.0           NaN            NaN        NaN   \n",
       "\n",
       "          SECURITY_DELAY  LATE_AIRCRAFT_DELAY  Unnamed: 23  \n",
       "6887671              0.0                  0.0          NaN  \n",
       "7095763              NaN                  NaN          NaN  \n",
       "7266109              NaN                  NaN          NaN  \n",
       "11704933             NaN                  NaN          NaN  \n",
       "2428593              NaN                  NaN          NaN  \n",
       "\n",
       "[5 rows x 25 columns]"
      ]
     },
     "execution_count": 3,
     "metadata": {},
     "output_type": "execute_result"
    }
   ],
   "source": [
    "AirlineData = pd.read_csv(\"AirlineJul89to15.csv\")\n",
    "AirlineData.sample(n=5)"
   ]
  },
  {
   "cell_type": "markdown",
   "metadata": {},
   "source": [
    "<h2 style=\"text-align: left;\">Check the data to find the maximum and minimum values for Arrival and Departure Delays.</h2>"
   ]
  },
  {
   "cell_type": "code",
   "execution_count": 4,
   "metadata": {
    "collapsed": false,
    "scrolled": true
   },
   "outputs": [
    {
     "data": {
      "text/plain": [
       "(-1200.0, 2445.0, -1035.0, 2449.0)"
      ]
     },
     "execution_count": 4,
     "metadata": {},
     "output_type": "execute_result"
    }
   ],
   "source": [
    "AirlineData.DEP_DELAY.min(), AirlineData.DEP_DELAY.max(), AirlineData.ARR_DELAY.min(),AirlineData.ARR_DELAY.max()"
   ]
  },
  {
   "cell_type": "code",
   "execution_count": 5,
   "metadata": {
    "collapsed": false
   },
   "outputs": [
    {
     "data": {
      "text/plain": [
       "Unnamed: 0               int64\n",
       "YEAR                     int64\n",
       "QUARTER                  int64\n",
       "MONTH                    int64\n",
       "DAY_OF_MONTH             int64\n",
       "DAY_OF_WEEK              int64\n",
       "FL_DATE                 object\n",
       "CARRIER                 object\n",
       "FL_NUM                   int64\n",
       "ORIGIN                  object\n",
       "ORIGIN_CITY_NAME        object\n",
       "ORIGIN_STATE_ABR        object\n",
       "DEST                    object\n",
       "DEST_CITY_NAME          object\n",
       "DEST_STATE_ABR          object\n",
       "DEP_TIME               float64\n",
       "DEP_DELAY              float64\n",
       "ARR_TIME               float64\n",
       "ARR_DELAY              float64\n",
       "CARRIER_DELAY          float64\n",
       "WEATHER_DELAY          float64\n",
       "NAS_DELAY              float64\n",
       "SECURITY_DELAY         float64\n",
       "LATE_AIRCRAFT_DELAY    float64\n",
       "Unnamed: 23            float64\n",
       "dtype: object"
      ]
     },
     "execution_count": 5,
     "metadata": {},
     "output_type": "execute_result"
    }
   ],
   "source": [
    "AirlineData.dtypes"
   ]
  },
  {
   "cell_type": "code",
   "execution_count": 6,
   "metadata": {
    "collapsed": false
   },
   "outputs": [
    {
     "data": {
      "text/plain": [
       "(14428435, 25)"
      ]
     },
     "execution_count": 6,
     "metadata": {},
     "output_type": "execute_result"
    }
   ],
   "source": [
    "AirlineData.shape"
   ]
  },
  {
   "cell_type": "markdown",
   "metadata": {},
   "source": [
    "<p style=\"text-align: left;\">1. Departure and Arrival Delay data has extreme outliers in terms of minutes. Here it might be dificult to analyze based only on the Departure and Arrival Delay Minutes. <br />2. Data collected for analysis is available for 27 years and it would be also possible to analyze using the number of total flights for Departure Delay, Arrival Delay and Ontime.<br />3. Unwanted columns and data with NAN values will be dropped.<br />4. 6 additional columns will be added (DEPR_ONTIME, DEPR_EARLY, DEPR_DELAY, ARRL_ONTIME, ARRL_EARLY, ARRL_DELAY)<br />5. DEP_TIME will be used to derive DEP_HOUR. Similiarly ARR_TIME will be used to determine ARR_HOUR</p>\n",
    "</blockquote>"
   ]
  },
  {
   "cell_type": "markdown",
   "metadata": {},
   "source": [
    "<h2>Delete unwanted columns</h2>"
   ]
  },
  {
   "cell_type": "code",
   "execution_count": 7,
   "metadata": {
    "collapsed": true
   },
   "outputs": [],
   "source": [
    "AirlineData.drop(['Unnamed: 23','Unnamed: 0' ], axis=1, inplace=True)"
   ]
  },
  {
   "cell_type": "markdown",
   "metadata": {},
   "source": [
    "Check and remove data with NULL or NAN values"
   ]
  },
  {
   "cell_type": "code",
   "execution_count": 8,
   "metadata": {
    "collapsed": false
   },
   "outputs": [
    {
     "data": {
      "text/plain": [
       "YEAR                          0\n",
       "QUARTER                       0\n",
       "MONTH                         0\n",
       "DAY_OF_MONTH                  0\n",
       "DAY_OF_WEEK                   0\n",
       "FL_DATE                       0\n",
       "CARRIER                       0\n",
       "FL_NUM                        0\n",
       "ORIGIN                        0\n",
       "ORIGIN_CITY_NAME              0\n",
       "ORIGIN_STATE_ABR           4694\n",
       "DEST                          0\n",
       "DEST_CITY_NAME                0\n",
       "DEST_STATE_ABR             4623\n",
       "DEP_TIME                 218167\n",
       "DEP_DELAY                218167\n",
       "ARR_TIME                 251215\n",
       "ARR_DELAY                261774\n",
       "CARRIER_DELAY          12706410\n",
       "WEATHER_DELAY          12706410\n",
       "NAS_DELAY              12706410\n",
       "SECURITY_DELAY         12706410\n",
       "LATE_AIRCRAFT_DELAY    12706410\n",
       "dtype: int64"
      ]
     },
     "execution_count": 8,
     "metadata": {},
     "output_type": "execute_result"
    }
   ],
   "source": [
    "AirlineData.isnull().sum()"
   ]
  },
  {
   "cell_type": "markdown",
   "metadata": {},
   "source": [
    "CARRIER_DELAY, WEATHER_DELAY, NAS_DELAY, SECURITY_DELAY and LATE_AIRCRAFT_DELAY has too many NULLs (12,706,410) and will be dropped in this analysis. "
   ]
  },
  {
   "cell_type": "code",
   "execution_count": 9,
   "metadata": {
    "collapsed": true
   },
   "outputs": [],
   "source": [
    "AirlineData.drop(['FL_NUM', 'ORIGIN_CITY_NAME', 'ORIGIN_STATE_ABR', 'DEST_CITY_NAME'], axis=1, inplace=True)\n",
    "AirlineData.drop(['DEST_STATE_ABR', 'CARRIER_DELAY'], axis=1, inplace=True)\n",
    "AirlineData.drop(['WEATHER_DELAY', 'NAS_DELAY', 'SECURITY_DELAY', 'LATE_AIRCRAFT_DELAY'], axis=1, inplace=True)\n",
    "AirlineData.drop(['QUARTER', 'MONTH', 'FL_DATE'], axis=1, inplace=True)"
   ]
  },
  {
   "cell_type": "code",
   "execution_count": 10,
   "metadata": {
    "collapsed": false
   },
   "outputs": [
    {
     "data": {
      "text/plain": [
       "YEAR            0\n",
       "DAY_OF_MONTH    0\n",
       "DAY_OF_WEEK     0\n",
       "CARRIER         0\n",
       "ORIGIN          0\n",
       "DEST            0\n",
       "DEP_TIME        0\n",
       "DEP_DELAY       0\n",
       "ARR_TIME        0\n",
       "ARR_DELAY       0\n",
       "dtype: int64"
      ]
     },
     "execution_count": 10,
     "metadata": {},
     "output_type": "execute_result"
    }
   ],
   "source": [
    "NewAirlineData = AirlineData.dropna()\n",
    "NewAirlineData.isnull().sum()"
   ]
  },
  {
   "cell_type": "code",
   "execution_count": 11,
   "metadata": {
    "collapsed": false
   },
   "outputs": [
    {
     "data": {
      "text/plain": [
       "(14166661, 10)"
      ]
     },
     "execution_count": 11,
     "metadata": {},
     "output_type": "execute_result"
    }
   ],
   "source": [
    "NewAirlineData.shape"
   ]
  },
  {
   "cell_type": "code",
   "execution_count": 12,
   "metadata": {
    "collapsed": false,
    "scrolled": true
   },
   "outputs": [
    {
     "data": {
      "text/html": [
       "<div>\n",
       "<table border=\"1\" class=\"dataframe\">\n",
       "  <thead>\n",
       "    <tr style=\"text-align: right;\">\n",
       "      <th></th>\n",
       "      <th>YEAR</th>\n",
       "      <th>DAY_OF_MONTH</th>\n",
       "      <th>DAY_OF_WEEK</th>\n",
       "      <th>DEP_TIME</th>\n",
       "      <th>DEP_DELAY</th>\n",
       "      <th>ARR_TIME</th>\n",
       "      <th>ARR_DELAY</th>\n",
       "    </tr>\n",
       "  </thead>\n",
       "  <tbody>\n",
       "    <tr>\n",
       "      <th>count</th>\n",
       "      <td>1.416666e+07</td>\n",
       "      <td>1.416666e+07</td>\n",
       "      <td>1.416666e+07</td>\n",
       "      <td>1.416666e+07</td>\n",
       "      <td>1.416666e+07</td>\n",
       "      <td>1.416666e+07</td>\n",
       "      <td>1.416666e+07</td>\n",
       "    </tr>\n",
       "    <tr>\n",
       "      <th>mean</th>\n",
       "      <td>2.002306e+03</td>\n",
       "      <td>1.611186e+01</td>\n",
       "      <td>3.949736e+00</td>\n",
       "      <td>1.345432e+03</td>\n",
       "      <td>1.021295e+01</td>\n",
       "      <td>1.480091e+03</td>\n",
       "      <td>8.694099e+00</td>\n",
       "    </tr>\n",
       "    <tr>\n",
       "      <th>std</th>\n",
       "      <td>7.913722e+00</td>\n",
       "      <td>8.908127e+00</td>\n",
       "      <td>1.992211e+00</td>\n",
       "      <td>4.858655e+02</td>\n",
       "      <td>3.322419e+01</td>\n",
       "      <td>5.135577e+02</td>\n",
       "      <td>3.572979e+01</td>\n",
       "    </tr>\n",
       "    <tr>\n",
       "      <th>min</th>\n",
       "      <td>1.988000e+03</td>\n",
       "      <td>1.000000e+00</td>\n",
       "      <td>1.000000e+00</td>\n",
       "      <td>1.000000e+00</td>\n",
       "      <td>-1.200000e+03</td>\n",
       "      <td>1.000000e+00</td>\n",
       "      <td>-1.035000e+03</td>\n",
       "    </tr>\n",
       "    <tr>\n",
       "      <th>25%</th>\n",
       "      <td>1.996000e+03</td>\n",
       "      <td>8.000000e+00</td>\n",
       "      <td>2.000000e+00</td>\n",
       "      <td>9.300000e+02</td>\n",
       "      <td>-2.000000e+00</td>\n",
       "      <td>1.104000e+03</td>\n",
       "      <td>-8.000000e+00</td>\n",
       "    </tr>\n",
       "    <tr>\n",
       "      <th>50%</th>\n",
       "      <td>2.003000e+03</td>\n",
       "      <td>1.600000e+01</td>\n",
       "      <td>4.000000e+00</td>\n",
       "      <td>1.330000e+03</td>\n",
       "      <td>0.000000e+00</td>\n",
       "      <td>1.513000e+03</td>\n",
       "      <td>0.000000e+00</td>\n",
       "    </tr>\n",
       "    <tr>\n",
       "      <th>75%</th>\n",
       "      <td>2.009000e+03</td>\n",
       "      <td>2.400000e+01</td>\n",
       "      <td>6.000000e+00</td>\n",
       "      <td>1.740000e+03</td>\n",
       "      <td>8.000000e+00</td>\n",
       "      <td>1.915000e+03</td>\n",
       "      <td>1.200000e+01</td>\n",
       "    </tr>\n",
       "    <tr>\n",
       "      <th>max</th>\n",
       "      <td>2.015000e+03</td>\n",
       "      <td>3.100000e+01</td>\n",
       "      <td>7.000000e+00</td>\n",
       "      <td>2.400000e+03</td>\n",
       "      <td>2.445000e+03</td>\n",
       "      <td>2.400000e+03</td>\n",
       "      <td>2.449000e+03</td>\n",
       "    </tr>\n",
       "  </tbody>\n",
       "</table>\n",
       "</div>"
      ],
      "text/plain": [
       "               YEAR  DAY_OF_MONTH   DAY_OF_WEEK      DEP_TIME     DEP_DELAY  \\\n",
       "count  1.416666e+07  1.416666e+07  1.416666e+07  1.416666e+07  1.416666e+07   \n",
       "mean   2.002306e+03  1.611186e+01  3.949736e+00  1.345432e+03  1.021295e+01   \n",
       "std    7.913722e+00  8.908127e+00  1.992211e+00  4.858655e+02  3.322419e+01   \n",
       "min    1.988000e+03  1.000000e+00  1.000000e+00  1.000000e+00 -1.200000e+03   \n",
       "25%    1.996000e+03  8.000000e+00  2.000000e+00  9.300000e+02 -2.000000e+00   \n",
       "50%    2.003000e+03  1.600000e+01  4.000000e+00  1.330000e+03  0.000000e+00   \n",
       "75%    2.009000e+03  2.400000e+01  6.000000e+00  1.740000e+03  8.000000e+00   \n",
       "max    2.015000e+03  3.100000e+01  7.000000e+00  2.400000e+03  2.445000e+03   \n",
       "\n",
       "           ARR_TIME     ARR_DELAY  \n",
       "count  1.416666e+07  1.416666e+07  \n",
       "mean   1.480091e+03  8.694099e+00  \n",
       "std    5.135577e+02  3.572979e+01  \n",
       "min    1.000000e+00 -1.035000e+03  \n",
       "25%    1.104000e+03 -8.000000e+00  \n",
       "50%    1.513000e+03  0.000000e+00  \n",
       "75%    1.915000e+03  1.200000e+01  \n",
       "max    2.400000e+03  2.449000e+03  "
      ]
     },
     "execution_count": 12,
     "metadata": {},
     "output_type": "execute_result"
    }
   ],
   "source": [
    "NewAirlineData.describe()"
   ]
  },
  {
   "cell_type": "code",
   "execution_count": 13,
   "metadata": {
    "collapsed": true
   },
   "outputs": [],
   "source": [
    "NewAirlineData.to_csv('Airline.csv')"
   ]
  },
  {
   "cell_type": "code",
   "execution_count": 14,
   "metadata": {
    "collapsed": true
   },
   "outputs": [],
   "source": [
    "AirlineData = pd.read_csv(\"Airline.csv\")"
   ]
  },
  {
   "cell_type": "code",
   "execution_count": 15,
   "metadata": {
    "collapsed": false
   },
   "outputs": [
    {
     "data": {
      "text/plain": [
       "(14166661, 11)"
      ]
     },
     "execution_count": 15,
     "metadata": {},
     "output_type": "execute_result"
    }
   ],
   "source": [
    "AirlineData.shape"
   ]
  },
  {
   "cell_type": "code",
   "execution_count": 16,
   "metadata": {
    "collapsed": false,
    "scrolled": true
   },
   "outputs": [],
   "source": [
    "AirlineData['DEPR_ONTIME'] = np.where(AirlineData.DEP_DELAY == 0, 1 , 0)\n",
    "AirlineData['DEPR_EARLY'] = np.where(AirlineData.DEP_DELAY < 0, 1 , 0)\n",
    "AirlineData['DEPR_DELAY'] = np.where(AirlineData.DEP_DELAY > 0, 1 , 0)\n",
    "AirlineData['ARRL_ONTIME'] = np.where (AirlineData.ARR_DELAY == 0, 1 , 0)\n",
    "AirlineData['ARRL_EARLY'] = np.where(AirlineData.ARR_DELAY < 0, 1 , 0)\n",
    "AirlineData['ARRL_DELAY'] = np.where(AirlineData.ARR_DELAY > 0, 1 , 0)"
   ]
  },
  {
   "cell_type": "code",
   "execution_count": 17,
   "metadata": {
    "collapsed": true
   },
   "outputs": [],
   "source": [
    "AirlineData['DEP_HOUR'] = AirlineData['DEP_TIME']//100\n",
    "AirlineData['ARR_HOUR'] = AirlineData['ARR_TIME']//100"
   ]
  },
  {
   "cell_type": "code",
   "execution_count": 18,
   "metadata": {
    "collapsed": false
   },
   "outputs": [
    {
     "data": {
      "text/html": [
       "<div>\n",
       "<table border=\"1\" class=\"dataframe\">\n",
       "  <thead>\n",
       "    <tr style=\"text-align: right;\">\n",
       "      <th></th>\n",
       "      <th>Unnamed: 0</th>\n",
       "      <th>YEAR</th>\n",
       "      <th>DAY_OF_MONTH</th>\n",
       "      <th>DAY_OF_WEEK</th>\n",
       "      <th>CARRIER</th>\n",
       "      <th>ORIGIN</th>\n",
       "      <th>DEST</th>\n",
       "      <th>DEP_TIME</th>\n",
       "      <th>DEP_DELAY</th>\n",
       "      <th>ARR_TIME</th>\n",
       "      <th>ARR_DELAY</th>\n",
       "      <th>DEPR_ONTIME</th>\n",
       "      <th>DEPR_EARLY</th>\n",
       "      <th>DEPR_DELAY</th>\n",
       "      <th>ARRL_ONTIME</th>\n",
       "      <th>ARRL_EARLY</th>\n",
       "      <th>ARRL_DELAY</th>\n",
       "      <th>DEP_HOUR</th>\n",
       "      <th>ARR_HOUR</th>\n",
       "    </tr>\n",
       "  </thead>\n",
       "  <tbody>\n",
       "    <tr>\n",
       "      <th>0</th>\n",
       "      <td>0</td>\n",
       "      <td>1988</td>\n",
       "      <td>1</td>\n",
       "      <td>5</td>\n",
       "      <td>AA</td>\n",
       "      <td>JFK</td>\n",
       "      <td>LAX</td>\n",
       "      <td>901.0</td>\n",
       "      <td>1.0</td>\n",
       "      <td>1120.0</td>\n",
       "      <td>-18.0</td>\n",
       "      <td>0</td>\n",
       "      <td>0</td>\n",
       "      <td>1</td>\n",
       "      <td>0</td>\n",
       "      <td>1</td>\n",
       "      <td>0</td>\n",
       "      <td>9.0</td>\n",
       "      <td>11.0</td>\n",
       "    </tr>\n",
       "    <tr>\n",
       "      <th>1</th>\n",
       "      <td>1</td>\n",
       "      <td>1988</td>\n",
       "      <td>3</td>\n",
       "      <td>7</td>\n",
       "      <td>AA</td>\n",
       "      <td>JFK</td>\n",
       "      <td>LAX</td>\n",
       "      <td>900.0</td>\n",
       "      <td>0.0</td>\n",
       "      <td>1113.0</td>\n",
       "      <td>-25.0</td>\n",
       "      <td>1</td>\n",
       "      <td>0</td>\n",
       "      <td>0</td>\n",
       "      <td>0</td>\n",
       "      <td>1</td>\n",
       "      <td>0</td>\n",
       "      <td>9.0</td>\n",
       "      <td>11.0</td>\n",
       "    </tr>\n",
       "    <tr>\n",
       "      <th>2</th>\n",
       "      <td>2</td>\n",
       "      <td>1988</td>\n",
       "      <td>4</td>\n",
       "      <td>1</td>\n",
       "      <td>AA</td>\n",
       "      <td>JFK</td>\n",
       "      <td>LAX</td>\n",
       "      <td>901.0</td>\n",
       "      <td>1.0</td>\n",
       "      <td>1111.0</td>\n",
       "      <td>-27.0</td>\n",
       "      <td>0</td>\n",
       "      <td>0</td>\n",
       "      <td>1</td>\n",
       "      <td>0</td>\n",
       "      <td>1</td>\n",
       "      <td>0</td>\n",
       "      <td>9.0</td>\n",
       "      <td>11.0</td>\n",
       "    </tr>\n",
       "    <tr>\n",
       "      <th>3</th>\n",
       "      <td>3</td>\n",
       "      <td>1988</td>\n",
       "      <td>5</td>\n",
       "      <td>2</td>\n",
       "      <td>AA</td>\n",
       "      <td>JFK</td>\n",
       "      <td>LAX</td>\n",
       "      <td>902.0</td>\n",
       "      <td>2.0</td>\n",
       "      <td>1109.0</td>\n",
       "      <td>-29.0</td>\n",
       "      <td>0</td>\n",
       "      <td>0</td>\n",
       "      <td>1</td>\n",
       "      <td>0</td>\n",
       "      <td>1</td>\n",
       "      <td>0</td>\n",
       "      <td>9.0</td>\n",
       "      <td>11.0</td>\n",
       "    </tr>\n",
       "    <tr>\n",
       "      <th>4</th>\n",
       "      <td>4</td>\n",
       "      <td>1988</td>\n",
       "      <td>6</td>\n",
       "      <td>3</td>\n",
       "      <td>AA</td>\n",
       "      <td>JFK</td>\n",
       "      <td>LAX</td>\n",
       "      <td>903.0</td>\n",
       "      <td>3.0</td>\n",
       "      <td>1108.0</td>\n",
       "      <td>-30.0</td>\n",
       "      <td>0</td>\n",
       "      <td>0</td>\n",
       "      <td>1</td>\n",
       "      <td>0</td>\n",
       "      <td>1</td>\n",
       "      <td>0</td>\n",
       "      <td>9.0</td>\n",
       "      <td>11.0</td>\n",
       "    </tr>\n",
       "  </tbody>\n",
       "</table>\n",
       "</div>"
      ],
      "text/plain": [
       "   Unnamed: 0  YEAR  DAY_OF_MONTH  DAY_OF_WEEK CARRIER ORIGIN DEST  DEP_TIME  \\\n",
       "0           0  1988             1            5      AA    JFK  LAX     901.0   \n",
       "1           1  1988             3            7      AA    JFK  LAX     900.0   \n",
       "2           2  1988             4            1      AA    JFK  LAX     901.0   \n",
       "3           3  1988             5            2      AA    JFK  LAX     902.0   \n",
       "4           4  1988             6            3      AA    JFK  LAX     903.0   \n",
       "\n",
       "   DEP_DELAY  ARR_TIME  ARR_DELAY  DEPR_ONTIME  DEPR_EARLY  DEPR_DELAY  \\\n",
       "0        1.0    1120.0      -18.0            0           0           1   \n",
       "1        0.0    1113.0      -25.0            1           0           0   \n",
       "2        1.0    1111.0      -27.0            0           0           1   \n",
       "3        2.0    1109.0      -29.0            0           0           1   \n",
       "4        3.0    1108.0      -30.0            0           0           1   \n",
       "\n",
       "   ARRL_ONTIME  ARRL_EARLY  ARRL_DELAY  DEP_HOUR  ARR_HOUR  \n",
       "0            0           1           0       9.0      11.0  \n",
       "1            0           1           0       9.0      11.0  \n",
       "2            0           1           0       9.0      11.0  \n",
       "3            0           1           0       9.0      11.0  \n",
       "4            0           1           0       9.0      11.0  "
      ]
     },
     "execution_count": 18,
     "metadata": {},
     "output_type": "execute_result"
    }
   ],
   "source": [
    "AirlineData.head()"
   ]
  },
  {
   "cell_type": "code",
   "execution_count": 19,
   "metadata": {
    "collapsed": false
   },
   "outputs": [
    {
     "data": {
      "text/plain": [
       "Unnamed: 0        int64\n",
       "YEAR              int64\n",
       "DAY_OF_MONTH      int64\n",
       "DAY_OF_WEEK       int64\n",
       "CARRIER          object\n",
       "ORIGIN           object\n",
       "DEST             object\n",
       "DEP_TIME        float64\n",
       "DEP_DELAY       float64\n",
       "ARR_TIME        float64\n",
       "ARR_DELAY       float64\n",
       "DEPR_ONTIME       int32\n",
       "DEPR_EARLY        int32\n",
       "DEPR_DELAY        int32\n",
       "ARRL_ONTIME       int32\n",
       "ARRL_EARLY        int32\n",
       "ARRL_DELAY        int32\n",
       "DEP_HOUR        float64\n",
       "ARR_HOUR        float64\n",
       "dtype: object"
      ]
     },
     "execution_count": 19,
     "metadata": {},
     "output_type": "execute_result"
    }
   ],
   "source": [
    "AirlineData.dtypes"
   ]
  },
  {
   "cell_type": "code",
   "execution_count": 20,
   "metadata": {
    "collapsed": true
   },
   "outputs": [],
   "source": [
    "AirlineData.to_csv('AirlineAnalysis.csv')"
   ]
  },
  {
   "cell_type": "markdown",
   "metadata": {},
   "source": [
    "<h2>Data Exploration</h2>"
   ]
  },
  {
   "cell_type": "code",
   "execution_count": 8,
   "metadata": {
    "collapsed": false
   },
   "outputs": [],
   "source": [
    "AirlineData = pd.read_csv(\"AirlineAnalysis.csv\")"
   ]
  },
  {
   "cell_type": "code",
   "execution_count": 17,
   "metadata": {
    "collapsed": false,
    "scrolled": true
   },
   "outputs": [
    {
     "data": {
      "image/png": "[encoded data removed]",
      "text/plain": [
       "<matplotlib.figure.Figure at 0x2bb477b8>"
      ]
     },
     "metadata": {},
     "output_type": "display_data"
    }
   ],
   "source": [
    "plt.scatter(AirlineData.DEP_DELAY,AirlineData.ARR_DELAY)\n",
    "plt.xlabel('Arrival Delay')\n",
    "plt.ylabel('Departure Delay')\n",
    "plt.title('Scatter Analysis of Arrivals and Departures')\n",
    "plt.grid(True)"
   ]
  },
  {
   "cell_type": "markdown",
   "metadata": {
    "collapsed": true
   },
   "source": [
    "<p>Scatter analysis show a correlation between Departure and Arrival. Late departures mostly result in late arrival.</p>"
   ]
  },
  {
   "cell_type": "markdown",
   "metadata": {},
   "source": [
    "<h3>Yearly Analysis - Departure/Arrival from 1988 to 2015</h3>"
   ]
  },
  {
   "cell_type": "code",
   "execution_count": 10,
   "metadata": {
    "collapsed": false
   },
   "outputs": [
    {
     "data": {
      "text/plain": [
       "<matplotlib.text.Text at 0x17ce2908>"
      ]
     },
     "execution_count": 10,
     "metadata": {},
     "output_type": "execute_result"
    },
    {
     "data": {
      "image/png": "[encoded data removed]",
      "text/plain": [
       "<matplotlib.figure.Figure at 0x8ff6e10>"
      ]
     },
     "metadata": {},
     "output_type": "display_data"
    }
   ],
   "source": [
    "AirlineData.pivot_table(columns='YEAR')\n",
    "delays_list = ['DEPR_DELAY','DEPR_EARLY','DEPR_ONTIME']\n",
    "flight_delays_by_day = AirlineData.pivot_table(index='YEAR', values=delays_list, aggfunc='sum')\n",
    "flight_delays_by_day.plot(kind='bar', figsize=[16,6], stacked=True, colormap='autumn') # area plot\n",
    "plt.xlabel('Year')\n",
    "plt.ylabel('Number of Flights')\n",
    "plt.title('Comparison of Departures')"
   ]
  },
  {
   "cell_type": "markdown",
   "metadata": {},
   "source": [
    "<p>On time Departure has been seen slowly declining at the end. Also suprisingly early departure has also been steadily increasing. Delayed departure is almost proportional with the total number of flights.</p>"
   ]
  },
  {
   "cell_type": "code",
   "execution_count": 11,
   "metadata": {
    "collapsed": false
   },
   "outputs": [
    {
     "data": {
      "text/plain": [
       "<matplotlib.text.Text at 0x4b56b240>"
      ]
     },
     "execution_count": 11,
     "metadata": {},
     "output_type": "execute_result"
    },
    {
     "data": {
      "image/png": "[encoded data removed]",
      "text/plain": [
       "<matplotlib.figure.Figure at 0x9353978>"
      ]
     },
     "metadata": {},
     "output_type": "display_data"
    }
   ],
   "source": [
    "AirlineData.pivot_table(columns='YEAR')\n",
    "delays_list = ['ARRL_ONTIME','ARRL_EARLY','ARRL_DELAY']\n",
    "flight_delays_by_day = AirlineData.pivot_table(index='YEAR', values=delays_list, aggfunc='sum')\n",
    "flight_delays_by_day.plot(kind='bar', figsize=[16,6], stacked=True, colormap='autumn') # area plot\n",
    "plt.xlabel('Year')\n",
    "plt.ylabel('Number of Flights')\n",
    "plt.title('Comparison of Arrivals')"
   ]
  },
  {
   "cell_type": "markdown",
   "metadata": {
    "collapsed": true
   },
   "source": [
    "<p>While On time Arrival seems to be consistent, early arrival has also been steadily increasing. Delayed arrival is is almost proportional with the total number of flights.</p>"
   ]
  },
  {
   "cell_type": "markdown",
   "metadata": {},
   "source": [
    "<h3>Day of the Month Analysis - Departures/Arrivals from 1988 to 2015</h3>"
   ]
  },
  {
   "cell_type": "code",
   "execution_count": 22,
   "metadata": {
    "collapsed": false,
    "scrolled": true
   },
   "outputs": [
    {
     "data": {
      "text/plain": [
       "<matplotlib.text.Text at 0x83e9c6a0>"
      ]
     },
     "execution_count": 22,
     "metadata": {},
     "output_type": "execute_result"
    },
    {
     "data": {
      "image/png": "[encoded data removed]",
      "text/plain": [
       "<matplotlib.figure.Figure at 0x1b54b470>"
      ]
     },
     "metadata": {},
     "output_type": "display_data"
    }
   ],
   "source": [
    "AirlineData.pivot_table(columns='DAY_OF_MONTH')\n",
    "delays_list = ['DEPR_DELAY','DEPR_EARLY','DEPR_ONTIME']\n",
    "flight_delays_by_day = AirlineData.pivot_table(index='DAY_OF_MONTH', values=delays_list, aggfunc='sum')\n",
    "flight_delays_by_day.plot(kind='bar', figsize=[16,6], stacked=True, colormap='summer') # area plot\n",
    "plt.xlabel('Day of the Month')\n",
    "plt.ylabel('Number of Flights')\n",
    "plt.title('Comparison of Departures')"
   ]
  },
  {
   "cell_type": "markdown",
   "metadata": {},
   "source": [
    "<p>There seems to be some consistency on the departures through all days of the month, except on July 4, the air traffice seems to be less.</p>"
   ]
  },
  {
   "cell_type": "code",
   "execution_count": 25,
   "metadata": {
    "collapsed": false
   },
   "outputs": [
    {
     "data": {
      "text/plain": [
       "<matplotlib.text.Text at 0x6f42a860>"
      ]
     },
     "execution_count": 25,
     "metadata": {},
     "output_type": "execute_result"
    },
    {
     "data": {
      "image/png": "[encoded data removed]",
      "text/plain": [
       "<matplotlib.figure.Figure at 0x37851518>"
      ]
     },
     "metadata": {},
     "output_type": "display_data"
    }
   ],
   "source": [
    "AirlineData.pivot_table(columns='DAY_OF_MONTH')\n",
    "delays_list = ['ARRL_ONTIME','ARRL_EARLY','ARRL_DELAY']\n",
    "flight_delays_by_day = AirlineData.pivot_table(index='DAY_OF_MONTH', values=delays_list, aggfunc='sum')\n",
    "flight_delays_by_day.plot(kind='bar', figsize=[16,6], stacked=True, colormap='summer') # area plot\n",
    "plt.xlabel('Day of the Month')\n",
    "plt.ylabel('Number of Flights')\n",
    "plt.title('Comparison of Arrivals')"
   ]
  },
  {
   "cell_type": "markdown",
   "metadata": {},
   "source": [
    "<p>There seems to be some consistency on the Arrivals&nbsp;through all days of the month, except on July 4, the air traffice seems to be less.</p>"
   ]
  },
  {
   "cell_type": "markdown",
   "metadata": {},
   "source": [
    "<h3>Day of the Week Analysis - Departures/Arrivals from 1988 to 2015</h3>"
   ]
  },
  {
   "cell_type": "code",
   "execution_count": 29,
   "metadata": {
    "collapsed": false,
    "scrolled": true
   },
   "outputs": [
    {
     "data": {
      "text/plain": [
       "<matplotlib.text.Text at 0x1af7a2e8>"
      ]
     },
     "execution_count": 29,
     "metadata": {},
     "output_type": "execute_result"
    },
    {
     "data": {
      "image/png": "[encoded data removed]",
      "text/plain": [
       "<matplotlib.figure.Figure at 0x14e7b898>"
      ]
     },
     "metadata": {},
     "output_type": "display_data"
    }
   ],
   "source": [
    "AirlineData.pivot_table(columns='DAY_OF_WEEK')\n",
    "delays_list = ['DEPR_DELAY','DEPR_EARLY','DEPR_ONTIME']\n",
    "flight_delays_by_day = AirlineData.pivot_table(index='DAY_OF_WEEK', values=delays_list, aggfunc='sum')\n",
    "flight_delays_by_day.plot(kind='bar', figsize=[16,6], stacked=True, colormap='gray') # area plot\n",
    "plt.xlabel('Day of Week')\n",
    "plt.ylabel('Number of Flights')\n",
    "plt.title('Comparison of Departures')"
   ]
  },
  {
   "cell_type": "markdown",
   "metadata": {},
   "source": [
    "<p>There seems to be some consistency on the Departures&nbsp;through all days of the week, while air traffic on Saturday is less.</p>"
   ]
  },
  {
   "cell_type": "code",
   "execution_count": 30,
   "metadata": {
    "collapsed": false
   },
   "outputs": [
    {
     "data": {
      "text/plain": [
       "<matplotlib.text.Text at 0x1f8a7cc0>"
      ]
     },
     "execution_count": 30,
     "metadata": {},
     "output_type": "execute_result"
    },
    {
     "data": {
      "image/png": "[encoded data removed]",
      "text/plain": [
       "<matplotlib.figure.Figure at 0x1870f898>"
      ]
     },
     "metadata": {},
     "output_type": "display_data"
    }
   ],
   "source": [
    "AirlineData.pivot_table(columns='DAY_OF_WEEK')\n",
    "delays_list = ['ARRL_ONTIME','ARRL_EARLY','ARRL_DELAY']\n",
    "flight_delays_by_day = AirlineData.pivot_table(index='DAY_OF_WEEK', values=delays_list, aggfunc='sum')\n",
    "flight_delays_by_day.plot(kind='bar', figsize=[16,6], stacked=True, colormap='gray') # area plot\n",
    "plt.xlabel('Day of Week')\n",
    "plt.ylabel('Number of Flights')\n",
    "plt.title('Comparison of Arrivals')"
   ]
  },
  {
   "cell_type": "markdown",
   "metadata": {},
   "source": [
    "<p>There seems to be some consistency on the Arrivals&nbsp;through all days of the week, while air traffic on Saturday is less. Arrival delays on &nbsp;Wednesdays, Thursdays and Fridays seem to be a bit more than other days.&nbsp;</p>"
   ]
  },
  {
   "cell_type": "markdown",
   "metadata": {},
   "source": [
    "<h3>Hour of the Day Analysis - Departures/Arrivals from 1988 to 2015</h3>"
   ]
  },
  {
   "cell_type": "code",
   "execution_count": 33,
   "metadata": {
    "collapsed": false,
    "scrolled": true
   },
   "outputs": [
    {
     "data": {
      "text/plain": [
       "<matplotlib.text.Text at 0x287de080>"
      ]
     },
     "execution_count": 33,
     "metadata": {},
     "output_type": "execute_result"
    },
    {
     "data": {
      "image/png": "[encoded data removed]",
      "text/plain": [
       "<matplotlib.figure.Figure at 0x1f874080>"
      ]
     },
     "metadata": {},
     "output_type": "display_data"
    }
   ],
   "source": [
    "AirlineData.pivot_table(columns='DEP_HOUR')\n",
    "delays_list = ['DEPR_DELAY','DEPR_EARLY','DEPR_ONTIME']\n",
    "flight_delays_by_day = AirlineData.pivot_table(index='DEP_HOUR', values=delays_list, aggfunc='sum')\n",
    "flight_delays_by_day.plot(kind='bar', figsize=[16,6], stacked=True, colormap='copper') # area plot\n",
    "plt.xlabel('Departure Hour')\n",
    "plt.ylabel('Number of Flights')\n",
    "plt.title('Comparison of Departures')"
   ]
  },
  {
   "cell_type": "markdown",
   "metadata": {},
   "source": [
    "<p>Departure delays are more in the evenings.&nbsp;</p>"
   ]
  },
  {
   "cell_type": "code",
   "execution_count": 34,
   "metadata": {
    "collapsed": false
   },
   "outputs": [
    {
     "data": {
      "text/plain": [
       "<matplotlib.text.Text at 0x39bb1c18>"
      ]
     },
     "execution_count": 34,
     "metadata": {},
     "output_type": "execute_result"
    },
    {
     "data": {
      "image/png": "[encoded data removed]",
      "text/plain": [
       "<matplotlib.figure.Figure at 0x24fa5eb8>"
      ]
     },
     "metadata": {},
     "output_type": "display_data"
    }
   ],
   "source": [
    "AirlineData.pivot_table(columns='ARR_HOUR')\n",
    "delays_list = ['ARRL_ONTIME','ARRL_EARLY','ARRL_DELAY']\n",
    "flight_delays_by_day = AirlineData.pivot_table(index='ARR_HOUR', values=delays_list, aggfunc='sum')\n",
    "flight_delays_by_day.plot(kind='bar', figsize=[16,6], stacked=True, colormap='copper') # area plot\n",
    "plt.xlabel('Arrivel Hour')\n",
    "plt.ylabel('Number of Flights')\n",
    "plt.title('Comparison of Arrivals')"
   ]
  },
  {
   "cell_type": "markdown",
   "metadata": {},
   "source": [
    "<p>Arrival delays are more in the evenings and night till 9pm.&nbsp;</p>"
   ]
  },
  {
   "cell_type": "code",
   "execution_count": null,
   "metadata": {
    "collapsed": true
   },
   "outputs": [],
   "source": []
  }
 ],
 "metadata": {
  "kernelspec": {
   "display_name": "Python 2",
   "language": "python",
   "name": "python2"
  },
  "language_info": {
   "codemirror_mode": {
    "name": "ipython",
    "version": 2
   },
   "file_extension": ".py",
   "mimetype": "text/x-python",
   "name": "python",
   "nbconvert_exporter": "python",
   "pygments_lexer": "ipython2",
   "version": "2.7.11"
  }
 },
 "nbformat": 4,
 "nbformat_minor": 0
}
