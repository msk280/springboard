{
 "cells": [
  {
   "cell_type": "markdown",
   "metadata": {},
   "source": [
    "<h1 id=\"Analysis-of-Airline-Departure Delays\"><span style=\"color: #ff0000;\">Analysis of Airline Departure  Delays in July (Atlanta Airport)</h1>"
   ]
  },
  {
   "cell_type": "markdown",
   "metadata": {},
   "source": [
    "<p>Many of us will already know this. July is known within the airline industry as the busiest travel month of the year. According to the Bureau of Travel Statistics, in 2014, 71.8 million people flew during July. That was 37 percent more passengers than got on a plane in February, 2014, the year&rsquo;s slowest month. It is generally agreed that delay in the national air transportation system will become intolerable if aviation capacity is not increased.</p>\n",
    "<p>A flight departure is counted as \"delayed\" if it operated more than 15 minutes later the scheduled time shown in the carriers' Computerized Reservations Systems (CRS). &nbsp;Departure performance is based on departure from the gate.</p>\n",
    "<p>In this project, we analyze departure&nbsp;delay that happens during Air Travel during July for Atlanta Airport ( Atlanta was number One among Top 10 busiest Airport in 2014).&nbsp;</p>\n",
    "<p>Data Input and Data Exploration<br />1.Input historical flight data for analysis<br />2.Data exploration and data visualization</p>\n",
    "<p>Flight Delay Modeling<br />1.Use OLS to examine the the features selected<br />2.Use regression&nbsp;to predict flight departure delay and evaluate its predicting capabilities</p>"
   ]
  },
  {
   "cell_type": "markdown",
   "metadata": {},
   "source": [
    "<h2 style=\"color: #000000;\">Data Collection</h2>\n",
    "The data for analsys will be used from DATA.GOV - Department of Transportation.\n",
    "\n",
    "The Bureau of Transportation Statistics (BTS) was established as a statistical agency in 1992. The Intermodal Surface Transportation Efficiency Act (ISTEA) of 1991 created BTS to administer data collection, analysis, and reporting and to ensure the most cost-effective use of transportation-monitoring resources. BTS brings a greater degree of coordination, comparability, and quality standards to transportation data, and facilitates in the closing of important data gaps.\n",
    "\n",
    "http://www.transtats.bts.gov/DL_SelectFields.asp?Table_ID=236\n",
    "\n",
    "Data downloaded for all available years from 1988 to 2015 (July Month only) \n"
   ]
  },
  {
   "cell_type": "markdown",
   "metadata": {},
   "source": [
    "<h2 id=\"firstHeading\" class=\"firstHeading\" lang=\"en\">List of the busiest airports in the United States (2014)</h2>\n",
    "<p>From Wikipedia, the free encyclopedia</p>\n",
    "<p>&nbsp;</p>\n",
    "<table width=\"618\">\n",
    "<tbody>\n",
    "<tr>\n",
    "<td width=\"91\">Rank_2014</td>\n",
    "<td width=\"309\">Airport_Name</td>\n",
    "<td width=\"74\">CODE</td>\n",
    "<td width=\"144\">City</td>\n",
    "</tr>\n",
    "<tr>\n",
    "<td width=\"91\">1</td>\n",
    "<td>Hartsfield&ndash;Jackson Atlanta International Airport</td>\n",
    "<td width=\"74\">ATL</td>\n",
    "<td>Atlanta</td>\n",
    "</tr>\n",
    "<tr>\n",
    "<td width=\"91\">2</td>\n",
    "<td>Los Angeles International Airport</td>\n",
    "<td width=\"74\">LAX</td>\n",
    "<td>Los Angeles</td>\n",
    "</tr>\n",
    "<tr>\n",
    "<td width=\"91\">3</td>\n",
    "<td>O'Hare International Airport</td>\n",
    "<td width=\"74\">ORD</td>\n",
    "<td>Chicago</td>\n",
    "</tr>\n",
    "<tr>\n",
    "<td width=\"91\">4</td>\n",
    "<td>Dallas/Fort Worth International Airport</td>\n",
    "<td width=\"74\">DFW</td>\n",
    "<td width=\"144\">Dallas/Fort Worth</td>\n",
    "</tr>\n",
    "<tr>\n",
    "<td width=\"91\">5</td>\n",
    "<td>John F. Kennedy International Airport</td>\n",
    "<td width=\"74\">JFK</td>\n",
    "<td>New York</td>\n",
    "</tr>\n",
    "<tr>\n",
    "<td width=\"91\">6</td>\n",
    "<td>Denver International Airport</td>\n",
    "<td width=\"74\">DEN</td>\n",
    "<td>Denver</td>\n",
    "</tr>\n",
    "<tr>\n",
    "<td width=\"91\">7</td>\n",
    "<td>San Francisco International Airport</td>\n",
    "<td width=\"74\">SFO</td>\n",
    "<td>San Francisco</td>\n",
    "</tr>\n",
    "<tr>\n",
    "<td width=\"91\">8</td>\n",
    "<td>Charlotte Douglas International Airport</td>\n",
    "<td width=\"74\">CLT</td>\n",
    "<td>Charlotte</td>\n",
    "</tr>\n",
    "<tr>\n",
    "<td width=\"91\">9</td>\n",
    "<td>McCarran International Airport</td>\n",
    "<td width=\"74\">LAS</td>\n",
    "<td>Las Vegas</td>\n",
    "</tr>\n",
    "<tr>\n",
    "<td width=\"91\">10</td>\n",
    "<td>Phoenix Sky Harbor International Airport</td>\n",
    "<td width=\"74\">PHX</td>\n",
    "<td>Phoenix</td>\n",
    "</tr>\n",
    "</tbody>\n",
    "</table>"
   ]
  },
  {
   "cell_type": "markdown",
   "metadata": {},
   "source": [
    "<h2>Data Dictionary&nbsp;</h2>\n",
    "<table style=\"height: 567px; border-color: blue;\" width=\"587\">\n",
    "<tbody>\n",
    "<tr>\n",
    "<td style=\"width: 2px;\">\n",
    "<h4>Column Name</h4>\n",
    "</td>\n",
    "<td style=\"border-color: blue;\">\n",
    "<h4>Column Definition</h4>\n",
    "</td>\n",
    "</tr>\n",
    "<tr>\n",
    "<td style=\"width: 2px;\">&nbsp;YEAR&nbsp;</td>\n",
    "<td style=\"border-color: blue;\">&nbsp;Year</td>\n",
    "</tr>\n",
    "<tr>\n",
    "<td>&nbsp;QUARTER</td>\n",
    "<td>Quarter (1-4)</td>\n",
    "</tr>\n",
    "<tr>\n",
    "<td>&nbsp;MONTH&nbsp;</td>\n",
    "<td>&nbsp;Month</td>\n",
    "</tr>\n",
    "<tr>\n",
    "<td>&nbsp;DAY_OF_MONTH</td>\n",
    "<td>&nbsp;Day of Month</td>\n",
    "</tr>\n",
    "<tr>\n",
    "<td>&nbsp;DAY_OF_WEEK</td>\n",
    "<td>&nbsp;Day of Week 1-Mon 2-Tue 3-Wed 4-Thu 5-Fri 6-Sat 7-Sun</td>\n",
    "</tr>\n",
    "<tr>\n",
    "<td>&nbsp;FL_DATE</td>\n",
    "<td>&nbsp;Flight Date (yyyymmdd)</td>\n",
    "</tr>\n",
    "<tr>\n",
    "<td>&nbsp;CARRIER</td>\n",
    "<td>&nbsp;Code assigned by IATA and commonly used to identify a carrier. As the same code may have&nbsp;been assigned to different carriers over time, the code is not always unique.&nbsp;</td>\n",
    "</tr>\n",
    "<tr>\n",
    "<td>&nbsp;FL_NUM&nbsp;</td>\n",
    "<td>&nbsp;Flight Number</td>\n",
    "</tr>\n",
    "<tr>\n",
    "<td>&nbsp;ORIGIN</td>\n",
    "<td>&nbsp;Origin Airport</td>\n",
    "</tr>\n",
    "<tr>\n",
    "<td>&nbsp;ORIGIN_CITY_NAME</td>\n",
    "<td>&nbsp;Origin Airport, City Name</td>\n",
    "</tr>\n",
    "<tr>\n",
    "<td>&nbsp;ORIGIN_STATE_ABR</td>\n",
    "<td>&nbsp;Origin Airport, State Code</td>\n",
    "</tr>\n",
    "<tr>\n",
    "<td>&nbsp;DEST &nbsp;</td>\n",
    "<td>&nbsp;Destination Airport</td>\n",
    "</tr>\n",
    "<tr>\n",
    "<td>&nbsp;DEST_CITY_NAME&nbsp;</td>\n",
    "<td>&nbsp;Destination Airport, City Name</td>\n",
    "</tr>\n",
    "<tr>\n",
    "<td>&nbsp;DEST_STATE_ABR&nbsp;</td>\n",
    "<td>&nbsp;Destination Airport, State Code</td>\n",
    "</tr>\n",
    "<tr>\n",
    "<td>&nbsp;DEP_TIME</td>\n",
    "<td>&nbsp;Actual Departure Time (local time: hhmm)</td>\n",
    "</tr>\n",
    "<tr>\n",
    "<td>&nbsp;DEP_DELAY</td>\n",
    "<td>&nbsp;Difference in minutes between scheduled and actual departure time. Early departures show&nbsp;negative numbers.</td>\n",
    "</tr>\n",
    "<tr>\n",
    "<td>ARR_TIME</td>\n",
    "<td>Actual Arrival Time (local time: hhmm)</td>\n",
    "</tr>\n",
    "<tr>\n",
    "<td>ARR_DELAY</td>\n",
    "<td>Difference in minutes between scheduled and actual arrival time.&nbsp;Early arrivals show negative numbers.</td>\n",
    "</tr>\n",
    "<tr>\n",
    "<td>CARRIER_DELAY</td>\n",
    "<td>Carrier Delay, in Minutes</td>\n",
    "</tr>\n",
    "<tr>\n",
    "<td>WEATHER_DELAY</td>\n",
    "<td>Weather Delay, in Minutes</td>\n",
    "</tr>\n",
    "<tr>\n",
    "<td>NAS_DELAY</td>\n",
    "<td>National Air System Delay, in Minutes</td>\n",
    "</tr>\n",
    "<tr>\n",
    "<td>SECURITY_DELAY&nbsp;</td>\n",
    "<td>Security Delay, in Minutes</td>\n",
    "</tr>\n",
    "<tr>\n",
    "<td>LATE_AIRCRAFT_DELAY</td>\n",
    "<td>Late Aircraft Delay, in Minutes</td>\n",
    "</tr>\n",
    "</tbody>\n",
    "</table>\n",
    "<p>&nbsp;</p>"
   ]
  },
  {
   "cell_type": "markdown",
   "metadata": {},
   "source": [
    "<h2 style=\"text-align: left;\">Initialize libraries, get data sets, consolidate and cleanse.</h2>"
   ]
  },
  {
   "cell_type": "code",
   "execution_count": 1,
   "metadata": {
    "collapsed": false
   },
   "outputs": [],
   "source": [
    "# Importing libraries and the data set\n",
    "from pandas import Series, DataFrame\n",
    "import pandas as pd\n",
    "import glob\n",
    "import numpy as np\n",
    "import os\n",
    "import matplotlib.pylab as plt\n",
    "%matplotlib inline \n",
    "plt.rcParams['figure.figsize'] = 10, 6  # that's default image size for this interactive session\n",
    "import scipy\n",
    "from scipy import stats\n",
    "from sklearn.cross_validation import train_test_split\n",
    "from sklearn.linear_model import LinearRegression\n",
    "import sklearn.metrics\n",
    "from sklearn.preprocessing import Binarizer\n",
    "from sklearn import preprocessing\n",
    "import statsmodels.api as sm\n",
    "from sklearn.preprocessing import StandardScaler, OneHotEncoder\n",
    "scaler = StandardScaler()"
   ]
  },
  {
   "cell_type": "code",
   "execution_count": 18,
   "metadata": {
    "collapsed": true
   },
   "outputs": [],
   "source": [
    "#Combine all downloaded CSV datafiles (July 1988 to July 2015)\n",
    "airline_files = glob.glob(\"*.csv\")\n",
    "df_list = []\n",
    "for filename in sorted(airline_files):\n",
    "    df_list.append(pd.read_csv(filename))\n",
    "full_df = pd.concat(df_list)\n",
    "\n",
    "full_df.to_csv('AirlineJul89to15.csv')"
   ]
  },
  {
   "cell_type": "code",
   "execution_count": 2,
   "metadata": {
    "collapsed": false,
    "scrolled": true
   },
   "outputs": [
    {
     "data": {
      "text/html": [
       "<div>\n",
       "<table border=\"1\" class=\"dataframe\">\n",
       "  <thead>\n",
       "    <tr style=\"text-align: right;\">\n",
       "      <th></th>\n",
       "      <th>Unnamed: 0</th>\n",
       "      <th>YEAR</th>\n",
       "      <th>QUARTER</th>\n",
       "      <th>MONTH</th>\n",
       "      <th>DAY_OF_MONTH</th>\n",
       "      <th>DAY_OF_WEEK</th>\n",
       "      <th>FL_DATE</th>\n",
       "      <th>CARRIER</th>\n",
       "      <th>FL_NUM</th>\n",
       "      <th>ORIGIN</th>\n",
       "      <th>...</th>\n",
       "      <th>DEP_TIME</th>\n",
       "      <th>DEP_DELAY</th>\n",
       "      <th>ARR_TIME</th>\n",
       "      <th>ARR_DELAY</th>\n",
       "      <th>CARRIER_DELAY</th>\n",
       "      <th>WEATHER_DELAY</th>\n",
       "      <th>NAS_DELAY</th>\n",
       "      <th>SECURITY_DELAY</th>\n",
       "      <th>LATE_AIRCRAFT_DELAY</th>\n",
       "      <th>Unnamed: 23</th>\n",
       "    </tr>\n",
       "  </thead>\n",
       "  <tbody>\n",
       "    <tr>\n",
       "      <th>2681256</th>\n",
       "      <td>50314</td>\n",
       "      <td>1994</td>\n",
       "      <td>3</td>\n",
       "      <td>7</td>\n",
       "      <td>2</td>\n",
       "      <td>6</td>\n",
       "      <td>1994-07-02</td>\n",
       "      <td>AA</td>\n",
       "      <td>1729</td>\n",
       "      <td>CLT</td>\n",
       "      <td>...</td>\n",
       "      <td>1749.0</td>\n",
       "      <td>2.0</td>\n",
       "      <td>1909.0</td>\n",
       "      <td>-13.0</td>\n",
       "      <td>NaN</td>\n",
       "      <td>NaN</td>\n",
       "      <td>NaN</td>\n",
       "      <td>NaN</td>\n",
       "      <td>NaN</td>\n",
       "      <td>NaN</td>\n",
       "    </tr>\n",
       "    <tr>\n",
       "      <th>14048428</th>\n",
       "      <td>140711</td>\n",
       "      <td>2015</td>\n",
       "      <td>3</td>\n",
       "      <td>7</td>\n",
       "      <td>1</td>\n",
       "      <td>3</td>\n",
       "      <td>2015-07-01</td>\n",
       "      <td>UA</td>\n",
       "      <td>1749</td>\n",
       "      <td>IAD</td>\n",
       "      <td>...</td>\n",
       "      <td>1726.0</td>\n",
       "      <td>21.0</td>\n",
       "      <td>1945.0</td>\n",
       "      <td>16.0</td>\n",
       "      <td>16.0</td>\n",
       "      <td>0.0</td>\n",
       "      <td>0.0</td>\n",
       "      <td>0.0</td>\n",
       "      <td>0.0</td>\n",
       "      <td>NaN</td>\n",
       "    </tr>\n",
       "    <tr>\n",
       "      <th>5297984</th>\n",
       "      <td>385874</td>\n",
       "      <td>1999</td>\n",
       "      <td>3</td>\n",
       "      <td>7</td>\n",
       "      <td>29</td>\n",
       "      <td>4</td>\n",
       "      <td>1999-07-29</td>\n",
       "      <td>US</td>\n",
       "      <td>2783</td>\n",
       "      <td>IAD</td>\n",
       "      <td>...</td>\n",
       "      <td>1736.0</td>\n",
       "      <td>31.0</td>\n",
       "      <td>1935.0</td>\n",
       "      <td>85.0</td>\n",
       "      <td>NaN</td>\n",
       "      <td>NaN</td>\n",
       "      <td>NaN</td>\n",
       "      <td>NaN</td>\n",
       "      <td>NaN</td>\n",
       "      <td>NaN</td>\n",
       "    </tr>\n",
       "    <tr>\n",
       "      <th>5522169</th>\n",
       "      <td>136012</td>\n",
       "      <td>2000</td>\n",
       "      <td>3</td>\n",
       "      <td>7</td>\n",
       "      <td>28</td>\n",
       "      <td>5</td>\n",
       "      <td>2000-07-28</td>\n",
       "      <td>DL</td>\n",
       "      <td>2020</td>\n",
       "      <td>PHX</td>\n",
       "      <td>...</td>\n",
       "      <td>1407.0</td>\n",
       "      <td>-3.0</td>\n",
       "      <td>1832.0</td>\n",
       "      <td>-1.0</td>\n",
       "      <td>NaN</td>\n",
       "      <td>NaN</td>\n",
       "      <td>NaN</td>\n",
       "      <td>NaN</td>\n",
       "      <td>NaN</td>\n",
       "      <td>NaN</td>\n",
       "    </tr>\n",
       "    <tr>\n",
       "      <th>9305595</th>\n",
       "      <td>10144</td>\n",
       "      <td>2007</td>\n",
       "      <td>3</td>\n",
       "      <td>7</td>\n",
       "      <td>22</td>\n",
       "      <td>7</td>\n",
       "      <td>2007-07-22</td>\n",
       "      <td>9E</td>\n",
       "      <td>5601</td>\n",
       "      <td>MSP</td>\n",
       "      <td>...</td>\n",
       "      <td>1257.0</td>\n",
       "      <td>-2.0</td>\n",
       "      <td>1552.0</td>\n",
       "      <td>-9.0</td>\n",
       "      <td>NaN</td>\n",
       "      <td>NaN</td>\n",
       "      <td>NaN</td>\n",
       "      <td>NaN</td>\n",
       "      <td>NaN</td>\n",
       "      <td>NaN</td>\n",
       "    </tr>\n",
       "  </tbody>\n",
       "</table>\n",
       "<p>5 rows × 25 columns</p>\n",
       "</div>"
      ],
      "text/plain": [
       "          Unnamed: 0  YEAR  QUARTER  MONTH  DAY_OF_MONTH  DAY_OF_WEEK  \\\n",
       "2681256        50314  1994        3      7             2            6   \n",
       "14048428      140711  2015        3      7             1            3   \n",
       "5297984       385874  1999        3      7            29            4   \n",
       "5522169       136012  2000        3      7            28            5   \n",
       "9305595        10144  2007        3      7            22            7   \n",
       "\n",
       "             FL_DATE CARRIER  FL_NUM ORIGIN     ...      DEP_TIME DEP_DELAY  \\\n",
       "2681256   1994-07-02      AA    1729    CLT     ...        1749.0       2.0   \n",
       "14048428  2015-07-01      UA    1749    IAD     ...        1726.0      21.0   \n",
       "5297984   1999-07-29      US    2783    IAD     ...        1736.0      31.0   \n",
       "5522169   2000-07-28      DL    2020    PHX     ...        1407.0      -3.0   \n",
       "9305595   2007-07-22      9E    5601    MSP     ...        1257.0      -2.0   \n",
       "\n",
       "         ARR_TIME ARR_DELAY CARRIER_DELAY  WEATHER_DELAY  NAS_DELAY  \\\n",
       "2681256    1909.0     -13.0           NaN            NaN        NaN   \n",
       "14048428   1945.0      16.0          16.0            0.0        0.0   \n",
       "5297984    1935.0      85.0           NaN            NaN        NaN   \n",
       "5522169    1832.0      -1.0           NaN            NaN        NaN   \n",
       "9305595    1552.0      -9.0           NaN            NaN        NaN   \n",
       "\n",
       "          SECURITY_DELAY  LATE_AIRCRAFT_DELAY  Unnamed: 23  \n",
       "2681256              NaN                  NaN          NaN  \n",
       "14048428             0.0                  0.0          NaN  \n",
       "5297984              NaN                  NaN          NaN  \n",
       "5522169              NaN                  NaN          NaN  \n",
       "9305595              NaN                  NaN          NaN  \n",
       "\n",
       "[5 rows x 25 columns]"
      ]
     },
     "execution_count": 2,
     "metadata": {},
     "output_type": "execute_result"
    }
   ],
   "source": [
    "#Read CSV File and inspect data\n",
    "AirlineData = pd.read_csv(\"AirlineJul89to15.csv\")\n",
    "AirlineData.sample(n=5)"
   ]
  },
  {
   "cell_type": "code",
   "execution_count": 3,
   "metadata": {
    "collapsed": false,
    "scrolled": true
   },
   "outputs": [
    {
     "data": {
      "text/plain": [
       "(-1200.0, 2445.0)"
      ]
     },
     "execution_count": 3,
     "metadata": {},
     "output_type": "execute_result"
    }
   ],
   "source": [
    "#Check the data to find the maximum and minimum values for Security Delays.\n",
    "AirlineData.DEP_DELAY.min(), AirlineData.DEP_DELAY.max()"
   ]
  },
  {
   "cell_type": "markdown",
   "metadata": {},
   "source": [
    "There seems to be extreme outliers in the data. We will remove some data after further analysis."
   ]
  },
  {
   "cell_type": "code",
   "execution_count": 4,
   "metadata": {
    "collapsed": false,
    "scrolled": false
   },
   "outputs": [
    {
     "data": {
      "text/plain": [
       "Unnamed: 0               int64\n",
       "YEAR                     int64\n",
       "QUARTER                  int64\n",
       "MONTH                    int64\n",
       "DAY_OF_MONTH             int64\n",
       "DAY_OF_WEEK              int64\n",
       "FL_DATE                 object\n",
       "CARRIER                 object\n",
       "FL_NUM                   int64\n",
       "ORIGIN                  object\n",
       "ORIGIN_CITY_NAME        object\n",
       "ORIGIN_STATE_ABR        object\n",
       "DEST                    object\n",
       "DEST_CITY_NAME          object\n",
       "DEST_STATE_ABR          object\n",
       "DEP_TIME               float64\n",
       "DEP_DELAY              float64\n",
       "ARR_TIME               float64\n",
       "ARR_DELAY              float64\n",
       "CARRIER_DELAY          float64\n",
       "WEATHER_DELAY          float64\n",
       "NAS_DELAY              float64\n",
       "SECURITY_DELAY         float64\n",
       "LATE_AIRCRAFT_DELAY    float64\n",
       "Unnamed: 23            float64\n",
       "dtype: object"
      ]
     },
     "execution_count": 4,
     "metadata": {},
     "output_type": "execute_result"
    }
   ],
   "source": [
    "# Check the data structure\n",
    "AirlineData.dtypes"
   ]
  },
  {
   "cell_type": "code",
   "execution_count": 5,
   "metadata": {
    "collapsed": false
   },
   "outputs": [
    {
     "data": {
      "text/plain": [
       "(14428435, 25)"
      ]
     },
     "execution_count": 5,
     "metadata": {},
     "output_type": "execute_result"
    }
   ],
   "source": [
    "# Data set volume\n",
    "AirlineData.shape"
   ]
  },
  {
   "cell_type": "code",
   "execution_count": 6,
   "metadata": {
    "collapsed": true
   },
   "outputs": [],
   "source": [
    "# Delete unwanted columns\n",
    "AirlineData.drop(['Unnamed: 0', 'QUARTER', 'FL_DATE', 'MONTH'], axis=1, inplace=True)\n",
    "AirlineData.drop(['FL_NUM', 'ORIGIN_CITY_NAME', 'ORIGIN_STATE_ABR', 'DEST','DEST_CITY_NAME'], axis=1, inplace=True)\n",
    "AirlineData.drop(['DEST_STATE_ABR','ARR_TIME','ARR_DELAY', 'CARRIER_DELAY'], axis=1, inplace=True)\n",
    "AirlineData.drop(['WEATHER_DELAY', 'NAS_DELAY', 'SECURITY_DELAY', 'LATE_AIRCRAFT_DELAY'], axis=1, inplace=True)\n",
    "AirlineData.drop(['Unnamed: 23'], axis=1, inplace=True)"
   ]
  },
  {
   "cell_type": "code",
   "execution_count": 7,
   "metadata": {
    "collapsed": false
   },
   "outputs": [
    {
     "data": {
      "text/plain": [
       "YEAR                 0\n",
       "DAY_OF_MONTH         0\n",
       "DAY_OF_WEEK          0\n",
       "CARRIER              0\n",
       "ORIGIN               0\n",
       "DEP_TIME        218167\n",
       "DEP_DELAY       218167\n",
       "dtype: int64"
      ]
     },
     "execution_count": 7,
     "metadata": {},
     "output_type": "execute_result"
    }
   ],
   "source": [
    "#Check and remove data with null values\n",
    "AirlineData.isnull().sum()"
   ]
  },
  {
   "cell_type": "code",
   "execution_count": 8,
   "metadata": {
    "collapsed": false
   },
   "outputs": [
    {
     "data": {
      "text/plain": [
       "YEAR            0\n",
       "DAY_OF_MONTH    0\n",
       "DAY_OF_WEEK     0\n",
       "CARRIER         0\n",
       "ORIGIN          0\n",
       "DEP_TIME        0\n",
       "DEP_DELAY       0\n",
       "dtype: int64"
      ]
     },
     "execution_count": 8,
     "metadata": {},
     "output_type": "execute_result"
    }
   ],
   "source": [
    "NewAirlineData = AirlineData.dropna()\n",
    "NewAirlineData.isnull().sum()"
   ]
  },
  {
   "cell_type": "code",
   "execution_count": 10,
   "metadata": {
    "collapsed": false
   },
   "outputs": [
    {
     "data": {
      "text/plain": [
       "(14210268, 7)"
      ]
     },
     "execution_count": 10,
     "metadata": {},
     "output_type": "execute_result"
    }
   ],
   "source": [
    "NewAirlineData.shape"
   ]
  },
  {
   "cell_type": "code",
   "execution_count": 11,
   "metadata": {
    "collapsed": false,
    "scrolled": true
   },
   "outputs": [
    {
     "data": {
      "text/html": [
       "<div>\n",
       "<table border=\"1\" class=\"dataframe\">\n",
       "  <thead>\n",
       "    <tr style=\"text-align: right;\">\n",
       "      <th></th>\n",
       "      <th>YEAR</th>\n",
       "      <th>DAY_OF_MONTH</th>\n",
       "      <th>DAY_OF_WEEK</th>\n",
       "      <th>DEP_TIME</th>\n",
       "      <th>DEP_DELAY</th>\n",
       "    </tr>\n",
       "  </thead>\n",
       "  <tbody>\n",
       "    <tr>\n",
       "      <th>count</th>\n",
       "      <td>1.421027e+07</td>\n",
       "      <td>1.421027e+07</td>\n",
       "      <td>1.421027e+07</td>\n",
       "      <td>1.421027e+07</td>\n",
       "      <td>1.421027e+07</td>\n",
       "    </tr>\n",
       "    <tr>\n",
       "      <th>mean</th>\n",
       "      <td>2.002309e+03</td>\n",
       "      <td>1.611252e+01</td>\n",
       "      <td>3.949636e+00</td>\n",
       "      <td>1.345681e+03</td>\n",
       "      <td>1.027962e+01</td>\n",
       "    </tr>\n",
       "    <tr>\n",
       "      <th>std</th>\n",
       "      <td>7.914362e+00</td>\n",
       "      <td>8.907687e+00</td>\n",
       "      <td>1.992139e+00</td>\n",
       "      <td>4.857942e+02</td>\n",
       "      <td>3.346534e+01</td>\n",
       "    </tr>\n",
       "    <tr>\n",
       "      <th>min</th>\n",
       "      <td>1.988000e+03</td>\n",
       "      <td>1.000000e+00</td>\n",
       "      <td>1.000000e+00</td>\n",
       "      <td>1.000000e+00</td>\n",
       "      <td>-1.200000e+03</td>\n",
       "    </tr>\n",
       "    <tr>\n",
       "      <th>25%</th>\n",
       "      <td>1.996000e+03</td>\n",
       "      <td>8.000000e+00</td>\n",
       "      <td>2.000000e+00</td>\n",
       "      <td>9.300000e+02</td>\n",
       "      <td>-2.000000e+00</td>\n",
       "    </tr>\n",
       "    <tr>\n",
       "      <th>50%</th>\n",
       "      <td>2.003000e+03</td>\n",
       "      <td>1.600000e+01</td>\n",
       "      <td>4.000000e+00</td>\n",
       "      <td>1.331000e+03</td>\n",
       "      <td>0.000000e+00</td>\n",
       "    </tr>\n",
       "    <tr>\n",
       "      <th>75%</th>\n",
       "      <td>2.009000e+03</td>\n",
       "      <td>2.400000e+01</td>\n",
       "      <td>6.000000e+00</td>\n",
       "      <td>1.740000e+03</td>\n",
       "      <td>8.000000e+00</td>\n",
       "    </tr>\n",
       "    <tr>\n",
       "      <th>max</th>\n",
       "      <td>2.015000e+03</td>\n",
       "      <td>3.100000e+01</td>\n",
       "      <td>7.000000e+00</td>\n",
       "      <td>2.400000e+03</td>\n",
       "      <td>2.445000e+03</td>\n",
       "    </tr>\n",
       "  </tbody>\n",
       "</table>\n",
       "</div>"
      ],
      "text/plain": [
       "               YEAR  DAY_OF_MONTH   DAY_OF_WEEK      DEP_TIME     DEP_DELAY\n",
       "count  1.421027e+07  1.421027e+07  1.421027e+07  1.421027e+07  1.421027e+07\n",
       "mean   2.002309e+03  1.611252e+01  3.949636e+00  1.345681e+03  1.027962e+01\n",
       "std    7.914362e+00  8.907687e+00  1.992139e+00  4.857942e+02  3.346534e+01\n",
       "min    1.988000e+03  1.000000e+00  1.000000e+00  1.000000e+00 -1.200000e+03\n",
       "25%    1.996000e+03  8.000000e+00  2.000000e+00  9.300000e+02 -2.000000e+00\n",
       "50%    2.003000e+03  1.600000e+01  4.000000e+00  1.331000e+03  0.000000e+00\n",
       "75%    2.009000e+03  2.400000e+01  6.000000e+00  1.740000e+03  8.000000e+00\n",
       "max    2.015000e+03  3.100000e+01  7.000000e+00  2.400000e+03  2.445000e+03"
      ]
     },
     "execution_count": 11,
     "metadata": {},
     "output_type": "execute_result"
    }
   ],
   "source": [
    "NewAirlineData.describe()"
   ]
  },
  {
   "cell_type": "code",
   "execution_count": 12,
   "metadata": {
    "collapsed": true
   },
   "outputs": [],
   "source": [
    "NewAirlineData.to_csv('Airline.csv')"
   ]
  },
  {
   "cell_type": "code",
   "execution_count": 13,
   "metadata": {
    "collapsed": false
   },
   "outputs": [
    {
     "data": {
      "text/plain": [
       "(14210268, 8)"
      ]
     },
     "execution_count": 13,
     "metadata": {},
     "output_type": "execute_result"
    }
   ],
   "source": [
    "AirlineData = pd.read_csv(\"Airline.csv\")\n",
    "AirlineData.shape"
   ]
  },
  {
   "cell_type": "code",
   "execution_count": 14,
   "metadata": {
    "collapsed": false
   },
   "outputs": [
    {
     "name": "stderr",
     "output_type": "stream",
     "text": [
      "d:\\Anaconda2\\lib\\site-packages\\ipykernel\\__main__.py:3: SettingWithCopyWarning: \n",
      "A value is trying to be set on a copy of a slice from a DataFrame.\n",
      "Try using .loc[row_indexer,col_indexer] = value instead\n",
      "\n",
      "See the caveats in the documentation: http://pandas.pydata.org/pandas-docs/stable/indexing.html#indexing-view-versus-copy\n",
      "  app.launch_new_instance()\n",
      "d:\\Anaconda2\\lib\\site-packages\\ipykernel\\__main__.py:4: SettingWithCopyWarning: \n",
      "A value is trying to be set on a copy of a slice from a DataFrame.\n",
      "Try using .loc[row_indexer,col_indexer] = value instead\n",
      "\n",
      "See the caveats in the documentation: http://pandas.pydata.org/pandas-docs/stable/indexing.html#indexing-view-versus-copy\n",
      "d:\\Anaconda2\\lib\\site-packages\\ipykernel\\__main__.py:5: SettingWithCopyWarning: \n",
      "A value is trying to be set on a copy of a slice from a DataFrame.\n",
      "Try using .loc[row_indexer,col_indexer] = value instead\n",
      "\n",
      "See the caveats in the documentation: http://pandas.pydata.org/pandas-docs/stable/indexing.html#indexing-view-versus-copy\n"
     ]
    }
   ],
   "source": [
    "#Add two columns to get Departure Hour and Arrival Hour\n",
    "AirlineData1 = AirlineData[(AirlineData.DEP_DELAY >= 0)]\n",
    "AirlineData1['DEP_HOUR'] = AirlineData1['DEP_TIME']//100\n",
    "AirlineData1['DEPR_ONTIME'] = np.where(AirlineData1.DEP_DELAY <= 15 , 1 , 0)\n",
    "AirlineData1['DEPR_DELAY'] = np.where(AirlineData1.DEP_DELAY > 15, 1 , 0)"
   ]
  },
  {
   "cell_type": "code",
   "execution_count": 15,
   "metadata": {
    "collapsed": true
   },
   "outputs": [],
   "source": [
    "# Filter data for Atlanta\n",
    "AirlineData2 = AirlineData1[AirlineData1['ORIGIN'].isin(['ATL'])]"
   ]
  },
  {
   "cell_type": "code",
   "execution_count": 16,
   "metadata": {
    "collapsed": false
   },
   "outputs": [
    {
     "data": {
      "text/plain": [
       "(517134, 11)"
      ]
     },
     "execution_count": 16,
     "metadata": {},
     "output_type": "execute_result"
    }
   ],
   "source": [
    "AirlineData2.shape"
   ]
  },
  {
   "cell_type": "code",
   "execution_count": 17,
   "metadata": {
    "collapsed": true
   },
   "outputs": [],
   "source": [
    "# Save the cleansed data for analysis\n",
    "AirlineData2.to_csv('ATL_AllData.csv')"
   ]
  },
  {
   "cell_type": "markdown",
   "metadata": {},
   "source": [
    "<h2>Data Analysis and Elimination of Outliers</h2>\n",
    "<p> The purpose of this section is to check the distribution of Departure Delay in Minutes and elimination \n",
    "of Outliers.</p>"
   ]
  },
  {
   "cell_type": "code",
   "execution_count": 26,
   "metadata": {
    "collapsed": false,
    "scrolled": true
   },
   "outputs": [
    {
     "data": {
      "image/png": "[encoded data removed]",
      "text/plain": [
       "<matplotlib.figure.Figure at 0x861c8e80>"
      ]
     },
     "metadata": {},
     "output_type": "display_data"
    }
   ],
   "source": [
    "scipy.stats.lognorm\n",
    "AirlineData = pd.read_csv(\"ATL_AllData.csv\")\n",
    "AirlineData1 = AirlineData[AirlineData.DEP_DELAY > 0]\n",
    "plt.hist(AirlineData1.DEP_DELAY, bins=100, normed=True, color='c', alpha=0.75)\n",
    "xmin = AirlineData1.DEP_DELAY.min()\n",
    "xmax = AirlineData1.DEP_DELAY.max()\n",
    "s = np.std(AirlineData1.DEP_DELAY)\n",
    "x = np.linspace(xmin, xmax, 100)\n",
    "pdf = stats.lognorm.pdf(x, s, scale=1)\n",
    "plt.plot(x, pdf, 'k')\n",
    "plt.grid(b=True, which='both', color='0.65',linestyle='-')"
   ]
  },
  {
   "cell_type": "code",
   "execution_count": 27,
   "metadata": {
    "collapsed": false
   },
   "outputs": [
    {
     "data": {
      "text/plain": [
       "(1.0, 1435.0)"
      ]
     },
     "execution_count": 27,
     "metadata": {},
     "output_type": "execute_result"
    }
   ],
   "source": [
    "#Check the data to find the maximum and minimum values for Departure Delays.\n",
    "AirlineData1.DEP_DELAY.min(), AirlineData1.DEP_DELAY.max()"
   ]
  },
  {
   "cell_type": "markdown",
   "metadata": {},
   "source": [
    "<p>While observing Departure Delays, it can be noticed that the largest outlier is as much as 1435 minutes. It is necessary to eliminate outliers as it might affect the analysis and prediction.</p>\n",
    "<p>We will be performing Binning to check and eliminate outliers.</p>"
   ]
  },
  {
   "cell_type": "code",
   "execution_count": 28,
   "metadata": {
    "collapsed": false
   },
   "outputs": [
    {
     "name": "stderr",
     "output_type": "stream",
     "text": [
      "d:\\Anaconda2\\lib\\site-packages\\ipykernel\\__main__.py:3: SettingWithCopyWarning: \n",
      "A value is trying to be set on a copy of a slice from a DataFrame.\n",
      "Try using .loc[row_indexer,col_indexer] = value instead\n",
      "\n",
      "See the caveats in the documentation: http://pandas.pydata.org/pandas-docs/stable/indexing.html#indexing-view-versus-copy\n",
      "  app.launch_new_instance()\n"
     ]
    },
    {
     "data": {
      "text/plain": [
       "DELAY_RANGE\n",
       "(1, 100]        347312\n",
       "(100, 150]       14665\n",
       "(150, 200]        6432\n",
       "(200, 250]        2848\n",
       "(250, 300]        1109\n",
       "(300, 400]         639\n",
       "(400, 500]         104\n",
       "(500, 600]          30\n",
       "(600, 700]          15\n",
       "(700, 800]          14\n",
       "(800, 900]          11\n",
       "(900, 1200]          9\n",
       "(1200, 1500]        31\n",
       "(1500, 2000]         0\n",
       "(2000, 2500]         0\n",
       "Name: DEP_DELAY, dtype: int64"
      ]
     },
     "execution_count": 28,
     "metadata": {},
     "output_type": "execute_result"
    }
   ],
   "source": [
    "AirlineData2 = AirlineData1\n",
    "AirlineData2['DELAY_RANGE'] = pd.cut(AirlineData2.DEP_DELAY, [1,100,150,200,250, 300, 400, 500,\n",
    "                                                              600, 700, 800, 900,1200,1500,2000,2500])\n",
    "AirlineData3 = AirlineData2.groupby('DELAY_RANGE')\n",
    "AirlineData3['DEP_DELAY'].count()"
   ]
  },
  {
   "cell_type": "markdown",
   "metadata": {},
   "source": [
    "<p>Based on the above, we would like to remove all outliers above 100 minutes for the purpose of our analysis. In additon, we need to eliminate delays less than 15 minutes (refer definition of Departure Delay in the beginning) &nbsp;</p>\n",
    "<table width=\"390\">\n",
    "<tbody>\n",
    "<tr>\n",
    "<td width=\"121\">Range in Minutes</td>\n",
    "<td width=\"182\">Departure Delay Counts</td>\n",
    "<td width=\"87\">Percentage</td>\n",
    "</tr>\n",
    "<tr>\n",
    "<td>(1, 100]</td>\n",
    "<td style=\"text-align: right;\">347312</td>\n",
    "<td style=\"text-align: right;\">93.06</td>\n",
    "</tr>\n",
    "<tr>\n",
    "<td>(100, 150]</td>\n",
    "<td style=\"text-align: right;\">14665</td>\n",
    "<td style=\"text-align: right;\">3.93</td>\n",
    "</tr>\n",
    "<tr>\n",
    "<td>(150, 200]</td>\n",
    "<td style=\"text-align: right;\">6432</td>\n",
    "<td style=\"text-align: right;\">1.72</td>\n",
    "</tr>\n",
    "<tr>\n",
    "<td>(200, 250]</td>\n",
    "<td style=\"text-align: right;\">2848</td>\n",
    "<td style=\"text-align: right;\">0.76</td>\n",
    "</tr>\n",
    "<tr>\n",
    "<td>(250, 300]</td>\n",
    "<td style=\"text-align: right;\">1109</td>\n",
    "<td style=\"text-align: right;\">0.30</td>\n",
    "</tr>\n",
    "<tr>\n",
    "<td>(300, 400]</td>\n",
    "<td style=\"text-align: right;\">639</td>\n",
    "<td style=\"text-align: right;\">0.17</td>\n",
    "</tr>\n",
    "<tr>\n",
    "<td>(400, 500]</td>\n",
    "<td style=\"text-align: right;\">104</td>\n",
    "<td style=\"text-align: right;\">0.03</td>\n",
    "</tr>\n",
    "<tr>\n",
    "<td>(500, 600]</td>\n",
    "<td style=\"text-align: right;\">30</td>\n",
    "<td style=\"text-align: right;\">0.01</td>\n",
    "</tr>\n",
    "<tr>\n",
    "<td>(600, 700]</td>\n",
    "<td style=\"text-align: right;\">15</td>\n",
    "<td style=\"text-align: right;\">0.00</td>\n",
    "</tr>\n",
    "<tr>\n",
    "<td>(700, 800]</td>\n",
    "<td style=\"text-align: right;\">14</td>\n",
    "<td style=\"text-align: right;\">0.00</td>\n",
    "</tr>\n",
    "<tr>\n",
    "<td>(800, 900]</td>\n",
    "<td style=\"text-align: right;\">11</td>\n",
    "<td style=\"text-align: right;\">0.00</td>\n",
    "</tr>\n",
    "<tr>\n",
    "<td>(900, 1200]&nbsp;</td>\n",
    "<td style=\"text-align: right;\">9</td>\n",
    "<td style=\"text-align: right;\">0.00</td>\n",
    "</tr>\n",
    "<tr>\n",
    "<td>(1200, 1500]</td>\n",
    "<td style=\"text-align: right;\">31</td>\n",
    "<td style=\"text-align: right;\">0.01</td>\n",
    "</tr>\n",
    "<tr>\n",
    "<td>(1500, 2000]&nbsp;</td>\n",
    "<td style=\"text-align: right;\">0</td>\n",
    "<td style=\"text-align: right;\">0.00</td>\n",
    "</tr>\n",
    "<tr>\n",
    "<td>(2000, 2500]</td>\n",
    "<td style=\"text-align: right;\">0</td>\n",
    "<td style=\"text-align: right;\">0.00</td>\n",
    "</tr>\n",
    "<tr>\n",
    "<td>&nbsp;</td>\n",
    "<td style=\"text-align: right;\">373219</td>\n",
    "<td style=\"text-align: right;\">100.00</td>\n",
    "</tr>\n",
    "</tbody>\n",
    "</table>"
   ]
  },
  {
   "cell_type": "code",
   "execution_count": 29,
   "metadata": {
    "collapsed": false
   },
   "outputs": [],
   "source": [
    "AirlineData4 = AirlineData1[(AirlineData1.DEP_DELAY > 15) & (AirlineData1.DEP_DELAY < 101 )]\n",
    "AirlineData4.to_csv('ATL_DepDelayAnalysis.csv')"
   ]
  },
  {
   "cell_type": "markdown",
   "metadata": {},
   "source": [
    "<h2>Exploratory Data Analysis</h2>\n",
    "<p>In statistics, exploratory data analysis (EDA) is an approach to analyzing data sets to summarize their main characteristics, often with vizual methods. A statistical model can be used or not, but primarily EDA is for seeing what the data can tell us beyond the formal modeling or hypothesis testing task.</p>\n",
    "<p>&nbsp;The pupose of this exercise is to visually analyze to answer the following questions:</p>\n",
    "<p>1. Distribution of departure delays</p>\n",
    "<p>2. How much and what frequency&nbsp;departure delay is distributed&nbsp;the years (1989-2015)?</p>\n",
    "<p>3. Analyze departure delay across Hour of departure.</p>\n",
    "<p>4. Analyze departure delay across Day of Month.</p>"
   ]
  },
  {
   "cell_type": "code",
   "execution_count": 30,
   "metadata": {
    "collapsed": false,
    "scrolled": true
   },
   "outputs": [
    {
     "data": {
      "image/png": "[encoded data removed]",
      "text/plain": [
       "<matplotlib.figure.Figure at 0xbef30d30>"
      ]
     },
     "metadata": {},
     "output_type": "display_data"
    }
   ],
   "source": [
    "scipy.stats.lognorm\n",
    "AirlineData = pd.read_csv(\"ATL_DepDelayAnalysis.csv\")\n",
    "plt.hist(AirlineData.DEP_DELAY, bins=50, normed=True, color='c', alpha=0.75)\n",
    "xmin = AirlineData.DEP_DELAY.min()\n",
    "xmax = AirlineData.DEP_DELAY.max()\n",
    "s = np.std(AirlineData.DEP_DELAY)\n",
    "x = np.linspace(xmin, xmax, 100)\n",
    "pdf = stats.lognorm.pdf(x, s, scale=1)\n",
    "plt.plot(x, pdf, 'k')\n",
    "plt.grid(b=True, which='both', color='0.65',linestyle='-')"
   ]
  },
  {
   "cell_type": "code",
   "execution_count": 32,
   "metadata": {
    "collapsed": false
   },
   "outputs": [
    {
     "data": {
      "image/png": "[encoded data removed]",
      "text/plain": [
       "<matplotlib.figure.Figure at 0x2c444e48>"
      ]
     },
     "metadata": {},
     "output_type": "display_data"
    }
   ],
   "source": [
    "temp = pd.read_csv(\"ATL_AllData.csv\")  \n",
    "temp1 = temp.groupby('DEP_HOUR').DEP_DELAY.count()\n",
    "temp2 = temp.groupby('DEP_HOUR').DEP_DELAY.sum()/temp.groupby('DEP_HOUR').DEP_DELAY.count()\n",
    "fig = plt.figure(figsize=(16,4))\n",
    "ax1 = fig.add_subplot(121)\n",
    "ax1.set_xlabel('Departure Hour')\n",
    "ax1.set_ylabel('Number of Flights')\n",
    "ax1.set_title(\"Atlanta Total Number of Flights by Hour\")\n",
    "temp1.plot(kind='bar')\n",
    "plt.grid(b=True, which='both', color='0.65',linestyle='-')\n",
    "\n",
    "ax2 = fig.add_subplot(122)\n",
    "temp2.plot(kind = 'bar')\n",
    "ax2.set_xlabel('Departure Hour')\n",
    "ax2.set_ylabel('Probability of Departure Delay')\n",
    "ax2.set_title(\"Probability of Departure Delay by hour\")\n",
    "plt.grid(b=True, which='both', color='0.65',linestyle='-')"
   ]
  },
  {
   "cell_type": "code",
   "execution_count": 33,
   "metadata": {
    "collapsed": false
   },
   "outputs": [
    {
     "data": {
      "image/png": "[encoded data removed]",
      "text/plain": [
       "<matplotlib.figure.Figure at 0x49b70f28>"
      ]
     },
     "metadata": {},
     "output_type": "display_data"
    }
   ],
   "source": [
    "temp = pd.read_csv(\"ATL_AllData.csv\")  \n",
    "temp1 = temp.groupby('DAY_OF_MONTH').DEP_DELAY.count()\n",
    "temp2 = temp.groupby('DAY_OF_MONTH').DEP_DELAY.sum()/temp.groupby('DAY_OF_MONTH').DEP_DELAY.count()\n",
    "fig = plt.figure(figsize=(16,4))\n",
    "ax1 = fig.add_subplot(121)\n",
    "ax1.set_xlabel('Day of Month')\n",
    "ax1.set_ylabel('Number of Flights')\n",
    "ax1.set_title(\"Atlanta Total Number of Flights by Day of Month\")\n",
    "temp1.plot(kind='bar')\n",
    "plt.grid(b=True, which='both', color='0.65',linestyle='-')\n",
    "\n",
    "ax2 = fig.add_subplot(122)\n",
    "temp2.plot(kind = 'bar')\n",
    "ax2.set_xlabel('Departure Hour')\n",
    "ax2.set_ylabel('Probability of Departure Delay')\n",
    "ax2.set_title(\"Probability of Departure Delay by Day of Month\")\n",
    "plt.grid(b=True, which='both', color='0.65',linestyle='-')"
   ]
  },
  {
   "cell_type": "code",
   "execution_count": 34,
   "metadata": {
    "collapsed": false
   },
   "outputs": [
    {
     "data": {
      "image/png": "[encoded data removed]",
      "text/plain": [
       "<matplotlib.figure.Figure at 0x64b75710>"
      ]
     },
     "metadata": {},
     "output_type": "display_data"
    }
   ],
   "source": [
    "temp = pd.read_csv(\"ATL_AllData.csv\")  \n",
    "temp1 = temp.groupby('DAY_OF_WEEK').DEP_DELAY.count()\n",
    "temp2 = temp.groupby('DAY_OF_WEEK').DEP_DELAY.sum()/temp.groupby('DAY_OF_WEEK').DEP_DELAY.count()\n",
    "fig = plt.figure(figsize=(16,4))\n",
    "ax1 = fig.add_subplot(121)\n",
    "ax1.set_xlabel('Day of Week')\n",
    "ax1.set_ylabel('Number of Flights')\n",
    "ax1.set_title(\"Atlanta Total Number of Flights by Day of Week\")\n",
    "temp1.plot(kind='bar')\n",
    "plt.grid(b=True, which='both', color='0.65',linestyle='-')\n",
    "\n",
    "ax2 = fig.add_subplot(122)\n",
    "temp2.plot(kind = 'bar')\n",
    "ax2.set_xlabel('Departure Hour')\n",
    "ax2.set_ylabel('Probability of Departure Delay')\n",
    "ax2.set_title(\"Probability of Departure Delay by Day of Week\")\n",
    "plt.grid(b=True, which='both', color='0.65',linestyle='-')"
   ]
  },
  {
   "cell_type": "code",
   "execution_count": 31,
   "metadata": {
    "collapsed": false,
    "scrolled": false
   },
   "outputs": [
    {
     "data": {
      "text/plain": [
       "<matplotlib.text.Text at 0xac1ba7f0>"
      ]
     },
     "execution_count": 31,
     "metadata": {},
     "output_type": "execute_result"
    },
    {
     "data": {
      "image/png": "[encoded data removed]",
      "text/plain": [
       "<matplotlib.figure.Figure at 0xbef30f60>"
      ]
     },
     "metadata": {},
     "output_type": "display_data"
    }
   ],
   "source": [
    "# Boxplot to check the distribution based on Year\n",
    "AirlineData = pd.read_csv(\"ATL_DepDelayAnalysis.csv\")\n",
    "plt.rcParams['figure.figsize'] = 16, 6  \n",
    "AirlineData.boxplot(column='DEP_DELAY', by ='YEAR')\n",
    "plt.xlabel('Year')\n",
    "plt.ylabel('Minutes')\n",
    "plt.title('Atlanta - Departure Delay Distribution across Years')"
   ]
  },
  {
   "cell_type": "markdown",
   "metadata": {},
   "source": [
    "Based on the Outlier analysis in a previous section, we decided to include all departure delays less than 100 minutes."
   ]
  },
  {
   "cell_type": "markdown",
   "metadata": {
    "collapsed": true
   },
   "source": [
    "<h2 style=\"color: #000000;\">Building a Prediction Model</h2>\n",
    "<p>It's time to go beyond the exploratory analysis and build a model for prediction.</p>\n",
    "<p>The Security Delay focuses on Atlanta Airport from July 1989 to July 2015. We need to look at all the available attributes in the data set and pick the variables that are potential candidates for the model.</p>\n",
    "<p>After carefully checking the attributes, we pick the following:-</p>\n",
    "<p>1. Day of month</p>\n",
    "<p>2. Day of week</p>\n",
    "<p>3. Departure Hour</p>\n",
    "\n",
    "Preparing data - The data will be trimmed to contain only the required information for our analysis.\n"
   ]
  },
  {
   "cell_type": "code",
   "execution_count": 51,
   "metadata": {
    "collapsed": false
   },
   "outputs": [],
   "source": [
    "# Trimming the data set needed for this analysis\n",
    "Temp1 = pd.read_csv(\"ATL_DepDelayAnalysis.csv\")\n",
    "Temp3 = Temp1.loc[:,('DAY_OF_MONTH','DAY_OF_WEEK','DEP_HOUR','DEP_DELAY')]\n",
    "Temp3.to_csv('Temp5.csv') "
   ]
  },
  {
   "cell_type": "code",
   "execution_count": 53,
   "metadata": {
    "collapsed": false
   },
   "outputs": [
    {
     "data": {
      "text/html": [
       "<div>\n",
       "<table border=\"1\" class=\"dataframe\">\n",
       "  <thead>\n",
       "    <tr style=\"text-align: right;\">\n",
       "      <th></th>\n",
       "      <th>Unnamed: 0</th>\n",
       "      <th>DAY_OF_MONTH</th>\n",
       "      <th>DAY_OF_WEEK</th>\n",
       "      <th>DEP_HOUR</th>\n",
       "      <th>DEP_DELAY</th>\n",
       "    </tr>\n",
       "  </thead>\n",
       "  <tbody>\n",
       "    <tr>\n",
       "      <th>Unnamed: 0</th>\n",
       "      <td>1.000000</td>\n",
       "      <td>-0.031508</td>\n",
       "      <td>-0.017401</td>\n",
       "      <td>0.004290</td>\n",
       "      <td>0.092334</td>\n",
       "    </tr>\n",
       "    <tr>\n",
       "      <th>DAY_OF_MONTH</th>\n",
       "      <td>-0.031508</td>\n",
       "      <td>1.000000</td>\n",
       "      <td>0.038943</td>\n",
       "      <td>0.012538</td>\n",
       "      <td>-0.002353</td>\n",
       "    </tr>\n",
       "    <tr>\n",
       "      <th>DAY_OF_WEEK</th>\n",
       "      <td>-0.017401</td>\n",
       "      <td>0.038943</td>\n",
       "      <td>1.000000</td>\n",
       "      <td>-0.007773</td>\n",
       "      <td>-0.020100</td>\n",
       "    </tr>\n",
       "    <tr>\n",
       "      <th>DEP_HOUR</th>\n",
       "      <td>0.004290</td>\n",
       "      <td>0.012538</td>\n",
       "      <td>-0.007773</td>\n",
       "      <td>1.000000</td>\n",
       "      <td>0.107540</td>\n",
       "    </tr>\n",
       "    <tr>\n",
       "      <th>DEP_DELAY</th>\n",
       "      <td>0.092334</td>\n",
       "      <td>-0.002353</td>\n",
       "      <td>-0.020100</td>\n",
       "      <td>0.107540</td>\n",
       "      <td>1.000000</td>\n",
       "    </tr>\n",
       "  </tbody>\n",
       "</table>\n",
       "</div>"
      ],
      "text/plain": [
       "              Unnamed: 0  DAY_OF_MONTH  DAY_OF_WEEK  DEP_HOUR  DEP_DELAY\n",
       "Unnamed: 0      1.000000     -0.031508    -0.017401  0.004290   0.092334\n",
       "DAY_OF_MONTH   -0.031508      1.000000     0.038943  0.012538  -0.002353\n",
       "DAY_OF_WEEK    -0.017401      0.038943     1.000000 -0.007773  -0.020100\n",
       "DEP_HOUR        0.004290      0.012538    -0.007773  1.000000   0.107540\n",
       "DEP_DELAY       0.092334     -0.002353    -0.020100  0.107540   1.000000"
      ]
     },
     "execution_count": 53,
     "metadata": {},
     "output_type": "execute_result"
    }
   ],
   "source": [
    "Temp5 = pd.read_csv(\"Temp5.csv\")\n",
    "Temp5.corr()"
   ]
  },
  {
   "cell_type": "code",
   "execution_count": 54,
   "metadata": {
    "collapsed": false
   },
   "outputs": [
    {
     "data": {
      "text/plain": [
       "array([[ 0.,  1.,  1.],\n",
       "       [ 0.,  1.,  1.],\n",
       "       [ 1.,  1.,  1.],\n",
       "       ..., \n",
       "       [ 1.,  1.,  1.],\n",
       "       [ 1.,  1.,  1.],\n",
       "       [ 1.,  1.,  1.]])"
      ]
     },
     "execution_count": 54,
     "metadata": {},
     "output_type": "execute_result"
    }
   ],
   "source": [
    "array = Temp5.values\n",
    "# separate array into input and output components\n",
    "X = array[:,0:3]\n",
    "Y = array[:,3]\n",
    "binarizer = Binarizer(threshold=1.1).fit(X)\n",
    "binaryX = binarizer.transform(X)\n",
    "# summarize transformed data\n",
    "np.set_printoptions(precision=3)\n",
    "binaryX"
   ]
  },
  {
   "cell_type": "code",
   "execution_count": 55,
   "metadata": {
    "collapsed": true
   },
   "outputs": [],
   "source": [
    "predictors = binaryX\n",
    "targets = Y\n",
    "\n",
    "TrainX, TestX, TrainY, TestY  =   train_test_split(predictors, targets, test_size=.3)\n",
    "TrainX_scl = scaler.fit_transform(TrainX)\n",
    "TestX_scl = scaler.transform(TestX)"
   ]
  },
  {
   "cell_type": "code",
   "execution_count": 56,
   "metadata": {
    "collapsed": false
   },
   "outputs": [
    {
     "data": {
      "text/plain": [
       "(103403L, 3L)"
      ]
     },
     "execution_count": 56,
     "metadata": {},
     "output_type": "execute_result"
    }
   ],
   "source": [
    "TrainX.shape"
   ]
  },
  {
   "cell_type": "code",
   "execution_count": 57,
   "metadata": {
    "collapsed": false
   },
   "outputs": [
    {
     "data": {
      "text/plain": [
       "(44316L, 3L)"
      ]
     },
     "execution_count": 57,
     "metadata": {},
     "output_type": "execute_result"
    }
   ],
   "source": [
    "TestX.shape"
   ]
  },
  {
   "cell_type": "code",
   "execution_count": 58,
   "metadata": {
    "collapsed": false
   },
   "outputs": [
    {
     "data": {
      "text/plain": [
       "(103403L,)"
      ]
     },
     "execution_count": 58,
     "metadata": {},
     "output_type": "execute_result"
    }
   ],
   "source": [
    "TrainY.shape"
   ]
  },
  {
   "cell_type": "code",
   "execution_count": 59,
   "metadata": {
    "collapsed": false
   },
   "outputs": [
    {
     "data": {
      "text/plain": [
       "(44316L,)"
      ]
     },
     "execution_count": 59,
     "metadata": {},
     "output_type": "execute_result"
    }
   ],
   "source": [
    "TestY.shape"
   ]
  },
  {
   "cell_type": "code",
   "execution_count": 60,
   "metadata": {
    "collapsed": false
   },
   "outputs": [
    {
     "name": "stdout",
     "output_type": "stream",
     "text": [
      "(103403, 1)\n",
      "(103403, 4)\n",
      "                            OLS Regression Results                            \n",
      "==============================================================================\n",
      "Dep. Variable:              DEP_DELAY   R-squared:                       0.000\n",
      "Model:                            OLS   Adj. R-squared:                  0.000\n",
      "Method:                 Least Squares   F-statistic:                     3.180\n",
      "Date:                Sun, 21 Aug 2016   Prob (F-statistic):             0.0229\n",
      "Time:                        23:19:38   Log-Likelihood:            -3.0659e+05\n",
      "No. Observations:              103403   AIC:                         6.132e+05\n",
      "Df Residuals:                  103399   BIC:                         6.132e+05\n",
      "Df Model:                           3                                         \n",
      "Covariance Type:            nonrobust                                         \n",
      "================================================================================\n",
      "                   coef    std err          t      P>|t|      [95.0% Conf. Int.]\n",
      "--------------------------------------------------------------------------------\n",
      "const           16.5800      0.015   1136.076      0.000        16.551    16.609\n",
      "DAY_OF_MONTH    -0.0013      0.015     -0.087      0.931        -0.030     0.027\n",
      "DAY_OF_WEEK      0.0435      0.015      2.976      0.003         0.015     0.072\n",
      "DEP_HOUR         0.0135      0.015      0.927      0.354        -0.015     0.042\n",
      "==============================================================================\n",
      "Omnibus:                    12107.446   Durbin-Watson:                   2.000\n",
      "Prob(Omnibus):                  0.000   Jarque-Bera (JB):            17246.576\n",
      "Skew:                          -0.907   Prob(JB):                         0.00\n",
      "Kurtosis:                       3.844   Cond. No.                         1.04\n",
      "==============================================================================\n",
      "\n",
      "Warnings:\n",
      "[1] Standard Errors assume that the covariance matrix of the errors is correctly specified.\n"
     ]
    }
   ],
   "source": [
    "X = sm.add_constant(pd.DataFrame(TrainX_scl, columns=['DAY_OF_MONTH','DAY_OF_WEEK','DEP_HOUR']))\n",
    "Y = pd.DataFrame(TrainY, columns=['DEP_DELAY'])\n",
    "print Y.shape\n",
    "print X.shape\n",
    "res_full = sm.OLS(Y,X).fit()\n",
    "print res_full.summary()"
   ]
  },
  {
   "cell_type": "code",
   "execution_count": 61,
   "metadata": {
    "collapsed": false
   },
   "outputs": [
    {
     "name": "stdout",
     "output_type": "stream",
     "text": [
      "Estimated intercept coefficient: 16.7239055167\n",
      "Adjusted R^2 of the regression:"
     ]
    },
    {
     "ename": "AttributeError",
     "evalue": "'numpy.ndarray' object has no attribute 'values'",
     "output_type": "error",
     "traceback": [
      "\u001b[1;31m---------------------------------------------------------------------------\u001b[0m",
      "\u001b[1;31mAttributeError\u001b[0m                            Traceback (most recent call last)",
      "\u001b[1;32m<ipython-input-61-422b7752c503>\u001b[0m in \u001b[0;36m<module>\u001b[1;34m()\u001b[0m\n\u001b[0;32m      2\u001b[0m \u001b[0mmodel\u001b[0m\u001b[1;33m.\u001b[0m\u001b[0mfit\u001b[0m\u001b[1;33m(\u001b[0m\u001b[0mTrainX\u001b[0m\u001b[1;33m,\u001b[0m\u001b[0mTrainY\u001b[0m\u001b[1;33m)\u001b[0m\u001b[1;33m\u001b[0m\u001b[0m\n\u001b[0;32m      3\u001b[0m \u001b[1;32mprint\u001b[0m \u001b[1;34m'Estimated intercept coefficient:'\u001b[0m\u001b[1;33m,\u001b[0m \u001b[0mmodel\u001b[0m\u001b[1;33m.\u001b[0m\u001b[0mintercept_\u001b[0m\u001b[1;33m\u001b[0m\u001b[0m\n\u001b[1;32m----> 4\u001b[1;33m \u001b[1;32mprint\u001b[0m \u001b[1;34m'Adjusted R^2 of the regression:'\u001b[0m\u001b[1;33m,\u001b[0m  \u001b[0mmodel\u001b[0m\u001b[1;33m.\u001b[0m\u001b[0mscore\u001b[0m\u001b[1;33m(\u001b[0m\u001b[0mTrainX\u001b[0m\u001b[1;33m.\u001b[0m\u001b[0mvalues\u001b[0m\u001b[1;33m,\u001b[0m \u001b[0mTrainY\u001b[0m\u001b[1;33m.\u001b[0m\u001b[0mvalues\u001b[0m\u001b[1;33m)\u001b[0m\u001b[1;33m\u001b[0m\u001b[0m\n\u001b[0m",
      "\u001b[1;31mAttributeError\u001b[0m: 'numpy.ndarray' object has no attribute 'values'"
     ]
    }
   ],
   "source": [
    "model = LinearRegression()\n",
    "model.fit(TrainX,TrainY)\n",
    "print 'Estimated intercept coefficient:', model.intercept_\n",
    "print 'Adjusted R^2 of the regression:',  model.score(TrainX.values, TrainY.values)"
   ]
  },
  {
   "cell_type": "code",
   "execution_count": 62,
   "metadata": {
    "collapsed": false
   },
   "outputs": [
    {
     "data": {
      "text/plain": [
       "'ccopy_reg\\n_reconstructor\\np0\\n(csklearn.linear_model.base\\nLinearRegression\\np1\\nc__builtin__\\nobject\\np2\\nNtp3\\nRp4\\n(dp5\\nS\\'normalize\\'\\np6\\nI00\\nsS\\'n_jobs\\'\\np7\\nI1\\nsS\\'rank_\\'\\np8\\nI3\\nsS\\'fit_intercept\\'\\np9\\nI01\\nsS\\'_residues\\'\\np10\\ncnumpy.core.multiarray\\nscalar\\np11\\n(cnumpy\\ndtype\\np12\\n(S\\'f8\\'\\np13\\nI0\\nI1\\ntp14\\nRp15\\n(I3\\nS\\'<\\'\\np16\\nNNNI-1\\nI-1\\nI0\\ntp17\\nbS\\'5\\\\xdb\\\\xb9\\\\x96\\\\xac_AA\\'\\np18\\ntp19\\nRp20\\nsS\\'coef_\\'\\np21\\ncnumpy.core.multiarray\\n_reconstruct\\np22\\n(cnumpy\\nndarray\\np23\\n(I0\\ntp24\\nS\\'b\\'\\np25\\ntp26\\nRp27\\n(I1\\n(L3L\\ntp28\\ng15\\nI00\\nS\\'i\\\\x9fc\\\\xaa\\\\xd0\\\\xfe\\\\xd9\\\\xbf\\\\x9a\\\\x89\\\\x11\\\\xfb\\\\xd1r\\\\xce?d\\\\x80\\\\x94\\\\xa4\\\\xf9\\\\x90\\\\xa3?\\'\\np29\\ntp30\\nbsS\\'copy_X\\'\\np31\\nI01\\nsS\\'intercept_\\'\\np32\\ng11\\n(g15\\nS\\'\\\\xb2\\\\x927\\\\xdfQ\\\\xb90@\\'\\np33\\ntp34\\nRp35\\nsS\\'singular_\\'\\np36\\ng22\\n(g23\\n(I0\\ntp37\\ng25\\ntp38\\nRp39\\n(I1\\n(L3L\\ntp40\\ng15\\nI00\\nS\"\\\\xed\\\\x95\\\\xcak\\\\x99x\\\\\\\\@\\\\xbd)\\\\x88\\\\xd8\\'ZM@\\\\x0e\\\\x9d2\\\\xb0\\\\xf3\\\\xff\\\\xef?\"\\np41\\ntp42\\nbsb.'"
      ]
     },
     "execution_count": 62,
     "metadata": {},
     "output_type": "execute_result"
    },
    {
     "name": "stdout",
     "output_type": "stream",
     "text": [
      "\n"
     ]
    }
   ],
   "source": [
    "import pickle\n",
    "lm_string=pickle.dumps(model)\n",
    "lm_string"
   ]
  },
  {
   "cell_type": "code",
   "execution_count": 63,
   "metadata": {
    "collapsed": true
   },
   "outputs": [],
   "source": [
    "model=pickle.loads(lm_string)"
   ]
  },
  {
   "cell_type": "code",
   "execution_count": 64,
   "metadata": {
    "collapsed": false
   },
   "outputs": [
    {
     "data": {
      "text/plain": [
       "array([ 16.556,  16.556,  16.594, ...,  16.594,  16.556,  16.594])"
      ]
     },
     "execution_count": 64,
     "metadata": {},
     "output_type": "execute_result"
    }
   ],
   "source": [
    "predictions = model.predict(TestX)\n",
    "predictions"
   ]
  },
  {
   "cell_type": "code",
   "execution_count": 65,
   "metadata": {
    "collapsed": false
   },
   "outputs": [
    {
     "name": "stdout",
     "output_type": "stream",
     "text": [
      "('R-Squared : ', 0.00036566061315146392)\n"
     ]
    }
   ],
   "source": [
    "print ( 'R-Squared : ', model.score(TestX, TestY))"
   ]
  },
  {
   "cell_type": "code",
   "execution_count": 66,
   "metadata": {
    "collapsed": false
   },
   "outputs": [
    {
     "data": {
      "text/plain": [
       "0.00036566061315146392"
      ]
     },
     "execution_count": 66,
     "metadata": {},
     "output_type": "execute_result"
    }
   ],
   "source": [
    "sklearn.metrics.r2_score(TestY, predictions)"
   ]
  },
  {
   "cell_type": "code",
   "execution_count": 67,
   "metadata": {
    "collapsed": false
   },
   "outputs": [
    {
     "data": {
      "text/plain": [
       "<matplotlib.collections.PathCollection at 0x78fd4438>"
      ]
     },
     "execution_count": 67,
     "metadata": {},
     "output_type": "execute_result"
    },
    {
     "data": {
      "image/png": "[encoded data removed]",
      "text/plain": [
       "<matplotlib.figure.Figure at 0x742be780>"
      ]
     },
     "metadata": {},
     "output_type": "display_data"
    }
   ],
   "source": [
    "#Viewing accuracy\n",
    "plt.cla()\n",
    "plt.plot(TestY, TestY, c='r')\n",
    "plt.scatter(TestY, predictions)"
   ]
  },
  {
   "cell_type": "code",
   "execution_count": null,
   "metadata": {
    "collapsed": true
   },
   "outputs": [],
   "source": []
  }
 ],
 "metadata": {
  "kernelspec": {
   "display_name": "Python 2",
   "language": "python",
   "name": "python2"
  },
  "language_info": {
   "codemirror_mode": {
    "name": "ipython",
    "version": 2
   },
   "file_extension": ".py",
   "mimetype": "text/x-python",
   "name": "python",
   "nbconvert_exporter": "python",
   "pygments_lexer": "ipython2",
   "version": "2.7.11"
  }
 },
 "nbformat": 4,
 "nbformat_minor": 0
}
